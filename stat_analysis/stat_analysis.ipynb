{
 "cells": [
  {
   "cell_type": "markdown",
   "id": "8c7d3795",
   "metadata": {},
   "source": [
    "# Исследование сервиса аренды самокатов."
   ]
  },
  {
   "cell_type": "markdown",
   "id": "1619489b",
   "metadata": {},
   "source": [
    "**Цель исследования:** \n",
    "- определить типичное поведение пользователей сервиса и их характеристики;\n",
    "- оценка гипотез,описывающих преимущества для бизнеса увеличения кол-ва пользователей с подпиской, для проведения рекламных кампаний;\n",
    "- оценить вероятность конкретных целевых показателей при проведении рекламных кампаний\n",
    "\n",
    "\n",
    " Перед нами данные сервиса аренды самокатов GoFast о некоторых пользователях из нескольких городов, а также об их поездках. Проанализируем данные и проверим некоторые гипотезы, которые могут помочь бизнесу вырасти.\n",
    "Чтобы совершать поездки по городу, пользователи сервиса GoFast пользуются мобильным приложением. Сервисом можно пользоваться:\\\n",
    "без подписки:\n",
    "- абонентская плата отсутствует;\n",
    "- стоимость одной минуты поездки — 8 рублей;\n",
    "- стоимость старта (начала поездки) — 50 рублей;\n",
    "\n",
    "с подпиской Ultra:\n",
    "- абонентская плата — 199 рублей в месяц;\n",
    "- стоимость одной минуты поездки — 6 рублей;\n",
    "- стоимость старта — бесплатно.\n",
    "\n",
    "**Ход исследования:**\n",
   
    "В основных данных есть информация о пользователях, их поездках и подписках.\\\n",
    "Пользователи — users_go.csv:\n",
    "- user_id - уникальный идентификатор пользователя\n",
    "- name - имя пользователя\n",
    "- age - возраст\n",
    "- city - город\n",
    "- subscription_type - тип подписки (free, ultra)\n",
    "\n",
    "Поездки — rides_go.csv:\n",
    "- user_id - уникальный идентификатор пользователя\n",
    "- distance\t- расстояние, которое пользователь проехал в текущей сессии (в метрах)\n",
    "- duration\t- продолжительность сессии (в минутах) — время с того момента, как пользователь нажал кнопку «Начать поездку» до момента, как он нажал кнопку «Завершить поездку»\n",
    "- date\t- дата совершения поездки\n",
    "\n",
    "Подписки — subscriptions_go.csv:\n",
    "- subscription_type\t- тип подписки\n",
    "- minute_price - стоимость одной минуты поездки по данной подписке\n",
    "- start_ride_price - стоимость начала поездки\n",
    "- subscription_fee - стоимость ежемесячного платежа\n",
    "Ничего не известно о качестве данных, поэтому для начала мы проверим их на пропуски, поиск дубликатов, аномалии и верный тип данных. Перед исследовательским анализом и оценкой гипотез добавим расчетные столбцы, а также объединим полученные из разных датасетов данные. \\\n",
    "\n",
    "\n",
    "Анализ будет включать в себя следующие этапы:\n",
    "- Загрузка и обзор данных\n",
    "- Предобработка\n",
    "- Исследование данных о пользователях  поездках\n",
    "- Объединение данных\n",
    "- Расчет выручки по пользователям с подпиской и без\n",
    "- Оценка гипотез о преимуществах подписки ultra \n",
    "- Целевые показатели для рекламных кампаний (оценка вероятностей)"
   ]
  },
  {
   "cell_type": "markdown",
   "id": "d5d330bf",
   "metadata": {
    "toc": true
   },
   "source": [
    "<h1>Table of Contents<span class=\"tocSkip\"></span></h1>\n",
    "<div class=\"toc\"><ul class=\"toc-item\"><li><span><a href=\"#Загрузка-данных\" data-toc-modified-id=\"Загрузка-данных-1\"><span class=\"toc-item-num\">1&nbsp;&nbsp;</span>Загрузка данных</a></span></li><li><span><a href=\"#Предобработка-данных\" data-toc-modified-id=\"Предобработка-данных-2\"><span class=\"toc-item-num\">2&nbsp;&nbsp;</span>Предобработка данных</a></span></li><li><span><a href=\"#Исследовательский-анализ-данных\" data-toc-modified-id=\"Исследовательский-анализ-данных-3\"><span class=\"toc-item-num\">3&nbsp;&nbsp;</span>Исследовательский анализ данных</a></span></li><li><span><a href=\"#Объединение-данных\" data-toc-modified-id=\"Объединение-данных-4\"><span class=\"toc-item-num\">4&nbsp;&nbsp;</span>Объединение данных</a></span></li><li><span><a href=\"#Подсчёт-выручки\" data-toc-modified-id=\"Подсчёт-выручки-5\"><span class=\"toc-item-num\">5&nbsp;&nbsp;</span>Подсчёт выручки</a></span></li><li><span><a href=\"#Шаг-6.-Проверка-гипотез\" data-toc-modified-id=\"Шаг-6.-Проверка-гипотез-6\"><span class=\"toc-item-num\">6&nbsp;&nbsp;</span>Шаг 6. Проверка гипотез</a></span><ul class=\"toc-item\"><li><span><a href=\"#Тратят-ли-пользователи-с-подпиской-больше-времени-на-поездки?\" data-toc-modified-id=\"Тратят-ли-пользователи-с-подпиской-больше-времени-на-поездки?-6.1\"><span class=\"toc-item-num\">6.1&nbsp;&nbsp;</span>Тратят ли пользователи с подпиской больше времени на поездки?</a></span></li><li><span><a href=\"#Можно-ли-сказать,-что-расстояние,-которое-проезжают-пользователи-с-подпиской-за-одну-поездку,-оптимальное-с-точки-зрения-износа-самоката?\" data-toc-modified-id=\"Можно-ли-сказать,-что-расстояние,-которое-проезжают-пользователи-с-подпиской-за-одну-поездку,-оптимальное-с-точки-зрения-износа-самоката?-6.2\"><span class=\"toc-item-num\">6.2&nbsp;&nbsp;</span>Можно ли сказать, что расстояние, которое проезжают пользователи с подпиской за одну поездку, оптимальное с точки зрения износа самоката?</a></span></li><li><span><a href=\"#Ежемесячная-выручка-от-пользователей-с-подпиской-и-без.\" data-toc-modified-id=\"Ежемесячная-выручка-от-пользователей-с-подпиской-и-без.-6.3\"><span class=\"toc-item-num\">6.3&nbsp;&nbsp;</span>Ежемесячная выручка от пользователей с подпиской и без.</a></span></li></ul></li><li><span><a href=\"#Распределения\" data-toc-modified-id=\"Распределения-7\"><span class=\"toc-item-num\">7&nbsp;&nbsp;</span>Распределения</a></span><ul class=\"toc-item\"><li><span><a href=\"#Акция-с-раздачей-промокодов-на-один-бесплатный-месяц-подписки\" data-toc-modified-id=\"Акция-с-раздачей-промокодов-на-один-бесплатный-месяц-подписки-7.1\"><span class=\"toc-item-num\">7.1&nbsp;&nbsp;</span>Акция с раздачей промокодов на один бесплатный месяц подписки</a></span></li><li><span><a href=\"#Push-уведомления-в-мобильном-приложении\" data-toc-modified-id=\"Push-уведомления-в-мобильном-приложении-7.2\"><span class=\"toc-item-num\">7.2&nbsp;&nbsp;</span>Push-уведомления в мобильном приложении</a></span></li></ul></li><li><span><a href=\"#Вывод\" data-toc-modified-id=\"Вывод-8\"><span class=\"toc-item-num\">8&nbsp;&nbsp;</span>Вывод</a></span></li></ul></div>"
   ]
  },
  {
   "cell_type": "code",
   "execution_count": 1,
   "id": "839a109d",
   "metadata": {},
   "outputs": [],
   "source": [
    "import pandas as pd\n",
    "import matplotlib.pyplot as plt\n",
    "import seaborn as sns\n",
    "import numpy as np\n",
    "from scipy import stats as st"
   ]
  },
  {
   "cell_type": "markdown",
   "id": "1efec8c7",
   "metadata": {},
   "source": [
    "#### Загрузка данных"
   ]
  },
  {
   "cell_type": "code",
   "execution_count": 2,
   "id": "cd54bc88",
   "metadata": {},
   "outputs": [],
   "source": [
    "try:\n",
    "    users = pd.read_csv('/datasets/users_go.csv')\n",
    "except:\n",
    "    users = pd.read_csv('https://__________.csv')"
   ]
  },
  {
   "cell_type": "code",
   "execution_count": 3,
   "id": "80ac650e",
   "metadata": {},
   "outputs": [],
   "source": [
    "try:\n",
    "    rides = pd.read_csv('/datasets/rides_go.csv')\n",
    "except:\n",
    "    rides = pd.read_csv('https://__________.csv')"
   ]
  },
  {
   "cell_type": "code",
   "execution_count": 4,
   "id": "1f0ef240",
   "metadata": {},
   "outputs": [],
   "source": [
    "try:\n",
    "    subscr = pd.read_csv('/datasets/subscriptions_go.csv')\n",
    "except:\n",
    "    subscr = pd.read_csv('https://___________.csv')"
   ]
  },
  {
   "cell_type": "code",
   "execution_count": 5,
   "id": "47fb666f",
   "metadata": {},
   "outputs": [
    {
     "data": {
      "text/html": [
       "<div>\n",
       "<style scoped>\n",
       "    .dataframe tbody tr th:only-of-type {\n",
       "        vertical-align: middle;\n",
       "    }\n",
       "\n",
       "    .dataframe tbody tr th {\n",
       "        vertical-align: top;\n",
       "    }\n",
       "\n",
       "    .dataframe thead th {\n",
       "        text-align: right;\n",
       "    }\n",
       "</style>\n",
       "<table border=\"1\" class=\"dataframe\">\n",
       "  <thead>\n",
       "    <tr style=\"text-align: right;\">\n",
       "      <th></th>\n",
       "      <th>user_id</th>\n",
       "      <th>name</th>\n",
       "      <th>age</th>\n",
       "      <th>city</th>\n",
       "      <th>subscription_type</th>\n",
       "    </tr>\n",
       "  </thead>\n",
       "  <tbody>\n",
       "    <tr>\n",
       "      <th>0</th>\n",
       "      <td>1</td>\n",
       "      <td>Кира</td>\n",
       "      <td>22</td>\n",
       "      <td>Тюмень</td>\n",
       "      <td>ultra</td>\n",
       "    </tr>\n",
       "    <tr>\n",
       "      <th>1</th>\n",
       "      <td>2</td>\n",
       "      <td>Станислав</td>\n",
       "      <td>31</td>\n",
       "      <td>Омск</td>\n",
       "      <td>ultra</td>\n",
       "    </tr>\n",
       "    <tr>\n",
       "      <th>2</th>\n",
       "      <td>3</td>\n",
       "      <td>Алексей</td>\n",
       "      <td>20</td>\n",
       "      <td>Москва</td>\n",
       "      <td>ultra</td>\n",
       "    </tr>\n",
       "    <tr>\n",
       "      <th>3</th>\n",
       "      <td>4</td>\n",
       "      <td>Константин</td>\n",
       "      <td>26</td>\n",
       "      <td>Ростов-на-Дону</td>\n",
       "      <td>ultra</td>\n",
       "    </tr>\n",
       "    <tr>\n",
       "      <th>4</th>\n",
       "      <td>5</td>\n",
       "      <td>Адель</td>\n",
       "      <td>28</td>\n",
       "      <td>Омск</td>\n",
       "      <td>ultra</td>\n",
       "    </tr>\n",
       "    <tr>\n",
       "      <th>5</th>\n",
       "      <td>6</td>\n",
       "      <td>Регина</td>\n",
       "      <td>25</td>\n",
       "      <td>Краснодар</td>\n",
       "      <td>ultra</td>\n",
       "    </tr>\n",
       "    <tr>\n",
       "      <th>6</th>\n",
       "      <td>7</td>\n",
       "      <td>Игорь</td>\n",
       "      <td>23</td>\n",
       "      <td>Омск</td>\n",
       "      <td>ultra</td>\n",
       "    </tr>\n",
       "    <tr>\n",
       "      <th>7</th>\n",
       "      <td>8</td>\n",
       "      <td>Юрий</td>\n",
       "      <td>23</td>\n",
       "      <td>Краснодар</td>\n",
       "      <td>ultra</td>\n",
       "    </tr>\n",
       "    <tr>\n",
       "      <th>8</th>\n",
       "      <td>9</td>\n",
       "      <td>Ян</td>\n",
       "      <td>21</td>\n",
       "      <td>Пятигорск</td>\n",
       "      <td>ultra</td>\n",
       "    </tr>\n",
       "    <tr>\n",
       "      <th>9</th>\n",
       "      <td>10</td>\n",
       "      <td>Валерий</td>\n",
       "      <td>18</td>\n",
       "      <td>Екатеринбург</td>\n",
       "      <td>ultra</td>\n",
       "    </tr>\n",
       "  </tbody>\n",
       "</table>\n",
       "</div>"
      ],
      "text/plain": [
       "   user_id        name  age            city subscription_type\n",
       "0        1        Кира   22          Тюмень             ultra\n",
       "1        2   Станислав   31            Омск             ultra\n",
       "2        3     Алексей   20          Москва             ultra\n",
       "3        4  Константин   26  Ростов-на-Дону             ultra\n",
       "4        5       Адель   28            Омск             ultra\n",
       "5        6      Регина   25       Краснодар             ultra\n",
       "6        7       Игорь   23            Омск             ultra\n",
       "7        8        Юрий   23       Краснодар             ultra\n",
       "8        9          Ян   21       Пятигорск             ultra\n",
       "9       10     Валерий   18    Екатеринбург             ultra"
      ]
     },
     "execution_count": 5,
     "metadata": {},
     "output_type": "execute_result"
    }
   ],
   "source": [
    "users.head(10)"
   ]
  },
  {
   "cell_type": "code",
   "execution_count": 6,
   "id": "babd59e2",
   "metadata": {},
   "outputs": [
    {
     "data": {
      "text/html": [
       "<div>\n",
       "<style scoped>\n",
       "    .dataframe tbody tr th:only-of-type {\n",
       "        vertical-align: middle;\n",
       "    }\n",
       "\n",
       "    .dataframe tbody tr th {\n",
       "        vertical-align: top;\n",
       "    }\n",
       "\n",
       "    .dataframe thead th {\n",
       "        text-align: right;\n",
       "    }\n",
       "</style>\n",
       "<table border=\"1\" class=\"dataframe\">\n",
       "  <thead>\n",
       "    <tr style=\"text-align: right;\">\n",
       "      <th></th>\n",
       "      <th>user_id</th>\n",
       "      <th>distance</th>\n",
       "      <th>duration</th>\n",
       "      <th>date</th>\n",
       "    </tr>\n",
       "  </thead>\n",
       "  <tbody>\n",
       "    <tr>\n",
       "      <th>0</th>\n",
       "      <td>1</td>\n",
       "      <td>4409.919140</td>\n",
       "      <td>25.599769</td>\n",
       "      <td>2021-01-01</td>\n",
       "    </tr>\n",
       "    <tr>\n",
       "      <th>1</th>\n",
       "      <td>1</td>\n",
       "      <td>2617.592153</td>\n",
       "      <td>15.816871</td>\n",
       "      <td>2021-01-18</td>\n",
       "    </tr>\n",
       "    <tr>\n",
       "      <th>2</th>\n",
       "      <td>1</td>\n",
       "      <td>754.159807</td>\n",
       "      <td>6.232113</td>\n",
       "      <td>2021-04-20</td>\n",
       "    </tr>\n",
       "    <tr>\n",
       "      <th>3</th>\n",
       "      <td>1</td>\n",
       "      <td>2694.783254</td>\n",
       "      <td>18.511000</td>\n",
       "      <td>2021-08-11</td>\n",
       "    </tr>\n",
       "    <tr>\n",
       "      <th>4</th>\n",
       "      <td>1</td>\n",
       "      <td>4028.687306</td>\n",
       "      <td>26.265803</td>\n",
       "      <td>2021-08-28</td>\n",
       "    </tr>\n",
       "    <tr>\n",
       "      <th>5</th>\n",
       "      <td>1</td>\n",
       "      <td>2770.890808</td>\n",
       "      <td>16.650138</td>\n",
       "      <td>2021-10-09</td>\n",
       "    </tr>\n",
       "    <tr>\n",
       "      <th>6</th>\n",
       "      <td>1</td>\n",
       "      <td>3039.020292</td>\n",
       "      <td>14.927879</td>\n",
       "      <td>2021-10-19</td>\n",
       "    </tr>\n",
       "    <tr>\n",
       "      <th>7</th>\n",
       "      <td>1</td>\n",
       "      <td>2842.118050</td>\n",
       "      <td>23.117468</td>\n",
       "      <td>2021-11-06</td>\n",
       "    </tr>\n",
       "    <tr>\n",
       "      <th>8</th>\n",
       "      <td>1</td>\n",
       "      <td>3412.690668</td>\n",
       "      <td>15.238072</td>\n",
       "      <td>2021-11-14</td>\n",
       "    </tr>\n",
       "    <tr>\n",
       "      <th>9</th>\n",
       "      <td>1</td>\n",
       "      <td>748.690645</td>\n",
       "      <td>15.041884</td>\n",
       "      <td>2021-11-22</td>\n",
       "    </tr>\n",
       "  </tbody>\n",
       "</table>\n",
       "</div>"
      ],
      "text/plain": [
       "   user_id     distance   duration        date\n",
       "0        1  4409.919140  25.599769  2021-01-01\n",
       "1        1  2617.592153  15.816871  2021-01-18\n",
       "2        1   754.159807   6.232113  2021-04-20\n",
       "3        1  2694.783254  18.511000  2021-08-11\n",
       "4        1  4028.687306  26.265803  2021-08-28\n",
       "5        1  2770.890808  16.650138  2021-10-09\n",
       "6        1  3039.020292  14.927879  2021-10-19\n",
       "7        1  2842.118050  23.117468  2021-11-06\n",
       "8        1  3412.690668  15.238072  2021-11-14\n",
       "9        1   748.690645  15.041884  2021-11-22"
      ]
     },
     "execution_count": 6,
     "metadata": {},
     "output_type": "execute_result"
    }
   ],
   "source": [
    "rides.head(10)"
   ]
  },
  {
   "cell_type": "code",
   "execution_count": 7,
   "id": "26fb9bfb",
   "metadata": {},
   "outputs": [
    {
     "data": {
      "text/html": [
       "<div>\n",
       "<style scoped>\n",
       "    .dataframe tbody tr th:only-of-type {\n",
       "        vertical-align: middle;\n",
       "    }\n",
       "\n",
       "    .dataframe tbody tr th {\n",
       "        vertical-align: top;\n",
       "    }\n",
       "\n",
       "    .dataframe thead th {\n",
       "        text-align: right;\n",
       "    }\n",
       "</style>\n",
       "<table border=\"1\" class=\"dataframe\">\n",
       "  <thead>\n",
       "    <tr style=\"text-align: right;\">\n",
       "      <th></th>\n",
       "      <th>subscription_type</th>\n",
       "      <th>minute_price</th>\n",
       "      <th>start_ride_price</th>\n",
       "      <th>subscription_fee</th>\n",
       "    </tr>\n",
       "  </thead>\n",
       "  <tbody>\n",
       "    <tr>\n",
       "      <th>0</th>\n",
       "      <td>free</td>\n",
       "      <td>8</td>\n",
       "      <td>50</td>\n",
       "      <td>0</td>\n",
       "    </tr>\n",
       "    <tr>\n",
       "      <th>1</th>\n",
       "      <td>ultra</td>\n",
       "      <td>6</td>\n",
       "      <td>0</td>\n",
       "      <td>199</td>\n",
       "    </tr>\n",
       "  </tbody>\n",
       "</table>\n",
       "</div>"
      ],
      "text/plain": [
       "  subscription_type  minute_price  start_ride_price  subscription_fee\n",
       "0              free             8                50                 0\n",
       "1             ultra             6                 0               199"
      ]
     },
     "execution_count": 7,
     "metadata": {},
     "output_type": "execute_result"
    }
   ],
   "source": [
    "subscr.head(10)"
   ]
  },
  {
   "cell_type": "markdown",
   "id": "e292d74b",
   "metadata": {},
   "source": [
    "В таблице с подписками всего две строчки непосредственно с типами подписок, колонки содержат также тариф за минуту, стоимость начала поездки и стоимость подписки."
   ]
  },
  {
   "cell_type": "markdown",
   "id": "04b39fac",
   "metadata": {},
   "source": [
    "Мы получили данные по сервису аренды самокатов GoFast. Датафрейм users содержит информация о пользователях сервиса - их id, имя, возраст, город проживания и тип подписки. В датафрейме rides информация по каждой поездке пользователя - ее продолжительности и дистанции. В таблице subscr данные о существующих тарифах - это тариф по подписке ультра или же без подписки."
   ]
  },
  {
   "cell_type": "markdown",
   "id": "93940c9f",
   "metadata": {},
   "source": [
    "Посмотрим общую информацию по полученным датасетам."
   ]
  },
  {
   "cell_type": "code",
   "execution_count": 8,
   "id": "5b93719f",
   "metadata": {},
   "outputs": [
    {
     "name": "stdout",
     "output_type": "stream",
     "text": [
      "<class 'pandas.core.frame.DataFrame'>\n",
      "RangeIndex: 1565 entries, 0 to 1564\n",
      "Data columns (total 5 columns):\n",
      " #   Column             Non-Null Count  Dtype \n",
      "---  ------             --------------  ----- \n",
      " 0   user_id            1565 non-null   int64 \n",
      " 1   name               1565 non-null   object\n",
      " 2   age                1565 non-null   int64 \n",
      " 3   city               1565 non-null   object\n",
      " 4   subscription_type  1565 non-null   object\n",
      "dtypes: int64(2), object(3)\n",
      "memory usage: 61.3+ KB\n"
     ]
    }
   ],
   "source": [
    "users.info()"
   ]
  },
  {
   "cell_type": "markdown",
   "id": "95bcda33",
   "metadata": {},
   "source": [
    "В таблице по пользователям 1565 строк и 4 столбца, наименование столбцов записано с учетом змеиного регистра и не требует корректировки, нулевых значений не найдено. Необходимо \"тип подписки\" изменить на категориальные данные, т.к. столбец имеет только два значения."
   ]
  },
  {
   "cell_type": "code",
   "execution_count": 9,
   "id": "12e6d031",
   "metadata": {},
   "outputs": [
    {
     "name": "stdout",
     "output_type": "stream",
     "text": [
      "<class 'pandas.core.frame.DataFrame'>\n",
      "RangeIndex: 18068 entries, 0 to 18067\n",
      "Data columns (total 4 columns):\n",
      " #   Column    Non-Null Count  Dtype  \n",
      "---  ------    --------------  -----  \n",
      " 0   user_id   18068 non-null  int64  \n",
      " 1   distance  18068 non-null  float64\n",
      " 2   duration  18068 non-null  float64\n",
      " 3   date      18068 non-null  object \n",
      "dtypes: float64(2), int64(1), object(1)\n",
      "memory usage: 564.8+ KB\n"
     ]
    }
   ],
   "source": [
    "rides.info()"
   ]
  },
  {
   "cell_type": "markdown",
   "id": "27150a10",
   "metadata": {},
   "source": [
    "В таблице с поездками имеем 18068 строчек, пропусков не обнаружено, а также 4 колонки (записанные змеиным регистром и не требующих правки названий). А вот тип данных нужно исправить - графу с датами поездок перевести в тип datetime."
   ]
  },
  {
   "cell_type": "markdown",
   "id": "4170217c",
   "metadata": {},
   "source": [
    "#### Предобработка данных"
   ]
  },
  {
   "cell_type": "markdown",
   "id": "da07e28d",
   "metadata": {},
   "source": [
    "Как писали ранее, в датафрейме users необходимо тип подписки изменить на категориальные данные для экономии памяти."
   ]
  },
  {
   "cell_type": "code",
   "execution_count": 10,
   "id": "a3a6c100",
   "metadata": {},
   "outputs": [],
   "source": [
    "users['subscription_type'] = users['subscription_type'].astype('category')"
   ]
  },
  {
   "cell_type": "markdown",
   "id": "68cd6406",
   "metadata": {},
   "source": [
    "В датафрейме rides приведем столбец date к соответсвующему значению."
   ]
  },
  {
   "cell_type": "code",
   "execution_count": 11,
   "id": "9a892396",
   "metadata": {},
   "outputs": [],
   "source": [
    "rides['date'] = pd.to_datetime(rides['date'], format='%Y-%m-%d')"
   ]
  },
  {
   "cell_type": "markdown",
   "id": "73a22320",
   "metadata": {},
   "source": [
    "Теперь проверим, есть ли явные дубликаты."
   ]
  },
  {
   "cell_type": "code",
   "execution_count": 12,
   "id": "fcbba328",
   "metadata": {},
   "outputs": [
    {
     "data": {
      "text/plain": [
       "31"
      ]
     },
     "execution_count": 12,
     "metadata": {},
     "output_type": "execute_result"
    }
   ],
   "source": [
    "users.duplicated().sum()"
   ]
  },
  {
   "cell_type": "markdown",
   "id": "8b140366",
   "metadata": {},
   "source": [
    "Найдены дубликаты  в датафрейме users, уберем их."
   ]
  },
  {
   "cell_type": "code",
   "execution_count": 13,
   "id": "0784a920",
   "metadata": {},
   "outputs": [],
   "source": [
    "users=users.drop_duplicates().reset_index(drop=True)"
   ]
  },
  {
   "cell_type": "markdown",
   "id": "96beab52",
   "metadata": {},
   "source": [
    "Теперь проверим таблицу по поездкам на дубликаты:"
   ]
  },
  {
   "cell_type": "code",
   "execution_count": 14,
   "id": "d0d38747",
   "metadata": {
    "scrolled": true
   },
   "outputs": [
    {
     "data": {
      "text/plain": [
       "0"
      ]
     },
     "execution_count": 14,
     "metadata": {},
     "output_type": "execute_result"
    }
   ],
   "source": [
    "rides.duplicated().sum()"
   ]
  },
  {
   "cell_type": "markdown",
   "id": "d94fc54c",
   "metadata": {},
   "source": [
    "Явных дубликатов тут не обнаружено."
   ]
  },
  {
   "cell_type": "markdown",
   "id": "c8cbc841",
   "metadata": {},
   "source": [
    "Поверим, нет ли дубликатов в названиях городов."
   ]
  },
  {
   "cell_type": "code",
   "execution_count": 15,
   "id": "0821a35a",
   "metadata": {},
   "outputs": [
    {
     "data": {
      "text/plain": [
       "array(['Тюмень', 'Омск', 'Москва', 'Ростов-на-Дону', 'Краснодар',\n",
       "       'Пятигорск', 'Екатеринбург', 'Сочи'], dtype=object)"
      ]
     },
     "execution_count": 15,
     "metadata": {},
     "output_type": "execute_result"
    }
   ],
   "source": [
    "users['city'].unique()"
   ]
  },
  {
   "cell_type": "markdown",
   "id": "cf00b172",
   "metadata": {},
   "source": [
    "Неявных дубликатов в названиях нет. Также для дальнейшего анализа нам потребуется столбец с номером месяца. Для начала проверим за какой период  имеются данные в таблице."
   ]
  },
  {
   "cell_type": "code",
   "execution_count": 16,
   "id": "602d5201",
   "metadata": {},
   "outputs": [
    {
     "data": {
      "text/plain": [
       "0       2021-01-01\n",
       "13113   2021-01-01\n",
       "5445    2021-01-01\n",
       "12775   2021-01-01\n",
       "17096   2021-01-01\n",
       "           ...    \n",
       "15325   2021-12-30\n",
       "7541    2021-12-30\n",
       "6115    2021-12-30\n",
       "10991   2021-12-30\n",
       "11778   2021-12-30\n",
       "Name: date, Length: 18068, dtype: datetime64[ns]"
      ]
     },
     "execution_count": 16,
     "metadata": {},
     "output_type": "execute_result"
    }
   ],
   "source": [
    "rides['date'].sort_values()"
   ]
  },
  {
   "cell_type": "markdown",
   "id": "3db4da20",
   "metadata": {},
   "source": [
    "Таблица содержит данные о поездках за 1 год (2021), поэтому для создания нового столбца можем воспользоваться DatetimeIndex().month:"
   ]
  },
  {
   "cell_type": "code",
   "execution_count": 17,
   "id": "af9265de",
   "metadata": {},
   "outputs": [],
   "source": [
    "rides['month'] = pd.DatetimeIndex(rides['date']).month"
   ]
  },
  {
   "cell_type": "code",
   "execution_count": 18,
   "id": "ce2d52b9",
   "metadata": {},
   "outputs": [
    {
     "data": {
      "text/plain": [
       "Int64Index([2021], dtype='int64', name='date')"
      ]
     },
     "execution_count": 18,
     "metadata": {},
     "output_type": "execute_result"
    }
   ],
   "source": [
    "# код ревьюера\n",
    "pd.DatetimeIndex(rides['date']).year.unique()"
   ]
  },
  {
   "cell_type": "markdown",
   "id": "7baca04a",
   "metadata": {},
   "source": [
    "Проверим изменения."
   ]
  },
  {
   "cell_type": "code",
   "execution_count": 19,
   "id": "b621d643",
   "metadata": {
    "scrolled": true
   },
   "outputs": [
    {
     "name": "stdout",
     "output_type": "stream",
     "text": [
      "<class 'pandas.core.frame.DataFrame'>\n",
      "RangeIndex: 1534 entries, 0 to 1533\n",
      "Data columns (total 5 columns):\n",
      " #   Column             Non-Null Count  Dtype   \n",
      "---  ------             --------------  -----   \n",
      " 0   user_id            1534 non-null   int64   \n",
      " 1   name               1534 non-null   object  \n",
      " 2   age                1534 non-null   int64   \n",
      " 3   city               1534 non-null   object  \n",
      " 4   subscription_type  1534 non-null   category\n",
      "dtypes: category(1), int64(2), object(2)\n",
      "memory usage: 49.7+ KB\n",
      "<class 'pandas.core.frame.DataFrame'>\n",
      "RangeIndex: 18068 entries, 0 to 18067\n",
      "Data columns (total 5 columns):\n",
      " #   Column    Non-Null Count  Dtype         \n",
      "---  ------    --------------  -----         \n",
      " 0   user_id   18068 non-null  int64         \n",
      " 1   distance  18068 non-null  float64       \n",
      " 2   duration  18068 non-null  float64       \n",
      " 3   date      18068 non-null  datetime64[ns]\n",
      " 4   month     18068 non-null  int64         \n",
      "dtypes: datetime64[ns](1), float64(2), int64(2)\n",
      "memory usage: 705.9 KB\n"
     ]
    }
   ],
   "source": [
    "users.info()\n",
    "rides.info()"
   ]
  },
  {
   "cell_type": "code",
   "execution_count": null,
   "id": "58c539f7",
   "metadata": {},
   "outputs": [],
   "source": []
  },
  {
   "cell_type": "markdown",
   "id": "f2965ea7",
   "metadata": {},
   "source": [
    "Итак, мы изменили типы данных для дальнейшего удобства в работе - для таблицы с пользователями типы подписки изменили на категориальные данные, для таблицы с поездками - изменили тип данных для дат и добавили новый столбец с номером месяца. Также мы исключили дубликаты и добавили новый столбец с месяцем поездки."
   ]
  },
  {
   "cell_type": "markdown",
   "id": "de4e66dc",
   "metadata": {},
   "source": [
    "#### Исследовательский анализ данных"
   ]
  },
  {
   "cell_type": "markdown",
   "id": "396110b0",
   "metadata": {},
   "source": [
    "Рассмотрим поподробнее и опишем данные."
   ]
  },
  {
   "cell_type": "code",
   "execution_count": 20,
   "id": "d90b6816",
   "metadata": {},
   "outputs": [
    {
     "data": {
      "text/html": [
       "<div>\n",
       "<style scoped>\n",
       "    .dataframe tbody tr th:only-of-type {\n",
       "        vertical-align: middle;\n",
       "    }\n",
       "\n",
       "    .dataframe tbody tr th {\n",
       "        vertical-align: top;\n",
       "    }\n",
       "\n",
       "    .dataframe thead th {\n",
       "        text-align: right;\n",
       "    }\n",
       "</style>\n",
       "<table border=\"1\" class=\"dataframe\">\n",
       "  <thead>\n",
       "    <tr style=\"text-align: right;\">\n",
       "      <th></th>\n",
       "      <th>user_id</th>\n",
       "      <th>distance</th>\n",
       "      <th>duration</th>\n",
       "      <th>month</th>\n",
       "    </tr>\n",
       "  </thead>\n",
       "  <tbody>\n",
       "    <tr>\n",
       "      <th>count</th>\n",
       "      <td>18068.000000</td>\n",
       "      <td>18068.000000</td>\n",
       "      <td>18068.000000</td>\n",
       "      <td>18068.000000</td>\n",
       "    </tr>\n",
       "    <tr>\n",
       "      <th>mean</th>\n",
       "      <td>842.869936</td>\n",
       "      <td>3070.659976</td>\n",
       "      <td>17.805011</td>\n",
       "      <td>6.486772</td>\n",
       "    </tr>\n",
       "    <tr>\n",
       "      <th>std</th>\n",
       "      <td>434.734317</td>\n",
       "      <td>1116.831209</td>\n",
       "      <td>6.091051</td>\n",
       "      <td>3.437410</td>\n",
       "    </tr>\n",
       "    <tr>\n",
       "      <th>min</th>\n",
       "      <td>1.000000</td>\n",
       "      <td>0.855683</td>\n",
       "      <td>0.500000</td>\n",
       "      <td>1.000000</td>\n",
       "    </tr>\n",
       "    <tr>\n",
       "      <th>25%</th>\n",
       "      <td>487.000000</td>\n",
       "      <td>2543.226360</td>\n",
       "      <td>13.597563</td>\n",
       "      <td>4.000000</td>\n",
       "    </tr>\n",
       "    <tr>\n",
       "      <th>50%</th>\n",
       "      <td>889.000000</td>\n",
       "      <td>3133.609994</td>\n",
       "      <td>17.678395</td>\n",
       "      <td>6.000000</td>\n",
       "    </tr>\n",
       "    <tr>\n",
       "      <th>75%</th>\n",
       "      <td>1213.250000</td>\n",
       "      <td>3776.222735</td>\n",
       "      <td>21.724800</td>\n",
       "      <td>9.000000</td>\n",
       "    </tr>\n",
       "    <tr>\n",
       "      <th>max</th>\n",
       "      <td>1534.000000</td>\n",
       "      <td>7211.007745</td>\n",
       "      <td>40.823963</td>\n",
       "      <td>12.000000</td>\n",
       "    </tr>\n",
       "  </tbody>\n",
       "</table>\n",
       "</div>"
      ],
      "text/plain": [
       "            user_id      distance      duration         month\n",
       "count  18068.000000  18068.000000  18068.000000  18068.000000\n",
       "mean     842.869936   3070.659976     17.805011      6.486772\n",
       "std      434.734317   1116.831209      6.091051      3.437410\n",
       "min        1.000000      0.855683      0.500000      1.000000\n",
       "25%      487.000000   2543.226360     13.597563      4.000000\n",
       "50%      889.000000   3133.609994     17.678395      6.000000\n",
       "75%     1213.250000   3776.222735     21.724800      9.000000\n",
       "max     1534.000000   7211.007745     40.823963     12.000000"
      ]
     },
     "execution_count": 20,
     "metadata": {},
     "output_type": "execute_result"
    }
   ],
   "source": [
    "rides.describe()"
   ]
  },
  {
   "cell_type": "code",
   "execution_count": 21,
   "id": "b54571e6",
   "metadata": {},
   "outputs": [
    {
     "data": {
      "image/png": "[encoded data removed]",
      "text/plain": [
       "<Figure size 432x288 with 1 Axes>"
      ]
     },
     "metadata": {
      "needs_background": "light"
     },
     "output_type": "display_data"
    }
   ],
   "source": [
    "users['city'].value_counts().sort_values().plot(kind='barh', color='turquoise', legend=False)\n",
    "plt.title('Распределение пользователей по городам')\n",
    "plt.xlabel('Кол-во пользователей, чел')\n",
    "plt.show()"
   ]
  },
  {
   "cell_type": "markdown",
   "id": "b942a972",
   "metadata": {},
   "source": [
    "Из 1,5 тыс. пользователей больше всего находится в Пятигорске (более 200 чел), наименьшее количество пользователей сервиса в Москве (менее 170 чел)."
   ]
  },
  {
   "cell_type": "code",
   "execution_count": 22,
   "id": "bbbef87a",
   "metadata": {},
   "outputs": [
    {
     "data": {
      "image/png": "[encoded data removed]",
      "text/plain": [
       "<Figure size 576x432 with 1 Axes>"
      ]
     },
     "metadata": {},
     "output_type": "display_data"
    }
   ],
   "source": [
    "users.pivot_table(\n",
    "    index = 'subscription_type', values = 'user_id', aggfunc = 'count'\n",
    "    ).plot(\n",
    "    y = 'user_id', kind='pie', figsize=(8, 6), colors = [\"#2ef7e7\", \"#fdc8df\",], legend =False,  autopct='%1.1f%%'\n",
    ")\n",
    "plt.axis('off')\n",
    "plt.title('Наличие подписки')\n",
    "plt.show()"
   ]
  },
  {
   "cell_type": "markdown",
   "id": "6f8041fe",
   "metadata": {},
   "source": [
    "Из диаграммы видно, что большая часть пользователей (54%) не аквтивируют подписку ultra. Рассмотрим как ситуация обстоит по городам."
   ]
  },
  {
   "cell_type": "code",
   "execution_count": 23,
   "id": "00309c2c",
   "metadata": {},
   "outputs": [
    {
     "data": {
      "image/png": "[encoded data removed]",
      "text/plain": [
       "<Figure size 576x432 with 1 Axes>"
      ]
     },
     "metadata": {
      "needs_background": "light"
     },
     "output_type": "display_data"
    }
   ],
   "source": [
    "users.pivot_table(\n",
    "    index = 'city', columns = 'subscription_type', values = 'user_id', aggfunc = 'count'\n",
    "    ).plot(\n",
    "    kind='bar', figsize=(8, 6),  color = [\"#2ef7e7\", \"#fdc8df\",]\n",
    ")\n",
    "plt.title('Наличие подписки')\n",
    "plt.ylabel('Кол-во пользователей, чел')\n",
    "plt.xlabel('Город')\n",
    "plt.xticks(rotation=45)\n",
    "plt.show()"
   ]
  },
  {
   "cell_type": "markdown",
   "id": "951123b6",
   "metadata": {},
   "source": [
    "Как мы можем наблюдать из групповой диаграммы, ситуация в разрезе городов примерно такая же - более половины пользователей не пользуются подпиской ультра. Поровну пользователей с подпиской и без только в Москве и Омске."
   ]
  },
  {
   "cell_type": "markdown",
   "id": "46b7335c",
   "metadata": {},
   "source": [
    "Рассмотрим подробнее возраст пользователей."
   ]
  },
  {
   "cell_type": "code",
   "execution_count": 24,
   "id": "f9a94fe5",
   "metadata": {},
   "outputs": [
    {
     "data": {
      "text/plain": [
       "count    1534.000000\n",
       "mean       24.903520\n",
       "std         4.572367\n",
       "min        12.000000\n",
       "25%        22.000000\n",
       "50%        25.000000\n",
       "75%        28.000000\n",
       "max        43.000000\n",
       "Name: age, dtype: float64"
      ]
     },
     "execution_count": 24,
     "metadata": {},
     "output_type": "execute_result"
    }
   ],
   "source": [
    "users['age'].describe()"
   ]
  },
  {
   "cell_type": "code",
   "execution_count": 25,
   "id": "9c9bf1ba",
   "metadata": {},
   "outputs": [
    {
     "data": {
      "image/png": "[encoded data removed]",
      "text/plain": [
       "<Figure size 576x432 with 1 Axes>"
      ]
     },
     "metadata": {
      "needs_background": "light"
     },
     "output_type": "display_data"
    }
   ],
   "source": [
    "users['age'].hist(color='turquoise', bins=20,  figsize=(8, 6))\n",
    "plt.title('Возраст пользователей')\n",
    "plt.ylabel('Кол-во пользователей, чел')\n",
    "plt.xlabel('Возраст, лет')\n",
    "plt.show()"
   ]
  },
  {
   "cell_type": "code",
   "execution_count": 26,
   "id": "6637056a",
   "metadata": {},
   "outputs": [
    {
     "data": {
      "image/png": "[encoded data removed]",
      "text/plain": [
       "<Figure size 432x288 with 1 Axes>"
      ]
     },
     "metadata": {
      "needs_background": "light"
     },
     "output_type": "display_data"
    }
   ],
   "source": [
    "users['age'].plot(kind='box', grid=True)\n",
    "\n",
    "plt.title('Диаграмма размаха возрастов клиентов')\n",
    "plt.ylabel('Возраст, лет')\n",
    "plt.xticks([])\n",
    "plt.show()"
   ]
  },
  {
   "cell_type": "markdown",
   "id": "53e57648",
   "metadata": {},
   "source": [
    "Типичный пользователь имеет возраст 25 лет. Больше всего пользователей 24 и 26 лет. Самому молодому пользователю - 12, а самому взрослому - 43. Пользователи старше 37 и младше 17 не типичны для сервиса GoFast."
   ]
  },
  {
   "cell_type": "code",
   "execution_count": 27,
   "id": "de365c6a",
   "metadata": {},
   "outputs": [
    {
     "data": {
      "text/html": [
       "<div>\n",
       "<style scoped>\n",
       "    .dataframe tbody tr th:only-of-type {\n",
       "        vertical-align: middle;\n",
       "    }\n",
       "\n",
       "    .dataframe tbody tr th {\n",
       "        vertical-align: top;\n",
       "    }\n",
       "\n",
       "    .dataframe thead tr th {\n",
       "        text-align: left;\n",
       "    }\n",
       "\n",
       "    .dataframe thead tr:last-of-type th {\n",
       "        text-align: right;\n",
       "    }\n",
       "</style>\n",
       "<table border=\"1\" class=\"dataframe\">\n",
       "  <thead>\n",
       "    <tr>\n",
       "      <th></th>\n",
       "      <th colspan=\"3\" halign=\"left\">age</th>\n",
       "    </tr>\n",
       "    <tr>\n",
       "      <th></th>\n",
       "      <th>median</th>\n",
       "      <th>min</th>\n",
       "      <th>max</th>\n",
       "    </tr>\n",
       "    <tr>\n",
       "      <th>city</th>\n",
       "      <th></th>\n",
       "      <th></th>\n",
       "      <th></th>\n",
       "    </tr>\n",
       "  </thead>\n",
       "  <tbody>\n",
       "    <tr>\n",
       "      <th>Екатеринбург</th>\n",
       "      <td>25</td>\n",
       "      <td>13</td>\n",
       "      <td>35</td>\n",
       "    </tr>\n",
       "    <tr>\n",
       "      <th>Краснодар</th>\n",
       "      <td>25</td>\n",
       "      <td>13</td>\n",
       "      <td>38</td>\n",
       "    </tr>\n",
       "    <tr>\n",
       "      <th>Москва</th>\n",
       "      <td>25</td>\n",
       "      <td>13</td>\n",
       "      <td>43</td>\n",
       "    </tr>\n",
       "    <tr>\n",
       "      <th>Омск</th>\n",
       "      <td>26</td>\n",
       "      <td>13</td>\n",
       "      <td>38</td>\n",
       "    </tr>\n",
       "    <tr>\n",
       "      <th>Пятигорск</th>\n",
       "      <td>25</td>\n",
       "      <td>12</td>\n",
       "      <td>36</td>\n",
       "    </tr>\n",
       "    <tr>\n",
       "      <th>Ростов-на-Дону</th>\n",
       "      <td>25</td>\n",
       "      <td>12</td>\n",
       "      <td>37</td>\n",
       "    </tr>\n",
       "    <tr>\n",
       "      <th>Сочи</th>\n",
       "      <td>25</td>\n",
       "      <td>12</td>\n",
       "      <td>36</td>\n",
       "    </tr>\n",
       "    <tr>\n",
       "      <th>Тюмень</th>\n",
       "      <td>25</td>\n",
       "      <td>13</td>\n",
       "      <td>38</td>\n",
       "    </tr>\n",
       "  </tbody>\n",
       "</table>\n",
       "</div>"
      ],
      "text/plain": [
       "                  age        \n",
       "               median min max\n",
       "city                         \n",
       "Екатеринбург       25  13  35\n",
       "Краснодар          25  13  38\n",
       "Москва             25  13  43\n",
       "Омск               26  13  38\n",
       "Пятигорск          25  12  36\n",
       "Ростов-на-Дону     25  12  37\n",
       "Сочи               25  12  36\n",
       "Тюмень             25  13  38"
      ]
     },
     "execution_count": 27,
     "metadata": {},
     "output_type": "execute_result"
    }
   ],
   "source": [
    "users.groupby('city').agg({'age':['median', 'min', 'max']})"
   ]
  },
  {
   "cell_type": "markdown",
   "id": "49884ef7",
   "metadata": {},
   "source": [
    "Возраст типичных пользователей сервиса по городам практически не отличается, а максимальный возраст у пользователя из Москвы."
   ]
  },
  {
   "cell_type": "markdown",
   "id": "5804ad6b",
   "metadata": {},
   "source": [
    "Теперь посмотрим на расстояния, которые преодолевают пользователи самокатов."
   ]
  },
  {
   "cell_type": "code",
   "execution_count": 28,
   "id": "be023fd2",
   "metadata": {},
   "outputs": [
    {
     "data": {
      "text/plain": [
       "count    18068.000000\n",
       "mean      3070.659976\n",
       "std       1116.831209\n",
       "min          0.855683\n",
       "25%       2543.226360\n",
       "50%       3133.609994\n",
       "75%       3776.222735\n",
       "max       7211.007745\n",
       "Name: distance, dtype: float64"
      ]
     },
     "execution_count": 28,
     "metadata": {},
     "output_type": "execute_result"
    }
   ],
   "source": [
    "rides['distance'].describe()"
   ]
  },
  {
   "cell_type": "code",
   "execution_count": 29,
   "id": "4f034020",
   "metadata": {},
   "outputs": [
    {
     "data": {
      "image/png": "[encoded data removed]",
      "text/plain": [
       "<Figure size 576x432 with 1 Axes>"
      ]
     },
     "metadata": {
      "needs_background": "light"
     },
     "output_type": "display_data"
    }
   ],
   "source": [
    "rides['distance'].hist(color='pink', bins=25,  figsize=(8, 6))\n",
    "plt.title('Дистанция за одну сессию')\n",
    "plt.ylabel('Кол-во сессий')\n",
    "plt.xlabel('Расстояние, м ')\n",
    "plt.show()"
   ]
  },
  {
   "cell_type": "code",
   "execution_count": 30,
   "id": "26f5b4df",
   "metadata": {},
   "outputs": [
    {
     "data": {
      "image/png": "[encoded data removed]",
      "text/plain": [
       "<Figure size 432x288 with 1 Axes>"
      ]
     },
     "metadata": {
      "needs_background": "light"
     },
     "output_type": "display_data"
    }
   ],
   "source": [
    "rides['distance'].plot(kind='box', grid=True)\n",
    "plt.title('Диаграмма размаха дистанций за 1 сессию')\n",
    "plt.ylabel('Расстояние, м')\n",
    "plt.xticks([])\n",
    "plt.show()"
   ]
  },
  {
   "cell_type": "markdown",
   "id": "ee879d61",
   "metadata": {},
   "source": [
    "Типичный пользователь преодолевает за одну сессию растояние 3,1 км. Но есть также группа клиентов, использующая сервис на дистанции менее 830 м или более 5,5 км. Также в выгрузку вошли данные, когда пользователи останавливали сессию не преодолев и метра (околонулевые значения на диаграмме), что вероятно было вызвано неисправностью самоката."
   ]
  },
  {
   "cell_type": "code",
   "execution_count": 31,
   "id": "b0d7ac97",
   "metadata": {},
   "outputs": [
    {
     "data": {
      "text/html": [
       "<div>\n",
       "<style scoped>\n",
       "    .dataframe tbody tr th:only-of-type {\n",
       "        vertical-align: middle;\n",
       "    }\n",
       "\n",
       "    .dataframe tbody tr th {\n",
       "        vertical-align: top;\n",
       "    }\n",
       "\n",
       "    .dataframe thead th {\n",
       "        text-align: right;\n",
       "    }\n",
       "</style>\n",
       "<table border=\"1\" class=\"dataframe\">\n",
       "  <thead>\n",
       "    <tr style=\"text-align: right;\">\n",
       "      <th></th>\n",
       "      <th>user_id</th>\n",
       "      <th>distance</th>\n",
       "      <th>duration</th>\n",
       "      <th>date</th>\n",
       "      <th>month</th>\n",
       "    </tr>\n",
       "  </thead>\n",
       "  <tbody>\n",
       "    <tr>\n",
       "      <th>11555</th>\n",
       "      <td>1069</td>\n",
       "      <td>0.855683</td>\n",
       "      <td>10.001902</td>\n",
       "      <td>2021-01-31</td>\n",
       "      <td>1</td>\n",
       "    </tr>\n",
       "    <tr>\n",
       "      <th>9541</th>\n",
       "      <td>925</td>\n",
       "      <td>2.570787</td>\n",
       "      <td>3.011018</td>\n",
       "      <td>2021-10-19</td>\n",
       "      <td>10</td>\n",
       "    </tr>\n",
       "    <tr>\n",
       "      <th>13690</th>\n",
       "      <td>1223</td>\n",
       "      <td>4.329506</td>\n",
       "      <td>4.008958</td>\n",
       "      <td>2021-05-22</td>\n",
       "      <td>5</td>\n",
       "    </tr>\n",
       "    <tr>\n",
       "      <th>8658</th>\n",
       "      <td>861</td>\n",
       "      <td>6.784447</td>\n",
       "      <td>6.015656</td>\n",
       "      <td>2021-07-21</td>\n",
       "      <td>7</td>\n",
       "    </tr>\n",
       "    <tr>\n",
       "      <th>7841</th>\n",
       "      <td>796</td>\n",
       "      <td>7.097072</td>\n",
       "      <td>10.026614</td>\n",
       "      <td>2021-11-26</td>\n",
       "      <td>11</td>\n",
       "    </tr>\n",
       "    <tr>\n",
       "      <th>...</th>\n",
       "      <td>...</td>\n",
       "      <td>...</td>\n",
       "      <td>...</td>\n",
       "      <td>...</td>\n",
       "      <td>...</td>\n",
       "    </tr>\n",
       "    <tr>\n",
       "      <th>13359</th>\n",
       "      <td>1202</td>\n",
       "      <td>345.064400</td>\n",
       "      <td>3.766810</td>\n",
       "      <td>2021-03-17</td>\n",
       "      <td>3</td>\n",
       "    </tr>\n",
       "    <tr>\n",
       "      <th>16822</th>\n",
       "      <td>1444</td>\n",
       "      <td>345.511695</td>\n",
       "      <td>7.714852</td>\n",
       "      <td>2021-11-13</td>\n",
       "      <td>11</td>\n",
       "    </tr>\n",
       "    <tr>\n",
       "      <th>10243</th>\n",
       "      <td>974</td>\n",
       "      <td>347.455128</td>\n",
       "      <td>14.895210</td>\n",
       "      <td>2021-10-13</td>\n",
       "      <td>10</td>\n",
       "    </tr>\n",
       "    <tr>\n",
       "      <th>11285</th>\n",
       "      <td>1049</td>\n",
       "      <td>347.678098</td>\n",
       "      <td>10.227099</td>\n",
       "      <td>2021-12-05</td>\n",
       "      <td>12</td>\n",
       "    </tr>\n",
       "    <tr>\n",
       "      <th>12220</th>\n",
       "      <td>1118</td>\n",
       "      <td>349.771910</td>\n",
       "      <td>6.807166</td>\n",
       "      <td>2021-03-13</td>\n",
       "      <td>3</td>\n",
       "    </tr>\n",
       "  </tbody>\n",
       "</table>\n",
       "<p>361 rows × 5 columns</p>\n",
       "</div>"
      ],
      "text/plain": [
       "       user_id    distance   duration       date  month\n",
       "11555     1069    0.855683  10.001902 2021-01-31      1\n",
       "9541       925    2.570787   3.011018 2021-10-19     10\n",
       "13690     1223    4.329506   4.008958 2021-05-22      5\n",
       "8658       861    6.784447   6.015656 2021-07-21      7\n",
       "7841       796    7.097072  10.026614 2021-11-26     11\n",
       "...        ...         ...        ...        ...    ...\n",
       "13359     1202  345.064400   3.766810 2021-03-17      3\n",
       "16822     1444  345.511695   7.714852 2021-11-13     11\n",
       "10243      974  347.455128  14.895210 2021-10-13     10\n",
       "11285     1049  347.678098  10.227099 2021-12-05     12\n",
       "12220     1118  349.771910   6.807166 2021-03-13      3\n",
       "\n",
       "[361 rows x 5 columns]"
      ]
     },
     "execution_count": 31,
     "metadata": {},
     "output_type": "execute_result"
    }
   ],
   "source": [
    "rides.query('distance < 350').sort_values(by = 'distance')"
   ]
  },
  {
   "cell_type": "markdown",
   "id": "d3bf4d60",
   "metadata": {},
   "source": [
    "Посмотрим на продолжительность поездок."
   ]
  },
  {
   "cell_type": "code",
   "execution_count": 32,
   "id": "bec64450",
   "metadata": {},
   "outputs": [
    {
     "data": {
      "text/plain": [
       "count    18068.000000\n",
       "mean        17.805011\n",
       "std          6.091051\n",
       "min          0.500000\n",
       "25%         13.597563\n",
       "50%         17.678395\n",
       "75%         21.724800\n",
       "max         40.823963\n",
       "Name: duration, dtype: float64"
      ]
     },
     "execution_count": 32,
     "metadata": {},
     "output_type": "execute_result"
    }
   ],
   "source": [
    "rides['duration'].describe()"
   ]
  },
  {
   "cell_type": "code",
   "execution_count": 33,
   "id": "f541f6bf",
   "metadata": {
    "scrolled": true
   },
   "outputs": [
    {
     "data": {
      "image/png": "[encoded data removed]",
      "text/plain": [
       "<Figure size 576x432 with 1 Axes>"
      ]
     },
     "metadata": {
      "needs_background": "light"
     },
     "output_type": "display_data"
    }
   ],
   "source": [
    "rides['duration'].hist(color='turquoise', bins=40,  figsize=(8, 6))\n",
    "plt.title('Продолжительность одной сессии')\n",
    "plt.ylabel('Кол-во сессий')\n",
    "plt.xlabel('Время, мин ')\n",
    "plt.show()"
   ]
  },
  {
   "cell_type": "markdown",
   "id": "3a59bd6f",
   "metadata": {},
   "source": [
    "На графике наблюдаем пиковое значение около 0 с аномально короткими поездками. Выгрузим их отдельно."
   ]
  },
  {
   "cell_type": "code",
   "execution_count": 34,
   "id": "15b718e6",
   "metadata": {
    "scrolled": true
   },
   "outputs": [
    {
     "data": {
      "text/html": [
       "<div>\n",
       "<style scoped>\n",
       "    .dataframe tbody tr th:only-of-type {\n",
       "        vertical-align: middle;\n",
       "    }\n",
       "\n",
       "    .dataframe tbody tr th {\n",
       "        vertical-align: top;\n",
       "    }\n",
       "\n",
       "    .dataframe thead th {\n",
       "        text-align: right;\n",
       "    }\n",
       "</style>\n",
       "<table border=\"1\" class=\"dataframe\">\n",
       "  <thead>\n",
       "    <tr style=\"text-align: right;\">\n",
       "      <th></th>\n",
       "      <th>user_id</th>\n",
       "      <th>distance</th>\n",
       "      <th>duration</th>\n",
       "      <th>date</th>\n",
       "      <th>month</th>\n",
       "    </tr>\n",
       "  </thead>\n",
       "  <tbody>\n",
       "    <tr>\n",
       "      <th>6531</th>\n",
       "      <td>701</td>\n",
       "      <td>4196.445201</td>\n",
       "      <td>0.5</td>\n",
       "      <td>2021-08-31</td>\n",
       "      <td>8</td>\n",
       "    </tr>\n",
       "    <tr>\n",
       "      <th>6570</th>\n",
       "      <td>704</td>\n",
       "      <td>4830.824371</td>\n",
       "      <td>0.5</td>\n",
       "      <td>2021-10-14</td>\n",
       "      <td>10</td>\n",
       "    </tr>\n",
       "    <tr>\n",
       "      <th>6680</th>\n",
       "      <td>712</td>\n",
       "      <td>4684.004397</td>\n",
       "      <td>0.5</td>\n",
       "      <td>2021-03-04</td>\n",
       "      <td>3</td>\n",
       "    </tr>\n",
       "    <tr>\n",
       "      <th>6695</th>\n",
       "      <td>713</td>\n",
       "      <td>5215.642710</td>\n",
       "      <td>0.5</td>\n",
       "      <td>2021-02-25</td>\n",
       "      <td>2</td>\n",
       "    </tr>\n",
       "    <tr>\n",
       "      <th>6768</th>\n",
       "      <td>718</td>\n",
       "      <td>5197.436649</td>\n",
       "      <td>0.5</td>\n",
       "      <td>2021-02-11</td>\n",
       "      <td>2</td>\n",
       "    </tr>\n",
       "    <tr>\n",
       "      <th>...</th>\n",
       "      <td>...</td>\n",
       "      <td>...</td>\n",
       "      <td>...</td>\n",
       "      <td>...</td>\n",
       "      <td>...</td>\n",
       "    </tr>\n",
       "    <tr>\n",
       "      <th>17004</th>\n",
       "      <td>1460</td>\n",
       "      <td>5531.335845</td>\n",
       "      <td>0.5</td>\n",
       "      <td>2021-01-19</td>\n",
       "      <td>1</td>\n",
       "    </tr>\n",
       "    <tr>\n",
       "      <th>17242</th>\n",
       "      <td>1477</td>\n",
       "      <td>6724.932981</td>\n",
       "      <td>0.5</td>\n",
       "      <td>2021-01-12</td>\n",
       "      <td>1</td>\n",
       "    </tr>\n",
       "    <tr>\n",
       "      <th>17314</th>\n",
       "      <td>1483</td>\n",
       "      <td>4445.481070</td>\n",
       "      <td>0.5</td>\n",
       "      <td>2021-03-06</td>\n",
       "      <td>3</td>\n",
       "    </tr>\n",
       "    <tr>\n",
       "      <th>17505</th>\n",
       "      <td>1496</td>\n",
       "      <td>5722.551787</td>\n",
       "      <td>0.5</td>\n",
       "      <td>2021-02-14</td>\n",
       "      <td>2</td>\n",
       "    </tr>\n",
       "    <tr>\n",
       "      <th>17909</th>\n",
       "      <td>1524</td>\n",
       "      <td>4103.998874</td>\n",
       "      <td>0.5</td>\n",
       "      <td>2021-06-18</td>\n",
       "      <td>6</td>\n",
       "    </tr>\n",
       "  </tbody>\n",
       "</table>\n",
       "<p>95 rows × 5 columns</p>\n",
       "</div>"
      ],
      "text/plain": [
       "       user_id     distance  duration       date  month\n",
       "6531       701  4196.445201       0.5 2021-08-31      8\n",
       "6570       704  4830.824371       0.5 2021-10-14     10\n",
       "6680       712  4684.004397       0.5 2021-03-04      3\n",
       "6695       713  5215.642710       0.5 2021-02-25      2\n",
       "6768       718  5197.436649       0.5 2021-02-11      2\n",
       "...        ...          ...       ...        ...    ...\n",
       "17004     1460  5531.335845       0.5 2021-01-19      1\n",
       "17242     1477  6724.932981       0.5 2021-01-12      1\n",
       "17314     1483  4445.481070       0.5 2021-03-06      3\n",
       "17505     1496  5722.551787       0.5 2021-02-14      2\n",
       "17909     1524  4103.998874       0.5 2021-06-18      6\n",
       "\n",
       "[95 rows x 5 columns]"
      ]
     },
     "execution_count": 34,
     "metadata": {},
     "output_type": "execute_result"
    }
   ],
   "source": [
    "rides.query('duration < 1')"
   ]
  },
  {
   "cell_type": "code",
   "execution_count": 35,
   "id": "0653733b",
   "metadata": {},
   "outputs": [
    {
     "data": {
      "text/plain": [
       "array([0.5])"
      ]
     },
     "execution_count": 35,
     "metadata": {},
     "output_type": "execute_result"
    }
   ],
   "source": [
    "rides.query('duration < 1')['duration'].unique()"
   ]
  },
  {
   "cell_type": "markdown",
   "id": "eda08654",
   "metadata": {},
   "source": [
    "95 значений с достаточно большой дистанцией движения имеют аномально короткое удержание. Для анализа отсечем эти значения, а также потребуется дополнительно получить список самокатов из этих поездок для обнаружения неисправности. (а также сравнить со списком , выдающем анамально короткие дистанции)."
   ]
  },
  {
   "cell_type": "code",
   "execution_count": 36,
   "id": "4e922c14",
   "metadata": {},
   "outputs": [
    {
     "data": {
      "text/html": [
       "<div>\n",
       "<style scoped>\n",
       "    .dataframe tbody tr th:only-of-type {\n",
       "        vertical-align: middle;\n",
       "    }\n",
       "\n",
       "    .dataframe tbody tr th {\n",
       "        vertical-align: top;\n",
       "    }\n",
       "\n",
       "    .dataframe thead th {\n",
       "        text-align: right;\n",
       "    }\n",
       "</style>\n",
       "<table border=\"1\" class=\"dataframe\">\n",
       "  <thead>\n",
       "    <tr style=\"text-align: right;\">\n",
       "      <th></th>\n",
       "      <th>user_id</th>\n",
       "      <th>distance</th>\n",
       "      <th>duration</th>\n",
       "      <th>date</th>\n",
       "      <th>month</th>\n",
       "    </tr>\n",
       "  </thead>\n",
       "  <tbody>\n",
       "    <tr>\n",
       "      <th>0</th>\n",
       "      <td>1</td>\n",
       "      <td>4409.919140</td>\n",
       "      <td>25.599769</td>\n",
       "      <td>2021-01-01</td>\n",
       "      <td>1</td>\n",
       "    </tr>\n",
       "    <tr>\n",
       "      <th>1</th>\n",
       "      <td>1</td>\n",
       "      <td>2617.592153</td>\n",
       "      <td>15.816871</td>\n",
       "      <td>2021-01-18</td>\n",
       "      <td>1</td>\n",
       "    </tr>\n",
       "    <tr>\n",
       "      <th>2</th>\n",
       "      <td>1</td>\n",
       "      <td>754.159807</td>\n",
       "      <td>6.232113</td>\n",
       "      <td>2021-04-20</td>\n",
       "      <td>4</td>\n",
       "    </tr>\n",
       "    <tr>\n",
       "      <th>3</th>\n",
       "      <td>1</td>\n",
       "      <td>2694.783254</td>\n",
       "      <td>18.511000</td>\n",
       "      <td>2021-08-11</td>\n",
       "      <td>8</td>\n",
       "    </tr>\n",
       "    <tr>\n",
       "      <th>4</th>\n",
       "      <td>1</td>\n",
       "      <td>4028.687306</td>\n",
       "      <td>26.265803</td>\n",
       "      <td>2021-08-28</td>\n",
       "      <td>8</td>\n",
       "    </tr>\n",
       "    <tr>\n",
       "      <th>...</th>\n",
       "      <td>...</td>\n",
       "      <td>...</td>\n",
       "      <td>...</td>\n",
       "      <td>...</td>\n",
       "      <td>...</td>\n",
       "    </tr>\n",
       "    <tr>\n",
       "      <th>18063</th>\n",
       "      <td>1534</td>\n",
       "      <td>3781.098080</td>\n",
       "      <td>19.822962</td>\n",
       "      <td>2021-11-04</td>\n",
       "      <td>11</td>\n",
       "    </tr>\n",
       "    <tr>\n",
       "      <th>18064</th>\n",
       "      <td>1534</td>\n",
       "      <td>2840.423057</td>\n",
       "      <td>21.409799</td>\n",
       "      <td>2021-11-16</td>\n",
       "      <td>11</td>\n",
       "    </tr>\n",
       "    <tr>\n",
       "      <th>18065</th>\n",
       "      <td>1534</td>\n",
       "      <td>3826.185507</td>\n",
       "      <td>18.435051</td>\n",
       "      <td>2021-11-18</td>\n",
       "      <td>11</td>\n",
       "    </tr>\n",
       "    <tr>\n",
       "      <th>18066</th>\n",
       "      <td>1534</td>\n",
       "      <td>2902.308661</td>\n",
       "      <td>16.674362</td>\n",
       "      <td>2021-11-27</td>\n",
       "      <td>11</td>\n",
       "    </tr>\n",
       "    <tr>\n",
       "      <th>18067</th>\n",
       "      <td>1534</td>\n",
       "      <td>2371.711192</td>\n",
       "      <td>15.893917</td>\n",
       "      <td>2021-12-29</td>\n",
       "      <td>12</td>\n",
       "    </tr>\n",
       "  </tbody>\n",
       "</table>\n",
       "<p>17973 rows × 5 columns</p>\n",
       "</div>"
      ],
      "text/plain": [
       "       user_id     distance   duration       date  month\n",
       "0            1  4409.919140  25.599769 2021-01-01      1\n",
       "1            1  2617.592153  15.816871 2021-01-18      1\n",
       "2            1   754.159807   6.232113 2021-04-20      4\n",
       "3            1  2694.783254  18.511000 2021-08-11      8\n",
       "4            1  4028.687306  26.265803 2021-08-28      8\n",
       "...        ...          ...        ...        ...    ...\n",
       "18063     1534  3781.098080  19.822962 2021-11-04     11\n",
       "18064     1534  2840.423057  21.409799 2021-11-16     11\n",
       "18065     1534  3826.185507  18.435051 2021-11-18     11\n",
       "18066     1534  2902.308661  16.674362 2021-11-27     11\n",
       "18067     1534  2371.711192  15.893917 2021-12-29     12\n",
       "\n",
       "[17973 rows x 5 columns]"
      ]
     },
     "execution_count": 36,
     "metadata": {},
     "output_type": "execute_result"
    }
   ],
   "source": [
    "rides = rides.query('duration > 1')\n",
    "rides"
   ]
  },
  {
   "cell_type": "code",
   "execution_count": 37,
   "id": "ea24d0e7",
   "metadata": {},
   "outputs": [
    {
     "data": {
      "image/png": "[encoded data removed]",
      "text/plain": [
       "<Figure size 432x288 with 1 Axes>"
      ]
     },
     "metadata": {
      "needs_background": "light"
     },
     "output_type": "display_data"
    }
   ],
   "source": [
    "rides['duration'].plot(kind='box', grid=True)\n",
    "plt.title('Диаграмма размаха времени удержания за 1 сессию')\n",
    "plt.ylabel('Время, минут')\n",
    "plt.xticks([])\n",
    "plt.show()"
   ]
  },
  {
   "cell_type": "markdown",
   "id": "b14b7aa7",
   "metadata": {},
   "source": [
    "Обычно продолжительность сессии составляет порядка 17,5 мин. Но есть и, описанные выше, короткие сессии менее полминуты, возможно связанные с неполадками или сбоем оплаты (мы убрали их из выборки). Продолжительность сессии более 35 мин также нетипична."
   ]
  },
  {
   "cell_type": "markdown",
   "id": "05c80515",
   "metadata": {},
   "source": [
    "#### Объединение данных"
   ]
  },
  {
   "cell_type": "markdown",
   "id": "41381648",
   "metadata": {},
   "source": [
    "Для того, чтобы получить больше информации о пользователях, объединим 3 датафрейма:"
   ]
  },
  {
   "cell_type": "code",
   "execution_count": 38,
   "id": "8fd8bfd4",
   "metadata": {},
   "outputs": [],
   "source": [
    "df = users.merge(rides, on = 'user_id', how = 'outer').merge(subscr, on = 'subscription_type', how = 'outer')"
   ]
  },
  {
   "cell_type": "code",
   "execution_count": 39,
   "id": "beaa09b2",
   "metadata": {},
   "outputs": [
    {
     "name": "stdout",
     "output_type": "stream",
     "text": [
      "<class 'pandas.core.frame.DataFrame'>\n",
      "Int64Index: 17973 entries, 0 to 17972\n",
      "Data columns (total 12 columns):\n",
      " #   Column             Non-Null Count  Dtype         \n",
      "---  ------             --------------  -----         \n",
      " 0   user_id            17973 non-null  int64         \n",
      " 1   name               17973 non-null  object        \n",
      " 2   age                17973 non-null  int64         \n",
      " 3   city               17973 non-null  object        \n",
      " 4   subscription_type  17973 non-null  object        \n",
      " 5   distance           17973 non-null  float64       \n",
      " 6   duration           17973 non-null  float64       \n",
      " 7   date               17973 non-null  datetime64[ns]\n",
      " 8   month              17973 non-null  int64         \n",
      " 9   minute_price       17973 non-null  int64         \n",
      " 10  start_ride_price   17973 non-null  int64         \n",
      " 11  subscription_fee   17973 non-null  int64         \n",
      "dtypes: datetime64[ns](1), float64(2), int64(6), object(3)\n",
      "memory usage: 1.8+ MB\n"
     ]
    }
   ],
   "source": [
    "df.info()"
   ]
  },
  {
   "cell_type": "code",
   "execution_count": 40,
   "id": "50c4c8d9",
   "metadata": {},
   "outputs": [
    {
     "data": {
      "text/html": [
       "<div>\n",
       "<style scoped>\n",
       "    .dataframe tbody tr th:only-of-type {\n",
       "        vertical-align: middle;\n",
       "    }\n",
       "\n",
       "    .dataframe tbody tr th {\n",
       "        vertical-align: top;\n",
       "    }\n",
       "\n",
       "    .dataframe thead th {\n",
       "        text-align: right;\n",
       "    }\n",
       "</style>\n",
       "<table border=\"1\" class=\"dataframe\">\n",
       "  <thead>\n",
       "    <tr style=\"text-align: right;\">\n",
       "      <th></th>\n",
       "      <th>user_id</th>\n",
       "      <th>name</th>\n",
       "      <th>age</th>\n",
       "      <th>city</th>\n",
       "      <th>subscription_type</th>\n",
       "      <th>distance</th>\n",
       "      <th>duration</th>\n",
       "      <th>date</th>\n",
       "      <th>month</th>\n",
       "      <th>minute_price</th>\n",
       "      <th>start_ride_price</th>\n",
       "      <th>subscription_fee</th>\n",
       "    </tr>\n",
       "  </thead>\n",
       "  <tbody>\n",
       "    <tr>\n",
       "      <th>0</th>\n",
       "      <td>1</td>\n",
       "      <td>Кира</td>\n",
       "      <td>22</td>\n",
       "      <td>Тюмень</td>\n",
       "      <td>ultra</td>\n",
       "      <td>4409.919140</td>\n",
       "      <td>25.599769</td>\n",
       "      <td>2021-01-01</td>\n",
       "      <td>1</td>\n",
       "      <td>6</td>\n",
       "      <td>0</td>\n",
       "      <td>199</td>\n",
       "    </tr>\n",
       "    <tr>\n",
       "      <th>1</th>\n",
       "      <td>1</td>\n",
       "      <td>Кира</td>\n",
       "      <td>22</td>\n",
       "      <td>Тюмень</td>\n",
       "      <td>ultra</td>\n",
       "      <td>2617.592153</td>\n",
       "      <td>15.816871</td>\n",
       "      <td>2021-01-18</td>\n",
       "      <td>1</td>\n",
       "      <td>6</td>\n",
       "      <td>0</td>\n",
       "      <td>199</td>\n",
       "    </tr>\n",
       "    <tr>\n",
       "      <th>2</th>\n",
       "      <td>1</td>\n",
       "      <td>Кира</td>\n",
       "      <td>22</td>\n",
       "      <td>Тюмень</td>\n",
       "      <td>ultra</td>\n",
       "      <td>754.159807</td>\n",
       "      <td>6.232113</td>\n",
       "      <td>2021-04-20</td>\n",
       "      <td>4</td>\n",
       "      <td>6</td>\n",
       "      <td>0</td>\n",
       "      <td>199</td>\n",
       "    </tr>\n",
       "    <tr>\n",
       "      <th>3</th>\n",
       "      <td>1</td>\n",
       "      <td>Кира</td>\n",
       "      <td>22</td>\n",
       "      <td>Тюмень</td>\n",
       "      <td>ultra</td>\n",
       "      <td>2694.783254</td>\n",
       "      <td>18.511000</td>\n",
       "      <td>2021-08-11</td>\n",
       "      <td>8</td>\n",
       "      <td>6</td>\n",
       "      <td>0</td>\n",
       "      <td>199</td>\n",
       "    </tr>\n",
       "    <tr>\n",
       "      <th>4</th>\n",
       "      <td>1</td>\n",
       "      <td>Кира</td>\n",
       "      <td>22</td>\n",
       "      <td>Тюмень</td>\n",
       "      <td>ultra</td>\n",
       "      <td>4028.687306</td>\n",
       "      <td>26.265803</td>\n",
       "      <td>2021-08-28</td>\n",
       "      <td>8</td>\n",
       "      <td>6</td>\n",
       "      <td>0</td>\n",
       "      <td>199</td>\n",
       "    </tr>\n",
       "    <tr>\n",
       "      <th>...</th>\n",
       "      <td>...</td>\n",
       "      <td>...</td>\n",
       "      <td>...</td>\n",
       "      <td>...</td>\n",
       "      <td>...</td>\n",
       "      <td>...</td>\n",
       "      <td>...</td>\n",
       "      <td>...</td>\n",
       "      <td>...</td>\n",
       "      <td>...</td>\n",
       "      <td>...</td>\n",
       "      <td>...</td>\n",
       "    </tr>\n",
       "    <tr>\n",
       "      <th>17968</th>\n",
       "      <td>1534</td>\n",
       "      <td>Альберт</td>\n",
       "      <td>25</td>\n",
       "      <td>Краснодар</td>\n",
       "      <td>free</td>\n",
       "      <td>3781.098080</td>\n",
       "      <td>19.822962</td>\n",
       "      <td>2021-11-04</td>\n",
       "      <td>11</td>\n",
       "      <td>8</td>\n",
       "      <td>50</td>\n",
       "      <td>0</td>\n",
       "    </tr>\n",
       "    <tr>\n",
       "      <th>17969</th>\n",
       "      <td>1534</td>\n",
       "      <td>Альберт</td>\n",
       "      <td>25</td>\n",
       "      <td>Краснодар</td>\n",
       "      <td>free</td>\n",
       "      <td>2840.423057</td>\n",
       "      <td>21.409799</td>\n",
       "      <td>2021-11-16</td>\n",
       "      <td>11</td>\n",
       "      <td>8</td>\n",
       "      <td>50</td>\n",
       "      <td>0</td>\n",
       "    </tr>\n",
       "    <tr>\n",
       "      <th>17970</th>\n",
       "      <td>1534</td>\n",
       "      <td>Альберт</td>\n",
       "      <td>25</td>\n",
       "      <td>Краснодар</td>\n",
       "      <td>free</td>\n",
       "      <td>3826.185507</td>\n",
       "      <td>18.435051</td>\n",
       "      <td>2021-11-18</td>\n",
       "      <td>11</td>\n",
       "      <td>8</td>\n",
       "      <td>50</td>\n",
       "      <td>0</td>\n",
       "    </tr>\n",
       "    <tr>\n",
       "      <th>17971</th>\n",
       "      <td>1534</td>\n",
       "      <td>Альберт</td>\n",
       "      <td>25</td>\n",
       "      <td>Краснодар</td>\n",
       "      <td>free</td>\n",
       "      <td>2902.308661</td>\n",
       "      <td>16.674362</td>\n",
       "      <td>2021-11-27</td>\n",
       "      <td>11</td>\n",
       "      <td>8</td>\n",
       "      <td>50</td>\n",
       "      <td>0</td>\n",
       "    </tr>\n",
       "    <tr>\n",
       "      <th>17972</th>\n",
       "      <td>1534</td>\n",
       "      <td>Альберт</td>\n",
       "      <td>25</td>\n",
       "      <td>Краснодар</td>\n",
       "      <td>free</td>\n",
       "      <td>2371.711192</td>\n",
       "      <td>15.893917</td>\n",
       "      <td>2021-12-29</td>\n",
       "      <td>12</td>\n",
       "      <td>8</td>\n",
       "      <td>50</td>\n",
       "      <td>0</td>\n",
       "    </tr>\n",
       "  </tbody>\n",
       "</table>\n",
       "<p>17973 rows × 12 columns</p>\n",
       "</div>"
      ],
      "text/plain": [
       "       user_id     name  age       city subscription_type     distance  \\\n",
       "0            1     Кира   22     Тюмень             ultra  4409.919140   \n",
       "1            1     Кира   22     Тюмень             ultra  2617.592153   \n",
       "2            1     Кира   22     Тюмень             ultra   754.159807   \n",
       "3            1     Кира   22     Тюмень             ultra  2694.783254   \n",
       "4            1     Кира   22     Тюмень             ultra  4028.687306   \n",
       "...        ...      ...  ...        ...               ...          ...   \n",
       "17968     1534  Альберт   25  Краснодар              free  3781.098080   \n",
       "17969     1534  Альберт   25  Краснодар              free  2840.423057   \n",
       "17970     1534  Альберт   25  Краснодар              free  3826.185507   \n",
       "17971     1534  Альберт   25  Краснодар              free  2902.308661   \n",
       "17972     1534  Альберт   25  Краснодар              free  2371.711192   \n",
       "\n",
       "        duration       date  month  minute_price  start_ride_price  \\\n",
       "0      25.599769 2021-01-01      1             6                 0   \n",
       "1      15.816871 2021-01-18      1             6                 0   \n",
       "2       6.232113 2021-04-20      4             6                 0   \n",
       "3      18.511000 2021-08-11      8             6                 0   \n",
       "4      26.265803 2021-08-28      8             6                 0   \n",
       "...          ...        ...    ...           ...               ...   \n",
       "17968  19.822962 2021-11-04     11             8                50   \n",
       "17969  21.409799 2021-11-16     11             8                50   \n",
       "17970  18.435051 2021-11-18     11             8                50   \n",
       "17971  16.674362 2021-11-27     11             8                50   \n",
       "17972  15.893917 2021-12-29     12             8                50   \n",
       "\n",
       "       subscription_fee  \n",
       "0                   199  \n",
       "1                   199  \n",
       "2                   199  \n",
       "3                   199  \n",
       "4                   199  \n",
       "...                 ...  \n",
       "17968                 0  \n",
       "17969                 0  \n",
       "17970                 0  \n",
       "17971                 0  \n",
       "17972                 0  \n",
       "\n",
       "[17973 rows x 12 columns]"
      ]
     },
     "execution_count": 40,
     "metadata": {},
     "output_type": "execute_result"
    }
   ],
   "source": [
    "df"
   ]
  },
  {
   "cell_type": "markdown",
   "id": "4246fa25",
   "metadata": {},
   "source": [
    "Данные объединены, нулевых строк не найдено. Теперь выделим в отдельные датафреймы пользователей с подпиской и без."
   ]
  },
  {
   "cell_type": "code",
   "execution_count": 41,
   "id": "b74abe6a",
   "metadata": {},
   "outputs": [],
   "source": [
    "free = df.query('subscription_type == \"free\"').reset_index(drop=True)"
   ]
  },
  {
   "cell_type": "code",
   "execution_count": 42,
   "id": "3c35b6f5",
   "metadata": {},
   "outputs": [],
   "source": [
    "ultra = df.query('subscription_type == \"ultra\"').reset_index(drop=True)"
   ]
  },
  {
   "cell_type": "markdown",
   "id": "d964962b",
   "metadata": {},
   "source": [
    "Построим диаграммы по дистанциям и продолжительности сессии для пользователей без подписки и подпиской ultra."
   ]
  },
  {
   "cell_type": "code",
   "execution_count": 43,
   "id": "fcd715e4",
   "metadata": {},
   "outputs": [
    {
     "data": {
      "image/png": "[encoded data removed]",
      "text/plain": [
       "<Figure size 576x432 with 2 Axes>"
      ]
     },
     "metadata": {
      "needs_background": "light"
     },
     "output_type": "display_data"
    }
   ],
   "source": [
    "free.plot(x = 'distance', y='duration', kind='hexbin',gridsize=20, figsize=(8, 6), sharex=False, grid=True, cmap = 'viridis')\n",
    "plt.title('Зависимость продолжительности сессии и дистанции (пользователи без подписки)')\n",
    "plt.ylabel('Время, минут')\n",
    "plt.xlabel('Расстояние, м')\n",
    "plt.show()\n"
   ]
  },
  {
   "cell_type": "code",
   "execution_count": 44,
   "id": "b019bb09",
   "metadata": {},
   "outputs": [
    {
     "data": {
      "image/png": "[encoded data removed]",
      "text/plain": [
       "<Figure size 432x288 with 1 Axes>"
      ]
     },
     "metadata": {
      "needs_background": "light"
     },
     "output_type": "display_data"
    }
   ],
   "source": [
    "free['distance'].hist(color = '#79f2a9', bins = 25)\n",
    "plt.title('Дистанция за одну сессию без подписки')\n",
    "plt.ylabel('Кол-во сессий')\n",
    "plt.xlabel('Расстояние, м ')\n",
    "plt.show()"
   ]
  },
  {
   "cell_type": "code",
   "execution_count": 45,
   "id": "870bb907",
   "metadata": {},
   "outputs": [
    {
     "data": {
      "image/png": "[encoded data removed]",
      "text/plain": [
       "<Figure size 432x288 with 1 Axes>"
      ]
     },
     "metadata": {
      "needs_background": "light"
     },
     "output_type": "display_data"
    }
   ],
   "source": [
    "free['duration'].hist(color = '#5b4594', bins = 25)\n",
    "plt.title('Продолжительность одной сессии без подписки')\n",
    "plt.ylabel('Кол-во сессий')\n",
    "plt.xlabel('Время, мин')\n",
    "plt.show()"
   ]
  },
  {
   "cell_type": "code",
   "execution_count": 46,
   "id": "87198561",
   "metadata": {},
   "outputs": [
    {
     "data": {
      "image/png": "[encoded data removed]",
      "text/plain": [
       "<Figure size 576x432 with 2 Axes>"
      ]
     },
     "metadata": {
      "needs_background": "light"
     },
     "output_type": "display_data"
    }
   ],
   "source": [
    "ultra.plot(x = 'distance', y='duration', kind='hexbin',gridsize=20, figsize=(8, 6), sharex=False, grid=True, cmap='viridis')\n",
    "plt.title('Зависимость продолжительности сессии и дистанции (ultra)')\n",
    "plt.ylabel('Время, минут')\n",
    "plt.xlabel('Расстояние, м')\n",
    "plt.show()"
   ]
  },
  {
   "cell_type": "code",
   "execution_count": 47,
   "id": "e1d47b8d",
   "metadata": {},
   "outputs": [
    {
     "data": {
      "image/png": "[encoded data removed]",
      "text/plain": [
       "<Figure size 432x288 with 1 Axes>"
      ]
     },
     "metadata": {
      "needs_background": "light"
     },
     "output_type": "display_data"
    }
   ],
   "source": [
    "ultra['distance'].hist(color = '#79f2a9', bins = 25)\n",
    "plt.title('Дистанция за одну сессию с подпиской')\n",
    "plt.ylabel('Кол-во сессий')\n",
    "plt.xlabel('Расстояние, м ')\n",
    "plt.show()"
   ]
  },
  {
   "cell_type": "code",
   "execution_count": 48,
   "id": "efc1ba9c",
   "metadata": {},
   "outputs": [
    {
     "data": {
      "image/png": "[encoded data removed]",
      "text/plain": [
       "<Figure size 432x288 with 1 Axes>"
      ]
     },
     "metadata": {
      "needs_background": "light"
     },
     "output_type": "display_data"
    }
   ],
   "source": [
    "ultra['duration'].hist(color = '#5b4594', bins = 25)\n",
    "plt.title('Продолжительность одной сессии с подпиской')\n",
    "plt.ylabel('Кол-во сессий')\n",
    "plt.xlabel('Время, мин')\n",
    "plt.show()"
   ]
  },
  {
   "cell_type": "code",
   "execution_count": 49,
   "id": "d8a21015",
   "metadata": {},
   "outputs": [
    {
     "data": {
      "text/html": [
       "<div>\n",
       "<style scoped>\n",
       "    .dataframe tbody tr th:only-of-type {\n",
       "        vertical-align: middle;\n",
       "    }\n",
       "\n",
       "    .dataframe tbody tr th {\n",
       "        vertical-align: top;\n",
       "    }\n",
       "\n",
       "    .dataframe thead th {\n",
       "        text-align: right;\n",
       "    }\n",
       "</style>\n",
       "<table border=\"1\" class=\"dataframe\">\n",
       "  <thead>\n",
       "    <tr style=\"text-align: right;\">\n",
       "      <th></th>\n",
       "      <th>duration</th>\n",
       "      <th>distance</th>\n",
       "    </tr>\n",
       "  </thead>\n",
       "  <tbody>\n",
       "    <tr>\n",
       "      <th>count</th>\n",
       "      <td>11473.000000</td>\n",
       "      <td>11473.000000</td>\n",
       "    </tr>\n",
       "    <tr>\n",
       "      <th>mean</th>\n",
       "      <td>17.530771</td>\n",
       "      <td>3028.374239</td>\n",
       "    </tr>\n",
       "    <tr>\n",
       "      <th>std</th>\n",
       "      <td>6.162609</td>\n",
       "      <td>1235.541051</td>\n",
       "    </tr>\n",
       "    <tr>\n",
       "      <th>min</th>\n",
       "      <td>2.035632</td>\n",
       "      <td>0.855683</td>\n",
       "    </tr>\n",
       "    <tr>\n",
       "      <th>25%</th>\n",
       "      <td>13.085688</td>\n",
       "      <td>2360.878149</td>\n",
       "    </tr>\n",
       "    <tr>\n",
       "      <th>50%</th>\n",
       "      <td>17.383807</td>\n",
       "      <td>3102.083025</td>\n",
       "    </tr>\n",
       "    <tr>\n",
       "      <th>75%</th>\n",
       "      <td>21.638038</td>\n",
       "      <td>3883.979311</td>\n",
       "    </tr>\n",
       "    <tr>\n",
       "      <th>max</th>\n",
       "      <td>34.948498</td>\n",
       "      <td>7066.003772</td>\n",
       "    </tr>\n",
       "  </tbody>\n",
       "</table>\n",
       "</div>"
      ],
      "text/plain": [
       "           duration      distance\n",
       "count  11473.000000  11473.000000\n",
       "mean      17.530771   3028.374239\n",
       "std        6.162609   1235.541051\n",
       "min        2.035632      0.855683\n",
       "25%       13.085688   2360.878149\n",
       "50%       17.383807   3102.083025\n",
       "75%       21.638038   3883.979311\n",
       "max       34.948498   7066.003772"
      ]
     },
     "execution_count": 49,
     "metadata": {},
     "output_type": "execute_result"
    }
   ],
   "source": [
    "free[['duration', 'distance']].describe()"
   ]
  },
  {
   "cell_type": "code",
   "execution_count": 50,
   "id": "78ce1b13",
   "metadata": {
    "scrolled": true
   },
   "outputs": [
    {
     "data": {
      "text/html": [
       "<div>\n",
       "<style scoped>\n",
       "    .dataframe tbody tr th:only-of-type {\n",
       "        vertical-align: middle;\n",
       "    }\n",
       "\n",
       "    .dataframe tbody tr th {\n",
       "        vertical-align: top;\n",
       "    }\n",
       "\n",
       "    .dataframe thead th {\n",
       "        text-align: right;\n",
       "    }\n",
       "</style>\n",
       "<table border=\"1\" class=\"dataframe\">\n",
       "  <thead>\n",
       "    <tr style=\"text-align: right;\">\n",
       "      <th></th>\n",
       "      <th>duration</th>\n",
       "      <th>distance</th>\n",
       "    </tr>\n",
       "  </thead>\n",
       "  <tbody>\n",
       "    <tr>\n",
       "      <th>count</th>\n",
       "      <td>6500.000000</td>\n",
       "      <td>6500.000000</td>\n",
       "    </tr>\n",
       "    <tr>\n",
       "      <th>mean</th>\n",
       "      <td>18.541985</td>\n",
       "      <td>3115.445388</td>\n",
       "    </tr>\n",
       "    <tr>\n",
       "      <th>std</th>\n",
       "      <td>5.572048</td>\n",
       "      <td>836.895330</td>\n",
       "    </tr>\n",
       "    <tr>\n",
       "      <th>min</th>\n",
       "      <td>3.760353</td>\n",
       "      <td>244.210438</td>\n",
       "    </tr>\n",
       "    <tr>\n",
       "      <th>25%</th>\n",
       "      <td>14.524654</td>\n",
       "      <td>2785.444017</td>\n",
       "    </tr>\n",
       "    <tr>\n",
       "      <th>50%</th>\n",
       "      <td>18.178153</td>\n",
       "      <td>3148.637229</td>\n",
       "    </tr>\n",
       "    <tr>\n",
       "      <th>75%</th>\n",
       "      <td>21.884129</td>\n",
       "      <td>3560.574425</td>\n",
       "    </tr>\n",
       "    <tr>\n",
       "      <th>max</th>\n",
       "      <td>40.823963</td>\n",
       "      <td>5699.769662</td>\n",
       "    </tr>\n",
       "  </tbody>\n",
       "</table>\n",
       "</div>"
      ],
      "text/plain": [
       "          duration     distance\n",
       "count  6500.000000  6500.000000\n",
       "mean     18.541985  3115.445388\n",
       "std       5.572048   836.895330\n",
       "min       3.760353   244.210438\n",
       "25%      14.524654  2785.444017\n",
       "50%      18.178153  3148.637229\n",
       "75%      21.884129  3560.574425\n",
       "max      40.823963  5699.769662"
      ]
     },
     "execution_count": 50,
     "metadata": {},
     "output_type": "execute_result"
    }
   ],
   "source": [
    "ultra[['duration', 'distance']].describe()"
   ]
  },
  {
   "cell_type": "markdown",
   "id": "3744dbde",
   "metadata": {},
   "source": [
    "Теперь посмотрим на наложение распределений расстояний за 1 сессию в зависимости от типа подписки."
   ]
  },
  {
   "cell_type": "code",
   "execution_count": 51,
   "id": "3e172ce2",
   "metadata": {
    "scrolled": true
   },
   "outputs": [
    {
     "data": {
      "image/png": "[encoded data removed]",
      "text/plain": [
       "<Figure size 432x288 with 1 Axes>"
      ]
     },
     "metadata": {
      "needs_background": "light"
     },
     "output_type": "display_data"
    }
   ],
   "source": [
    "ax = free.plot(\n",
    "    kind='hist',\n",
    "    y = 'distance',\n",
    "    bins=25,\n",
    "    linewidth=5,\n",
    "    color = '#79f2a9',\n",
    "    alpha=0.5,\n",
    "    label='без подписки',\n",
    "     legend=True,\n",
    ")\n",
    "ultra.plot(\n",
    "    kind='hist',\n",
    "    y = 'distance',\n",
    "    bins=25,\n",
    "    linewidth=5,\n",
    "    color = '#5b4594',\n",
    "    alpha=0.7,\n",
    "    label='ultra',\n",
    "    ax=ax,\n",
    "    grid=True,\n",
    "    legend=True,\n",
    ") \n",
    "plt.title('Дистанция за одну сессию')\n",
    "plt.ylabel('Кол-во сессий')\n",
    "plt.xlabel('Расстояние, м ')\n",
    "plt.show()"
   ]
  },
  {
   "cell_type": "markdown",
   "id": "8c7d8c3f",
   "metadata": {},
   "source": [
    "Таким образом, пики распределения дистанций пользователей без подписки выше, также как и выше количество аномально коротких поездок."
   ]
  },
  {
   "cell_type": "markdown",
   "id": "8ebd4a41",
   "metadata": {},
   "source": [
    "Повторим эту операцию с <a id = 'link2'> продолжительностью </a> 1 сессию в зависимости от типа подписки."
   ]
  },
  {
   "cell_type": "code",
   "execution_count": 52,
   "id": "e05025c1",
   "metadata": {
    "scrolled": true
   },
   "outputs": [
    {
     "data": {
      "image/png": "[encoded data removed]",
      "text/plain": [
       "<Figure size 432x288 with 1 Axes>"
      ]
     },
     "metadata": {
      "needs_background": "light"
     },
     "output_type": "display_data"
    }
   ],
   "source": [
    "ax = free.plot(\n",
    "    kind='hist',\n",
    "    y = 'duration',\n",
    "    bins=25,\n",
    "    linewidth=5,\n",
    "    color = '#79f2a9',\n",
    "    alpha=0.5,\n",
    "    label='без подписки',\n",
    "     legend=True,\n",
    ")\n",
    "ultra.plot(\n",
    "    kind='hist',\n",
    "    y = 'duration',\n",
    "    bins=25,\n",
    "    linewidth=5,\n",
    "    color = '#5b4594',\n",
    "    alpha=0.7,\n",
    "    label='ultra',\n",
    "    ax=ax,\n",
    "    grid=True,\n",
    "    legend=True,\n",
    ") \n",
    "plt.title('Продолжительность одной сессии')\n",
    "plt.ylabel('Кол-во сессий')\n",
    "plt.xlabel('Время, мин')\n",
    "plt.show()"
   ]
  },
  {
   "cell_type": "markdown",
   "id": "17de4fac",
   "metadata": {},
   "source": [
    "Медианные значения находятся примерно в одном положении , но в целом продолжительность поездок без подписки выше."
   ]
  },
  {
   "cell_type": "markdown",
   "id": "36d1c6e3",
   "metadata": {},
   "source": [
    "Таким образом, больше всего сессий совершено пользователями без подписки (11,5 тыс. против 6,5 тыс. поездок). Средння продолжительность поездок и дистанция практически одинаковы для этих двух групп пользователей (около 3100 км и 17,5 -18 минут). А вот ложных сессий (например продолжительностью в полминуты или с дистанцией менее 1 м) больше у пользователей без подписки (возможо стоит провести дополнительное исследование приложения совместно с ux-дизайнерами, чтобы избежать потери потенциальных клиентов, но при этом учесть опыт использования постоянных клиентов). \\\n",
    "Также стоит отметить, что поездки менее 1 км и короче 15 минут более характерны для пользователей без подписки."
   ]
  },
  {
   "cell_type": "markdown",
   "id": "8d429d17",
   "metadata": {},
   "source": [
    "#### Подсчёт выручки"
   ]
  },
  {
   "cell_type": "markdown",
   "id": "a2fd8ecf",
   "metadata": {},
   "source": [
    " Найдем суммарное расстояние, количество поездок и суммарное время для каждого пользователя за каждый месяц и добавим их в сводную таблицу вместе с тарифами."
   ]
  },
  {
   "cell_type": "code",
   "execution_count": 53,
   "id": "a2e6ecad",
   "metadata": {},
   "outputs": [
    {
     "data": {
      "text/html": [
       "<div>\n",
       "<style scoped>\n",
       "    .dataframe tbody tr th:only-of-type {\n",
       "        vertical-align: middle;\n",
       "    }\n",
       "\n",
       "    .dataframe tbody tr th {\n",
       "        vertical-align: top;\n",
       "    }\n",
       "\n",
       "    .dataframe thead th {\n",
       "        text-align: right;\n",
       "    }\n",
       "</style>\n",
       "<table border=\"1\" class=\"dataframe\">\n",
       "  <thead>\n",
       "    <tr style=\"text-align: right;\">\n",
       "      <th></th>\n",
       "      <th>user_id</th>\n",
       "      <th>month</th>\n",
       "      <th>session</th>\n",
       "      <th>total_distance</th>\n",
       "      <th>total_duration</th>\n",
       "      <th>minute_price</th>\n",
       "      <th>start_ride_price</th>\n",
       "      <th>subscription_fee</th>\n",
       "      <th>age</th>\n",
       "      <th>city</th>\n",
       "      <th>subscription_type</th>\n",
       "    </tr>\n",
       "  </thead>\n",
       "  <tbody>\n",
       "    <tr>\n",
       "      <th>0</th>\n",
       "      <td>1</td>\n",
       "      <td>1</td>\n",
       "      <td>2</td>\n",
       "      <td>7027.511294</td>\n",
       "      <td>42.0</td>\n",
       "      <td>6</td>\n",
       "      <td>0</td>\n",
       "      <td>199</td>\n",
       "      <td>22</td>\n",
       "      <td>Тюмень</td>\n",
       "      <td>ultra</td>\n",
       "    </tr>\n",
       "    <tr>\n",
       "      <th>1</th>\n",
       "      <td>1</td>\n",
       "      <td>4</td>\n",
       "      <td>1</td>\n",
       "      <td>754.159807</td>\n",
       "      <td>7.0</td>\n",
       "      <td>6</td>\n",
       "      <td>0</td>\n",
       "      <td>199</td>\n",
       "      <td>22</td>\n",
       "      <td>Тюмень</td>\n",
       "      <td>ultra</td>\n",
       "    </tr>\n",
       "    <tr>\n",
       "      <th>2</th>\n",
       "      <td>1</td>\n",
       "      <td>8</td>\n",
       "      <td>2</td>\n",
       "      <td>6723.470560</td>\n",
       "      <td>46.0</td>\n",
       "      <td>6</td>\n",
       "      <td>0</td>\n",
       "      <td>199</td>\n",
       "      <td>22</td>\n",
       "      <td>Тюмень</td>\n",
       "      <td>ultra</td>\n",
       "    </tr>\n",
       "    <tr>\n",
       "      <th>3</th>\n",
       "      <td>1</td>\n",
       "      <td>10</td>\n",
       "      <td>2</td>\n",
       "      <td>5809.911100</td>\n",
       "      <td>32.0</td>\n",
       "      <td>6</td>\n",
       "      <td>0</td>\n",
       "      <td>199</td>\n",
       "      <td>22</td>\n",
       "      <td>Тюмень</td>\n",
       "      <td>ultra</td>\n",
       "    </tr>\n",
       "    <tr>\n",
       "      <th>4</th>\n",
       "      <td>1</td>\n",
       "      <td>11</td>\n",
       "      <td>3</td>\n",
       "      <td>7003.499363</td>\n",
       "      <td>56.0</td>\n",
       "      <td>6</td>\n",
       "      <td>0</td>\n",
       "      <td>199</td>\n",
       "      <td>22</td>\n",
       "      <td>Тюмень</td>\n",
       "      <td>ultra</td>\n",
       "    </tr>\n",
       "  </tbody>\n",
       "</table>\n",
       "</div>"
      ],
      "text/plain": [
       "   user_id  month  session  total_distance  total_duration  minute_price  \\\n",
       "0        1      1        2     7027.511294            42.0             6   \n",
       "1        1      4        1      754.159807             7.0             6   \n",
       "2        1      8        2     6723.470560            46.0             6   \n",
       "3        1     10        2     5809.911100            32.0             6   \n",
       "4        1     11        3     7003.499363            56.0             6   \n",
       "\n",
       "   start_ride_price  subscription_fee  age    city subscription_type  \n",
       "0                 0               199   22  Тюмень             ultra  \n",
       "1                 0               199   22  Тюмень             ultra  \n",
       "2                 0               199   22  Тюмень             ultra  \n",
       "3                 0               199   22  Тюмень             ultra  \n",
       "4                 0               199   22  Тюмень             ultra  "
      ]
     },
     "execution_count": 53,
     "metadata": {},
     "output_type": "execute_result"
    }
   ],
   "source": [
    "df['duration'] = np.ceil(df['duration'])\n",
    "df_agg = df.pivot_table(\n",
    "    index=['user_id','month'],\n",
    "    aggfunc={\n",
    "        'distance':['sum', 'count'],\n",
    "        'duration':'sum',\n",
    "        'minute_price':'first',\n",
    "        'start_ride_price':'first',\n",
    "        'subscription_fee':'first'}).reset_index()\n",
    "df_agg.columns = [\n",
    "    'user_id','month',\n",
    "    'session', \n",
    "    'total_distance',\n",
    "    'total_duration', \n",
    "    'minute_price',\n",
    "    'start_ride_price',\n",
    "    'subscription_fee']\n",
    "df_agg = df_agg.merge(\n",
    "    df[['user_id', 'month','age', 'city', 'subscription_type']],\n",
    "    on = ['user_id','month']).drop_duplicates().reset_index(drop=True)\n",
    "df_agg.head()"
   ]
  },
  {
   "cell_type": "markdown",
   "id": "7ed434fb",
   "metadata": {},
   "source": []
  },
  {
   "cell_type": "markdown",
   "id": "b5aa0827",
   "metadata": {},
   "source": [
    "Посчитаем ежемесячную выручку по каждому пользователю."
   ]
  },
  {
   "cell_type": "code",
   "execution_count": 54,
   "id": "2f639bce",
   "metadata": {},
   "outputs": [
    {
     "data": {
      "text/html": [
       "<div>\n",
       "<style scoped>\n",
       "    .dataframe tbody tr th:only-of-type {\n",
       "        vertical-align: middle;\n",
       "    }\n",
       "\n",
       "    .dataframe tbody tr th {\n",
       "        vertical-align: top;\n",
       "    }\n",
       "\n",
       "    .dataframe thead th {\n",
       "        text-align: right;\n",
       "    }\n",
       "</style>\n",
       "<table border=\"1\" class=\"dataframe\">\n",
       "  <thead>\n",
       "    <tr style=\"text-align: right;\">\n",
       "      <th></th>\n",
       "      <th>user_id</th>\n",
       "      <th>month</th>\n",
       "      <th>session</th>\n",
       "      <th>total_distance</th>\n",
       "      <th>total_duration</th>\n",
       "      <th>minute_price</th>\n",
       "      <th>start_ride_price</th>\n",
       "      <th>subscription_fee</th>\n",
       "      <th>age</th>\n",
       "      <th>city</th>\n",
       "      <th>subscription_type</th>\n",
       "      <th>proceeds</th>\n",
       "    </tr>\n",
       "  </thead>\n",
       "  <tbody>\n",
       "    <tr>\n",
       "      <th>0</th>\n",
       "      <td>1</td>\n",
       "      <td>1</td>\n",
       "      <td>2</td>\n",
       "      <td>7027.511294</td>\n",
       "      <td>42.0</td>\n",
       "      <td>6</td>\n",
       "      <td>0</td>\n",
       "      <td>199</td>\n",
       "      <td>22</td>\n",
       "      <td>Тюмень</td>\n",
       "      <td>ultra</td>\n",
       "      <td>451.0</td>\n",
       "    </tr>\n",
       "    <tr>\n",
       "      <th>1</th>\n",
       "      <td>1</td>\n",
       "      <td>4</td>\n",
       "      <td>1</td>\n",
       "      <td>754.159807</td>\n",
       "      <td>7.0</td>\n",
       "      <td>6</td>\n",
       "      <td>0</td>\n",
       "      <td>199</td>\n",
       "      <td>22</td>\n",
       "      <td>Тюмень</td>\n",
       "      <td>ultra</td>\n",
       "      <td>241.0</td>\n",
       "    </tr>\n",
       "    <tr>\n",
       "      <th>2</th>\n",
       "      <td>1</td>\n",
       "      <td>8</td>\n",
       "      <td>2</td>\n",
       "      <td>6723.470560</td>\n",
       "      <td>46.0</td>\n",
       "      <td>6</td>\n",
       "      <td>0</td>\n",
       "      <td>199</td>\n",
       "      <td>22</td>\n",
       "      <td>Тюмень</td>\n",
       "      <td>ultra</td>\n",
       "      <td>475.0</td>\n",
       "    </tr>\n",
       "    <tr>\n",
       "      <th>3</th>\n",
       "      <td>1</td>\n",
       "      <td>10</td>\n",
       "      <td>2</td>\n",
       "      <td>5809.911100</td>\n",
       "      <td>32.0</td>\n",
       "      <td>6</td>\n",
       "      <td>0</td>\n",
       "      <td>199</td>\n",
       "      <td>22</td>\n",
       "      <td>Тюмень</td>\n",
       "      <td>ultra</td>\n",
       "      <td>391.0</td>\n",
       "    </tr>\n",
       "    <tr>\n",
       "      <th>4</th>\n",
       "      <td>1</td>\n",
       "      <td>11</td>\n",
       "      <td>3</td>\n",
       "      <td>7003.499363</td>\n",
       "      <td>56.0</td>\n",
       "      <td>6</td>\n",
       "      <td>0</td>\n",
       "      <td>199</td>\n",
       "      <td>22</td>\n",
       "      <td>Тюмень</td>\n",
       "      <td>ultra</td>\n",
       "      <td>535.0</td>\n",
       "    </tr>\n",
       "  </tbody>\n",
       "</table>\n",
       "</div>"
      ],
      "text/plain": [
       "   user_id  month  session  total_distance  total_duration  minute_price  \\\n",
       "0        1      1        2     7027.511294            42.0             6   \n",
       "1        1      4        1      754.159807             7.0             6   \n",
       "2        1      8        2     6723.470560            46.0             6   \n",
       "3        1     10        2     5809.911100            32.0             6   \n",
       "4        1     11        3     7003.499363            56.0             6   \n",
       "\n",
       "   start_ride_price  subscription_fee  age    city subscription_type  proceeds  \n",
       "0                 0               199   22  Тюмень             ultra     451.0  \n",
       "1                 0               199   22  Тюмень             ultra     241.0  \n",
       "2                 0               199   22  Тюмень             ultra     475.0  \n",
       "3                 0               199   22  Тюмень             ultra     391.0  \n",
       "4                 0               199   22  Тюмень             ultra     535.0  "
      ]
     },
     "execution_count": 54,
     "metadata": {},
     "output_type": "execute_result"
    }
   ],
   "source": [
    "df_agg['proceeds'] = df_agg['total_duration'] * df_agg['minute_price']\\\n",
    "+ df_agg['session']* df_agg['start_ride_price'] + df_agg['subscription_fee']\n",
    "df_agg.head()"
   ]
  },
  {
   "cell_type": "markdown",
   "id": "a542cd24",
   "metadata": {},
   "source": [
    "Посмотрим, среднемесячную выручку от пользователя с подпиской и без, а также общую выручку от этих двух групп пользователей."
   ]
  },
  {
   "cell_type": "code",
   "execution_count": 55,
   "id": "733188d4",
   "metadata": {},
   "outputs": [
    {
     "data": {
      "text/html": [
       "<div>\n",
       "<style scoped>\n",
       "    .dataframe tbody tr th:only-of-type {\n",
       "        vertical-align: middle;\n",
       "    }\n",
       "\n",
       "    .dataframe tbody tr th {\n",
       "        vertical-align: top;\n",
       "    }\n",
       "\n",
       "    .dataframe thead tr th {\n",
       "        text-align: left;\n",
       "    }\n",
       "\n",
       "    .dataframe thead tr:last-of-type th {\n",
       "        text-align: right;\n",
       "    }\n",
       "</style>\n",
       "<table border=\"1\" class=\"dataframe\">\n",
       "  <thead>\n",
       "    <tr>\n",
       "      <th></th>\n",
       "      <th colspan=\"3\" halign=\"left\">proceeds</th>\n",
       "    </tr>\n",
       "    <tr>\n",
       "      <th></th>\n",
       "      <th>median</th>\n",
       "      <th>sum</th>\n",
       "      <th>count</th>\n",
       "    </tr>\n",
       "    <tr>\n",
       "      <th>subscription_type</th>\n",
       "      <th></th>\n",
       "      <th></th>\n",
       "      <th></th>\n",
       "    </tr>\n",
       "  </thead>\n",
       "  <tbody>\n",
       "    <tr>\n",
       "      <th>free</th>\n",
       "      <td>274.0</td>\n",
       "      <td>2228594.0</td>\n",
       "      <td>6767</td>\n",
       "    </tr>\n",
       "    <tr>\n",
       "      <th>ultra</th>\n",
       "      <td>337.0</td>\n",
       "      <td>1644537.0</td>\n",
       "      <td>4533</td>\n",
       "    </tr>\n",
       "  </tbody>\n",
       "</table>\n",
       "</div>"
      ],
      "text/plain": [
       "                  proceeds                 \n",
       "                    median        sum count\n",
       "subscription_type                          \n",
       "free                 274.0  2228594.0  6767\n",
       "ultra                337.0  1644537.0  4533"
      ]
     },
     "execution_count": 55,
     "metadata": {},
     "output_type": "execute_result"
    }
   ],
   "source": [
    "df_agg.groupby('subscription_type').agg({'proceeds':['median', 'sum', 'count']})"
   ]
  },
  {
   "cell_type": "markdown",
   "id": "70385830",
   "metadata": {},
   "source": [
    "Средняя выручка от пользователей с подпиской 337 руб., что больше, чем у пользователей без подписки ultra (274 руб.)."
   ]
  },
  {
   "cell_type": "markdown",
   "id": "cf19c7f6",
   "metadata": {},
   "source": [
    "Также взглянем на распределение этих показателей по городам."
   ]
  },
  {
   "cell_type": "code",
   "execution_count": 56,
   "id": "921bdcd1",
   "metadata": {},
   "outputs": [
    {
     "data": {
      "text/html": [
       "<div>\n",
       "<style scoped>\n",
       "    .dataframe tbody tr th:only-of-type {\n",
       "        vertical-align: middle;\n",
       "    }\n",
       "\n",
       "    .dataframe tbody tr th {\n",
       "        vertical-align: top;\n",
       "    }\n",
       "\n",
       "    .dataframe thead tr th {\n",
       "        text-align: left;\n",
       "    }\n",
       "\n",
       "    .dataframe thead tr:last-of-type th {\n",
       "        text-align: right;\n",
       "    }\n",
       "</style>\n",
       "<table border=\"1\" class=\"dataframe\">\n",
       "  <thead>\n",
       "    <tr>\n",
       "      <th></th>\n",
       "      <th></th>\n",
       "      <th colspan=\"3\" halign=\"left\">proceeds</th>\n",
       "    </tr>\n",
       "    <tr>\n",
       "      <th></th>\n",
       "      <th></th>\n",
       "      <th>median</th>\n",
       "      <th>sum</th>\n",
       "      <th>count</th>\n",
       "    </tr>\n",
       "    <tr>\n",
       "      <th>subscription_type</th>\n",
       "      <th>city</th>\n",
       "      <th></th>\n",
       "      <th></th>\n",
       "      <th></th>\n",
       "    </tr>\n",
       "  </thead>\n",
       "  <tbody>\n",
       "    <tr>\n",
       "      <th rowspan=\"8\" valign=\"top\">free</th>\n",
       "      <th>Екатеринбург</th>\n",
       "      <td>274.0</td>\n",
       "      <td>306856.0</td>\n",
       "      <td>934</td>\n",
       "    </tr>\n",
       "    <tr>\n",
       "      <th>Краснодар</th>\n",
       "      <td>282.0</td>\n",
       "      <td>293350.0</td>\n",
       "      <td>880</td>\n",
       "    </tr>\n",
       "    <tr>\n",
       "      <th>Москва</th>\n",
       "      <td>290.0</td>\n",
       "      <td>227234.0</td>\n",
       "      <td>675</td>\n",
       "    </tr>\n",
       "    <tr>\n",
       "      <th>Омск</th>\n",
       "      <td>266.0</td>\n",
       "      <td>239158.0</td>\n",
       "      <td>743</td>\n",
       "    </tr>\n",
       "    <tr>\n",
       "      <th>Пятигорск</th>\n",
       "      <td>258.0</td>\n",
       "      <td>324302.0</td>\n",
       "      <td>994</td>\n",
       "    </tr>\n",
       "    <tr>\n",
       "      <th>Ростов-на-Дону</th>\n",
       "      <td>268.0</td>\n",
       "      <td>298800.0</td>\n",
       "      <td>908</td>\n",
       "    </tr>\n",
       "    <tr>\n",
       "      <th>Сочи</th>\n",
       "      <td>276.0</td>\n",
       "      <td>276934.0</td>\n",
       "      <td>847</td>\n",
       "    </tr>\n",
       "    <tr>\n",
       "      <th>Тюмень</th>\n",
       "      <td>274.0</td>\n",
       "      <td>261960.0</td>\n",
       "      <td>786</td>\n",
       "    </tr>\n",
       "    <tr>\n",
       "      <th rowspan=\"8\" valign=\"top\">ultra</th>\n",
       "      <th>Екатеринбург</th>\n",
       "      <td>331.0</td>\n",
       "      <td>222613.0</td>\n",
       "      <td>619</td>\n",
       "    </tr>\n",
       "    <tr>\n",
       "      <th>Краснодар</th>\n",
       "      <td>337.0</td>\n",
       "      <td>195515.0</td>\n",
       "      <td>539</td>\n",
       "    </tr>\n",
       "    <tr>\n",
       "      <th>Москва</th>\n",
       "      <td>337.0</td>\n",
       "      <td>180703.0</td>\n",
       "      <td>499</td>\n",
       "    </tr>\n",
       "    <tr>\n",
       "      <th>Омск</th>\n",
       "      <td>331.0</td>\n",
       "      <td>209620.0</td>\n",
       "      <td>580</td>\n",
       "    </tr>\n",
       "    <tr>\n",
       "      <th>Пятигорск</th>\n",
       "      <td>337.0</td>\n",
       "      <td>215646.0</td>\n",
       "      <td>594</td>\n",
       "    </tr>\n",
       "    <tr>\n",
       "      <th>Ростов-на-Дону</th>\n",
       "      <td>331.0</td>\n",
       "      <td>220542.0</td>\n",
       "      <td>606</td>\n",
       "    </tr>\n",
       "    <tr>\n",
       "      <th>Сочи</th>\n",
       "      <td>331.0</td>\n",
       "      <td>203765.0</td>\n",
       "      <td>557</td>\n",
       "    </tr>\n",
       "    <tr>\n",
       "      <th>Тюмень</th>\n",
       "      <td>337.0</td>\n",
       "      <td>196133.0</td>\n",
       "      <td>539</td>\n",
       "    </tr>\n",
       "  </tbody>\n",
       "</table>\n",
       "</div>"
      ],
      "text/plain": [
       "                                 proceeds                \n",
       "                                   median       sum count\n",
       "subscription_type city                                   \n",
       "free              Екатеринбург      274.0  306856.0   934\n",
       "                  Краснодар         282.0  293350.0   880\n",
       "                  Москва            290.0  227234.0   675\n",
       "                  Омск              266.0  239158.0   743\n",
       "                  Пятигорск         258.0  324302.0   994\n",
       "                  Ростов-на-Дону    268.0  298800.0   908\n",
       "                  Сочи              276.0  276934.0   847\n",
       "                  Тюмень            274.0  261960.0   786\n",
       "ultra             Екатеринбург      331.0  222613.0   619\n",
       "                  Краснодар         337.0  195515.0   539\n",
       "                  Москва            337.0  180703.0   499\n",
       "                  Омск              331.0  209620.0   580\n",
       "                  Пятигорск         337.0  215646.0   594\n",
       "                  Ростов-на-Дону    331.0  220542.0   606\n",
       "                  Сочи              331.0  203765.0   557\n",
       "                  Тюмень            337.0  196133.0   539"
      ]
     },
     "execution_count": 56,
     "metadata": {},
     "output_type": "execute_result"
    }
   ],
   "source": [
    "df_agg.groupby(['subscription_type','city']).agg({'proceeds':['median', 'sum', 'count']})"
   ]
  },
  {
   "cell_type": "markdown",
   "id": "cd926661",
   "metadata": {},
   "source": [
    "Самая высокая среднемесячная выручка от пользователей без подписки в Москве, самая низкая в Пятигорске (где пользователей сервиса наибольшее количество и общая выручка самая высокая среди филиалов)."
   ]
  },
  {
   "cell_type": "markdown",
   "id": "add2e522",
   "metadata": {},
   "source": [
    "#### Шаг 6. Проверка гипотез"
   ]
  },
  {
   "cell_type": "markdown",
   "id": "52409007",
   "metadata": {},
   "source": [
    "##### Тратят ли пользователи с подпиской больше времени на поездки?"
   ]
  },
  {
   "cell_type": "markdown",
   "id": "50ef9f57",
   "metadata": {},
   "source": [
    "Если да, то пользователи с подпиской могут быть «выгоднее» для компании. Проверим гипотезу. Для этого проведем t-тест двух независимых выборок.\n",
    "- H0 - пользователи с подпиской тратят столько же времени на поездки, сколько и пользователи без подписки;\n",
    "- H1 - пользователи с подпиской тратят больше времени на поездки, чем  пользователи без подписки;"
   ]
  },
  {
   "cell_type": "code",
   "execution_count": 57,
   "id": "06ebe562",
   "metadata": {},
   "outputs": [
    {
     "name": "stdout",
     "output_type": "stream",
     "text": [
      "p-value: 8.577910347796266e-28\n",
      "Отвергаем нулевую гипотезу\n"
     ]
    }
   ],
   "source": [
    "# выбираем уровень статистической значимости\n",
    "alpha = 0.05\n",
    "# h1 - пользователи с подпиской тратят больше времени\n",
    "\n",
    "\n",
    "results = st.ttest_ind(df.query('subscription_type == \"ultra\"')['duration'],\n",
    "                       df.query('subscription_type == \"free\"')['duration'],\n",
    "                       alternative='greater')\n",
    "print(f'p-value: {results.pvalue}')\n",
    "\n",
    "# проверяем p-value\n",
    "if results.pvalue < alpha:\n",
    "    print('Отвергаем нулевую гипотезу')\n",
    "else:\n",
    "    print('Нет оснований полагать, что пользователи с подпиской тратят больше времени на поездки')"
   ]
  },
  {
   "cell_type": "markdown",
   "id": "02351e5f",
   "metadata": {},
   "source": [
    "Выведем медианное время у пользователей без подписки:"
   ]
  },
  {
   "cell_type": "code",
   "execution_count": 58,
   "id": "953e0b6f",
   "metadata": {},
   "outputs": [
    {
     "data": {
      "text/plain": [
       "26.0"
      ]
     },
     "execution_count": 58,
     "metadata": {},
     "output_type": "execute_result"
    }
   ],
   "source": [
    "df_agg.query('subscription_type == \"free\"')['total_duration'].median()"
   ]
  },
  {
   "cell_type": "markdown",
   "id": "96991eae",
   "metadata": {},
   "source": [
    "и с подпиской ultra:"
   ]
  },
  {
   "cell_type": "code",
   "execution_count": 59,
   "id": "d478b8a5",
   "metadata": {},
   "outputs": [
    {
     "data": {
      "text/plain": [
       "23.0"
      ]
     },
     "execution_count": 59,
     "metadata": {},
     "output_type": "execute_result"
    }
   ],
   "source": [
    "df_agg.query('subscription_type == \"ultra\"')['total_duration'].median()"
   ]
  },
  {
   "cell_type": "markdown",
   "id": "a8bbfd17",
   "metadata": {},
   "source": [
    "Таким образом, несмотря на то, что среднее время поездки без подписки даже немного превышает время сессии пользователя с подпиской, t-test показывает, что клиенты с подпиской выгоднее, так как, вероятно тратят больше времени на поездки."
   ]
  },
  {
   "cell_type": "markdown",
   "id": "018a354c",
   "metadata": {},
   "source": [
    "[ГИСТОГРАММА](#link2)"
   ]
  },
  {
   "cell_type": "markdown",
   "id": "da3b9d05",
   "metadata": {},
   "source": [
    "#####  Можно ли сказать, что расстояние, которое проезжают пользователи с подпиской за одну поездку, оптимальное с точки зрения износа самоката?"
   ]
  },
  {
   "cell_type": "markdown",
   "id": "14d53514",
   "metadata": {},
   "source": [
    "Расстояние одной поездки в 3130 метров — оптимальное с точки зрения износа самоката. Проверим гипотезу, что дистанция за одну сессию пользователя с подпиской не более этого растояния."
   ]
  },
  {
   "cell_type": "markdown",
   "id": "f5fd2cb6",
   "metadata": {},
   "source": [
    "- H0 - расстояние, которое проезжают пользователи с подпиской за одну сессию, равно расстоянию в 3130 м.\n",
    "- H1 - расстояние,  которое проезжают пользователи с подпиской за одну сессию, больше 3130 м."
   ]
  },
  {
   "cell_type": "code",
   "execution_count": 60,
   "id": "b19014dc",
   "metadata": {},
   "outputs": [
    {
     "name": "stdout",
     "output_type": "stream",
     "text": [
      "p-значение: 0.9195368847849785\n",
      "Нет оснований отвергать нулевую гипотезу\n"
     ]
    }
   ],
   "source": [
    "optimal = 3130\n",
    "\n",
    "alpha = 0.05\n",
    "# h1 - пользователи с подпиской ultra преодолевают расстояние более 3130 за одну сессию.\n",
    "\n",
    "results = st.ttest_1samp(ultra['distance'], optimal, alternative='greater')\n",
    "\n",
    "print('p-значение:', results.pvalue)\n",
    "\n",
    "if (results.pvalue < alpha):\n",
    "    print('Пользователи с подпиской ultra преодолевают расстояние   более 3130 м за одну сессию.')\n",
    "else:\n",
    "    print('Нет оснований отвергать нулевую гипотезу')\n"
   ]
  },
  {
   "cell_type": "markdown",
   "id": "2d22b8e5",
   "metadata": {},
   "source": [
    "P-value достаточно высоко, а значит нельзя отвергнуть гипотезу, что пользователи с подпиской преодолевают оптимальное расстояние."
   ]
  },
  {
   "cell_type": "markdown",
   "id": "10db9263",
   "metadata": {},
   "source": [
    "##### Ежемесячная выручка от пользователей с подпиской и без."
   ]
  },
  {
   "cell_type": "markdown",
   "id": "336c9c99",
   "metadata": {},
   "source": [
    "Проверим гипотезу о том, будет ли помесячная выручка от пользователей с подпиской по месяцам выше, чем выручка от пользователей без подписки. "
   ]
  },
  {
   "cell_type": "markdown",
   "id": "d3b7c077",
   "metadata": {},
   "source": [
    "- H0 - ежемесячная выручка от пользователей с подпиской равна ежемесячной выручки пользователей без подписки\n",
    "- H1 - ежемесячная выручка от пользователей с подпиской больше ежемесячной выручкипользователей без подписки"
   ]
  },
  {
   "cell_type": "code",
   "execution_count": 61,
   "id": "c08fe4b9",
   "metadata": {},
   "outputs": [
    {
     "name": "stdout",
     "output_type": "stream",
     "text": [
      "p-value: 2.0314113674863288e-30\n",
      "Ежемесячная выручка выше от пользователей с подпиской\n"
     ]
    }
   ],
   "source": [
    "# выбираем уровень статистической значимости\n",
    "alpha = 0.05\n",
    "# h1 - выручка от пользователей с подпиской выше\n",
    "\n",
    "\n",
    "results = st.ttest_ind(df_agg.query('subscription_type == \"ultra\"')['proceeds'],\n",
    "                       df_agg.query('subscription_type == \"free\"')['proceeds'],\n",
    "                       alternative='greater')\n",
    "print(f'p-value: {results.pvalue}')\n",
    "\n",
    "# проверяем p-value\n",
    "if results.pvalue < alpha:\n",
    "    print('Ежемесячная выручка выше от пользователей с подпиской')\n",
    "else:\n",
    "    print('Нет оснований полагать, что пользователи с подпиской приносят больше выручки')"
   ]
  },
  {
   "cell_type": "markdown",
   "id": "2f77b2cd",
   "metadata": {},
   "source": [
    "Медианная выручка от пользователей с подпиской в месяц:"
   ]
  },
  {
   "cell_type": "code",
   "execution_count": 62,
   "id": "ced7f158",
   "metadata": {},
   "outputs": [
    {
     "data": {
      "text/plain": [
       "337.0"
      ]
     },
     "execution_count": 62,
     "metadata": {},
     "output_type": "execute_result"
    }
   ],
   "source": [
    "df_agg.query('subscription_type == \"ultra\"')['proceeds'].median()"
   ]
  },
  {
   "cell_type": "markdown",
   "id": "ac83061d",
   "metadata": {},
   "source": [
    "без подписки:"
   ]
  },
  {
   "cell_type": "code",
   "execution_count": 63,
   "id": "34c4cdea",
   "metadata": {
    "scrolled": true
   },
   "outputs": [
    {
     "data": {
      "text/plain": [
       "274.0"
      ]
     },
     "execution_count": 63,
     "metadata": {},
     "output_type": "execute_result"
    }
   ],
   "source": [
    "df_agg.query('subscription_type == \"free\"')['proceeds'].median()"
   ]
  },
  {
   "cell_type": "markdown",
   "id": "87267168",
   "metadata": {},
   "source": [
    "Таким образом, и медианная выручка, и t-тест склоняет к версии о том, что пользователи с полпиской выгоднее для бизнеса."
   ]
  },
  {
   "cell_type": "markdown",
   "id": "e0de305d",
   "metadata": {},
   "source": [
    "***Вероятнее всего, пользователи с подпиской тратят больше времени на поездки и проезжают оптимальные дистанции с точки зрения износа самокатов. Также t-тестирование указывает на то, что ежемесячная выручка от пользователей с подпиской выше, что в свою очередь говорит о пользе продвижения ultra и подтверждает запросы продакт-менеджеров на проведение рекламных кампаний.***"
   ]
  },
  {
   "cell_type": "markdown",
   "id": "d0304d0c",
   "metadata": {},
   "source": [
    "#### Распределения"
   ]
  },
  {
   "cell_type": "markdown",
   "id": "06198d17",
   "metadata": {},
   "source": [
    "##### Акция с раздачей промокодов на один бесплатный месяц подписки"
   ]
  },
  {
   "cell_type": "markdown",
   "id": "33f80e86",
   "metadata": {},
   "source": [
    "Отделу маркетинга GoFast поставили задачу: нужно провести акцию с раздачей промокодов на один бесплатный месяц подписки, в рамках которой как минимум 100 существующих клиентов должны продлить эту подписку. То есть по завершении периода действия подписки пользователь может либо отказаться от неё, либо продлить, совершив соответствующий платёж. Эта акция уже проводилась ранее и по итогу выяснилось, что после бесплатного пробного периода подписку продлевают 10 % пользователей. Выясним, какое минимальное количество промокодов нужно разослать, чтобы вероятность не выполнить план была примерно 5 %. Подберем параметры распределения, описывающего эту ситуацию, построим график распределения и сформулируем ответ на вопрос о количестве промокодов."
   ]
  },
  {
   "cell_type": "markdown",
   "id": "de20a2e4",
   "metadata": {},
   "source": [
    "Используем биноминальное распределение, т.к именно оно описывает распределение вероятностей успеха/неудачи и подходит для дискретных величин. Математическое ожидание при таком распределении равно n*p (количество экспериментов на вероятность). Построим распределение для n =1000."
   ]
  },
  {
   "cell_type": "code",
   "execution_count": 64,
   "id": "24c0f7ac",
   "metadata": {},
   "outputs": [
    {
     "data": {
      "image/png": "[encoded data removed]",
      "text/plain": [
       "<Figure size 432x288 with 1 Axes>"
      ]
     },
     "metadata": {
      "needs_background": "light"
     },
     "output_type": "display_data"
    }
   ],
   "source": [
    "n = 1000\n",
    "p = 0.1\n",
    "\n",
    "# зададим набор значений биномиальной величины на выбранном промежутке:\n",
    "# все неотрицательные целые числа от left до right\n",
    "x = list(range(0, 500))\n",
    "# рисуем график биномиального распределения\n",
    "ax = plt.subplot()\n",
    "# используем синие о-образные маркеры и размер маркера 5\n",
    "ax.plot(x, st.binom.pmf(x, n, p), 'bo', ms=5)\n",
    "plt.title('Вероятности биномиального распределения')\n",
    "plt.ylabel('Вероятность')\n",
    "plt.show()"
   ]
  },
  {
   "cell_type": "code",
   "execution_count": 65,
   "id": "da9eb895",
   "metadata": {},
   "outputs": [
    {
     "name": "stderr",
     "output_type": "stream",
     "text": [
      "/opt/conda/lib/python3.9/site-packages/scipy/stats/_discrete_distns.py:78: RuntimeWarning: divide by zero encountered in _binom_pdf\n",
      "  return _boost._binom_pdf(x, n, p)\n"
     ]
    },
    {
     "data": {
      "image/png": "[encoded data removed]",
      "text/plain": [
       "<Figure size 432x288 with 1 Axes>"
      ]
     },
     "metadata": {
      "needs_background": "light"
     },
     "output_type": "display_data"
    }
   ],
   "source": [
    "n= 1100\n",
    "p= 0.1\n",
    "distr = []\n",
    "\n",
    "for k in range(0, n + 1):\n",
    "    current_value = st.binom.pmf(k, n, p)\n",
    "    distr.append(current_value)\n",
    "    \n",
    "plt.bar(range(0, n + 1), distr)\n",
    "plt.title('Вероятности биномиального распределения')\n",
    "plt.ylabel('Вероятность')\n",
    "plt.show()"
   ]
  },
  {
   "cell_type": "markdown",
   "id": "43d9cc4d",
   "metadata": {},
   "source": [
    "Посчитаем вероятность успеха для рассылки 1170 промокодов."
   ]
  },
  {
   "cell_type": "code",
   "execution_count": 66,
   "id": "6e6c539f",
   "metadata": {},
   "outputs": [
    {
     "data": {
      "text/plain": [
       "0.05151491673741622"
      ]
     },
     "execution_count": 66,
     "metadata": {},
     "output_type": "execute_result"
    }
   ],
   "source": [
    "st.binom.cdf(k= 100 , n= 1170, p= 0.1 )"
   ]
  },
  {
   "cell_type": "markdown",
   "id": "750dc80f",
   "metadata": {},
   "source": [
    "Таким образом, разослав 1170 промокодов, вероятность невыполнить план будет примерно 5%."
   ]
  },
  {
   "cell_type": "markdown",
   "id": "9b105e6c",
   "metadata": {},
   "source": [
    "##### Push-уведомления в мобильном приложении"
   ]
  },
  {
   "cell_type": "markdown",
   "id": "38c8f705",
   "metadata": {},
   "source": [
    "Отдел маркетинга рассылает клиентам push-уведомления в мобильном приложении. Клиенты могут открыть его или не открывать. Известно, что уведомления открывают около 40 % получивших клиентов. Отдел планирует разослать 1 млн уведомлений. С помощью аппроксимации построим примерный график распределения и оценим вероятность того, что уведомление откроют не более 399,5 тыс. пользователей."
   ]
  },
  {
   "cell_type": "markdown",
   "id": "45e7cc05",
   "metadata": {},
   "source": [
    "Решение описывается биноминальным распределением. Т.к. количество рассылок достаточно велико, воспользуемся нормальной аппроксимацией биномиального распределения."
   ]
  },
  {
   "cell_type": "code",
   "execution_count": 67,
   "id": "ec14cd78",
   "metadata": {},
   "outputs": [
    {
     "name": "stdout",
     "output_type": "stream",
     "text": [
      "0.15420132397643166\n"
     ]
    }
   ],
   "source": [
    "from math import sqrt\n",
    "n = 1000000 #рассылка\n",
    "p = 0.4 # откроют\n",
    "\n",
    "mu = n * p\n",
    "sigma = sqrt(n * p * (1 - p))\n",
    "\n",
    "distr = st.norm(mu, sigma)\n",
    "\n",
    "result =distr.cdf(399501)\n",
    "print(result)"
   ]
  },
  {
   "cell_type": "code",
   "execution_count": 68,
   "id": "890ef131",
   "metadata": {},
   "outputs": [
    {
     "data": {
      "image/png": "[encoded data removed]",
      "text/plain": [
       "<Figure size 432x288 with 1 Axes>"
      ]
     },
     "metadata": {
      "needs_background": "light"
     },
     "output_type": "display_data"
    }
   ],
   "source": [
    "# зададим функцию, которая выдаёт <num> чисел,\n",
    "# равномерно распределённых от <start> до <stop>\n",
    "# (понадобится для визуализации нормального распределения)\n",
    "def linspace(start, stop, num):\n",
    "    step = (stop - start) / (num - 1)\n",
    "    result = []\n",
    "    for i in range(num):\n",
    "        result.append(start + step * i)\n",
    "    return result\n",
    " \n",
    "# задаём параметры биномиального распределения\n",
    "n = 1000000\n",
    "p = 0.4\n",
    "# зададим мат.ожидание и ст.отклонение нормального распределения равными\n",
    "# мат.ожиданию и ст.отклонению биномиального распределения\n",
    "mu = n * p\n",
    "sigma = sqrt(n * p * (1 - p))\n",
    "\n",
    "# границы промежутка, в котором будем строить аппроксимацию -\n",
    "# от n*p минус 4 ст.отклонения бином.распределения\n",
    "# до n*p плюс 4 ст.отклонения бином.распределения\n",
    "# (там, где вероятности значений почти не равны нулю)\n",
    "left = int(n * p - 4 * sqrt(n * p * (1 - p)))\n",
    "right = int(n * p + 4 * sqrt(n * p * (1 - p)))\n",
    " \n",
    "# зададим набор значений биномиальной величины на выбранном промежутке:\n",
    "# все неотрицательные целые числа от left до right\n",
    "x = list(range(max(0, left), right))\n",
    "\n",
    "\n",
    "# зададим мат.ожидание и ст.отклонение нормального распределения равными\n",
    "# мат.ожиданию и ст.отклонению биномиального распределения\n",
    "mu = n * p\n",
    "sigma = sqrt(n * p * (1 - p))\n",
    " \n",
    "# рисуем график нормального распределения:\n",
    "# получим список из 10000 чисел от left до right\n",
    "x = linspace(left, right, 10000)\n",
    "\n",
    "theplot = plt.subplot()\n",
    "theplot.plot(x, st.norm.pdf(x, mu, sigma), 'b-', lw=2, label='плотность вероятности нормального распределения')\n",
    " \n",
    "# зададим подписи по оси x в пределах ± 3 ст.отклонений от мат.ожидания\n",
    "# (последний аргумент в методе range - интервал между подписями)\n",
    "x_ticks = list(range(int(mu - 3 * sigma), int(mu + 3 * sigma), 900))\n",
    "theplot.set_xticks(x_ticks)\n",
    "\n",
    "plt.ylabel('Вероятность')\n",
    "plt.show()"
   ]
  },
  {
   "cell_type": "markdown",
   "id": "4006e7b6",
   "metadata": {},
   "source": [
    "Таким образом, для того, что уведомление откроют не более 399,5 тыс равна 15%."
   ]
  },
  {
   "cell_type": "markdown",
   "id": "389d85d9",
   "metadata": {},
   "source": [
    "#### Вывод"
   ]
  },
  {
   "cell_type": "markdown",
   "id": "53f20590",
   "metadata": {},
   "source": [
    "В ходе предобработки данных были исключены дубликаты, исправлены типы данных и созданы вспомогательные столбцы. Сервис GoFast представлен в 8 городах России. Из `1,5 тыс. пользователей` больше всего находится в Пятигорске (более 200 чел), наименьшее количество пользователей сервиса в Москве (менее 170 чел). Более `54%` пользователей сервиса `не подключили подписку` ultra, причем ситуация похожа во всех городах присутствия.\\\n",
    "Типичные клиенты сервиса -это `молодые люди 25 лет`, а максимальный возраста не достигает в большинстве городов и 40 лет."
   ]
  },
  {
   "cell_type": "markdown",
   "id": "71fb4996",
   "metadata": {},
   "source": [
    "Среднее расстояние за `одну сессию - 3 км`, а продолжительность использования самоката за сеанс - `17,5 минут`. Средняя продолжительность и дистанция примерно одинаковы для обеих категорий пользователей. Больше всего сессий именно у пользователей без подписки (11,5 тыс. против 6,5 тыс. поездок), также как и ложных сессий продолжительностью менее минуты или с расстоянием до 1 метра. С этим еще предстоит разобраться, в чем кроется причина - проблемах с оплатой, неисправности самокатов, неудобном и непривычном приложении."
   ]
  },
  {
   "cell_type": "markdown",
   "id": "37cc6fbd",
   "metadata": {},
   "source": [
    " Типичная `месячная выручка` от клиентов `с подпиской` ultra выше (337 руб. против 274), но при этом конечно же общая выручка больше от пользователей без подписки за счет их количества. Причем среднемесячный чек клиентов с подпиской не сильно различается в зависимости от города, а вот по пользователям  без подписки больше вариаций. Самый высокий среднемесячный чек без подписки по Москве, а вот общая выручка от клиентов без подписки выше в Пятигорске, Екатеринбурге, Ростове-на-Дону, Краснодаре (возможно для начала следует сосредоточится именно на этих городах в виду более низкой конкуренции, чем в Москве и большом количестве пользователей без подписки)."
   ]
  },
  {
   "cell_type": "markdown",
   "id": "9e001c74",
   "metadata": {},
   "source": [
    "Проверка гипотез склоняет полагать, что `пользователи с подпиской тратят больше` времени на поездки. Также мы можем предположить с высокой вероятностью, что пользователи с подпиской преодолевают `оптимальное расстояние с точки зрения износа самоката` (3100м). Также ежемесячная выручка выше от пользователей с подпиской. Результаты t-тестирования говорят о пользе продвижения ultra и подтверждает запросы продакт-менеджеров на проведение рекламных кампаний. "
   ]
  },
  {
   "cell_type": "markdown",
   "id": "787c4e48",
   "metadata": {},
   "source": [
    "На основании полученных данных по вероятности продления подписки по промокоду с использованием биноминального распределения получили результат в 1170 `промокодов для рассылки` с целью продления ее 100 клиентами.\\\n",
    "Также мы пролучили, что при рассылке 1млн. push-уведомлений и 40% вероятности их прочтения пользователями вероятность открытия уведомления не более 399,5тыс.пользователей равна 15%."
   ]
  }
 ],
 "metadata": {
  "ExecuteTimeLog": [
   {
    "duration": 1407,
    "start_time": "2024-01-29T09:08:31.570Z"
   },
   {
    "duration": 3,
    "start_time": "2024-01-29T09:10:13.968Z"
   },
   {
    "duration": 74,
    "start_time": "2024-01-29T09:18:08.379Z"
   },
   {
    "duration": 16,
    "start_time": "2024-01-29T09:18:20.593Z"
   },
   {
    "duration": 82,
    "start_time": "2024-01-29T09:19:47.725Z"
   },
   {
    "duration": 44,
    "start_time": "2024-01-29T09:21:00.641Z"
   },
   {
    "duration": 36,
    "start_time": "2024-01-29T09:21:10.478Z"
   },
   {
    "duration": 62,
    "start_time": "2024-01-29T09:21:13.034Z"
   },
   {
    "duration": 35,
    "start_time": "2024-01-29T09:22:29.739Z"
   },
   {
    "duration": 26,
    "start_time": "2024-01-29T09:22:31.774Z"
   },
   {
    "duration": 7,
    "start_time": "2024-01-29T09:23:12.163Z"
   },
   {
    "duration": 7,
    "start_time": "2024-01-29T09:23:36.788Z"
   },
   {
    "duration": 7,
    "start_time": "2024-01-29T09:23:41.357Z"
   },
   {
    "duration": 27,
    "start_time": "2024-01-29T09:23:53.788Z"
   },
   {
    "duration": 36,
    "start_time": "2024-01-29T09:23:56.931Z"
   },
   {
    "duration": 25,
    "start_time": "2024-01-29T09:23:59.095Z"
   },
   {
    "duration": 11,
    "start_time": "2024-01-29T09:24:28.431Z"
   },
   {
    "duration": 9,
    "start_time": "2024-01-29T09:24:49.648Z"
   },
   {
    "duration": 6,
    "start_time": "2024-01-29T09:25:10.813Z"
   },
   {
    "duration": 9,
    "start_time": "2024-01-29T09:35:27.163Z"
   },
   {
    "duration": 12,
    "start_time": "2024-01-29T09:35:38.926Z"
   },
   {
    "duration": 13,
    "start_time": "2024-01-29T09:37:01.066Z"
   },
   {
    "duration": 101,
    "start_time": "2024-01-29T10:00:07.942Z"
   },
   {
    "duration": 79,
    "start_time": "2024-01-29T10:04:05.601Z"
   },
   {
    "duration": 7,
    "start_time": "2024-01-29T10:04:32.423Z"
   },
   {
    "duration": 4,
    "start_time": "2024-01-29T10:05:45.505Z"
   },
   {
    "duration": 12,
    "start_time": "2024-01-29T10:05:47.497Z"
   },
   {
    "duration": 6,
    "start_time": "2024-01-29T10:05:50.218Z"
   },
   {
    "duration": 9,
    "start_time": "2024-01-29T10:05:52.388Z"
   },
   {
    "duration": 5,
    "start_time": "2024-01-29T10:09:22.953Z"
   },
   {
    "duration": 4,
    "start_time": "2024-01-29T10:10:12.853Z"
   },
   {
    "duration": 6,
    "start_time": "2024-01-29T10:16:58.537Z"
   },
   {
    "duration": 11,
    "start_time": "2024-01-29T10:17:15.512Z"
   },
   {
    "duration": 10,
    "start_time": "2024-01-29T10:17:36.956Z"
   },
   {
    "duration": 5,
    "start_time": "2024-01-29T10:19:16.138Z"
   },
   {
    "duration": 10,
    "start_time": "2024-01-29T10:19:18.836Z"
   },
   {
    "duration": 11,
    "start_time": "2024-01-29T10:19:27.909Z"
   },
   {
    "duration": 4,
    "start_time": "2024-01-29T10:19:59.472Z"
   },
   {
    "duration": 10,
    "start_time": "2024-01-29T10:20:01.076Z"
   },
   {
    "duration": 10,
    "start_time": "2024-01-29T10:20:03.664Z"
   },
   {
    "duration": 14,
    "start_time": "2024-01-29T10:23:17.113Z"
   },
   {
    "duration": 18,
    "start_time": "2024-01-29T10:23:52.484Z"
   },
   {
    "duration": 143,
    "start_time": "2024-01-29T10:38:13.746Z"
   },
   {
    "duration": 9,
    "start_time": "2024-01-29T10:43:07.261Z"
   },
   {
    "duration": 1250,
    "start_time": "2024-01-29T10:43:29.672Z"
   },
   {
    "duration": 1168,
    "start_time": "2024-01-29T10:48:22.793Z"
   },
   {
    "duration": 9,
    "start_time": "2024-01-29T10:52:55.617Z"
   },
   {
    "duration": 9,
    "start_time": "2024-01-29T10:53:03.028Z"
   },
   {
    "duration": 13,
    "start_time": "2024-01-29T10:53:19.820Z"
   },
   {
    "duration": 130,
    "start_time": "2024-01-29T10:53:34.546Z"
   },
   {
    "duration": 136,
    "start_time": "2024-01-29T10:53:49.541Z"
   },
   {
    "duration": 14,
    "start_time": "2024-01-29T10:54:24.471Z"
   },
   {
    "duration": 148,
    "start_time": "2024-01-29T10:54:45.252Z"
   },
   {
    "duration": 163,
    "start_time": "2024-01-29T11:12:53.960Z"
   },
   {
    "duration": 134,
    "start_time": "2024-01-29T11:13:02.020Z"
   },
   {
    "duration": 114,
    "start_time": "2024-01-29T11:13:20.398Z"
   },
   {
    "duration": 204,
    "start_time": "2024-01-29T11:13:45.260Z"
   },
   {
    "duration": 94,
    "start_time": "2024-01-29T11:14:11.051Z"
   },
   {
    "duration": 73,
    "start_time": "2024-01-29T11:14:23.992Z"
   },
   {
    "duration": 106,
    "start_time": "2024-01-29T11:14:55.359Z"
   },
   {
    "duration": 158,
    "start_time": "2024-01-29T11:15:16.225Z"
   },
   {
    "duration": 76,
    "start_time": "2024-01-29T11:15:58.666Z"
   },
   {
    "duration": 143,
    "start_time": "2024-01-29T11:16:10.639Z"
   },
   {
    "duration": 140,
    "start_time": "2024-01-29T11:18:43.918Z"
   },
   {
    "duration": 133,
    "start_time": "2024-01-29T11:19:11.808Z"
   },
   {
    "duration": 112,
    "start_time": "2024-01-29T11:23:15.240Z"
   },
   {
    "duration": 104,
    "start_time": "2024-01-29T11:23:28.187Z"
   },
   {
    "duration": 131,
    "start_time": "2024-01-29T11:24:20.524Z"
   },
   {
    "duration": 128,
    "start_time": "2024-01-29T11:24:35.227Z"
   },
   {
    "duration": 131,
    "start_time": "2024-01-29T11:26:12.075Z"
   },
   {
    "duration": 11,
    "start_time": "2024-01-29T11:28:54.636Z"
   },
   {
    "duration": 15,
    "start_time": "2024-01-29T11:32:25.707Z"
   },
   {
    "duration": 103,
    "start_time": "2024-01-29T11:33:42.263Z"
   },
   {
    "duration": 74,
    "start_time": "2024-01-29T11:34:02.025Z"
   },
   {
    "duration": 70,
    "start_time": "2024-01-29T11:34:56.842Z"
   },
   {
    "duration": 143,
    "start_time": "2024-01-29T11:35:21.368Z"
   },
   {
    "duration": 15,
    "start_time": "2024-01-29T11:36:07.007Z"
   },
   {
    "duration": 136,
    "start_time": "2024-01-29T11:36:31.309Z"
   },
   {
    "duration": 141,
    "start_time": "2024-01-29T11:37:03.132Z"
   },
   {
    "duration": 15,
    "start_time": "2024-01-29T11:37:10.335Z"
   },
   {
    "duration": 15,
    "start_time": "2024-01-29T11:37:19.364Z"
   },
   {
    "duration": 75,
    "start_time": "2024-01-29T11:38:53.135Z"
   },
   {
    "duration": 75,
    "start_time": "2024-01-29T11:39:31.439Z"
   },
   {
    "duration": 81,
    "start_time": "2024-01-29T11:39:58.294Z"
   },
   {
    "duration": 72,
    "start_time": "2024-01-29T11:40:06.943Z"
   },
   {
    "duration": 73,
    "start_time": "2024-01-29T11:40:12.984Z"
   },
   {
    "duration": 77,
    "start_time": "2024-01-29T11:40:33.703Z"
   },
   {
    "duration": 70,
    "start_time": "2024-01-29T11:40:56.725Z"
   },
   {
    "duration": 72,
    "start_time": "2024-01-29T11:41:10.985Z"
   },
   {
    "duration": 114,
    "start_time": "2024-01-29T11:42:22.374Z"
   },
   {
    "duration": 117,
    "start_time": "2024-01-29T11:43:20.325Z"
   },
   {
    "duration": 97,
    "start_time": "2024-01-29T11:45:39.268Z"
   },
   {
    "duration": 111,
    "start_time": "2024-01-29T11:45:49.815Z"
   },
   {
    "duration": 115,
    "start_time": "2024-01-29T11:47:54.091Z"
   },
   {
    "duration": 117,
    "start_time": "2024-01-29T11:48:11.794Z"
   },
   {
    "duration": 130,
    "start_time": "2024-01-29T11:48:50.817Z"
   },
   {
    "duration": 16,
    "start_time": "2024-01-29T11:50:15.681Z"
   },
   {
    "duration": 127,
    "start_time": "2024-01-29T11:51:43.880Z"
   },
   {
    "duration": 219,
    "start_time": "2024-01-29T11:52:16.534Z"
   },
   {
    "duration": 128,
    "start_time": "2024-01-29T11:52:25.131Z"
   },
   {
    "duration": 133,
    "start_time": "2024-01-29T11:53:52.871Z"
   },
   {
    "duration": 77,
    "start_time": "2024-01-29T11:54:14.173Z"
   },
   {
    "duration": 74,
    "start_time": "2024-01-29T11:55:28.828Z"
   },
   {
    "duration": 77,
    "start_time": "2024-01-29T11:56:02.465Z"
   },
   {
    "duration": 74,
    "start_time": "2024-01-29T11:56:13.268Z"
   },
   {
    "duration": 72,
    "start_time": "2024-01-29T11:56:18.993Z"
   },
   {
    "duration": 82,
    "start_time": "2024-01-29T12:00:01.169Z"
   },
   {
    "duration": 153,
    "start_time": "2024-01-29T12:09:17.777Z"
   },
   {
    "duration": 120,
    "start_time": "2024-01-29T12:10:37.091Z"
   },
   {
    "duration": 183,
    "start_time": "2024-01-29T12:10:45.694Z"
   },
   {
    "duration": 181,
    "start_time": "2024-01-29T12:11:00.045Z"
   },
   {
    "duration": 185,
    "start_time": "2024-01-29T12:12:41.539Z"
   },
   {
    "duration": 1108,
    "start_time": "2024-01-29T12:15:26.120Z"
   },
   {
    "duration": 27,
    "start_time": "2024-01-29T12:15:27.229Z"
   },
   {
    "duration": 26,
    "start_time": "2024-01-29T12:15:27.258Z"
   },
   {
    "duration": 14,
    "start_time": "2024-01-29T12:15:27.286Z"
   },
   {
    "duration": 11,
    "start_time": "2024-01-29T12:15:27.301Z"
   },
   {
    "duration": 8,
    "start_time": "2024-01-29T12:15:27.313Z"
   },
   {
    "duration": 7,
    "start_time": "2024-01-29T12:15:27.322Z"
   },
   {
    "duration": 9,
    "start_time": "2024-01-29T12:15:27.330Z"
   },
   {
    "duration": 10,
    "start_time": "2024-01-29T12:15:27.341Z"
   },
   {
    "duration": 3,
    "start_time": "2024-01-29T12:15:27.353Z"
   },
   {
    "duration": 8,
    "start_time": "2024-01-29T12:15:27.357Z"
   },
   {
    "duration": 5,
    "start_time": "2024-01-29T12:15:27.366Z"
   },
   {
    "duration": 18,
    "start_time": "2024-01-29T12:15:27.372Z"
   },
   {
    "duration": 5,
    "start_time": "2024-01-29T12:15:27.391Z"
   },
   {
    "duration": 3,
    "start_time": "2024-01-29T12:15:27.397Z"
   },
   {
    "duration": 5,
    "start_time": "2024-01-29T12:15:27.402Z"
   },
   {
    "duration": 34,
    "start_time": "2024-01-29T12:15:27.408Z"
   },
   {
    "duration": 9,
    "start_time": "2024-01-29T12:15:27.443Z"
   },
   {
    "duration": 13,
    "start_time": "2024-01-29T12:15:27.453Z"
   },
   {
    "duration": 25,
    "start_time": "2024-01-29T12:15:27.467Z"
   },
   {
    "duration": 156,
    "start_time": "2024-01-29T12:15:27.494Z"
   },
   {
    "duration": 91,
    "start_time": "2024-01-29T12:15:27.651Z"
   },
   {
    "duration": 199,
    "start_time": "2024-01-29T12:15:27.743Z"
   },
   {
    "duration": 48,
    "start_time": "2024-01-29T13:44:02.505Z"
   },
   {
    "duration": 1249,
    "start_time": "2024-01-29T13:44:18.484Z"
   },
   {
    "duration": 76,
    "start_time": "2024-01-29T13:44:19.735Z"
   },
   {
    "duration": 65,
    "start_time": "2024-01-29T13:44:19.812Z"
   },
   {
    "duration": 51,
    "start_time": "2024-01-29T13:44:19.879Z"
   },
   {
    "duration": 14,
    "start_time": "2024-01-29T13:44:19.931Z"
   },
   {
    "duration": 9,
    "start_time": "2024-01-29T13:44:19.946Z"
   },
   {
    "duration": 12,
    "start_time": "2024-01-29T13:44:19.957Z"
   },
   {
    "duration": 11,
    "start_time": "2024-01-29T13:44:19.970Z"
   },
   {
    "duration": 26,
    "start_time": "2024-01-29T13:44:19.982Z"
   },
   {
    "duration": 26,
    "start_time": "2024-01-29T13:44:20.010Z"
   },
   {
    "duration": 31,
    "start_time": "2024-01-29T13:44:20.038Z"
   },
   {
    "duration": 11,
    "start_time": "2024-01-29T13:44:20.070Z"
   },
   {
    "duration": 8,
    "start_time": "2024-01-29T13:44:20.082Z"
   },
   {
    "duration": 5,
    "start_time": "2024-01-29T13:44:20.091Z"
   },
   {
    "duration": 20,
    "start_time": "2024-01-29T13:44:20.097Z"
   },
   {
    "duration": 6,
    "start_time": "2024-01-29T13:44:20.118Z"
   },
   {
    "duration": 10,
    "start_time": "2024-01-29T13:44:20.125Z"
   },
   {
    "duration": 18,
    "start_time": "2024-01-29T13:44:20.137Z"
   },
   {
    "duration": 13,
    "start_time": "2024-01-29T13:44:20.156Z"
   },
   {
    "duration": 16,
    "start_time": "2024-01-29T13:44:20.171Z"
   },
   {
    "duration": 168,
    "start_time": "2024-01-29T13:44:20.188Z"
   },
   {
    "duration": 87,
    "start_time": "2024-01-29T13:44:20.358Z"
   },
   {
    "duration": 195,
    "start_time": "2024-01-29T13:44:20.446Z"
   },
   {
    "duration": 7,
    "start_time": "2024-01-29T13:44:20.643Z"
   },
   {
    "duration": 130,
    "start_time": "2024-01-29T13:45:26.332Z"
   },
   {
    "duration": 126,
    "start_time": "2024-01-29T13:45:48.186Z"
   },
   {
    "duration": 118,
    "start_time": "2024-01-29T13:49:53.044Z"
   },
   {
    "duration": 127,
    "start_time": "2024-01-29T13:50:40.976Z"
   },
   {
    "duration": 124,
    "start_time": "2024-01-29T13:50:52.622Z"
   },
   {
    "duration": 188,
    "start_time": "2024-01-29T13:50:59.107Z"
   },
   {
    "duration": 147,
    "start_time": "2024-01-29T13:52:18.728Z"
   },
   {
    "duration": 91,
    "start_time": "2024-01-29T13:52:58.258Z"
   },
   {
    "duration": 87,
    "start_time": "2024-01-29T13:54:12.921Z"
   },
   {
    "duration": 1068,
    "start_time": "2024-01-29T13:55:22.351Z"
   },
   {
    "duration": 28,
    "start_time": "2024-01-29T13:55:23.420Z"
   },
   {
    "duration": 26,
    "start_time": "2024-01-29T13:55:23.450Z"
   },
   {
    "duration": 16,
    "start_time": "2024-01-29T13:55:23.478Z"
   },
   {
    "duration": 10,
    "start_time": "2024-01-29T13:55:23.495Z"
   },
   {
    "duration": 14,
    "start_time": "2024-01-29T13:55:23.507Z"
   },
   {
    "duration": 6,
    "start_time": "2024-01-29T13:55:23.522Z"
   },
   {
    "duration": 9,
    "start_time": "2024-01-29T13:55:23.530Z"
   },
   {
    "duration": 8,
    "start_time": "2024-01-29T13:55:23.541Z"
   },
   {
    "duration": 7,
    "start_time": "2024-01-29T13:55:23.552Z"
   },
   {
    "duration": 12,
    "start_time": "2024-01-29T13:55:23.560Z"
   },
   {
    "duration": 7,
    "start_time": "2024-01-29T13:55:23.573Z"
   },
   {
    "duration": 7,
    "start_time": "2024-01-29T13:55:23.581Z"
   },
   {
    "duration": 9,
    "start_time": "2024-01-29T13:55:23.590Z"
   },
   {
    "duration": 4,
    "start_time": "2024-01-29T13:55:23.601Z"
   },
   {
    "duration": 8,
    "start_time": "2024-01-29T13:55:23.606Z"
   },
   {
    "duration": 24,
    "start_time": "2024-01-29T13:55:23.616Z"
   },
   {
    "duration": 10,
    "start_time": "2024-01-29T13:55:23.642Z"
   },
   {
    "duration": 18,
    "start_time": "2024-01-29T13:55:23.653Z"
   },
   {
    "duration": 192,
    "start_time": "2024-01-29T13:55:23.673Z"
   },
   {
    "duration": 87,
    "start_time": "2024-01-29T13:55:23.867Z"
   },
   {
    "duration": 191,
    "start_time": "2024-01-29T13:55:23.955Z"
   },
   {
    "duration": 6,
    "start_time": "2024-01-29T13:55:24.147Z"
   },
   {
    "duration": 151,
    "start_time": "2024-01-29T13:55:24.155Z"
   },
   {
    "duration": 90,
    "start_time": "2024-01-29T13:55:24.307Z"
   },
   {
    "duration": 5,
    "start_time": "2024-01-29T14:01:55.911Z"
   },
   {
    "duration": 90,
    "start_time": "2024-01-29T14:07:03.338Z"
   },
   {
    "duration": 12,
    "start_time": "2024-01-29T14:07:13.416Z"
   },
   {
    "duration": 22,
    "start_time": "2024-01-29T14:07:48.342Z"
   },
   {
    "duration": 10,
    "start_time": "2024-01-29T14:09:28.429Z"
   },
   {
    "duration": 18,
    "start_time": "2024-01-29T14:12:27.130Z"
   },
   {
    "duration": 11,
    "start_time": "2024-01-29T14:12:54.394Z"
   },
   {
    "duration": 8,
    "start_time": "2024-01-29T14:19:39.110Z"
   },
   {
    "duration": 155,
    "start_time": "2024-01-29T14:20:50.287Z"
   },
   {
    "duration": 161,
    "start_time": "2024-01-29T14:22:42.648Z"
   },
   {
    "duration": 162,
    "start_time": "2024-01-29T14:22:51.221Z"
   },
   {
    "duration": 212,
    "start_time": "2024-01-29T14:23:12.478Z"
   },
   {
    "duration": 93,
    "start_time": "2024-01-29T14:23:48.245Z"
   },
   {
    "duration": 8,
    "start_time": "2024-01-29T14:33:12.793Z"
   },
   {
    "duration": 178,
    "start_time": "2024-01-29T14:34:36.398Z"
   },
   {
    "duration": 107,
    "start_time": "2024-01-29T14:34:51.224Z"
   },
   {
    "duration": 122,
    "start_time": "2024-01-29T14:35:09.760Z"
   },
   {
    "duration": 164,
    "start_time": "2024-01-29T14:35:28.947Z"
   },
   {
    "duration": 92,
    "start_time": "2024-01-29T14:36:10.848Z"
   },
   {
    "duration": 9,
    "start_time": "2024-01-29T14:46:07.895Z"
   },
   {
    "duration": 12,
    "start_time": "2024-01-29T14:46:20.824Z"
   },
   {
    "duration": 12,
    "start_time": "2024-01-29T14:47:01.853Z"
   },
   {
    "duration": 24,
    "start_time": "2024-01-29T14:47:45.174Z"
   },
   {
    "duration": 26,
    "start_time": "2024-01-29T14:50:29.576Z"
   },
   {
    "duration": 106,
    "start_time": "2024-01-29T14:50:59.754Z"
   },
   {
    "duration": 8,
    "start_time": "2024-01-29T14:51:18.548Z"
   },
   {
    "duration": 8,
    "start_time": "2024-01-29T14:51:45.728Z"
   },
   {
    "duration": 19,
    "start_time": "2024-01-29T14:52:09.888Z"
   },
   {
    "duration": 17,
    "start_time": "2024-01-29T14:52:12.430Z"
   },
   {
    "duration": 12,
    "start_time": "2024-01-29T14:52:45.952Z"
   },
   {
    "duration": 7,
    "start_time": "2024-01-29T14:53:04.825Z"
   },
   {
    "duration": 6,
    "start_time": "2024-01-29T14:53:14.760Z"
   },
   {
    "duration": 18,
    "start_time": "2024-01-29T14:53:20.885Z"
   },
   {
    "duration": 18,
    "start_time": "2024-01-29T14:53:27.778Z"
   },
   {
    "duration": 214,
    "start_time": "2024-01-29T14:56:26.656Z"
   },
   {
    "duration": 189,
    "start_time": "2024-01-29T14:57:24.438Z"
   },
   {
    "duration": 165,
    "start_time": "2024-01-29T14:59:03.969Z"
   },
   {
    "duration": 16,
    "start_time": "2024-01-29T15:00:28.786Z"
   },
   {
    "duration": 15,
    "start_time": "2024-01-29T15:00:45.085Z"
   },
   {
    "duration": 311,
    "start_time": "2024-01-29T15:01:05.577Z"
   },
   {
    "duration": 194,
    "start_time": "2024-01-29T15:01:17.525Z"
   },
   {
    "duration": 233,
    "start_time": "2024-01-29T15:05:46.835Z"
   },
   {
    "duration": 234,
    "start_time": "2024-01-29T15:06:01.230Z"
   },
   {
    "duration": 204,
    "start_time": "2024-01-29T15:06:14.592Z"
   },
   {
    "duration": 202,
    "start_time": "2024-01-29T15:06:28.308Z"
   },
   {
    "duration": 200,
    "start_time": "2024-01-29T15:06:35.621Z"
   },
   {
    "duration": 75,
    "start_time": "2024-01-29T15:36:40.035Z"
   },
   {
    "duration": 36,
    "start_time": "2024-01-29T15:36:47.077Z"
   },
   {
    "duration": 38,
    "start_time": "2024-01-29T15:36:56.308Z"
   },
   {
    "duration": 19,
    "start_time": "2024-01-29T15:40:45.402Z"
   },
   {
    "duration": 24,
    "start_time": "2024-01-29T15:41:48.527Z"
   },
   {
    "duration": 1059,
    "start_time": "2024-01-29T15:42:52.150Z"
   },
   {
    "duration": 29,
    "start_time": "2024-01-29T15:42:53.211Z"
   },
   {
    "duration": 27,
    "start_time": "2024-01-29T15:42:53.241Z"
   },
   {
    "duration": 15,
    "start_time": "2024-01-29T15:42:53.269Z"
   },
   {
    "duration": 11,
    "start_time": "2024-01-29T15:42:53.285Z"
   },
   {
    "duration": 9,
    "start_time": "2024-01-29T15:42:53.298Z"
   },
   {
    "duration": 7,
    "start_time": "2024-01-29T15:42:53.308Z"
   },
   {
    "duration": 13,
    "start_time": "2024-01-29T15:42:53.317Z"
   },
   {
    "duration": 14,
    "start_time": "2024-01-29T15:42:53.333Z"
   },
   {
    "duration": 4,
    "start_time": "2024-01-29T15:42:53.349Z"
   },
   {
    "duration": 13,
    "start_time": "2024-01-29T15:42:53.354Z"
   },
   {
    "duration": 15,
    "start_time": "2024-01-29T15:42:53.369Z"
   },
   {
    "duration": 15,
    "start_time": "2024-01-29T15:42:53.385Z"
   },
   {
    "duration": 10,
    "start_time": "2024-01-29T15:42:53.401Z"
   },
   {
    "duration": 6,
    "start_time": "2024-01-29T15:42:53.413Z"
   },
   {
    "duration": 10,
    "start_time": "2024-01-29T15:42:53.421Z"
   },
   {
    "duration": 15,
    "start_time": "2024-01-29T15:42:53.433Z"
   },
   {
    "duration": 17,
    "start_time": "2024-01-29T15:42:53.450Z"
   },
   {
    "duration": 18,
    "start_time": "2024-01-29T15:42:53.468Z"
   },
   {
    "duration": 154,
    "start_time": "2024-01-29T15:42:53.488Z"
   },
   {
    "duration": 90,
    "start_time": "2024-01-29T15:42:53.643Z"
   },
   {
    "duration": 224,
    "start_time": "2024-01-29T15:42:53.735Z"
   },
   {
    "duration": 8,
    "start_time": "2024-01-29T15:42:53.961Z"
   },
   {
    "duration": 163,
    "start_time": "2024-01-29T15:42:53.971Z"
   },
   {
    "duration": 87,
    "start_time": "2024-01-29T15:42:54.135Z"
   },
   {
    "duration": 20,
    "start_time": "2024-01-29T15:42:54.223Z"
   },
   {
    "duration": 23,
    "start_time": "2024-01-29T15:42:54.245Z"
   },
   {
    "duration": 173,
    "start_time": "2024-01-29T15:42:54.271Z"
   },
   {
    "duration": 99,
    "start_time": "2024-01-29T15:42:54.445Z"
   },
   {
    "duration": 8,
    "start_time": "2024-01-29T15:42:54.545Z"
   },
   {
    "duration": 199,
    "start_time": "2024-01-29T15:42:54.554Z"
   },
   {
    "duration": 170,
    "start_time": "2024-01-29T15:42:54.754Z"
   },
   {
    "duration": 13,
    "start_time": "2024-01-29T15:42:54.926Z"
   },
   {
    "duration": 23,
    "start_time": "2024-01-29T15:42:54.940Z"
   },
   {
    "duration": 19,
    "start_time": "2024-01-29T15:42:54.964Z"
   },
   {
    "duration": 23,
    "start_time": "2024-01-29T15:42:54.984Z"
   },
   {
    "duration": 10,
    "start_time": "2024-01-29T15:42:55.008Z"
   },
   {
    "duration": 18,
    "start_time": "2024-01-29T15:42:55.020Z"
   },
   {
    "duration": 18,
    "start_time": "2024-01-29T15:42:55.039Z"
   },
   {
    "duration": 265,
    "start_time": "2024-01-29T15:42:55.059Z"
   },
   {
    "duration": 238,
    "start_time": "2024-01-29T15:42:55.326Z"
   },
   {
    "duration": 14,
    "start_time": "2024-01-29T15:42:55.565Z"
   },
   {
    "duration": 13,
    "start_time": "2024-01-29T15:42:55.581Z"
   },
   {
    "duration": 38,
    "start_time": "2024-01-29T15:42:55.595Z"
   },
   {
    "duration": 43,
    "start_time": "2024-01-29T15:42:55.635Z"
   },
   {
    "duration": 24,
    "start_time": "2024-01-29T15:44:16.628Z"
   },
   {
    "duration": 34,
    "start_time": "2024-01-29T15:44:19.704Z"
   },
   {
    "duration": 24,
    "start_time": "2024-01-29T15:44:49.183Z"
   },
   {
    "duration": 33,
    "start_time": "2024-01-29T15:44:52.721Z"
   },
   {
    "duration": 33,
    "start_time": "2024-01-29T15:52:04.972Z"
   },
   {
    "duration": 86,
    "start_time": "2024-01-29T15:55:22.848Z"
   },
   {
    "duration": 69,
    "start_time": "2024-01-29T15:55:40.336Z"
   },
   {
    "duration": 77,
    "start_time": "2024-01-29T15:55:49.263Z"
   },
   {
    "duration": 80,
    "start_time": "2024-01-29T15:55:58.069Z"
   },
   {
    "duration": 70,
    "start_time": "2024-01-29T15:56:07.318Z"
   },
   {
    "duration": 1084,
    "start_time": "2024-01-29T16:01:49.741Z"
   },
   {
    "duration": 29,
    "start_time": "2024-01-29T16:01:50.827Z"
   },
   {
    "duration": 27,
    "start_time": "2024-01-29T16:01:50.857Z"
   },
   {
    "duration": 15,
    "start_time": "2024-01-29T16:01:50.886Z"
   },
   {
    "duration": 11,
    "start_time": "2024-01-29T16:01:50.903Z"
   },
   {
    "duration": 66,
    "start_time": "2024-01-29T16:01:50.916Z"
   },
   {
    "duration": 23,
    "start_time": "2024-01-29T16:01:50.983Z"
   },
   {
    "duration": 35,
    "start_time": "2024-01-29T16:01:51.007Z"
   },
   {
    "duration": 13,
    "start_time": "2024-01-29T16:01:51.044Z"
   },
   {
    "duration": 23,
    "start_time": "2024-01-29T16:01:51.059Z"
   },
   {
    "duration": 17,
    "start_time": "2024-01-29T16:01:51.083Z"
   },
   {
    "duration": 6,
    "start_time": "2024-01-29T16:01:51.102Z"
   },
   {
    "duration": 29,
    "start_time": "2024-01-29T16:01:51.110Z"
   },
   {
    "duration": 25,
    "start_time": "2024-01-29T16:01:51.141Z"
   },
   {
    "duration": 26,
    "start_time": "2024-01-29T16:01:51.168Z"
   },
   {
    "duration": 8,
    "start_time": "2024-01-29T16:01:51.196Z"
   },
   {
    "duration": 29,
    "start_time": "2024-01-29T16:01:51.205Z"
   },
   {
    "duration": 15,
    "start_time": "2024-01-29T16:01:51.236Z"
   },
   {
    "duration": 20,
    "start_time": "2024-01-29T16:01:51.253Z"
   },
   {
    "duration": 147,
    "start_time": "2024-01-29T16:01:51.274Z"
   },
   {
    "duration": 94,
    "start_time": "2024-01-29T16:01:51.423Z"
   },
   {
    "duration": 225,
    "start_time": "2024-01-29T16:01:51.518Z"
   },
   {
    "duration": 9,
    "start_time": "2024-01-29T16:01:51.745Z"
   },
   {
    "duration": 173,
    "start_time": "2024-01-29T16:01:51.755Z"
   },
   {
    "duration": 89,
    "start_time": "2024-01-29T16:01:51.930Z"
   },
   {
    "duration": 22,
    "start_time": "2024-01-29T16:01:52.020Z"
   },
   {
    "duration": 8,
    "start_time": "2024-01-29T16:01:52.043Z"
   },
   {
    "duration": 173,
    "start_time": "2024-01-29T16:01:52.055Z"
   },
   {
    "duration": 106,
    "start_time": "2024-01-29T16:01:52.232Z"
   },
   {
    "duration": 8,
    "start_time": "2024-01-29T16:01:52.339Z"
   },
   {
    "duration": 174,
    "start_time": "2024-01-29T16:01:52.349Z"
   },
   {
    "duration": 169,
    "start_time": "2024-01-29T16:01:52.525Z"
   },
   {
    "duration": 8,
    "start_time": "2024-01-29T16:01:52.695Z"
   },
   {
    "duration": 13,
    "start_time": "2024-01-29T16:01:52.705Z"
   },
   {
    "duration": 30,
    "start_time": "2024-01-29T16:01:52.719Z"
   },
   {
    "duration": 6,
    "start_time": "2024-01-29T16:01:52.750Z"
   },
   {
    "duration": 11,
    "start_time": "2024-01-29T16:01:52.758Z"
   },
   {
    "duration": 17,
    "start_time": "2024-01-29T16:01:52.771Z"
   },
   {
    "duration": 17,
    "start_time": "2024-01-29T16:01:52.789Z"
   },
   {
    "duration": 273,
    "start_time": "2024-01-29T16:01:52.807Z"
   },
   {
    "duration": 211,
    "start_time": "2024-01-29T16:01:53.082Z"
   },
   {
    "duration": 15,
    "start_time": "2024-01-29T16:01:53.294Z"
   },
   {
    "duration": 26,
    "start_time": "2024-01-29T16:01:53.311Z"
   },
   {
    "duration": 1120,
    "start_time": "2024-01-29T16:03:11.465Z"
   },
   {
    "duration": 29,
    "start_time": "2024-01-29T16:03:12.587Z"
   },
   {
    "duration": 29,
    "start_time": "2024-01-29T16:03:12.617Z"
   },
   {
    "duration": 15,
    "start_time": "2024-01-29T16:03:12.648Z"
   },
   {
    "duration": 12,
    "start_time": "2024-01-29T16:03:12.665Z"
   },
   {
    "duration": 18,
    "start_time": "2024-01-29T16:03:12.679Z"
   },
   {
    "duration": 23,
    "start_time": "2024-01-29T16:03:12.698Z"
   },
   {
    "duration": 27,
    "start_time": "2024-01-29T16:03:12.722Z"
   },
   {
    "duration": 23,
    "start_time": "2024-01-29T16:03:12.751Z"
   },
   {
    "duration": 7,
    "start_time": "2024-01-29T16:03:12.777Z"
   },
   {
    "duration": 14,
    "start_time": "2024-01-29T16:03:12.785Z"
   },
   {
    "duration": 26,
    "start_time": "2024-01-29T16:03:12.801Z"
   },
   {
    "duration": 39,
    "start_time": "2024-01-29T16:03:12.829Z"
   },
   {
    "duration": 7,
    "start_time": "2024-01-29T16:03:12.870Z"
   },
   {
    "duration": 19,
    "start_time": "2024-01-29T16:03:12.878Z"
   },
   {
    "duration": 9,
    "start_time": "2024-01-29T16:03:12.899Z"
   },
   {
    "duration": 22,
    "start_time": "2024-01-29T16:03:12.910Z"
   },
   {
    "duration": 13,
    "start_time": "2024-01-29T16:03:12.934Z"
   },
   {
    "duration": 21,
    "start_time": "2024-01-29T16:03:12.948Z"
   },
   {
    "duration": 195,
    "start_time": "2024-01-29T16:03:12.971Z"
   },
   {
    "duration": 98,
    "start_time": "2024-01-29T16:03:13.168Z"
   },
   {
    "duration": 206,
    "start_time": "2024-01-29T16:03:13.268Z"
   },
   {
    "duration": 7,
    "start_time": "2024-01-29T16:03:13.476Z"
   },
   {
    "duration": 170,
    "start_time": "2024-01-29T16:03:13.484Z"
   },
   {
    "duration": 92,
    "start_time": "2024-01-29T16:03:13.655Z"
   },
   {
    "duration": 14,
    "start_time": "2024-01-29T16:03:13.749Z"
   },
   {
    "duration": 9,
    "start_time": "2024-01-29T16:03:13.764Z"
   },
   {
    "duration": 197,
    "start_time": "2024-01-29T16:03:13.777Z"
   },
   {
    "duration": 106,
    "start_time": "2024-01-29T16:03:13.976Z"
   },
   {
    "duration": 7,
    "start_time": "2024-01-29T16:03:14.084Z"
   },
   {
    "duration": 180,
    "start_time": "2024-01-29T16:03:14.092Z"
   },
   {
    "duration": 199,
    "start_time": "2024-01-29T16:03:14.274Z"
   },
   {
    "duration": 9,
    "start_time": "2024-01-29T16:03:14.474Z"
   },
   {
    "duration": 58,
    "start_time": "2024-01-29T16:03:14.484Z"
   },
   {
    "duration": 20,
    "start_time": "2024-01-29T16:03:14.544Z"
   },
   {
    "duration": 15,
    "start_time": "2024-01-29T16:03:14.566Z"
   },
   {
    "duration": 15,
    "start_time": "2024-01-29T16:03:14.583Z"
   },
   {
    "duration": 21,
    "start_time": "2024-01-29T16:03:14.599Z"
   },
   {
    "duration": 18,
    "start_time": "2024-01-29T16:03:14.622Z"
   },
   {
    "duration": 238,
    "start_time": "2024-01-29T16:03:14.641Z"
   },
   {
    "duration": 220,
    "start_time": "2024-01-29T16:03:14.881Z"
   },
   {
    "duration": 15,
    "start_time": "2024-01-29T16:03:15.103Z"
   },
   {
    "duration": 39,
    "start_time": "2024-01-29T16:03:15.119Z"
   },
   {
    "duration": 1079,
    "start_time": "2024-01-29T16:03:47.048Z"
   },
   {
    "duration": 28,
    "start_time": "2024-01-29T16:03:48.129Z"
   },
   {
    "duration": 28,
    "start_time": "2024-01-29T16:03:48.159Z"
   },
   {
    "duration": 15,
    "start_time": "2024-01-29T16:03:48.189Z"
   },
   {
    "duration": 12,
    "start_time": "2024-01-29T16:03:48.205Z"
   },
   {
    "duration": 15,
    "start_time": "2024-01-29T16:03:48.218Z"
   },
   {
    "duration": 13,
    "start_time": "2024-01-29T16:03:48.235Z"
   },
   {
    "duration": 34,
    "start_time": "2024-01-29T16:03:48.250Z"
   },
   {
    "duration": 27,
    "start_time": "2024-01-29T16:03:48.285Z"
   },
   {
    "duration": 3,
    "start_time": "2024-01-29T16:03:48.314Z"
   },
   {
    "duration": 22,
    "start_time": "2024-01-29T16:03:48.318Z"
   },
   {
    "duration": 13,
    "start_time": "2024-01-29T16:03:48.342Z"
   },
   {
    "duration": 38,
    "start_time": "2024-01-29T16:03:48.357Z"
   },
   {
    "duration": 37,
    "start_time": "2024-01-29T16:03:48.396Z"
   },
   {
    "duration": 44,
    "start_time": "2024-01-29T16:03:48.434Z"
   },
   {
    "duration": 26,
    "start_time": "2024-01-29T16:03:48.479Z"
   },
   {
    "duration": 24,
    "start_time": "2024-01-29T16:03:48.506Z"
   },
   {
    "duration": 11,
    "start_time": "2024-01-29T16:03:48.531Z"
   },
   {
    "duration": 20,
    "start_time": "2024-01-29T16:03:48.544Z"
   },
   {
    "duration": 163,
    "start_time": "2024-01-29T16:03:48.566Z"
   },
   {
    "duration": 80,
    "start_time": "2024-01-29T16:03:48.730Z"
   },
   {
    "duration": 214,
    "start_time": "2024-01-29T16:03:48.811Z"
   },
   {
    "duration": 12,
    "start_time": "2024-01-29T16:03:49.026Z"
   },
   {
    "duration": 160,
    "start_time": "2024-01-29T16:03:49.039Z"
   },
   {
    "duration": 91,
    "start_time": "2024-01-29T16:03:49.200Z"
   },
   {
    "duration": 11,
    "start_time": "2024-01-29T16:03:49.292Z"
   },
   {
    "duration": 23,
    "start_time": "2024-01-29T16:03:49.305Z"
   },
   {
    "duration": 166,
    "start_time": "2024-01-29T16:03:49.331Z"
   },
   {
    "duration": 111,
    "start_time": "2024-01-29T16:03:49.498Z"
   },
   {
    "duration": 8,
    "start_time": "2024-01-29T16:03:49.610Z"
   },
   {
    "duration": 188,
    "start_time": "2024-01-29T16:03:49.620Z"
   },
   {
    "duration": 170,
    "start_time": "2024-01-29T16:03:49.809Z"
   },
   {
    "duration": 8,
    "start_time": "2024-01-29T16:03:49.981Z"
   },
   {
    "duration": 12,
    "start_time": "2024-01-29T16:03:49.990Z"
   },
   {
    "duration": 34,
    "start_time": "2024-01-29T16:03:50.004Z"
   },
   {
    "duration": 34,
    "start_time": "2024-01-29T16:03:50.039Z"
   },
   {
    "duration": 42,
    "start_time": "2024-01-29T16:03:50.075Z"
   },
   {
    "duration": 15,
    "start_time": "2024-01-29T16:03:50.118Z"
   },
   {
    "duration": 37,
    "start_time": "2024-01-29T16:03:50.134Z"
   },
   {
    "duration": 284,
    "start_time": "2024-01-29T16:03:50.173Z"
   },
   {
    "duration": 218,
    "start_time": "2024-01-29T16:03:50.459Z"
   },
   {
    "duration": 15,
    "start_time": "2024-01-29T16:03:50.679Z"
   },
   {
    "duration": 58,
    "start_time": "2024-01-29T16:03:50.695Z"
   },
   {
    "duration": 8,
    "start_time": "2024-01-29T16:03:50.755Z"
   },
   {
    "duration": 1248,
    "start_time": "2024-01-29T16:06:05.774Z"
   },
   {
    "duration": 31,
    "start_time": "2024-01-29T16:06:58.312Z"
   },
   {
    "duration": 36,
    "start_time": "2024-01-29T16:08:02.555Z"
   },
   {
    "duration": 28,
    "start_time": "2024-01-29T16:12:03.023Z"
   },
   {
    "duration": 32,
    "start_time": "2024-01-29T16:12:32.435Z"
   },
   {
    "duration": 84,
    "start_time": "2024-01-29T16:14:13.918Z"
   },
   {
    "duration": 31,
    "start_time": "2024-01-29T16:14:22.103Z"
   },
   {
    "duration": 32,
    "start_time": "2024-01-29T16:15:50.746Z"
   },
   {
    "duration": 32,
    "start_time": "2024-01-29T16:16:19.803Z"
   },
   {
    "duration": 25,
    "start_time": "2024-01-29T16:17:15.116Z"
   },
   {
    "duration": 31,
    "start_time": "2024-01-29T16:17:34.330Z"
   },
   {
    "duration": 102,
    "start_time": "2024-01-29T16:36:04.562Z"
   },
   {
    "duration": 81,
    "start_time": "2024-01-29T16:38:11.149Z"
   },
   {
    "duration": 34,
    "start_time": "2024-01-29T16:38:47.732Z"
   },
   {
    "duration": 31,
    "start_time": "2024-01-29T16:39:25.745Z"
   },
   {
    "duration": 30,
    "start_time": "2024-01-29T16:39:46.537Z"
   },
   {
    "duration": 54,
    "start_time": "2024-01-29T16:46:32.675Z"
   },
   {
    "duration": 29,
    "start_time": "2024-01-29T16:47:14.018Z"
   },
   {
    "duration": 50,
    "start_time": "2024-01-29T16:47:31.202Z"
   },
   {
    "duration": 49,
    "start_time": "2024-01-29T16:48:02.215Z"
   },
   {
    "duration": 50,
    "start_time": "2024-01-29T16:48:09.350Z"
   },
   {
    "duration": 28,
    "start_time": "2024-01-29T16:49:03.584Z"
   },
   {
    "duration": 1219,
    "start_time": "2024-01-29T16:50:27.289Z"
   },
   {
    "duration": 53,
    "start_time": "2024-01-29T16:50:42.526Z"
   },
   {
    "duration": 43,
    "start_time": "2024-01-29T16:51:07.371Z"
   },
   {
    "duration": 36,
    "start_time": "2024-01-29T16:52:44.921Z"
   },
   {
    "duration": 43,
    "start_time": "2024-01-29T16:52:56.044Z"
   },
   {
    "duration": 44,
    "start_time": "2024-01-29T16:53:57.030Z"
   },
   {
    "duration": 41,
    "start_time": "2024-01-29T16:54:22.147Z"
   },
   {
    "duration": 20,
    "start_time": "2024-01-29T16:54:31.418Z"
   },
   {
    "duration": 25,
    "start_time": "2024-01-29T16:54:39.500Z"
   },
   {
    "duration": 46,
    "start_time": "2024-01-29T16:54:50.995Z"
   },
   {
    "duration": 72,
    "start_time": "2024-01-29T17:17:18.448Z"
   },
   {
    "duration": 77,
    "start_time": "2024-01-29T17:17:29.681Z"
   },
   {
    "duration": 80,
    "start_time": "2024-01-29T17:17:37.640Z"
   },
   {
    "duration": 1098,
    "start_time": "2024-01-29T17:17:46.395Z"
   },
   {
    "duration": 28,
    "start_time": "2024-01-29T17:17:47.495Z"
   },
   {
    "duration": 27,
    "start_time": "2024-01-29T17:17:47.524Z"
   },
   {
    "duration": 15,
    "start_time": "2024-01-29T17:17:47.553Z"
   },
   {
    "duration": 12,
    "start_time": "2024-01-29T17:17:47.570Z"
   },
   {
    "duration": 22,
    "start_time": "2024-01-29T17:17:47.583Z"
   },
   {
    "duration": 8,
    "start_time": "2024-01-29T17:17:47.607Z"
   },
   {
    "duration": 16,
    "start_time": "2024-01-29T17:17:47.617Z"
   },
   {
    "duration": 23,
    "start_time": "2024-01-29T17:17:47.635Z"
   },
   {
    "duration": 4,
    "start_time": "2024-01-29T17:17:47.660Z"
   },
   {
    "duration": 7,
    "start_time": "2024-01-29T17:17:47.665Z"
   },
   {
    "duration": 5,
    "start_time": "2024-01-29T17:17:47.674Z"
   },
   {
    "duration": 7,
    "start_time": "2024-01-29T17:17:47.680Z"
   },
   {
    "duration": 4,
    "start_time": "2024-01-29T17:17:47.688Z"
   },
   {
    "duration": 6,
    "start_time": "2024-01-29T17:17:47.694Z"
   },
   {
    "duration": 5,
    "start_time": "2024-01-29T17:17:47.702Z"
   },
   {
    "duration": 33,
    "start_time": "2024-01-29T17:17:47.708Z"
   },
   {
    "duration": 13,
    "start_time": "2024-01-29T17:17:47.743Z"
   },
   {
    "duration": 21,
    "start_time": "2024-01-29T17:17:47.758Z"
   },
   {
    "duration": 165,
    "start_time": "2024-01-29T17:17:47.780Z"
   },
   {
    "duration": 88,
    "start_time": "2024-01-29T17:17:47.947Z"
   },
   {
    "duration": 203,
    "start_time": "2024-01-29T17:17:48.037Z"
   },
   {
    "duration": 7,
    "start_time": "2024-01-29T17:17:48.242Z"
   },
   {
    "duration": 158,
    "start_time": "2024-01-29T17:17:48.251Z"
   },
   {
    "duration": 96,
    "start_time": "2024-01-29T17:17:48.410Z"
   },
   {
    "duration": 11,
    "start_time": "2024-01-29T17:17:48.507Z"
   },
   {
    "duration": 9,
    "start_time": "2024-01-29T17:17:48.532Z"
   },
   {
    "duration": 174,
    "start_time": "2024-01-29T17:17:48.545Z"
   },
   {
    "duration": 106,
    "start_time": "2024-01-29T17:17:48.721Z"
   },
   {
    "duration": 10,
    "start_time": "2024-01-29T17:17:48.829Z"
   },
   {
    "duration": 183,
    "start_time": "2024-01-29T17:17:48.840Z"
   },
   {
    "duration": 166,
    "start_time": "2024-01-29T17:17:49.024Z"
   },
   {
    "duration": 8,
    "start_time": "2024-01-29T17:17:49.191Z"
   },
   {
    "duration": 21,
    "start_time": "2024-01-29T17:17:49.201Z"
   },
   {
    "duration": 25,
    "start_time": "2024-01-29T17:17:49.223Z"
   },
   {
    "duration": 7,
    "start_time": "2024-01-29T17:17:49.249Z"
   },
   {
    "duration": 8,
    "start_time": "2024-01-29T17:17:49.258Z"
   },
   {
    "duration": 17,
    "start_time": "2024-01-29T17:17:49.268Z"
   },
   {
    "duration": 16,
    "start_time": "2024-01-29T17:17:49.286Z"
   },
   {
    "duration": 261,
    "start_time": "2024-01-29T17:17:49.303Z"
   },
   {
    "duration": 215,
    "start_time": "2024-01-29T17:17:49.565Z"
   },
   {
    "duration": 15,
    "start_time": "2024-01-29T17:17:49.781Z"
   },
   {
    "duration": 13,
    "start_time": "2024-01-29T17:17:49.797Z"
   },
   {
    "duration": 71,
    "start_time": "2024-01-29T17:17:49.811Z"
   },
   {
    "duration": 71,
    "start_time": "2024-01-29T17:17:58.721Z"
   },
   {
    "duration": 127,
    "start_time": "2024-01-29T17:18:11.103Z"
   },
   {
    "duration": 24,
    "start_time": "2024-01-29T17:18:17.051Z"
   },
   {
    "duration": 40,
    "start_time": "2024-01-29T17:18:31.130Z"
   },
   {
    "duration": 2,
    "start_time": "2024-01-29T17:19:49.549Z"
   },
   {
    "duration": 1116,
    "start_time": "2024-01-29T17:19:57.511Z"
   },
   {
    "duration": 28,
    "start_time": "2024-01-29T17:19:58.628Z"
   },
   {
    "duration": 27,
    "start_time": "2024-01-29T17:19:58.658Z"
   },
   {
    "duration": 15,
    "start_time": "2024-01-29T17:19:58.688Z"
   },
   {
    "duration": 12,
    "start_time": "2024-01-29T17:19:58.704Z"
   },
   {
    "duration": 14,
    "start_time": "2024-01-29T17:19:58.717Z"
   },
   {
    "duration": 10,
    "start_time": "2024-01-29T17:19:58.732Z"
   },
   {
    "duration": 26,
    "start_time": "2024-01-29T17:19:58.744Z"
   },
   {
    "duration": 30,
    "start_time": "2024-01-29T17:19:58.772Z"
   },
   {
    "duration": 4,
    "start_time": "2024-01-29T17:19:58.805Z"
   },
   {
    "duration": 17,
    "start_time": "2024-01-29T17:19:58.811Z"
   },
   {
    "duration": 27,
    "start_time": "2024-01-29T17:19:58.829Z"
   },
   {
    "duration": 22,
    "start_time": "2024-01-29T17:19:58.857Z"
   },
   {
    "duration": 13,
    "start_time": "2024-01-29T17:19:58.881Z"
   },
   {
    "duration": 6,
    "start_time": "2024-01-29T17:19:58.896Z"
   },
   {
    "duration": 11,
    "start_time": "2024-01-29T17:19:58.903Z"
   },
   {
    "duration": 13,
    "start_time": "2024-01-29T17:19:58.915Z"
   },
   {
    "duration": 13,
    "start_time": "2024-01-29T17:19:58.929Z"
   },
   {
    "duration": 19,
    "start_time": "2024-01-29T17:19:58.944Z"
   },
   {
    "duration": 161,
    "start_time": "2024-01-29T17:19:58.965Z"
   },
   {
    "duration": 83,
    "start_time": "2024-01-29T17:19:59.128Z"
   },
   {
    "duration": 201,
    "start_time": "2024-01-29T17:19:59.212Z"
   },
   {
    "duration": 7,
    "start_time": "2024-01-29T17:19:59.414Z"
   },
   {
    "duration": 158,
    "start_time": "2024-01-29T17:19:59.433Z"
   },
   {
    "duration": 92,
    "start_time": "2024-01-29T17:19:59.593Z"
   },
   {
    "duration": 11,
    "start_time": "2024-01-29T17:19:59.687Z"
   },
   {
    "duration": 24,
    "start_time": "2024-01-29T17:19:59.699Z"
   },
   {
    "duration": 181,
    "start_time": "2024-01-29T17:19:59.727Z"
   },
   {
    "duration": 100,
    "start_time": "2024-01-29T17:19:59.909Z"
   },
   {
    "duration": 8,
    "start_time": "2024-01-29T17:20:00.011Z"
   },
   {
    "duration": 224,
    "start_time": "2024-01-29T17:20:00.020Z"
   },
   {
    "duration": 169,
    "start_time": "2024-01-29T17:20:00.246Z"
   },
   {
    "duration": 8,
    "start_time": "2024-01-29T17:20:00.416Z"
   },
   {
    "duration": 81,
    "start_time": "2024-01-29T17:20:00.425Z"
   },
   {
    "duration": 72,
    "start_time": "2024-01-29T17:20:00.507Z"
   },
   {
    "duration": 20,
    "start_time": "2024-01-29T17:20:00.581Z"
   },
   {
    "duration": 23,
    "start_time": "2024-01-29T17:20:00.603Z"
   },
   {
    "duration": 49,
    "start_time": "2024-01-29T17:20:00.628Z"
   },
   {
    "duration": 37,
    "start_time": "2024-01-29T17:20:00.678Z"
   },
   {
    "duration": 278,
    "start_time": "2024-01-29T17:20:00.717Z"
   },
   {
    "duration": 229,
    "start_time": "2024-01-29T17:20:00.996Z"
   },
   {
    "duration": 20,
    "start_time": "2024-01-29T17:20:01.226Z"
   },
   {
    "duration": 92,
    "start_time": "2024-01-29T17:20:01.247Z"
   },
   {
    "duration": 49,
    "start_time": "2024-01-29T17:20:01.341Z"
   },
   {
    "duration": 46,
    "start_time": "2024-01-29T17:20:16.383Z"
   },
   {
    "duration": 114,
    "start_time": "2024-01-29T17:21:15.892Z"
   },
   {
    "duration": 45,
    "start_time": "2024-01-29T17:21:41.430Z"
   },
   {
    "duration": 7,
    "start_time": "2024-01-29T17:25:58.852Z"
   },
   {
    "duration": 261,
    "start_time": "2024-01-29T17:26:38.224Z"
   },
   {
    "duration": 112,
    "start_time": "2024-01-29T17:27:06.308Z"
   },
   {
    "duration": 112,
    "start_time": "2024-01-29T17:27:13.469Z"
   },
   {
    "duration": 242,
    "start_time": "2024-01-29T17:27:22.800Z"
   },
   {
    "duration": 259,
    "start_time": "2024-01-29T17:30:14.001Z"
   },
   {
    "duration": 155,
    "start_time": "2024-01-29T17:30:34.242Z"
   },
   {
    "duration": 161,
    "start_time": "2024-01-29T17:30:40.975Z"
   },
   {
    "duration": 311,
    "start_time": "2024-01-29T17:33:43.978Z"
   },
   {
    "duration": 236,
    "start_time": "2024-01-29T17:35:35.649Z"
   },
   {
    "duration": 214,
    "start_time": "2024-01-29T17:35:46.445Z"
   },
   {
    "duration": 265,
    "start_time": "2024-01-29T17:36:01.066Z"
   },
   {
    "duration": 242,
    "start_time": "2024-01-29T17:36:16.540Z"
   },
   {
    "duration": 239,
    "start_time": "2024-01-29T17:36:31.621Z"
   },
   {
    "duration": 231,
    "start_time": "2024-01-29T17:36:43.363Z"
   },
   {
    "duration": 80,
    "start_time": "2024-01-29T17:37:07.483Z"
   },
   {
    "duration": 239,
    "start_time": "2024-01-29T17:37:19.702Z"
   },
   {
    "duration": 1109,
    "start_time": "2024-01-29T17:38:05.606Z"
   },
   {
    "duration": 29,
    "start_time": "2024-01-29T17:38:06.717Z"
   },
   {
    "duration": 27,
    "start_time": "2024-01-29T17:38:06.747Z"
   },
   {
    "duration": 15,
    "start_time": "2024-01-29T17:38:06.776Z"
   },
   {
    "duration": 11,
    "start_time": "2024-01-29T17:38:06.792Z"
   },
   {
    "duration": 8,
    "start_time": "2024-01-29T17:38:06.804Z"
   },
   {
    "duration": 49,
    "start_time": "2024-01-29T17:38:06.813Z"
   },
   {
    "duration": 17,
    "start_time": "2024-01-29T17:38:06.863Z"
   },
   {
    "duration": 14,
    "start_time": "2024-01-29T17:38:06.882Z"
   },
   {
    "duration": 4,
    "start_time": "2024-01-29T17:38:06.898Z"
   },
   {
    "duration": 11,
    "start_time": "2024-01-29T17:38:06.904Z"
   },
   {
    "duration": 14,
    "start_time": "2024-01-29T17:38:06.916Z"
   },
   {
    "duration": 11,
    "start_time": "2024-01-29T17:38:06.931Z"
   },
   {
    "duration": 4,
    "start_time": "2024-01-29T17:38:06.944Z"
   },
   {
    "duration": 4,
    "start_time": "2024-01-29T17:38:06.949Z"
   },
   {
    "duration": 7,
    "start_time": "2024-01-29T17:38:06.954Z"
   },
   {
    "duration": 16,
    "start_time": "2024-01-29T17:38:06.962Z"
   },
   {
    "duration": 8,
    "start_time": "2024-01-29T17:38:06.979Z"
   },
   {
    "duration": 19,
    "start_time": "2024-01-29T17:38:06.989Z"
   },
   {
    "duration": 177,
    "start_time": "2024-01-29T17:38:07.009Z"
   },
   {
    "duration": 85,
    "start_time": "2024-01-29T17:38:07.187Z"
   },
   {
    "duration": 202,
    "start_time": "2024-01-29T17:38:07.273Z"
   },
   {
    "duration": 9,
    "start_time": "2024-01-29T17:38:07.476Z"
   },
   {
    "duration": 182,
    "start_time": "2024-01-29T17:38:07.486Z"
   },
   {
    "duration": 109,
    "start_time": "2024-01-29T17:38:07.669Z"
   },
   {
    "duration": 13,
    "start_time": "2024-01-29T17:38:07.780Z"
   },
   {
    "duration": 18,
    "start_time": "2024-01-29T17:38:07.794Z"
   },
   {
    "duration": 171,
    "start_time": "2024-01-29T17:38:07.815Z"
   },
   {
    "duration": 114,
    "start_time": "2024-01-29T17:38:07.988Z"
   },
   {
    "duration": 9,
    "start_time": "2024-01-29T17:38:08.104Z"
   },
   {
    "duration": 195,
    "start_time": "2024-01-29T17:38:08.115Z"
   },
   {
    "duration": 178,
    "start_time": "2024-01-29T17:38:08.312Z"
   },
   {
    "duration": 9,
    "start_time": "2024-01-29T17:38:08.492Z"
   },
   {
    "duration": 61,
    "start_time": "2024-01-29T17:38:08.502Z"
   },
   {
    "duration": 34,
    "start_time": "2024-01-29T17:38:08.565Z"
   },
   {
    "duration": 47,
    "start_time": "2024-01-29T17:38:08.601Z"
   },
   {
    "duration": 34,
    "start_time": "2024-01-29T17:38:08.649Z"
   },
   {
    "duration": 64,
    "start_time": "2024-01-29T17:38:08.684Z"
   },
   {
    "duration": 42,
    "start_time": "2024-01-29T17:38:08.750Z"
   },
   {
    "duration": 279,
    "start_time": "2024-01-29T17:38:08.794Z"
   },
   {
    "duration": 215,
    "start_time": "2024-01-29T17:38:09.075Z"
   },
   {
    "duration": 15,
    "start_time": "2024-01-29T17:38:09.292Z"
   },
   {
    "duration": 26,
    "start_time": "2024-01-29T17:38:09.308Z"
   },
   {
    "duration": 46,
    "start_time": "2024-01-29T17:38:09.336Z"
   },
   {
    "duration": 6,
    "start_time": "2024-01-29T17:38:09.384Z"
   },
   {
    "duration": 86,
    "start_time": "2024-01-29T17:38:09.391Z"
   },
   {
    "duration": 1446,
    "start_time": "2024-01-29T17:48:12.255Z"
   },
   {
    "duration": 1107,
    "start_time": "2024-01-29T17:48:36.983Z"
   },
   {
    "duration": 4,
    "start_time": "2024-01-29T17:57:36.431Z"
   },
   {
    "duration": 562,
    "start_time": "2024-01-29T17:58:17.507Z"
   },
   {
    "duration": 1416,
    "start_time": "2024-01-29T17:59:06.353Z"
   },
   {
    "duration": 1183,
    "start_time": "2024-01-29T17:59:43.400Z"
   },
   {
    "duration": 6,
    "start_time": "2024-01-29T18:02:03.569Z"
   },
   {
    "duration": 7,
    "start_time": "2024-01-29T18:02:52.207Z"
   },
   {
    "duration": 27,
    "start_time": "2024-01-29T18:03:07.472Z"
   },
   {
    "duration": 20,
    "start_time": "2024-01-29T18:05:56.999Z"
   },
   {
    "duration": 20,
    "start_time": "2024-01-29T18:07:20.412Z"
   },
   {
    "duration": 23,
    "start_time": "2024-01-29T18:09:45.360Z"
   },
   {
    "duration": 24,
    "start_time": "2024-01-29T18:14:09.335Z"
   },
   {
    "duration": 1122,
    "start_time": "2024-01-29T18:14:28.301Z"
   },
   {
    "duration": 28,
    "start_time": "2024-01-29T18:14:29.425Z"
   },
   {
    "duration": 25,
    "start_time": "2024-01-29T18:14:29.455Z"
   },
   {
    "duration": 14,
    "start_time": "2024-01-29T18:14:29.482Z"
   },
   {
    "duration": 12,
    "start_time": "2024-01-29T18:14:29.498Z"
   },
   {
    "duration": 8,
    "start_time": "2024-01-29T18:14:29.511Z"
   },
   {
    "duration": 11,
    "start_time": "2024-01-29T18:14:29.520Z"
   },
   {
    "duration": 13,
    "start_time": "2024-01-29T18:14:29.533Z"
   },
   {
    "duration": 15,
    "start_time": "2024-01-29T18:14:29.548Z"
   },
   {
    "duration": 4,
    "start_time": "2024-01-29T18:14:29.564Z"
   },
   {
    "duration": 10,
    "start_time": "2024-01-29T18:14:29.569Z"
   },
   {
    "duration": 8,
    "start_time": "2024-01-29T18:14:29.584Z"
   },
   {
    "duration": 9,
    "start_time": "2024-01-29T18:14:29.593Z"
   },
   {
    "duration": 5,
    "start_time": "2024-01-29T18:14:29.604Z"
   },
   {
    "duration": 5,
    "start_time": "2024-01-29T18:14:29.633Z"
   },
   {
    "duration": 6,
    "start_time": "2024-01-29T18:14:29.639Z"
   },
   {
    "duration": 18,
    "start_time": "2024-01-29T18:14:29.646Z"
   },
   {
    "duration": 12,
    "start_time": "2024-01-29T18:14:29.666Z"
   },
   {
    "duration": 20,
    "start_time": "2024-01-29T18:14:29.680Z"
   },
   {
    "duration": 185,
    "start_time": "2024-01-29T18:14:29.702Z"
   },
   {
    "duration": 85,
    "start_time": "2024-01-29T18:14:29.889Z"
   },
   {
    "duration": 185,
    "start_time": "2024-01-29T18:14:29.976Z"
   },
   {
    "duration": 8,
    "start_time": "2024-01-29T18:14:30.162Z"
   },
   {
    "duration": 193,
    "start_time": "2024-01-29T18:14:30.171Z"
   },
   {
    "duration": 92,
    "start_time": "2024-01-29T18:14:30.366Z"
   },
   {
    "duration": 12,
    "start_time": "2024-01-29T18:14:30.459Z"
   },
   {
    "duration": 37,
    "start_time": "2024-01-29T18:14:30.472Z"
   },
   {
    "duration": 197,
    "start_time": "2024-01-29T18:14:30.511Z"
   },
   {
    "duration": 96,
    "start_time": "2024-01-29T18:14:30.709Z"
   },
   {
    "duration": 9,
    "start_time": "2024-01-29T18:14:30.806Z"
   },
   {
    "duration": 202,
    "start_time": "2024-01-29T18:14:30.817Z"
   },
   {
    "duration": 186,
    "start_time": "2024-01-29T18:14:31.021Z"
   },
   {
    "duration": 9,
    "start_time": "2024-01-29T18:14:31.209Z"
   },
   {
    "duration": 43,
    "start_time": "2024-01-29T18:14:31.219Z"
   },
   {
    "duration": 65,
    "start_time": "2024-01-29T18:14:31.263Z"
   },
   {
    "duration": 41,
    "start_time": "2024-01-29T18:14:31.329Z"
   },
   {
    "duration": 31,
    "start_time": "2024-01-29T18:14:31.372Z"
   },
   {
    "duration": 47,
    "start_time": "2024-01-29T18:14:31.404Z"
   },
   {
    "duration": 57,
    "start_time": "2024-01-29T18:14:31.453Z"
   },
   {
    "duration": 309,
    "start_time": "2024-01-29T18:14:31.512Z"
   },
   {
    "duration": 211,
    "start_time": "2024-01-29T18:14:31.826Z"
   },
   {
    "duration": 15,
    "start_time": "2024-01-29T18:14:32.038Z"
   },
   {
    "duration": 27,
    "start_time": "2024-01-29T18:14:32.054Z"
   },
   {
    "duration": 59,
    "start_time": "2024-01-29T18:14:32.082Z"
   },
   {
    "duration": 6,
    "start_time": "2024-01-29T18:14:32.143Z"
   },
   {
    "duration": 36,
    "start_time": "2024-01-29T18:14:32.151Z"
   },
   {
    "duration": 1151,
    "start_time": "2024-01-29T18:15:42.660Z"
   },
   {
    "duration": 28,
    "start_time": "2024-01-29T18:15:43.813Z"
   },
   {
    "duration": 42,
    "start_time": "2024-01-29T18:15:43.843Z"
   },
   {
    "duration": 31,
    "start_time": "2024-01-29T18:15:43.886Z"
   },
   {
    "duration": 26,
    "start_time": "2024-01-29T18:15:43.918Z"
   },
   {
    "duration": 37,
    "start_time": "2024-01-29T18:15:43.945Z"
   },
   {
    "duration": 30,
    "start_time": "2024-01-29T18:15:43.983Z"
   },
   {
    "duration": 42,
    "start_time": "2024-01-29T18:15:44.014Z"
   },
   {
    "duration": 49,
    "start_time": "2024-01-29T18:15:44.057Z"
   },
   {
    "duration": 27,
    "start_time": "2024-01-29T18:15:44.109Z"
   },
   {
    "duration": 40,
    "start_time": "2024-01-29T18:15:44.138Z"
   },
   {
    "duration": 28,
    "start_time": "2024-01-29T18:15:44.180Z"
   },
   {
    "duration": 36,
    "start_time": "2024-01-29T18:15:44.209Z"
   },
   {
    "duration": 35,
    "start_time": "2024-01-29T18:15:44.246Z"
   },
   {
    "duration": 34,
    "start_time": "2024-01-29T18:15:44.283Z"
   },
   {
    "duration": 38,
    "start_time": "2024-01-29T18:15:44.318Z"
   },
   {
    "duration": 43,
    "start_time": "2024-01-29T18:15:44.357Z"
   },
   {
    "duration": 33,
    "start_time": "2024-01-29T18:15:44.401Z"
   },
   {
    "duration": 52,
    "start_time": "2024-01-29T18:15:44.436Z"
   },
   {
    "duration": 157,
    "start_time": "2024-01-29T18:15:44.489Z"
   },
   {
    "duration": 86,
    "start_time": "2024-01-29T18:15:44.648Z"
   },
   {
    "duration": 205,
    "start_time": "2024-01-29T18:15:44.736Z"
   },
   {
    "duration": 7,
    "start_time": "2024-01-29T18:15:44.942Z"
   },
   {
    "duration": 172,
    "start_time": "2024-01-29T18:15:44.951Z"
   },
   {
    "duration": 87,
    "start_time": "2024-01-29T18:15:45.124Z"
   },
   {
    "duration": 21,
    "start_time": "2024-01-29T18:15:45.213Z"
   },
   {
    "duration": 32,
    "start_time": "2024-01-29T18:15:45.235Z"
   },
   {
    "duration": 180,
    "start_time": "2024-01-29T18:15:45.270Z"
   },
   {
    "duration": 95,
    "start_time": "2024-01-29T18:15:45.451Z"
   },
   {
    "duration": 7,
    "start_time": "2024-01-29T18:15:45.548Z"
   },
   {
    "duration": 207,
    "start_time": "2024-01-29T18:15:45.556Z"
   },
   {
    "duration": 182,
    "start_time": "2024-01-29T18:15:45.764Z"
   },
   {
    "duration": 9,
    "start_time": "2024-01-29T18:15:45.947Z"
   },
   {
    "duration": 12,
    "start_time": "2024-01-29T18:15:45.957Z"
   },
   {
    "duration": 17,
    "start_time": "2024-01-29T18:15:45.970Z"
   },
   {
    "duration": 7,
    "start_time": "2024-01-29T18:15:45.988Z"
   },
   {
    "duration": 37,
    "start_time": "2024-01-29T18:15:45.996Z"
   },
   {
    "duration": 16,
    "start_time": "2024-01-29T18:15:46.035Z"
   },
   {
    "duration": 16,
    "start_time": "2024-01-29T18:15:46.053Z"
   },
   {
    "duration": 263,
    "start_time": "2024-01-29T18:15:46.070Z"
   },
   {
    "duration": 205,
    "start_time": "2024-01-29T18:15:46.334Z"
   },
   {
    "duration": 15,
    "start_time": "2024-01-29T18:15:46.541Z"
   },
   {
    "duration": 14,
    "start_time": "2024-01-29T18:15:46.557Z"
   },
   {
    "duration": 65,
    "start_time": "2024-01-29T18:15:46.572Z"
   },
   {
    "duration": 6,
    "start_time": "2024-01-29T18:15:46.639Z"
   },
   {
    "duration": 38,
    "start_time": "2024-01-29T18:15:46.646Z"
   },
   {
    "duration": 21,
    "start_time": "2024-01-29T18:16:12.446Z"
   },
   {
    "duration": 20,
    "start_time": "2024-01-29T18:16:28.468Z"
   },
   {
    "duration": 20,
    "start_time": "2024-01-29T18:17:57.305Z"
   },
   {
    "duration": 5,
    "start_time": "2024-01-29T18:34:48.896Z"
   },
   {
    "duration": 4,
    "start_time": "2024-01-29T18:35:02.355Z"
   },
   {
    "duration": 11,
    "start_time": "2024-01-29T18:35:07.952Z"
   },
   {
    "duration": 10,
    "start_time": "2024-01-29T18:35:39.685Z"
   },
   {
    "duration": 10,
    "start_time": "2024-01-29T18:35:48.413Z"
   },
   {
    "duration": 1103,
    "start_time": "2024-01-29T18:38:18.158Z"
   },
   {
    "duration": 27,
    "start_time": "2024-01-29T18:38:19.263Z"
   },
   {
    "duration": 26,
    "start_time": "2024-01-29T18:38:19.292Z"
   },
   {
    "duration": 15,
    "start_time": "2024-01-29T18:38:19.320Z"
   },
   {
    "duration": 11,
    "start_time": "2024-01-29T18:38:19.336Z"
   },
   {
    "duration": 7,
    "start_time": "2024-01-29T18:38:19.349Z"
   },
   {
    "duration": 10,
    "start_time": "2024-01-29T18:38:19.358Z"
   },
   {
    "duration": 14,
    "start_time": "2024-01-29T18:38:19.369Z"
   },
   {
    "duration": 9,
    "start_time": "2024-01-29T18:38:19.384Z"
   },
   {
    "duration": 4,
    "start_time": "2024-01-29T18:38:19.395Z"
   },
   {
    "duration": 33,
    "start_time": "2024-01-29T18:38:19.400Z"
   },
   {
    "duration": 5,
    "start_time": "2024-01-29T18:38:19.435Z"
   },
   {
    "duration": 8,
    "start_time": "2024-01-29T18:38:19.442Z"
   },
   {
    "duration": 6,
    "start_time": "2024-01-29T18:38:19.452Z"
   },
   {
    "duration": 6,
    "start_time": "2024-01-29T18:38:19.459Z"
   },
   {
    "duration": 9,
    "start_time": "2024-01-29T18:38:19.466Z"
   },
   {
    "duration": 11,
    "start_time": "2024-01-29T18:38:19.476Z"
   },
   {
    "duration": 45,
    "start_time": "2024-01-29T18:38:19.489Z"
   },
   {
    "duration": 20,
    "start_time": "2024-01-29T18:38:19.535Z"
   },
   {
    "duration": 173,
    "start_time": "2024-01-29T18:38:19.556Z"
   },
   {
    "duration": 87,
    "start_time": "2024-01-29T18:38:19.732Z"
   },
   {
    "duration": 198,
    "start_time": "2024-01-29T18:38:19.821Z"
   },
   {
    "duration": 13,
    "start_time": "2024-01-29T18:38:20.021Z"
   },
   {
    "duration": 146,
    "start_time": "2024-01-29T18:38:20.036Z"
   },
   {
    "duration": 94,
    "start_time": "2024-01-29T18:38:20.184Z"
   },
   {
    "duration": 10,
    "start_time": "2024-01-29T18:38:20.280Z"
   },
   {
    "duration": 22,
    "start_time": "2024-01-29T18:38:20.292Z"
   },
   {
    "duration": 157,
    "start_time": "2024-01-29T18:38:20.317Z"
   },
   {
    "duration": 98,
    "start_time": "2024-01-29T18:38:20.476Z"
   },
   {
    "duration": 8,
    "start_time": "2024-01-29T18:38:20.575Z"
   },
   {
    "duration": 182,
    "start_time": "2024-01-29T18:38:20.584Z"
   },
   {
    "duration": 190,
    "start_time": "2024-01-29T18:38:20.767Z"
   },
   {
    "duration": 10,
    "start_time": "2024-01-29T18:38:20.959Z"
   },
   {
    "duration": 12,
    "start_time": "2024-01-29T18:38:20.971Z"
   },
   {
    "duration": 18,
    "start_time": "2024-01-29T18:38:20.984Z"
   },
   {
    "duration": 30,
    "start_time": "2024-01-29T18:38:21.003Z"
   },
   {
    "duration": 6,
    "start_time": "2024-01-29T18:38:21.034Z"
   },
   {
    "duration": 17,
    "start_time": "2024-01-29T18:38:21.041Z"
   },
   {
    "duration": 17,
    "start_time": "2024-01-29T18:38:21.059Z"
   },
   {
    "duration": 296,
    "start_time": "2024-01-29T18:38:21.077Z"
   },
   {
    "duration": 207,
    "start_time": "2024-01-29T18:38:21.375Z"
   },
   {
    "duration": 16,
    "start_time": "2024-01-29T18:38:21.584Z"
   },
   {
    "duration": 13,
    "start_time": "2024-01-29T18:38:21.602Z"
   },
   {
    "duration": 59,
    "start_time": "2024-01-29T18:38:21.616Z"
   },
   {
    "duration": 1220,
    "start_time": "2024-01-29T18:38:21.677Z"
   },
   {
    "duration": 0,
    "start_time": "2024-01-29T18:38:22.899Z"
   },
   {
    "duration": 1126,
    "start_time": "2024-01-29T18:38:49.252Z"
   },
   {
    "duration": 22,
    "start_time": "2024-01-29T18:39:28.773Z"
   },
   {
    "duration": 10,
    "start_time": "2024-01-29T18:39:34.920Z"
   },
   {
    "duration": 9,
    "start_time": "2024-01-29T18:41:59.906Z"
   },
   {
    "duration": 9,
    "start_time": "2024-01-29T18:42:12.388Z"
   },
   {
    "duration": 1065,
    "start_time": "2024-01-29T18:42:28.479Z"
   },
   {
    "duration": 27,
    "start_time": "2024-01-29T18:42:29.546Z"
   },
   {
    "duration": 27,
    "start_time": "2024-01-29T18:42:29.575Z"
   },
   {
    "duration": 15,
    "start_time": "2024-01-29T18:42:29.604Z"
   },
   {
    "duration": 16,
    "start_time": "2024-01-29T18:42:29.620Z"
   },
   {
    "duration": 32,
    "start_time": "2024-01-29T18:42:29.638Z"
   },
   {
    "duration": 31,
    "start_time": "2024-01-29T18:42:29.671Z"
   },
   {
    "duration": 44,
    "start_time": "2024-01-29T18:42:29.703Z"
   },
   {
    "duration": 31,
    "start_time": "2024-01-29T18:42:29.749Z"
   },
   {
    "duration": 27,
    "start_time": "2024-01-29T18:42:29.782Z"
   },
   {
    "duration": 34,
    "start_time": "2024-01-29T18:42:29.811Z"
   },
   {
    "duration": 29,
    "start_time": "2024-01-29T18:42:29.846Z"
   },
   {
    "duration": 37,
    "start_time": "2024-01-29T18:42:29.876Z"
   },
   {
    "duration": 28,
    "start_time": "2024-01-29T18:42:29.915Z"
   },
   {
    "duration": 38,
    "start_time": "2024-01-29T18:42:29.944Z"
   },
   {
    "duration": 39,
    "start_time": "2024-01-29T18:42:29.984Z"
   },
   {
    "duration": 40,
    "start_time": "2024-01-29T18:42:30.025Z"
   },
   {
    "duration": 47,
    "start_time": "2024-01-29T18:42:30.066Z"
   },
   {
    "duration": 56,
    "start_time": "2024-01-29T18:42:30.115Z"
   },
   {
    "duration": 212,
    "start_time": "2024-01-29T18:42:30.173Z"
   },
   {
    "duration": 104,
    "start_time": "2024-01-29T18:42:30.387Z"
   },
   {
    "duration": 230,
    "start_time": "2024-01-29T18:42:30.492Z"
   },
   {
    "duration": 13,
    "start_time": "2024-01-29T18:42:30.723Z"
   },
   {
    "duration": 190,
    "start_time": "2024-01-29T18:42:30.737Z"
   },
   {
    "duration": 93,
    "start_time": "2024-01-29T18:42:30.929Z"
   },
   {
    "duration": 11,
    "start_time": "2024-01-29T18:42:31.033Z"
   },
   {
    "duration": 39,
    "start_time": "2024-01-29T18:42:31.045Z"
   },
   {
    "duration": 204,
    "start_time": "2024-01-29T18:42:31.087Z"
   },
   {
    "duration": 104,
    "start_time": "2024-01-29T18:42:31.293Z"
   },
   {
    "duration": 8,
    "start_time": "2024-01-29T18:42:31.398Z"
   },
   {
    "duration": 203,
    "start_time": "2024-01-29T18:42:31.407Z"
   },
   {
    "duration": 192,
    "start_time": "2024-01-29T18:42:31.611Z"
   },
   {
    "duration": 9,
    "start_time": "2024-01-29T18:42:31.805Z"
   },
   {
    "duration": 32,
    "start_time": "2024-01-29T18:42:31.815Z"
   },
   {
    "duration": 18,
    "start_time": "2024-01-29T18:42:31.849Z"
   },
   {
    "duration": 7,
    "start_time": "2024-01-29T18:42:31.868Z"
   },
   {
    "duration": 39,
    "start_time": "2024-01-29T18:42:31.876Z"
   },
   {
    "duration": 39,
    "start_time": "2024-01-29T18:42:31.917Z"
   },
   {
    "duration": 16,
    "start_time": "2024-01-29T18:42:31.957Z"
   },
   {
    "duration": 291,
    "start_time": "2024-01-29T18:42:31.974Z"
   },
   {
    "duration": 207,
    "start_time": "2024-01-29T18:42:32.266Z"
   },
   {
    "duration": 15,
    "start_time": "2024-01-29T18:42:32.474Z"
   },
   {
    "duration": 14,
    "start_time": "2024-01-29T18:42:32.491Z"
   },
   {
    "duration": 62,
    "start_time": "2024-01-29T18:42:32.507Z"
   },
   {
    "duration": 22,
    "start_time": "2024-01-29T18:42:32.571Z"
   },
   {
    "duration": 10,
    "start_time": "2024-01-29T18:42:32.595Z"
   },
   {
    "duration": 1421,
    "start_time": "2024-01-30T08:13:11.088Z"
   },
   {
    "duration": 74,
    "start_time": "2024-01-30T08:13:12.511Z"
   },
   {
    "duration": 66,
    "start_time": "2024-01-30T08:13:12.586Z"
   },
   {
    "duration": 50,
    "start_time": "2024-01-30T08:13:12.654Z"
   },
   {
    "duration": 13,
    "start_time": "2024-01-30T08:13:12.706Z"
   },
   {
    "duration": 9,
    "start_time": "2024-01-30T08:13:12.720Z"
   },
   {
    "duration": 20,
    "start_time": "2024-01-30T08:13:12.731Z"
   },
   {
    "duration": 26,
    "start_time": "2024-01-30T08:13:12.752Z"
   },
   {
    "duration": 23,
    "start_time": "2024-01-30T08:13:12.780Z"
   },
   {
    "duration": 11,
    "start_time": "2024-01-30T08:13:12.804Z"
   },
   {
    "duration": 36,
    "start_time": "2024-01-30T08:13:12.816Z"
   },
   {
    "duration": 32,
    "start_time": "2024-01-30T08:13:12.854Z"
   },
   {
    "duration": 23,
    "start_time": "2024-01-30T08:13:12.887Z"
   },
   {
    "duration": 28,
    "start_time": "2024-01-30T08:13:12.913Z"
   },
   {
    "duration": 25,
    "start_time": "2024-01-30T08:13:12.943Z"
   },
   {
    "duration": 9,
    "start_time": "2024-01-30T08:13:12.970Z"
   },
   {
    "duration": 25,
    "start_time": "2024-01-30T08:13:12.980Z"
   },
   {
    "duration": 9,
    "start_time": "2024-01-30T08:13:13.007Z"
   },
   {
    "duration": 21,
    "start_time": "2024-01-30T08:13:13.018Z"
   },
   {
    "duration": 193,
    "start_time": "2024-01-30T08:13:13.041Z"
   },
   {
    "duration": 102,
    "start_time": "2024-01-30T08:13:13.236Z"
   },
   {
    "duration": 218,
    "start_time": "2024-01-30T08:13:13.340Z"
   },
   {
    "duration": 7,
    "start_time": "2024-01-30T08:13:13.560Z"
   },
   {
    "duration": 169,
    "start_time": "2024-01-30T08:13:13.569Z"
   },
   {
    "duration": 109,
    "start_time": "2024-01-30T08:13:13.740Z"
   },
   {
    "duration": 16,
    "start_time": "2024-01-30T08:13:13.851Z"
   },
   {
    "duration": 9,
    "start_time": "2024-01-30T08:13:13.881Z"
   },
   {
    "duration": 198,
    "start_time": "2024-01-30T08:13:13.891Z"
   },
   {
    "duration": 114,
    "start_time": "2024-01-30T08:13:14.090Z"
   },
   {
    "duration": 9,
    "start_time": "2024-01-30T08:13:14.205Z"
   },
   {
    "duration": 232,
    "start_time": "2024-01-30T08:13:14.215Z"
   },
   {
    "duration": 185,
    "start_time": "2024-01-30T08:13:14.449Z"
   },
   {
    "duration": 9,
    "start_time": "2024-01-30T08:13:14.636Z"
   },
   {
    "duration": 17,
    "start_time": "2024-01-30T08:13:14.647Z"
   },
   {
    "duration": 30,
    "start_time": "2024-01-30T08:13:14.665Z"
   },
   {
    "duration": 8,
    "start_time": "2024-01-30T08:13:14.697Z"
   },
   {
    "duration": 13,
    "start_time": "2024-01-30T08:13:14.707Z"
   },
   {
    "duration": 24,
    "start_time": "2024-01-30T08:13:14.721Z"
   },
   {
    "duration": 21,
    "start_time": "2024-01-30T08:13:14.747Z"
   },
   {
    "duration": 307,
    "start_time": "2024-01-30T08:13:14.770Z"
   },
   {
    "duration": 264,
    "start_time": "2024-01-30T08:13:15.081Z"
   },
   {
    "duration": 16,
    "start_time": "2024-01-30T08:13:15.346Z"
   },
   {
    "duration": 29,
    "start_time": "2024-01-30T08:13:15.364Z"
   },
   {
    "duration": 66,
    "start_time": "2024-01-30T08:13:15.395Z"
   },
   {
    "duration": 26,
    "start_time": "2024-01-30T08:13:15.463Z"
   },
   {
    "duration": 11,
    "start_time": "2024-01-30T08:13:15.491Z"
   },
   {
    "duration": 9,
    "start_time": "2024-01-30T08:29:31.194Z"
   },
   {
    "duration": 9,
    "start_time": "2024-01-30T08:29:37.017Z"
   },
   {
    "duration": 21,
    "start_time": "2024-01-30T08:29:48.829Z"
   },
   {
    "duration": 21,
    "start_time": "2024-01-30T08:29:51.951Z"
   },
   {
    "duration": 11,
    "start_time": "2024-01-30T08:32:57.765Z"
   },
   {
    "duration": 6,
    "start_time": "2024-01-30T08:35:43.561Z"
   },
   {
    "duration": 6,
    "start_time": "2024-01-30T08:39:56.695Z"
   },
   {
    "duration": 5,
    "start_time": "2024-01-30T08:40:08.020Z"
   },
   {
    "duration": 6,
    "start_time": "2024-01-30T08:40:15.297Z"
   },
   {
    "duration": 5,
    "start_time": "2024-01-30T08:40:26.395Z"
   },
   {
    "duration": 119,
    "start_time": "2024-01-30T08:42:10.230Z"
   },
   {
    "duration": 220,
    "start_time": "2024-01-30T08:42:29.935Z"
   },
   {
    "duration": 122,
    "start_time": "2024-01-30T08:42:44.862Z"
   },
   {
    "duration": 124,
    "start_time": "2024-01-30T08:42:52.088Z"
   },
   {
    "duration": 218,
    "start_time": "2024-01-30T08:47:27.004Z"
   },
   {
    "duration": 259,
    "start_time": "2024-01-30T08:48:58.712Z"
   },
   {
    "duration": 242,
    "start_time": "2024-01-30T08:49:19.719Z"
   },
   {
    "duration": 189,
    "start_time": "2024-01-30T08:49:46.053Z"
   },
   {
    "duration": 123,
    "start_time": "2024-01-30T08:49:53.174Z"
   },
   {
    "duration": 115,
    "start_time": "2024-01-30T08:50:32.867Z"
   },
   {
    "duration": 116,
    "start_time": "2024-01-30T08:51:44.700Z"
   },
   {
    "duration": 120,
    "start_time": "2024-01-30T08:52:10.752Z"
   },
   {
    "duration": 142,
    "start_time": "2024-01-30T08:52:25.212Z"
   },
   {
    "duration": 169,
    "start_time": "2024-01-30T08:53:58.413Z"
   },
   {
    "duration": 180,
    "start_time": "2024-01-30T08:55:49.022Z"
   },
   {
    "duration": 167,
    "start_time": "2024-01-30T08:56:25.121Z"
   },
   {
    "duration": 193,
    "start_time": "2024-01-30T08:56:38.189Z"
   },
   {
    "duration": 186,
    "start_time": "2024-01-30T08:57:43.100Z"
   },
   {
    "duration": 5,
    "start_time": "2024-01-30T09:01:25.143Z"
   },
   {
    "duration": 11,
    "start_time": "2024-01-30T09:03:51.679Z"
   },
   {
    "duration": 11,
    "start_time": "2024-01-30T09:04:48.806Z"
   },
   {
    "duration": 11,
    "start_time": "2024-01-30T09:06:26.850Z"
   },
   {
    "duration": 247,
    "start_time": "2024-01-30T09:10:26.390Z"
   },
   {
    "duration": 154,
    "start_time": "2024-01-30T09:11:13.311Z"
   },
   {
    "duration": 11,
    "start_time": "2024-01-30T09:20:42.110Z"
   },
   {
    "duration": 10,
    "start_time": "2024-01-30T09:20:45.193Z"
   },
   {
    "duration": 14,
    "start_time": "2024-01-30T09:21:58.750Z"
   },
   {
    "duration": 102,
    "start_time": "2024-01-30T09:29:21.912Z"
   },
   {
    "duration": 5,
    "start_time": "2024-01-30T10:24:48.187Z"
   },
   {
    "duration": 1600,
    "start_time": "2024-01-30T10:58:52.489Z"
   },
   {
    "duration": 205,
    "start_time": "2024-01-30T10:59:29.703Z"
   },
   {
    "duration": 1519,
    "start_time": "2024-01-30T11:00:41.909Z"
   },
   {
    "duration": 235,
    "start_time": "2024-01-30T11:01:07.973Z"
   },
   {
    "duration": 52,
    "start_time": "2024-01-30T11:07:00.563Z"
   },
   {
    "duration": 244,
    "start_time": "2024-01-30T11:07:51.383Z"
   },
   {
    "duration": 959,
    "start_time": "2024-01-30T11:09:50.572Z"
   },
   {
    "duration": 10,
    "start_time": "2024-01-30T11:13:36.680Z"
   },
   {
    "duration": 2404,
    "start_time": "2024-01-30T11:13:58.318Z"
   },
   {
    "duration": 152,
    "start_time": "2024-01-30T11:14:41.332Z"
   },
   {
    "duration": 366,
    "start_time": "2024-01-30T11:33:00.432Z"
   },
   {
    "duration": 2428,
    "start_time": "2024-01-30T11:33:55.973Z"
   },
   {
    "duration": 357,
    "start_time": "2024-01-30T11:36:08.126Z"
   },
   {
    "duration": 371,
    "start_time": "2024-01-30T11:36:29.721Z"
   },
   {
    "duration": 2533,
    "start_time": "2024-01-30T11:38:08.792Z"
   },
   {
    "duration": 2533,
    "start_time": "2024-01-30T11:38:28.442Z"
   },
   {
    "duration": 876,
    "start_time": "2024-01-30T11:38:58.474Z"
   },
   {
    "duration": 516,
    "start_time": "2024-01-30T11:39:20.378Z"
   },
   {
    "duration": 525,
    "start_time": "2024-01-30T11:39:54.855Z"
   },
   {
    "duration": 533,
    "start_time": "2024-01-30T11:40:05.747Z"
   },
   {
    "duration": 5,
    "start_time": "2024-01-30T11:45:06.922Z"
   },
   {
    "duration": 5,
    "start_time": "2024-01-30T11:45:18.900Z"
   },
   {
    "duration": 7,
    "start_time": "2024-01-30T12:16:23.694Z"
   },
   {
    "duration": 4,
    "start_time": "2024-01-30T12:16:49.969Z"
   },
   {
    "duration": 5,
    "start_time": "2024-01-30T12:17:00.171Z"
   },
   {
    "duration": 6,
    "start_time": "2024-01-30T12:17:08.641Z"
   },
   {
    "duration": 6,
    "start_time": "2024-01-30T12:17:14.593Z"
   },
   {
    "duration": 6,
    "start_time": "2024-01-30T12:17:21.766Z"
   },
   {
    "duration": 4,
    "start_time": "2024-01-30T12:17:32.244Z"
   },
   {
    "duration": 5,
    "start_time": "2024-01-30T12:17:38.607Z"
   },
   {
    "duration": 5,
    "start_time": "2024-01-30T12:18:08.077Z"
   },
   {
    "duration": 6,
    "start_time": "2024-01-30T12:18:15.647Z"
   },
   {
    "duration": 5,
    "start_time": "2024-01-30T12:18:21.443Z"
   },
   {
    "duration": 6,
    "start_time": "2024-01-30T12:18:32.377Z"
   },
   {
    "duration": 4,
    "start_time": "2024-01-30T12:18:39.516Z"
   },
   {
    "duration": 5,
    "start_time": "2024-01-30T12:18:45.215Z"
   },
   {
    "duration": 4,
    "start_time": "2024-01-30T12:18:50.678Z"
   },
   {
    "duration": 4,
    "start_time": "2024-01-30T12:18:56.730Z"
   },
   {
    "duration": 6,
    "start_time": "2024-01-30T12:19:02.560Z"
   },
   {
    "duration": 5,
    "start_time": "2024-01-30T12:19:18.947Z"
   },
   {
    "duration": 5,
    "start_time": "2024-01-30T12:19:44.379Z"
   },
   {
    "duration": 4,
    "start_time": "2024-01-30T12:19:49.773Z"
   },
   {
    "duration": 4,
    "start_time": "2024-01-30T12:19:56.125Z"
   },
   {
    "duration": 4,
    "start_time": "2024-01-30T12:20:01.196Z"
   },
   {
    "duration": 4,
    "start_time": "2024-01-30T12:20:06.581Z"
   },
   {
    "duration": 5,
    "start_time": "2024-01-30T12:20:15.742Z"
   },
   {
    "duration": 1628,
    "start_time": "2024-01-30T12:20:43.554Z"
   },
   {
    "duration": 1645,
    "start_time": "2024-01-30T12:23:09.938Z"
   },
   {
    "duration": 1297,
    "start_time": "2024-01-30T12:24:17.482Z"
   },
   {
    "duration": 1706,
    "start_time": "2024-01-30T12:24:29.565Z"
   },
   {
    "duration": 1311,
    "start_time": "2024-01-30T12:24:32.498Z"
   },
   {
    "duration": 252,
    "start_time": "2024-01-30T12:25:09.143Z"
   },
   {
    "duration": 557,
    "start_time": "2024-01-30T12:28:00.799Z"
   },
   {
    "duration": 548,
    "start_time": "2024-01-30T12:28:14.151Z"
   },
   {
    "duration": 92,
    "start_time": "2024-01-30T12:30:39.654Z"
   },
   {
    "duration": 607,
    "start_time": "2024-01-30T12:31:06.568Z"
   },
   {
    "duration": 542,
    "start_time": "2024-01-30T12:31:18.340Z"
   },
   {
    "duration": 2031,
    "start_time": "2024-01-30T12:31:56.437Z"
   },
   {
    "duration": 2014,
    "start_time": "2024-01-30T12:32:16.650Z"
   },
   {
    "duration": 1219,
    "start_time": "2024-01-30T12:35:24.176Z"
   },
   {
    "duration": 29,
    "start_time": "2024-01-30T12:35:25.396Z"
   },
   {
    "duration": 29,
    "start_time": "2024-01-30T12:35:25.426Z"
   },
   {
    "duration": 15,
    "start_time": "2024-01-30T12:35:25.458Z"
   },
   {
    "duration": 14,
    "start_time": "2024-01-30T12:35:25.474Z"
   },
   {
    "duration": 14,
    "start_time": "2024-01-30T12:35:25.489Z"
   },
   {
    "duration": 33,
    "start_time": "2024-01-30T12:35:25.505Z"
   },
   {
    "duration": 28,
    "start_time": "2024-01-30T12:35:25.540Z"
   },
   {
    "duration": 18,
    "start_time": "2024-01-30T12:35:25.569Z"
   },
   {
    "duration": 4,
    "start_time": "2024-01-30T12:35:25.589Z"
   },
   {
    "duration": 10,
    "start_time": "2024-01-30T12:35:25.594Z"
   },
   {
    "duration": 12,
    "start_time": "2024-01-30T12:35:25.605Z"
   },
   {
    "duration": 11,
    "start_time": "2024-01-30T12:35:25.619Z"
   },
   {
    "duration": 8,
    "start_time": "2024-01-30T12:35:25.632Z"
   },
   {
    "duration": 4,
    "start_time": "2024-01-30T12:35:25.641Z"
   },
   {
    "duration": 10,
    "start_time": "2024-01-30T12:35:25.646Z"
   },
   {
    "duration": 26,
    "start_time": "2024-01-30T12:35:25.657Z"
   },
   {
    "duration": 12,
    "start_time": "2024-01-30T12:35:25.684Z"
   },
   {
    "duration": 27,
    "start_time": "2024-01-30T12:35:25.698Z"
   },
   {
    "duration": 182,
    "start_time": "2024-01-30T12:35:25.726Z"
   },
   {
    "duration": 100,
    "start_time": "2024-01-30T12:35:25.910Z"
   },
   {
    "duration": 224,
    "start_time": "2024-01-30T12:35:26.011Z"
   },
   {
    "duration": 7,
    "start_time": "2024-01-30T12:35:26.237Z"
   },
   {
    "duration": 177,
    "start_time": "2024-01-30T12:35:26.245Z"
   },
   {
    "duration": 108,
    "start_time": "2024-01-30T12:35:26.424Z"
   },
   {
    "duration": 12,
    "start_time": "2024-01-30T12:35:26.534Z"
   },
   {
    "duration": 28,
    "start_time": "2024-01-30T12:35:26.547Z"
   },
   {
    "duration": 192,
    "start_time": "2024-01-30T12:35:26.578Z"
   },
   {
    "duration": 116,
    "start_time": "2024-01-30T12:35:26.771Z"
   },
   {
    "duration": 8,
    "start_time": "2024-01-30T12:35:26.889Z"
   },
   {
    "duration": 203,
    "start_time": "2024-01-30T12:35:26.898Z"
   },
   {
    "duration": 181,
    "start_time": "2024-01-30T12:35:27.102Z"
   },
   {
    "duration": 9,
    "start_time": "2024-01-30T12:35:27.285Z"
   },
   {
    "duration": 13,
    "start_time": "2024-01-30T12:35:27.295Z"
   },
   {
    "duration": 27,
    "start_time": "2024-01-30T12:35:27.309Z"
   },
   {
    "duration": 12,
    "start_time": "2024-01-30T12:35:27.337Z"
   },
   {
    "duration": 11,
    "start_time": "2024-01-30T12:35:27.351Z"
   },
   {
    "duration": 32,
    "start_time": "2024-01-30T12:35:27.364Z"
   },
   {
    "duration": 25,
    "start_time": "2024-01-30T12:35:27.397Z"
   },
   {
    "duration": 301,
    "start_time": "2024-01-30T12:35:27.423Z"
   },
   {
    "duration": 176,
    "start_time": "2024-01-30T12:35:27.726Z"
   },
   {
    "duration": 186,
    "start_time": "2024-01-30T12:35:27.904Z"
   },
   {
    "duration": 243,
    "start_time": "2024-01-30T12:35:28.091Z"
   },
   {
    "duration": 167,
    "start_time": "2024-01-30T12:35:28.336Z"
   },
   {
    "duration": 191,
    "start_time": "2024-01-30T12:35:28.505Z"
   },
   {
    "duration": 16,
    "start_time": "2024-01-30T12:35:28.698Z"
   },
   {
    "duration": 30,
    "start_time": "2024-01-30T12:35:28.715Z"
   },
   {
    "duration": 55,
    "start_time": "2024-01-30T12:35:28.746Z"
   },
   {
    "duration": 26,
    "start_time": "2024-01-30T12:35:28.803Z"
   },
   {
    "duration": 11,
    "start_time": "2024-01-30T12:35:28.831Z"
   },
   {
    "duration": 8,
    "start_time": "2024-01-30T12:35:28.844Z"
   },
   {
    "duration": 34,
    "start_time": "2024-01-30T12:35:28.854Z"
   },
   {
    "duration": 1473,
    "start_time": "2024-01-30T12:41:11.515Z"
   },
   {
    "duration": 1506,
    "start_time": "2024-01-30T12:41:32.993Z"
   },
   {
    "duration": 296,
    "start_time": "2024-01-30T12:43:06.070Z"
   },
   {
    "duration": 211,
    "start_time": "2024-01-30T12:43:26.187Z"
   },
   {
    "duration": 5,
    "start_time": "2024-01-30T12:46:58.389Z"
   },
   {
    "duration": 4,
    "start_time": "2024-01-30T12:47:04.532Z"
   },
   {
    "duration": 4,
    "start_time": "2024-01-30T12:47:12.349Z"
   },
   {
    "duration": 5,
    "start_time": "2024-01-30T12:47:18.064Z"
   },
   {
    "duration": 4,
    "start_time": "2024-01-30T12:47:24.829Z"
   },
   {
    "duration": 4,
    "start_time": "2024-01-30T12:47:29.970Z"
   },
   {
    "duration": 5,
    "start_time": "2024-01-30T12:47:36.440Z"
   },
   {
    "duration": 5,
    "start_time": "2024-01-30T12:47:42.085Z"
   },
   {
    "duration": 4,
    "start_time": "2024-01-30T12:47:50.493Z"
   },
   {
    "duration": 5,
    "start_time": "2024-01-30T12:47:58.426Z"
   },
   {
    "duration": 4,
    "start_time": "2024-01-30T12:48:04.056Z"
   },
   {
    "duration": 4,
    "start_time": "2024-01-30T12:48:09.035Z"
   },
   {
    "duration": 4,
    "start_time": "2024-01-30T12:48:15.592Z"
   },
   {
    "duration": 5,
    "start_time": "2024-01-30T12:48:23.199Z"
   },
   {
    "duration": 17,
    "start_time": "2024-01-30T12:54:32.637Z"
   },
   {
    "duration": 27,
    "start_time": "2024-01-30T12:54:43.817Z"
   },
   {
    "duration": 23,
    "start_time": "2024-01-30T12:54:55.175Z"
   },
   {
    "duration": 1623,
    "start_time": "2024-01-30T12:55:32.002Z"
   },
   {
    "duration": 1942,
    "start_time": "2024-01-30T12:56:38.079Z"
   },
   {
    "duration": 5,
    "start_time": "2024-01-30T13:09:02.225Z"
   },
   {
    "duration": 5,
    "start_time": "2024-01-30T13:09:14.393Z"
   },
   {
    "duration": 9,
    "start_time": "2024-01-30T13:13:13.932Z"
   },
   {
    "duration": 147,
    "start_time": "2024-01-30T13:16:53.974Z"
   },
   {
    "duration": 1463,
    "start_time": "2024-01-30T13:17:19.704Z"
   },
   {
    "duration": 1476,
    "start_time": "2024-01-30T13:17:56.439Z"
   },
   {
    "duration": 1545,
    "start_time": "2024-01-30T13:18:11.798Z"
   },
   {
    "duration": 338,
    "start_time": "2024-01-30T13:18:44.980Z"
   },
   {
    "duration": 1593,
    "start_time": "2024-01-30T13:20:31.060Z"
   },
   {
    "duration": 1619,
    "start_time": "2024-01-30T13:21:53.413Z"
   },
   {
    "duration": 1306,
    "start_time": "2024-01-30T13:23:22.130Z"
   },
   {
    "duration": 1678,
    "start_time": "2024-01-30T13:23:33.420Z"
   },
   {
    "duration": 1304,
    "start_time": "2024-01-30T13:24:20.338Z"
   },
   {
    "duration": 1688,
    "start_time": "2024-01-30T13:24:42.383Z"
   },
   {
    "duration": 1239,
    "start_time": "2024-01-30T13:25:43.304Z"
   },
   {
    "duration": 1714,
    "start_time": "2024-01-30T13:26:00.437Z"
   },
   {
    "duration": 1261,
    "start_time": "2024-01-30T13:26:20.062Z"
   },
   {
    "duration": 1722,
    "start_time": "2024-01-30T13:26:31.261Z"
   },
   {
    "duration": 1230,
    "start_time": "2024-01-30T13:26:43.937Z"
   },
   {
    "duration": 1785,
    "start_time": "2024-01-30T13:26:52.496Z"
   },
   {
    "duration": 1814,
    "start_time": "2024-01-30T13:28:07.046Z"
   },
   {
    "duration": 1501,
    "start_time": "2024-01-30T13:28:22.832Z"
   },
   {
    "duration": 1963,
    "start_time": "2024-01-30T13:28:56.616Z"
   },
   {
    "duration": 270,
    "start_time": "2024-01-30T13:29:23.068Z"
   },
   {
    "duration": 1498,
    "start_time": "2024-01-30T13:30:39.118Z"
   },
   {
    "duration": 1887,
    "start_time": "2024-01-30T13:34:08.814Z"
   },
   {
    "duration": 1901,
    "start_time": "2024-01-30T13:34:29.612Z"
   },
   {
    "duration": 1200,
    "start_time": "2024-01-30T13:35:30.661Z"
   },
   {
    "duration": 4,
    "start_time": "2024-01-30T13:35:51.245Z"
   },
   {
    "duration": 231,
    "start_time": "2024-01-30T13:47:15.360Z"
   },
   {
    "duration": 662,
    "start_time": "2024-01-30T13:47:26.906Z"
   },
   {
    "duration": 1332,
    "start_time": "2024-01-30T13:52:39.157Z"
   },
   {
    "duration": 162,
    "start_time": "2024-01-30T13:52:49.807Z"
   },
   {
    "duration": 163,
    "start_time": "2024-01-30T13:53:15.924Z"
   },
   {
    "duration": 138,
    "start_time": "2024-01-30T13:53:30.510Z"
   },
   {
    "duration": 109,
    "start_time": "2024-01-30T13:55:52.246Z"
   },
   {
    "duration": 106,
    "start_time": "2024-01-30T13:56:34.682Z"
   },
   {
    "duration": 107,
    "start_time": "2024-01-30T13:56:42.949Z"
   },
   {
    "duration": 105,
    "start_time": "2024-01-30T13:58:51.206Z"
   },
   {
    "duration": 140,
    "start_time": "2024-01-30T13:59:27.475Z"
   },
   {
    "duration": 500,
    "start_time": "2024-01-30T13:59:52.532Z"
   },
   {
    "duration": 146,
    "start_time": "2024-01-30T14:00:09.296Z"
   },
   {
    "duration": 125,
    "start_time": "2024-01-30T14:00:26.470Z"
   },
   {
    "duration": 110,
    "start_time": "2024-01-30T14:00:50.168Z"
   },
   {
    "duration": 1202,
    "start_time": "2024-01-30T14:04:55.714Z"
   },
   {
    "duration": 379,
    "start_time": "2024-01-30T14:05:08.195Z"
   },
   {
    "duration": 309,
    "start_time": "2024-01-30T14:05:25.136Z"
   },
   {
    "duration": 621,
    "start_time": "2024-01-30T14:05:51.773Z"
   },
   {
    "duration": 8,
    "start_time": "2024-01-30T14:11:05.425Z"
   },
   {
    "duration": 229,
    "start_time": "2024-01-30T14:11:33.027Z"
   },
   {
    "duration": 258,
    "start_time": "2024-01-30T14:11:50.621Z"
   },
   {
    "duration": 212,
    "start_time": "2024-01-30T14:12:17.650Z"
   },
   {
    "duration": 200,
    "start_time": "2024-01-30T14:17:24.004Z"
   },
   {
    "duration": 172,
    "start_time": "2024-01-30T14:17:50.317Z"
   },
   {
    "duration": 212,
    "start_time": "2024-01-30T14:17:57.345Z"
   },
   {
    "duration": 262,
    "start_time": "2024-01-30T14:18:23.009Z"
   },
   {
    "duration": 5,
    "start_time": "2024-01-30T14:18:53.884Z"
   },
   {
    "duration": 6,
    "start_time": "2024-01-30T14:26:03.052Z"
   },
   {
    "duration": 5,
    "start_time": "2024-01-30T14:26:14.128Z"
   },
   {
    "duration": 6,
    "start_time": "2024-01-30T14:26:21.502Z"
   },
   {
    "duration": 5,
    "start_time": "2024-01-30T14:26:28.861Z"
   },
   {
    "duration": 7,
    "start_time": "2024-01-30T14:26:40.508Z"
   },
   {
    "duration": 5,
    "start_time": "2024-01-30T14:26:59.140Z"
   },
   {
    "duration": 5,
    "start_time": "2024-01-30T14:27:23.030Z"
   },
   {
    "duration": 6,
    "start_time": "2024-01-30T14:27:33.060Z"
   },
   {
    "duration": 6,
    "start_time": "2024-01-30T14:27:39.592Z"
   },
   {
    "duration": 5,
    "start_time": "2024-01-30T14:27:51.149Z"
   },
   {
    "duration": 5,
    "start_time": "2024-01-30T14:27:58.773Z"
   },
   {
    "duration": 5,
    "start_time": "2024-01-30T14:28:05.827Z"
   },
   {
    "duration": 6,
    "start_time": "2024-01-30T14:28:12.989Z"
   },
   {
    "duration": 6,
    "start_time": "2024-01-30T14:28:23.178Z"
   },
   {
    "duration": 5,
    "start_time": "2024-01-30T14:28:28.722Z"
   },
   {
    "duration": 6,
    "start_time": "2024-01-30T14:28:34.641Z"
   },
   {
    "duration": 6,
    "start_time": "2024-01-30T14:28:42.242Z"
   },
   {
    "duration": 6,
    "start_time": "2024-01-30T14:28:49.234Z"
   },
   {
    "duration": 5,
    "start_time": "2024-01-30T14:31:40.186Z"
   },
   {
    "duration": 5,
    "start_time": "2024-01-30T14:31:53.032Z"
   },
   {
    "duration": 6,
    "start_time": "2024-01-30T14:32:10.503Z"
   },
   {
    "duration": 5,
    "start_time": "2024-01-30T14:32:18.569Z"
   },
   {
    "duration": 1311,
    "start_time": "2024-01-30T14:39:05.796Z"
   },
   {
    "duration": 1307,
    "start_time": "2024-01-30T14:40:56.270Z"
   },
   {
    "duration": 1234,
    "start_time": "2024-01-30T14:42:39.508Z"
   },
   {
    "duration": 1456,
    "start_time": "2024-01-30T14:44:17.422Z"
   },
   {
    "duration": 1486,
    "start_time": "2024-01-30T14:44:33.196Z"
   },
   {
    "duration": 10,
    "start_time": "2024-01-30T14:45:10.537Z"
   },
   {
    "duration": 8,
    "start_time": "2024-01-30T14:45:28.608Z"
   },
   {
    "duration": 2097,
    "start_time": "2024-01-30T14:47:01.188Z"
   },
   {
    "duration": 6,
    "start_time": "2024-01-30T15:00:55.772Z"
   },
   {
    "duration": 1276,
    "start_time": "2024-01-30T15:27:44.001Z"
   },
   {
    "duration": 36,
    "start_time": "2024-01-30T15:27:45.279Z"
   },
   {
    "duration": 37,
    "start_time": "2024-01-30T15:27:45.317Z"
   },
   {
    "duration": 15,
    "start_time": "2024-01-30T15:27:45.356Z"
   },
   {
    "duration": 26,
    "start_time": "2024-01-30T15:27:45.372Z"
   },
   {
    "duration": 11,
    "start_time": "2024-01-30T15:27:45.401Z"
   },
   {
    "duration": 12,
    "start_time": "2024-01-30T15:27:45.413Z"
   },
   {
    "duration": 38,
    "start_time": "2024-01-30T15:27:45.427Z"
   },
   {
    "duration": 36,
    "start_time": "2024-01-30T15:27:45.466Z"
   },
   {
    "duration": 4,
    "start_time": "2024-01-30T15:27:45.505Z"
   },
   {
    "duration": 13,
    "start_time": "2024-01-30T15:27:45.510Z"
   },
   {
    "duration": 5,
    "start_time": "2024-01-30T15:27:45.525Z"
   },
   {
    "duration": 9,
    "start_time": "2024-01-30T15:27:45.532Z"
   },
   {
    "duration": 20,
    "start_time": "2024-01-30T15:27:45.543Z"
   },
   {
    "duration": 13,
    "start_time": "2024-01-30T15:27:45.565Z"
   },
   {
    "duration": 13,
    "start_time": "2024-01-30T15:27:45.579Z"
   },
   {
    "duration": 14,
    "start_time": "2024-01-30T15:27:45.594Z"
   },
   {
    "duration": 10,
    "start_time": "2024-01-30T15:27:45.609Z"
   },
   {
    "duration": 22,
    "start_time": "2024-01-30T15:27:45.620Z"
   },
   {
    "duration": 224,
    "start_time": "2024-01-30T15:27:45.644Z"
   },
   {
    "duration": 128,
    "start_time": "2024-01-30T15:27:45.870Z"
   },
   {
    "duration": 236,
    "start_time": "2024-01-30T15:27:46.000Z"
   },
   {
    "duration": 8,
    "start_time": "2024-01-30T15:27:46.237Z"
   },
   {
    "duration": 198,
    "start_time": "2024-01-30T15:27:46.247Z"
   },
   {
    "duration": 135,
    "start_time": "2024-01-30T15:27:46.447Z"
   },
   {
    "duration": 17,
    "start_time": "2024-01-30T15:27:46.584Z"
   },
   {
    "duration": 12,
    "start_time": "2024-01-30T15:27:46.603Z"
   },
   {
    "duration": 238,
    "start_time": "2024-01-30T15:27:46.620Z"
   },
   {
    "duration": 125,
    "start_time": "2024-01-30T15:27:46.859Z"
   },
   {
    "duration": 15,
    "start_time": "2024-01-30T15:27:46.986Z"
   },
   {
    "duration": 219,
    "start_time": "2024-01-30T15:27:47.003Z"
   },
   {
    "duration": 203,
    "start_time": "2024-01-30T15:27:47.224Z"
   },
   {
    "duration": 9,
    "start_time": "2024-01-30T15:27:47.429Z"
   },
   {
    "duration": 15,
    "start_time": "2024-01-30T15:27:47.439Z"
   },
   {
    "duration": 45,
    "start_time": "2024-01-30T15:27:47.456Z"
   },
   {
    "duration": 8,
    "start_time": "2024-01-30T15:27:47.503Z"
   },
   {
    "duration": 19,
    "start_time": "2024-01-30T15:27:47.513Z"
   },
   {
    "duration": 30,
    "start_time": "2024-01-30T15:27:47.534Z"
   },
   {
    "duration": 39,
    "start_time": "2024-01-30T15:27:47.566Z"
   },
   {
    "duration": 345,
    "start_time": "2024-01-30T15:27:47.607Z"
   },
   {
    "duration": 206,
    "start_time": "2024-01-30T15:27:47.954Z"
   },
   {
    "duration": 180,
    "start_time": "2024-01-30T15:27:48.161Z"
   },
   {
    "duration": 296,
    "start_time": "2024-01-30T15:27:48.343Z"
   },
   {
    "duration": 188,
    "start_time": "2024-01-30T15:27:48.641Z"
   },
   {
    "duration": 203,
    "start_time": "2024-01-30T15:27:48.831Z"
   },
   {
    "duration": 17,
    "start_time": "2024-01-30T15:27:49.036Z"
   },
   {
    "duration": 36,
    "start_time": "2024-01-30T15:27:49.055Z"
   },
   {
    "duration": 56,
    "start_time": "2024-01-30T15:27:49.098Z"
   },
   {
    "duration": 48,
    "start_time": "2024-01-30T15:27:49.156Z"
   },
   {
    "duration": 13,
    "start_time": "2024-01-30T15:27:49.206Z"
   },
   {
    "duration": 21,
    "start_time": "2024-01-30T15:27:49.221Z"
   },
   {
    "duration": 26,
    "start_time": "2024-01-30T15:27:49.244Z"
   },
   {
    "duration": 137,
    "start_time": "2024-01-30T15:27:49.272Z"
   },
   {
    "duration": 0,
    "start_time": "2024-01-30T15:27:49.411Z"
   },
   {
    "duration": 0,
    "start_time": "2024-01-30T15:27:49.412Z"
   },
   {
    "duration": 1,
    "start_time": "2024-01-30T15:27:49.413Z"
   },
   {
    "duration": 7,
    "start_time": "2024-01-30T15:28:14.983Z"
   },
   {
    "duration": 11,
    "start_time": "2024-01-30T15:28:20.416Z"
   },
   {
    "duration": 247,
    "start_time": "2024-01-30T15:28:29.355Z"
   },
   {
    "duration": 1952,
    "start_time": "2024-01-30T15:28:37.664Z"
   },
   {
    "duration": 6,
    "start_time": "2024-01-30T15:28:43.712Z"
   },
   {
    "duration": 129,
    "start_time": "2024-01-30T15:31:50.073Z"
   },
   {
    "duration": 125,
    "start_time": "2024-01-30T15:32:38.944Z"
   },
   {
    "duration": 120,
    "start_time": "2024-01-30T15:33:26.313Z"
   },
   {
    "duration": 137,
    "start_time": "2024-01-30T15:35:47.755Z"
   },
   {
    "duration": 1210,
    "start_time": "2024-01-30T15:36:22.135Z"
   },
   {
    "duration": 28,
    "start_time": "2024-01-30T15:36:23.347Z"
   },
   {
    "duration": 30,
    "start_time": "2024-01-30T15:36:23.376Z"
   },
   {
    "duration": 15,
    "start_time": "2024-01-30T15:36:23.409Z"
   },
   {
    "duration": 14,
    "start_time": "2024-01-30T15:36:23.426Z"
   },
   {
    "duration": 10,
    "start_time": "2024-01-30T15:36:23.441Z"
   },
   {
    "duration": 8,
    "start_time": "2024-01-30T15:36:23.453Z"
   },
   {
    "duration": 24,
    "start_time": "2024-01-30T15:36:23.464Z"
   },
   {
    "duration": 14,
    "start_time": "2024-01-30T15:36:23.490Z"
   },
   {
    "duration": 4,
    "start_time": "2024-01-30T15:36:23.506Z"
   },
   {
    "duration": 11,
    "start_time": "2024-01-30T15:36:23.511Z"
   },
   {
    "duration": 8,
    "start_time": "2024-01-30T15:36:23.523Z"
   },
   {
    "duration": 9,
    "start_time": "2024-01-30T15:36:23.532Z"
   },
   {
    "duration": 5,
    "start_time": "2024-01-30T15:36:23.542Z"
   },
   {
    "duration": 11,
    "start_time": "2024-01-30T15:36:23.581Z"
   },
   {
    "duration": 8,
    "start_time": "2024-01-30T15:36:23.594Z"
   },
   {
    "duration": 18,
    "start_time": "2024-01-30T15:36:23.604Z"
   },
   {
    "duration": 13,
    "start_time": "2024-01-30T15:36:23.624Z"
   },
   {
    "duration": 22,
    "start_time": "2024-01-30T15:36:23.639Z"
   },
   {
    "duration": 210,
    "start_time": "2024-01-30T15:36:23.662Z"
   },
   {
    "duration": 116,
    "start_time": "2024-01-30T15:36:23.874Z"
   },
   {
    "duration": 249,
    "start_time": "2024-01-30T15:36:23.992Z"
   },
   {
    "duration": 8,
    "start_time": "2024-01-30T15:36:24.243Z"
   },
   {
    "duration": 185,
    "start_time": "2024-01-30T15:36:24.252Z"
   },
   {
    "duration": 107,
    "start_time": "2024-01-30T15:36:24.439Z"
   },
   {
    "duration": 12,
    "start_time": "2024-01-30T15:36:24.548Z"
   },
   {
    "duration": 24,
    "start_time": "2024-01-30T15:36:24.561Z"
   },
   {
    "duration": 193,
    "start_time": "2024-01-30T15:36:24.590Z"
   },
   {
    "duration": 127,
    "start_time": "2024-01-30T15:36:24.785Z"
   },
   {
    "duration": 8,
    "start_time": "2024-01-30T15:36:24.915Z"
   },
   {
    "duration": 230,
    "start_time": "2024-01-30T15:36:24.925Z"
   },
   {
    "duration": 205,
    "start_time": "2024-01-30T15:36:25.157Z"
   },
   {
    "duration": 19,
    "start_time": "2024-01-30T15:36:25.363Z"
   },
   {
    "duration": 20,
    "start_time": "2024-01-30T15:36:25.384Z"
   },
   {
    "duration": 27,
    "start_time": "2024-01-30T15:36:25.405Z"
   },
   {
    "duration": 8,
    "start_time": "2024-01-30T15:36:25.434Z"
   },
   {
    "duration": 6,
    "start_time": "2024-01-30T15:36:25.443Z"
   },
   {
    "duration": 46,
    "start_time": "2024-01-30T15:36:25.450Z"
   },
   {
    "duration": 18,
    "start_time": "2024-01-30T15:36:25.498Z"
   },
   {
    "duration": 319,
    "start_time": "2024-01-30T15:36:25.517Z"
   },
   {
    "duration": 183,
    "start_time": "2024-01-30T15:36:25.838Z"
   },
   {
    "duration": 190,
    "start_time": "2024-01-30T15:36:26.023Z"
   },
   {
    "duration": 262,
    "start_time": "2024-01-30T15:36:26.215Z"
   },
   {
    "duration": 187,
    "start_time": "2024-01-30T15:36:26.481Z"
   },
   {
    "duration": 192,
    "start_time": "2024-01-30T15:36:26.669Z"
   },
   {
    "duration": 24,
    "start_time": "2024-01-30T15:36:26.863Z"
   },
   {
    "duration": 17,
    "start_time": "2024-01-30T15:36:26.890Z"
   },
   {
    "duration": 49,
    "start_time": "2024-01-30T15:36:26.909Z"
   },
   {
    "duration": 49,
    "start_time": "2024-01-30T15:36:26.960Z"
   },
   {
    "duration": 13,
    "start_time": "2024-01-30T15:36:27.010Z"
   },
   {
    "duration": 17,
    "start_time": "2024-01-30T15:36:27.025Z"
   },
   {
    "duration": 18,
    "start_time": "2024-01-30T15:36:27.043Z"
   },
   {
    "duration": 9,
    "start_time": "2024-01-30T15:36:27.063Z"
   },
   {
    "duration": 224,
    "start_time": "2024-01-30T15:36:27.082Z"
   },
   {
    "duration": 1982,
    "start_time": "2024-01-30T15:36:27.308Z"
   },
   {
    "duration": 6,
    "start_time": "2024-01-30T15:36:29.293Z"
   },
   {
    "duration": 233,
    "start_time": "2024-01-30T15:36:29.301Z"
   },
   {
    "duration": 131,
    "start_time": "2024-01-30T15:39:33.893Z"
   },
   {
    "duration": 0,
    "start_time": "2024-01-30T15:41:15.863Z"
   },
   {
    "duration": 1274,
    "start_time": "2024-01-30T15:41:23.873Z"
   },
   {
    "duration": 28,
    "start_time": "2024-01-30T15:41:25.148Z"
   },
   {
    "duration": 34,
    "start_time": "2024-01-30T15:41:25.178Z"
   },
   {
    "duration": 15,
    "start_time": "2024-01-30T15:41:25.214Z"
   },
   {
    "duration": 14,
    "start_time": "2024-01-30T15:41:25.230Z"
   },
   {
    "duration": 9,
    "start_time": "2024-01-30T15:41:25.246Z"
   },
   {
    "duration": 8,
    "start_time": "2024-01-30T15:41:25.257Z"
   },
   {
    "duration": 27,
    "start_time": "2024-01-30T15:41:25.266Z"
   },
   {
    "duration": 26,
    "start_time": "2024-01-30T15:41:25.294Z"
   },
   {
    "duration": 4,
    "start_time": "2024-01-30T15:41:25.324Z"
   },
   {
    "duration": 15,
    "start_time": "2024-01-30T15:41:25.330Z"
   },
   {
    "duration": 16,
    "start_time": "2024-01-30T15:41:25.347Z"
   },
   {
    "duration": 8,
    "start_time": "2024-01-30T15:41:25.364Z"
   },
   {
    "duration": 8,
    "start_time": "2024-01-30T15:41:25.374Z"
   },
   {
    "duration": 6,
    "start_time": "2024-01-30T15:41:25.385Z"
   },
   {
    "duration": 15,
    "start_time": "2024-01-30T15:41:25.393Z"
   },
   {
    "duration": 12,
    "start_time": "2024-01-30T15:41:25.410Z"
   },
   {
    "duration": 13,
    "start_time": "2024-01-30T15:41:25.423Z"
   },
   {
    "duration": 20,
    "start_time": "2024-01-30T15:41:25.437Z"
   },
   {
    "duration": 182,
    "start_time": "2024-01-30T15:41:25.482Z"
   },
   {
    "duration": 101,
    "start_time": "2024-01-30T15:41:25.665Z"
   },
   {
    "duration": 252,
    "start_time": "2024-01-30T15:41:25.768Z"
   },
   {
    "duration": 8,
    "start_time": "2024-01-30T15:41:26.022Z"
   },
   {
    "duration": 184,
    "start_time": "2024-01-30T15:41:26.031Z"
   },
   {
    "duration": 132,
    "start_time": "2024-01-30T15:41:26.216Z"
   },
   {
    "duration": 12,
    "start_time": "2024-01-30T15:41:26.349Z"
   },
   {
    "duration": 21,
    "start_time": "2024-01-30T15:41:26.363Z"
   },
   {
    "duration": 202,
    "start_time": "2024-01-30T15:41:26.390Z"
   },
   {
    "duration": 125,
    "start_time": "2024-01-30T15:41:26.595Z"
   },
   {
    "duration": 9,
    "start_time": "2024-01-30T15:41:26.722Z"
   },
   {
    "duration": 208,
    "start_time": "2024-01-30T15:41:26.733Z"
   },
   {
    "duration": 194,
    "start_time": "2024-01-30T15:41:26.943Z"
   },
   {
    "duration": 9,
    "start_time": "2024-01-30T15:41:27.139Z"
   },
   {
    "duration": 30,
    "start_time": "2024-01-30T15:41:27.149Z"
   },
   {
    "duration": 28,
    "start_time": "2024-01-30T15:41:27.181Z"
   },
   {
    "duration": 8,
    "start_time": "2024-01-30T15:41:27.210Z"
   },
   {
    "duration": 20,
    "start_time": "2024-01-30T15:41:27.220Z"
   },
   {
    "duration": 30,
    "start_time": "2024-01-30T15:41:27.242Z"
   },
   {
    "duration": 30,
    "start_time": "2024-01-30T15:41:27.273Z"
   },
   {
    "duration": 328,
    "start_time": "2024-01-30T15:41:27.304Z"
   },
   {
    "duration": 185,
    "start_time": "2024-01-30T15:41:27.634Z"
   },
   {
    "duration": 194,
    "start_time": "2024-01-30T15:41:27.820Z"
   },
   {
    "duration": 250,
    "start_time": "2024-01-30T15:41:28.016Z"
   },
   {
    "duration": 174,
    "start_time": "2024-01-30T15:41:28.268Z"
   },
   {
    "duration": 190,
    "start_time": "2024-01-30T15:41:28.444Z"
   },
   {
    "duration": 15,
    "start_time": "2024-01-30T15:41:28.636Z"
   },
   {
    "duration": 19,
    "start_time": "2024-01-30T15:41:28.652Z"
   },
   {
    "duration": 54,
    "start_time": "2024-01-30T15:41:28.682Z"
   },
   {
    "duration": 25,
    "start_time": "2024-01-30T15:41:28.737Z"
   },
   {
    "duration": 19,
    "start_time": "2024-01-30T15:41:28.782Z"
   },
   {
    "duration": 6,
    "start_time": "2024-01-30T15:41:28.803Z"
   },
   {
    "duration": 21,
    "start_time": "2024-01-30T15:41:28.810Z"
   },
   {
    "duration": 15,
    "start_time": "2024-01-30T15:41:28.833Z"
   },
   {
    "duration": 246,
    "start_time": "2024-01-30T15:41:28.856Z"
   },
   {
    "duration": 2147,
    "start_time": "2024-01-30T15:41:29.104Z"
   },
   {
    "duration": 6,
    "start_time": "2024-01-30T15:41:31.253Z"
   },
   {
    "duration": 38857,
    "start_time": "2024-01-30T15:41:31.261Z"
   },
   {
    "duration": 136,
    "start_time": "2024-01-30T15:42:47.421Z"
   },
   {
    "duration": 37657,
    "start_time": "2024-01-30T15:42:53.997Z"
   },
   {
    "duration": 40,
    "start_time": "2024-01-30T15:47:51.720Z"
   },
   {
    "duration": 41,
    "start_time": "2024-01-30T15:48:58.804Z"
   },
   {
    "duration": 4,
    "start_time": "2024-01-30T15:53:53.770Z"
   },
   {
    "duration": 4,
    "start_time": "2024-01-30T15:54:04.501Z"
   },
   {
    "duration": 5,
    "start_time": "2024-01-30T15:54:15.439Z"
   },
   {
    "duration": 11,
    "start_time": "2024-01-30T15:58:59.455Z"
   },
   {
    "duration": 1279,
    "start_time": "2024-01-30T15:59:46.963Z"
   },
   {
    "duration": 30,
    "start_time": "2024-01-30T15:59:48.244Z"
   },
   {
    "duration": 36,
    "start_time": "2024-01-30T15:59:48.277Z"
   },
   {
    "duration": 16,
    "start_time": "2024-01-30T15:59:48.316Z"
   },
   {
    "duration": 13,
    "start_time": "2024-01-30T15:59:48.334Z"
   },
   {
    "duration": 10,
    "start_time": "2024-01-30T15:59:48.349Z"
   },
   {
    "duration": 11,
    "start_time": "2024-01-30T15:59:48.360Z"
   },
   {
    "duration": 19,
    "start_time": "2024-01-30T15:59:48.372Z"
   },
   {
    "duration": 13,
    "start_time": "2024-01-30T15:59:48.394Z"
   },
   {
    "duration": 4,
    "start_time": "2024-01-30T15:59:48.410Z"
   },
   {
    "duration": 17,
    "start_time": "2024-01-30T15:59:48.415Z"
   },
   {
    "duration": 6,
    "start_time": "2024-01-30T15:59:48.434Z"
   },
   {
    "duration": 8,
    "start_time": "2024-01-30T15:59:48.441Z"
   },
   {
    "duration": 14,
    "start_time": "2024-01-30T15:59:48.450Z"
   },
   {
    "duration": 5,
    "start_time": "2024-01-30T15:59:48.483Z"
   },
   {
    "duration": 11,
    "start_time": "2024-01-30T15:59:48.489Z"
   },
   {
    "duration": 12,
    "start_time": "2024-01-30T15:59:48.502Z"
   },
   {
    "duration": 10,
    "start_time": "2024-01-30T15:59:48.515Z"
   },
   {
    "duration": 22,
    "start_time": "2024-01-30T15:59:48.527Z"
   },
   {
    "duration": 218,
    "start_time": "2024-01-30T15:59:48.551Z"
   },
   {
    "duration": 103,
    "start_time": "2024-01-30T15:59:48.771Z"
   },
   {
    "duration": 242,
    "start_time": "2024-01-30T15:59:48.883Z"
   },
   {
    "duration": 8,
    "start_time": "2024-01-30T15:59:49.127Z"
   },
   {
    "duration": 187,
    "start_time": "2024-01-30T15:59:49.136Z"
   },
   {
    "duration": 127,
    "start_time": "2024-01-30T15:59:49.324Z"
   },
   {
    "duration": 13,
    "start_time": "2024-01-30T15:59:49.453Z"
   },
   {
    "duration": 12,
    "start_time": "2024-01-30T15:59:49.483Z"
   },
   {
    "duration": 221,
    "start_time": "2024-01-30T15:59:49.501Z"
   },
   {
    "duration": 118,
    "start_time": "2024-01-30T15:59:49.724Z"
   },
   {
    "duration": 9,
    "start_time": "2024-01-30T15:59:49.843Z"
   },
   {
    "duration": 230,
    "start_time": "2024-01-30T15:59:49.854Z"
   },
   {
    "duration": 206,
    "start_time": "2024-01-30T15:59:50.085Z"
   },
   {
    "duration": 10,
    "start_time": "2024-01-30T15:59:50.293Z"
   },
   {
    "duration": 15,
    "start_time": "2024-01-30T15:59:50.304Z"
   },
   {
    "duration": 22,
    "start_time": "2024-01-30T15:59:50.321Z"
   },
   {
    "duration": 38,
    "start_time": "2024-01-30T15:59:50.344Z"
   },
   {
    "duration": 10,
    "start_time": "2024-01-30T15:59:50.385Z"
   },
   {
    "duration": 26,
    "start_time": "2024-01-30T15:59:50.397Z"
   },
   {
    "duration": 19,
    "start_time": "2024-01-30T15:59:50.425Z"
   },
   {
    "duration": 310,
    "start_time": "2024-01-30T15:59:50.446Z"
   },
   {
    "duration": 193,
    "start_time": "2024-01-30T15:59:50.758Z"
   },
   {
    "duration": 193,
    "start_time": "2024-01-30T15:59:50.953Z"
   },
   {
    "duration": 276,
    "start_time": "2024-01-30T15:59:51.148Z"
   },
   {
    "duration": 177,
    "start_time": "2024-01-30T15:59:51.425Z"
   },
   {
    "duration": 203,
    "start_time": "2024-01-30T15:59:51.603Z"
   },
   {
    "duration": 18,
    "start_time": "2024-01-30T15:59:51.808Z"
   },
   {
    "duration": 17,
    "start_time": "2024-01-30T15:59:51.828Z"
   },
   {
    "duration": 78,
    "start_time": "2024-01-30T15:59:51.846Z"
   },
   {
    "duration": 26,
    "start_time": "2024-01-30T15:59:51.926Z"
   },
   {
    "duration": 28,
    "start_time": "2024-01-30T15:59:51.953Z"
   },
   {
    "duration": 10,
    "start_time": "2024-01-30T15:59:51.983Z"
   },
   {
    "duration": 39,
    "start_time": "2024-01-30T15:59:51.997Z"
   },
   {
    "duration": 31,
    "start_time": "2024-01-30T15:59:52.038Z"
   },
   {
    "duration": 261,
    "start_time": "2024-01-30T15:59:52.070Z"
   },
   {
    "duration": 2016,
    "start_time": "2024-01-30T15:59:52.332Z"
   },
   {
    "duration": 6,
    "start_time": "2024-01-30T15:59:54.349Z"
   },
   {
    "duration": 126,
    "start_time": "2024-01-30T15:59:54.356Z"
   },
   {
    "duration": 1262,
    "start_time": "2024-01-30T16:01:39.825Z"
   },
   {
    "duration": 29,
    "start_time": "2024-01-30T16:01:41.089Z"
   },
   {
    "duration": 28,
    "start_time": "2024-01-30T16:01:41.120Z"
   },
   {
    "duration": 15,
    "start_time": "2024-01-30T16:01:41.150Z"
   },
   {
    "duration": 14,
    "start_time": "2024-01-30T16:01:41.167Z"
   },
   {
    "duration": 15,
    "start_time": "2024-01-30T16:01:41.183Z"
   },
   {
    "duration": 8,
    "start_time": "2024-01-30T16:01:41.199Z"
   },
   {
    "duration": 20,
    "start_time": "2024-01-30T16:01:41.209Z"
   },
   {
    "duration": 25,
    "start_time": "2024-01-30T16:01:41.231Z"
   },
   {
    "duration": 8,
    "start_time": "2024-01-30T16:01:41.259Z"
   },
   {
    "duration": 31,
    "start_time": "2024-01-30T16:01:41.268Z"
   },
   {
    "duration": 8,
    "start_time": "2024-01-30T16:01:41.301Z"
   },
   {
    "duration": 28,
    "start_time": "2024-01-30T16:01:41.310Z"
   },
   {
    "duration": 8,
    "start_time": "2024-01-30T16:01:41.340Z"
   },
   {
    "duration": 6,
    "start_time": "2024-01-30T16:01:41.349Z"
   },
   {
    "duration": 16,
    "start_time": "2024-01-30T16:01:41.357Z"
   },
   {
    "duration": 18,
    "start_time": "2024-01-30T16:01:41.375Z"
   },
   {
    "duration": 13,
    "start_time": "2024-01-30T16:01:41.395Z"
   },
   {
    "duration": 23,
    "start_time": "2024-01-30T16:01:41.410Z"
   },
   {
    "duration": 211,
    "start_time": "2024-01-30T16:01:41.435Z"
   },
   {
    "duration": 109,
    "start_time": "2024-01-30T16:01:41.648Z"
   },
   {
    "duration": 260,
    "start_time": "2024-01-30T16:01:41.759Z"
   },
   {
    "duration": 8,
    "start_time": "2024-01-30T16:01:42.020Z"
   },
   {
    "duration": 190,
    "start_time": "2024-01-30T16:01:42.030Z"
   },
   {
    "duration": 115,
    "start_time": "2024-01-30T16:01:42.222Z"
   },
   {
    "duration": 12,
    "start_time": "2024-01-30T16:01:42.339Z"
   },
   {
    "duration": 15,
    "start_time": "2024-01-30T16:01:42.353Z"
   },
   {
    "duration": 217,
    "start_time": "2024-01-30T16:01:42.381Z"
   },
   {
    "duration": 123,
    "start_time": "2024-01-30T16:01:42.600Z"
   },
   {
    "duration": 10,
    "start_time": "2024-01-30T16:01:42.725Z"
   },
   {
    "duration": 228,
    "start_time": "2024-01-30T16:01:42.736Z"
   },
   {
    "duration": 225,
    "start_time": "2024-01-30T16:01:42.965Z"
   },
   {
    "duration": 10,
    "start_time": "2024-01-30T16:01:43.195Z"
   },
   {
    "duration": 15,
    "start_time": "2024-01-30T16:01:43.206Z"
   },
   {
    "duration": 21,
    "start_time": "2024-01-30T16:01:43.222Z"
   },
   {
    "duration": 8,
    "start_time": "2024-01-30T16:01:43.244Z"
   },
   {
    "duration": 29,
    "start_time": "2024-01-30T16:01:43.253Z"
   },
   {
    "duration": 24,
    "start_time": "2024-01-30T16:01:43.285Z"
   },
   {
    "duration": 18,
    "start_time": "2024-01-30T16:01:43.311Z"
   },
   {
    "duration": 329,
    "start_time": "2024-01-30T16:01:43.331Z"
   },
   {
    "duration": 189,
    "start_time": "2024-01-30T16:01:43.662Z"
   },
   {
    "duration": 203,
    "start_time": "2024-01-30T16:01:43.853Z"
   },
   {
    "duration": 267,
    "start_time": "2024-01-30T16:01:44.058Z"
   },
   {
    "duration": 182,
    "start_time": "2024-01-30T16:01:44.328Z"
   },
   {
    "duration": 200,
    "start_time": "2024-01-30T16:01:44.513Z"
   },
   {
    "duration": 18,
    "start_time": "2024-01-30T16:01:44.715Z"
   },
   {
    "duration": 17,
    "start_time": "2024-01-30T16:01:44.735Z"
   },
   {
    "duration": 80,
    "start_time": "2024-01-30T16:01:44.754Z"
   },
   {
    "duration": 26,
    "start_time": "2024-01-30T16:01:44.836Z"
   },
   {
    "duration": 33,
    "start_time": "2024-01-30T16:01:44.863Z"
   },
   {
    "duration": 6,
    "start_time": "2024-01-30T16:01:44.898Z"
   },
   {
    "duration": 19,
    "start_time": "2024-01-30T16:01:44.905Z"
   },
   {
    "duration": 6,
    "start_time": "2024-01-30T16:01:44.926Z"
   },
   {
    "duration": 262,
    "start_time": "2024-01-30T16:01:44.934Z"
   },
   {
    "duration": 2141,
    "start_time": "2024-01-30T16:01:45.198Z"
   },
   {
    "duration": 5,
    "start_time": "2024-01-30T16:01:47.341Z"
   },
   {
    "duration": 152,
    "start_time": "2024-01-30T16:01:47.348Z"
   },
   {
    "duration": 122,
    "start_time": "2024-01-30T16:02:59.750Z"
   },
   {
    "duration": 129,
    "start_time": "2024-01-30T16:06:23.433Z"
   },
   {
    "duration": 272,
    "start_time": "2024-01-30T16:07:25.297Z"
   },
   {
    "duration": 137,
    "start_time": "2024-01-30T16:07:32.659Z"
   },
   {
    "duration": 136,
    "start_time": "2024-01-30T16:08:03.100Z"
   },
   {
    "duration": 136,
    "start_time": "2024-01-30T16:08:12.116Z"
   },
   {
    "duration": 135,
    "start_time": "2024-01-30T16:09:34.974Z"
   },
   {
    "duration": 125,
    "start_time": "2024-01-30T16:13:22.320Z"
   },
   {
    "duration": 142,
    "start_time": "2024-01-30T16:17:06.210Z"
   },
   {
    "duration": 280,
    "start_time": "2024-01-30T16:17:19.221Z"
   },
   {
    "duration": 238,
    "start_time": "2024-01-30T16:19:48.697Z"
   },
   {
    "duration": 137,
    "start_time": "2024-01-30T16:19:57.393Z"
   },
   {
    "duration": 145,
    "start_time": "2024-01-30T16:20:15.106Z"
   },
   {
    "duration": 219,
    "start_time": "2024-01-30T16:21:01.330Z"
   },
   {
    "duration": 220,
    "start_time": "2024-01-30T16:21:29.994Z"
   },
   {
    "duration": 209,
    "start_time": "2024-01-30T16:21:42.852Z"
   },
   {
    "duration": 218,
    "start_time": "2024-01-30T16:21:51.083Z"
   },
   {
    "duration": 355,
    "start_time": "2024-01-30T16:22:25.139Z"
   },
   {
    "duration": 214,
    "start_time": "2024-01-30T16:22:44.053Z"
   },
   {
    "duration": 222,
    "start_time": "2024-01-30T16:23:11.447Z"
   },
   {
    "duration": 206,
    "start_time": "2024-01-30T16:23:24.224Z"
   },
   {
    "duration": 206,
    "start_time": "2024-01-30T16:23:32.040Z"
   },
   {
    "duration": 1447,
    "start_time": "2024-01-31T08:12:49.773Z"
   },
   {
    "duration": 98,
    "start_time": "2024-01-31T08:12:51.222Z"
   },
   {
    "duration": 162,
    "start_time": "2024-01-31T08:12:51.322Z"
   },
   {
    "duration": 57,
    "start_time": "2024-01-31T08:12:51.486Z"
   },
   {
    "duration": 12,
    "start_time": "2024-01-31T08:12:51.545Z"
   },
   {
    "duration": 24,
    "start_time": "2024-01-31T08:12:51.559Z"
   },
   {
    "duration": 26,
    "start_time": "2024-01-31T08:12:51.584Z"
   },
   {
    "duration": 17,
    "start_time": "2024-01-31T08:12:51.611Z"
   },
   {
    "duration": 22,
    "start_time": "2024-01-31T08:12:51.629Z"
   },
   {
    "duration": 21,
    "start_time": "2024-01-31T08:12:51.654Z"
   },
   {
    "duration": 16,
    "start_time": "2024-01-31T08:12:51.676Z"
   },
   {
    "duration": 17,
    "start_time": "2024-01-31T08:12:51.694Z"
   },
   {
    "duration": 25,
    "start_time": "2024-01-31T08:12:51.713Z"
   },
   {
    "duration": 11,
    "start_time": "2024-01-31T08:12:51.739Z"
   },
   {
    "duration": 21,
    "start_time": "2024-01-31T08:12:51.751Z"
   },
   {
    "duration": 21,
    "start_time": "2024-01-31T08:12:51.774Z"
   },
   {
    "duration": 27,
    "start_time": "2024-01-31T08:12:51.797Z"
   },
   {
    "duration": 35,
    "start_time": "2024-01-31T08:12:51.826Z"
   },
   {
    "duration": 23,
    "start_time": "2024-01-31T08:12:51.864Z"
   },
   {
    "duration": 170,
    "start_time": "2024-01-31T08:12:51.889Z"
   },
   {
    "duration": 104,
    "start_time": "2024-01-31T08:12:52.061Z"
   },
   {
    "duration": 221,
    "start_time": "2024-01-31T08:12:52.172Z"
   },
   {
    "duration": 8,
    "start_time": "2024-01-31T08:12:52.394Z"
   },
   {
    "duration": 215,
    "start_time": "2024-01-31T08:12:52.404Z"
   },
   {
    "duration": 103,
    "start_time": "2024-01-31T08:12:52.621Z"
   },
   {
    "duration": 13,
    "start_time": "2024-01-31T08:12:52.725Z"
   },
   {
    "duration": 33,
    "start_time": "2024-01-31T08:12:52.739Z"
   },
   {
    "duration": 180,
    "start_time": "2024-01-31T08:12:52.776Z"
   },
   {
    "duration": 123,
    "start_time": "2024-01-31T08:12:52.957Z"
   },
   {
    "duration": 10,
    "start_time": "2024-01-31T08:12:53.081Z"
   },
   {
    "duration": 272,
    "start_time": "2024-01-31T08:12:53.093Z"
   },
   {
    "duration": 138,
    "start_time": "2024-01-31T08:12:53.367Z"
   },
   {
    "duration": 13,
    "start_time": "2024-01-31T08:12:53.507Z"
   },
   {
    "duration": 20,
    "start_time": "2024-01-31T08:12:53.522Z"
   },
   {
    "duration": 42,
    "start_time": "2024-01-31T08:12:53.543Z"
   },
   {
    "duration": 8,
    "start_time": "2024-01-31T08:12:53.586Z"
   },
   {
    "duration": 21,
    "start_time": "2024-01-31T08:12:53.596Z"
   },
   {
    "duration": 22,
    "start_time": "2024-01-31T08:12:53.618Z"
   },
   {
    "duration": 24,
    "start_time": "2024-01-31T08:12:53.642Z"
   },
   {
    "duration": 310,
    "start_time": "2024-01-31T08:12:53.667Z"
   },
   {
    "duration": 184,
    "start_time": "2024-01-31T08:12:53.979Z"
   },
   {
    "duration": 174,
    "start_time": "2024-01-31T08:12:54.165Z"
   },
   {
    "duration": 251,
    "start_time": "2024-01-31T08:12:54.340Z"
   },
   {
    "duration": 167,
    "start_time": "2024-01-31T08:12:54.592Z"
   },
   {
    "duration": 208,
    "start_time": "2024-01-31T08:12:54.760Z"
   },
   {
    "duration": 17,
    "start_time": "2024-01-31T08:12:54.969Z"
   },
   {
    "duration": 15,
    "start_time": "2024-01-31T08:12:54.988Z"
   },
   {
    "duration": 69,
    "start_time": "2024-01-31T08:12:55.005Z"
   },
   {
    "duration": 25,
    "start_time": "2024-01-31T08:12:55.076Z"
   },
   {
    "duration": 12,
    "start_time": "2024-01-31T08:12:55.102Z"
   },
   {
    "duration": 10,
    "start_time": "2024-01-31T08:12:55.115Z"
   },
   {
    "duration": 15,
    "start_time": "2024-01-31T08:12:55.126Z"
   },
   {
    "duration": 32,
    "start_time": "2024-01-31T08:12:55.142Z"
   },
   {
    "duration": 215,
    "start_time": "2024-01-31T08:12:55.176Z"
   },
   {
    "duration": 1,
    "start_time": "2024-01-31T08:12:55.392Z"
   },
   {
    "duration": 0,
    "start_time": "2024-01-31T08:12:55.394Z"
   },
   {
    "duration": 0,
    "start_time": "2024-01-31T08:12:55.395Z"
   },
   {
    "duration": 0,
    "start_time": "2024-01-31T08:12:55.397Z"
   },
   {
    "duration": 140,
    "start_time": "2024-01-31T08:20:43.285Z"
   },
   {
    "duration": 206,
    "start_time": "2024-01-31T08:25:14.712Z"
   },
   {
    "duration": 119,
    "start_time": "2024-01-31T08:25:46.316Z"
   },
   {
    "duration": 127,
    "start_time": "2024-01-31T08:28:37.568Z"
   },
   {
    "duration": 214,
    "start_time": "2024-01-31T08:29:34.097Z"
   },
   {
    "duration": 1764,
    "start_time": "2024-01-31T08:30:39.949Z"
   },
   {
    "duration": 6,
    "start_time": "2024-01-31T08:34:32.793Z"
   },
   {
    "duration": 117,
    "start_time": "2024-01-31T08:34:42.861Z"
   },
   {
    "duration": 122,
    "start_time": "2024-01-31T08:35:02.628Z"
   },
   {
    "duration": 1790,
    "start_time": "2024-01-31T08:41:44.261Z"
   },
   {
    "duration": 135,
    "start_time": "2024-01-31T08:44:25.488Z"
   },
   {
    "duration": 290,
    "start_time": "2024-01-31T08:44:36.198Z"
   },
   {
    "duration": 1750,
    "start_time": "2024-01-31T08:44:51.806Z"
   },
   {
    "duration": 5,
    "start_time": "2024-01-31T08:45:15.823Z"
   },
   {
    "duration": 5,
    "start_time": "2024-01-31T08:48:35.029Z"
   },
   {
    "duration": 127,
    "start_time": "2024-01-31T08:50:36.431Z"
   },
   {
    "duration": 17,
    "start_time": "2024-01-31T09:51:00.759Z"
   },
   {
    "duration": 14,
    "start_time": "2024-01-31T09:51:15.075Z"
   },
   {
    "duration": 15,
    "start_time": "2024-01-31T09:52:20.082Z"
   },
   {
    "duration": 27,
    "start_time": "2024-01-31T09:52:30.666Z"
   },
   {
    "duration": 83,
    "start_time": "2024-01-31T09:55:08.014Z"
   },
   {
    "duration": 1264,
    "start_time": "2024-01-31T10:27:12.340Z"
   },
   {
    "duration": 30,
    "start_time": "2024-01-31T10:27:13.605Z"
   },
   {
    "duration": 29,
    "start_time": "2024-01-31T10:27:13.637Z"
   },
   {
    "duration": 15,
    "start_time": "2024-01-31T10:27:13.668Z"
   },
   {
    "duration": 12,
    "start_time": "2024-01-31T10:27:13.685Z"
   },
   {
    "duration": 16,
    "start_time": "2024-01-31T10:27:13.698Z"
   },
   {
    "duration": 12,
    "start_time": "2024-01-31T10:27:13.715Z"
   },
   {
    "duration": 13,
    "start_time": "2024-01-31T10:27:13.728Z"
   },
   {
    "duration": 17,
    "start_time": "2024-01-31T10:27:13.743Z"
   },
   {
    "duration": 10,
    "start_time": "2024-01-31T10:27:13.763Z"
   },
   {
    "duration": 10,
    "start_time": "2024-01-31T10:27:13.775Z"
   },
   {
    "duration": 7,
    "start_time": "2024-01-31T10:27:13.787Z"
   },
   {
    "duration": 8,
    "start_time": "2024-01-31T10:27:13.795Z"
   },
   {
    "duration": 6,
    "start_time": "2024-01-31T10:27:13.805Z"
   },
   {
    "duration": 7,
    "start_time": "2024-01-31T10:27:13.812Z"
   },
   {
    "duration": 7,
    "start_time": "2024-01-31T10:27:13.821Z"
   },
   {
    "duration": 51,
    "start_time": "2024-01-31T10:27:13.829Z"
   },
   {
    "duration": 9,
    "start_time": "2024-01-31T10:27:13.882Z"
   },
   {
    "duration": 26,
    "start_time": "2024-01-31T10:27:13.893Z"
   },
   {
    "duration": 196,
    "start_time": "2024-01-31T10:27:13.921Z"
   },
   {
    "duration": 108,
    "start_time": "2024-01-31T10:27:14.119Z"
   },
   {
    "duration": 221,
    "start_time": "2024-01-31T10:27:14.228Z"
   },
   {
    "duration": 9,
    "start_time": "2024-01-31T10:27:14.451Z"
   },
   {
    "duration": 171,
    "start_time": "2024-01-31T10:27:14.472Z"
   },
   {
    "duration": 106,
    "start_time": "2024-01-31T10:27:14.645Z"
   },
   {
    "duration": 26,
    "start_time": "2024-01-31T10:27:14.753Z"
   },
   {
    "duration": 25,
    "start_time": "2024-01-31T10:27:14.781Z"
   },
   {
    "duration": 197,
    "start_time": "2024-01-31T10:27:14.812Z"
   },
   {
    "duration": 117,
    "start_time": "2024-01-31T10:27:15.012Z"
   },
   {
    "duration": 9,
    "start_time": "2024-01-31T10:27:15.131Z"
   },
   {
    "duration": 225,
    "start_time": "2024-01-31T10:27:15.141Z"
   },
   {
    "duration": 183,
    "start_time": "2024-01-31T10:27:15.367Z"
   },
   {
    "duration": 10,
    "start_time": "2024-01-31T10:27:15.551Z"
   },
   {
    "duration": 23,
    "start_time": "2024-01-31T10:27:15.562Z"
   },
   {
    "duration": 19,
    "start_time": "2024-01-31T10:27:15.587Z"
   },
   {
    "duration": 8,
    "start_time": "2024-01-31T10:27:15.607Z"
   },
   {
    "duration": 12,
    "start_time": "2024-01-31T10:27:15.616Z"
   },
   {
    "duration": 45,
    "start_time": "2024-01-31T10:27:15.629Z"
   },
   {
    "duration": 18,
    "start_time": "2024-01-31T10:27:15.676Z"
   },
   {
    "duration": 318,
    "start_time": "2024-01-31T10:27:15.695Z"
   },
   {
    "duration": 175,
    "start_time": "2024-01-31T10:27:16.015Z"
   },
   {
    "duration": 173,
    "start_time": "2024-01-31T10:27:16.191Z"
   },
   {
    "duration": 242,
    "start_time": "2024-01-31T10:27:16.366Z"
   },
   {
    "duration": 165,
    "start_time": "2024-01-31T10:27:16.610Z"
   },
   {
    "duration": 185,
    "start_time": "2024-01-31T10:27:16.777Z"
   },
   {
    "duration": 21,
    "start_time": "2024-01-31T10:27:16.964Z"
   },
   {
    "duration": 16,
    "start_time": "2024-01-31T10:27:16.987Z"
   },
   {
    "duration": 74,
    "start_time": "2024-01-31T10:27:17.004Z"
   },
   {
    "duration": 27,
    "start_time": "2024-01-31T10:27:17.080Z"
   },
   {
    "duration": 13,
    "start_time": "2024-01-31T10:27:17.110Z"
   },
   {
    "duration": 49,
    "start_time": "2024-01-31T10:27:17.125Z"
   },
   {
    "duration": 14,
    "start_time": "2024-01-31T10:27:17.176Z"
   },
   {
    "duration": 5,
    "start_time": "2024-01-31T10:27:17.191Z"
   },
   {
    "duration": 17,
    "start_time": "2024-01-31T10:27:17.198Z"
   },
   {
    "duration": 158,
    "start_time": "2024-01-31T10:27:17.218Z"
   },
   {
    "duration": 1732,
    "start_time": "2024-01-31T10:27:17.377Z"
   },
   {
    "duration": 5,
    "start_time": "2024-01-31T10:27:19.110Z"
   },
   {
    "duration": 8,
    "start_time": "2024-01-31T10:27:19.116Z"
   },
   {
    "duration": 260,
    "start_time": "2024-01-31T10:27:19.126Z"
   },
   {
    "duration": 1231,
    "start_time": "2024-01-31T10:27:57.667Z"
   },
   {
    "duration": 30,
    "start_time": "2024-01-31T10:27:58.900Z"
   },
   {
    "duration": 32,
    "start_time": "2024-01-31T10:27:58.931Z"
   },
   {
    "duration": 16,
    "start_time": "2024-01-31T10:27:58.965Z"
   },
   {
    "duration": 12,
    "start_time": "2024-01-31T10:27:58.983Z"
   },
   {
    "duration": 10,
    "start_time": "2024-01-31T10:27:58.997Z"
   },
   {
    "duration": 10,
    "start_time": "2024-01-31T10:27:59.009Z"
   },
   {
    "duration": 18,
    "start_time": "2024-01-31T10:27:59.021Z"
   },
   {
    "duration": 11,
    "start_time": "2024-01-31T10:27:59.041Z"
   },
   {
    "duration": 4,
    "start_time": "2024-01-31T10:27:59.055Z"
   },
   {
    "duration": 7,
    "start_time": "2024-01-31T10:27:59.072Z"
   },
   {
    "duration": 8,
    "start_time": "2024-01-31T10:27:59.081Z"
   },
   {
    "duration": 9,
    "start_time": "2024-01-31T10:27:59.090Z"
   },
   {
    "duration": 5,
    "start_time": "2024-01-31T10:27:59.100Z"
   },
   {
    "duration": 6,
    "start_time": "2024-01-31T10:27:59.107Z"
   },
   {
    "duration": 14,
    "start_time": "2024-01-31T10:27:59.114Z"
   },
   {
    "duration": 17,
    "start_time": "2024-01-31T10:27:59.129Z"
   },
   {
    "duration": 32,
    "start_time": "2024-01-31T10:27:59.147Z"
   },
   {
    "duration": 20,
    "start_time": "2024-01-31T10:27:59.181Z"
   },
   {
    "duration": 188,
    "start_time": "2024-01-31T10:27:59.203Z"
   },
   {
    "duration": 102,
    "start_time": "2024-01-31T10:27:59.393Z"
   },
   {
    "duration": 224,
    "start_time": "2024-01-31T10:27:59.497Z"
   },
   {
    "duration": 8,
    "start_time": "2024-01-31T10:27:59.722Z"
   },
   {
    "duration": 196,
    "start_time": "2024-01-31T10:27:59.731Z"
   },
   {
    "duration": 113,
    "start_time": "2024-01-31T10:27:59.928Z"
   },
   {
    "duration": 17,
    "start_time": "2024-01-31T10:28:00.042Z"
   },
   {
    "duration": 71,
    "start_time": "2024-01-31T10:28:00.080Z"
   },
   {
    "duration": 219,
    "start_time": "2024-01-31T10:28:00.155Z"
   },
   {
    "duration": 120,
    "start_time": "2024-01-31T10:28:00.376Z"
   },
   {
    "duration": 9,
    "start_time": "2024-01-31T10:28:00.497Z"
   },
   {
    "duration": 302,
    "start_time": "2024-01-31T10:28:00.509Z"
   },
   {
    "duration": 193,
    "start_time": "2024-01-31T10:28:00.813Z"
   },
   {
    "duration": 9,
    "start_time": "2024-01-31T10:28:01.007Z"
   },
   {
    "duration": 106,
    "start_time": "2024-01-31T10:28:01.018Z"
   },
   {
    "duration": 44,
    "start_time": "2024-01-31T10:28:01.125Z"
   },
   {
    "duration": 81,
    "start_time": "2024-01-31T10:28:01.170Z"
   },
   {
    "duration": 115,
    "start_time": "2024-01-31T10:28:01.253Z"
   },
   {
    "duration": 82,
    "start_time": "2024-01-31T10:28:01.370Z"
   },
   {
    "duration": 68,
    "start_time": "2024-01-31T10:28:01.453Z"
   },
   {
    "duration": 348,
    "start_time": "2024-01-31T10:28:01.522Z"
   },
   {
    "duration": 168,
    "start_time": "2024-01-31T10:28:01.872Z"
   },
   {
    "duration": 192,
    "start_time": "2024-01-31T10:28:02.042Z"
   },
   {
    "duration": 266,
    "start_time": "2024-01-31T10:28:02.236Z"
   },
   {
    "duration": 176,
    "start_time": "2024-01-31T10:28:02.504Z"
   },
   {
    "duration": 193,
    "start_time": "2024-01-31T10:28:02.682Z"
   },
   {
    "duration": 18,
    "start_time": "2024-01-31T10:28:02.877Z"
   },
   {
    "duration": 18,
    "start_time": "2024-01-31T10:28:02.896Z"
   },
   {
    "duration": 72,
    "start_time": "2024-01-31T10:28:02.915Z"
   },
   {
    "duration": 25,
    "start_time": "2024-01-31T10:28:02.989Z"
   },
   {
    "duration": 13,
    "start_time": "2024-01-31T10:28:03.016Z"
   },
   {
    "duration": 49,
    "start_time": "2024-01-31T10:28:03.030Z"
   },
   {
    "duration": 12,
    "start_time": "2024-01-31T10:28:03.080Z"
   },
   {
    "duration": 6,
    "start_time": "2024-01-31T10:28:03.093Z"
   },
   {
    "duration": 16,
    "start_time": "2024-01-31T10:28:03.100Z"
   },
   {
    "duration": 159,
    "start_time": "2024-01-31T10:28:03.117Z"
   },
   {
    "duration": 1831,
    "start_time": "2024-01-31T10:28:03.277Z"
   },
   {
    "duration": 5,
    "start_time": "2024-01-31T10:28:05.109Z"
   },
   {
    "duration": 53,
    "start_time": "2024-01-31T10:28:05.115Z"
   },
   {
    "duration": 240,
    "start_time": "2024-01-31T10:28:05.169Z"
   },
   {
    "duration": 1316,
    "start_time": "2024-01-31T13:19:08.210Z"
   },
   {
    "duration": 90,
    "start_time": "2024-01-31T13:19:09.528Z"
   },
   {
    "duration": 158,
    "start_time": "2024-01-31T13:19:09.619Z"
   },
   {
    "duration": 60,
    "start_time": "2024-01-31T13:19:09.779Z"
   },
   {
    "duration": 15,
    "start_time": "2024-01-31T13:19:09.841Z"
   },
   {
    "duration": 89,
    "start_time": "2024-01-31T13:19:09.858Z"
   },
   {
    "duration": 17,
    "start_time": "2024-01-31T13:19:09.949Z"
   },
   {
    "duration": 16,
    "start_time": "2024-01-31T13:19:09.968Z"
   },
   {
    "duration": 17,
    "start_time": "2024-01-31T13:19:09.995Z"
   },
   {
    "duration": 19,
    "start_time": "2024-01-31T13:19:10.016Z"
   },
   {
    "duration": 16,
    "start_time": "2024-01-31T13:19:10.037Z"
   },
   {
    "duration": 17,
    "start_time": "2024-01-31T13:19:10.055Z"
   },
   {
    "duration": 30,
    "start_time": "2024-01-31T13:19:10.073Z"
   },
   {
    "duration": 9,
    "start_time": "2024-01-31T13:19:10.105Z"
   },
   {
    "duration": 12,
    "start_time": "2024-01-31T13:19:10.115Z"
   },
   {
    "duration": 12,
    "start_time": "2024-01-31T13:19:10.129Z"
   },
   {
    "duration": 12,
    "start_time": "2024-01-31T13:19:10.143Z"
   },
   {
    "duration": 10,
    "start_time": "2024-01-31T13:19:10.156Z"
   },
   {
    "duration": 42,
    "start_time": "2024-01-31T13:19:10.167Z"
   },
   {
    "duration": 197,
    "start_time": "2024-01-31T13:19:10.212Z"
   },
   {
    "duration": 132,
    "start_time": "2024-01-31T13:19:10.411Z"
   },
   {
    "duration": 231,
    "start_time": "2024-01-31T13:19:10.544Z"
   },
   {
    "duration": 12,
    "start_time": "2024-01-31T13:19:10.777Z"
   },
   {
    "duration": 184,
    "start_time": "2024-01-31T13:19:10.792Z"
   },
   {
    "duration": 125,
    "start_time": "2024-01-31T13:19:10.982Z"
   },
   {
    "duration": 13,
    "start_time": "2024-01-31T13:19:11.109Z"
   },
   {
    "duration": 16,
    "start_time": "2024-01-31T13:19:11.123Z"
   },
   {
    "duration": 203,
    "start_time": "2024-01-31T13:19:11.142Z"
   },
   {
    "duration": 127,
    "start_time": "2024-01-31T13:19:11.346Z"
   },
   {
    "duration": 13,
    "start_time": "2024-01-31T13:19:11.482Z"
   },
   {
    "duration": 245,
    "start_time": "2024-01-31T13:19:11.497Z"
   },
   {
    "duration": 216,
    "start_time": "2024-01-31T13:19:11.745Z"
   },
   {
    "duration": 25,
    "start_time": "2024-01-31T13:19:11.963Z"
   },
   {
    "duration": 20,
    "start_time": "2024-01-31T13:19:11.989Z"
   },
   {
    "duration": 20,
    "start_time": "2024-01-31T13:19:12.011Z"
   },
   {
    "duration": 11,
    "start_time": "2024-01-31T13:19:12.033Z"
   },
   {
    "duration": 8,
    "start_time": "2024-01-31T13:19:12.046Z"
   },
   {
    "duration": 48,
    "start_time": "2024-01-31T13:19:12.056Z"
   },
   {
    "duration": 24,
    "start_time": "2024-01-31T13:19:12.106Z"
   },
   {
    "duration": 325,
    "start_time": "2024-01-31T13:19:12.132Z"
   },
   {
    "duration": 195,
    "start_time": "2024-01-31T13:19:12.459Z"
   },
   {
    "duration": 192,
    "start_time": "2024-01-31T13:19:12.656Z"
   },
   {
    "duration": 284,
    "start_time": "2024-01-31T13:19:12.849Z"
   },
   {
    "duration": 191,
    "start_time": "2024-01-31T13:19:13.135Z"
   },
   {
    "duration": 210,
    "start_time": "2024-01-31T13:19:13.328Z"
   },
   {
    "duration": 16,
    "start_time": "2024-01-31T13:19:13.540Z"
   },
   {
    "duration": 34,
    "start_time": "2024-01-31T13:19:13.557Z"
   },
   {
    "duration": 118,
    "start_time": "2024-01-31T13:19:13.596Z"
   },
   {
    "duration": 26,
    "start_time": "2024-01-31T13:19:13.715Z"
   },
   {
    "duration": 12,
    "start_time": "2024-01-31T13:19:13.742Z"
   },
   {
    "duration": 57,
    "start_time": "2024-01-31T13:19:13.756Z"
   },
   {
    "duration": 11,
    "start_time": "2024-01-31T13:19:13.815Z"
   },
   {
    "duration": 12,
    "start_time": "2024-01-31T13:19:13.828Z"
   },
   {
    "duration": 11,
    "start_time": "2024-01-31T13:19:13.841Z"
   },
   {
    "duration": 162,
    "start_time": "2024-01-31T13:19:13.853Z"
   },
   {
    "duration": 1941,
    "start_time": "2024-01-31T13:19:14.017Z"
   },
   {
    "duration": 5,
    "start_time": "2024-01-31T13:19:15.960Z"
   },
   {
    "duration": 22,
    "start_time": "2024-01-31T13:19:15.966Z"
   },
   {
    "duration": 307,
    "start_time": "2024-01-31T13:19:15.995Z"
   },
   {
    "duration": 3,
    "start_time": "2024-01-31T13:19:37.836Z"
   },
   {
    "duration": 6,
    "start_time": "2024-01-31T13:25:53.331Z"
   },
   {
    "duration": 6,
    "start_time": "2024-01-31T13:29:09.393Z"
   },
   {
    "duration": 5,
    "start_time": "2024-01-31T13:29:26.432Z"
   },
   {
    "duration": 1270,
    "start_time": "2024-01-31T13:30:43.662Z"
   },
   {
    "duration": 29,
    "start_time": "2024-01-31T13:30:44.934Z"
   },
   {
    "duration": 34,
    "start_time": "2024-01-31T13:30:44.965Z"
   },
   {
    "duration": 16,
    "start_time": "2024-01-31T13:30:45.001Z"
   },
   {
    "duration": 28,
    "start_time": "2024-01-31T13:30:45.019Z"
   },
   {
    "duration": 32,
    "start_time": "2024-01-31T13:30:45.049Z"
   },
   {
    "duration": 18,
    "start_time": "2024-01-31T13:30:45.093Z"
   },
   {
    "duration": 34,
    "start_time": "2024-01-31T13:30:45.113Z"
   },
   {
    "duration": 48,
    "start_time": "2024-01-31T13:30:45.149Z"
   },
   {
    "duration": 24,
    "start_time": "2024-01-31T13:30:45.199Z"
   },
   {
    "duration": 22,
    "start_time": "2024-01-31T13:30:45.225Z"
   },
   {
    "duration": 28,
    "start_time": "2024-01-31T13:30:45.249Z"
   },
   {
    "duration": 18,
    "start_time": "2024-01-31T13:30:45.278Z"
   },
   {
    "duration": 5,
    "start_time": "2024-01-31T13:30:45.299Z"
   },
   {
    "duration": 41,
    "start_time": "2024-01-31T13:30:45.306Z"
   },
   {
    "duration": 16,
    "start_time": "2024-01-31T13:30:45.349Z"
   },
   {
    "duration": 32,
    "start_time": "2024-01-31T13:30:45.367Z"
   },
   {
    "duration": 18,
    "start_time": "2024-01-31T13:30:45.400Z"
   },
   {
    "duration": 26,
    "start_time": "2024-01-31T13:30:45.419Z"
   },
   {
    "duration": 174,
    "start_time": "2024-01-31T13:30:45.447Z"
   },
   {
    "duration": 106,
    "start_time": "2024-01-31T13:30:45.622Z"
   },
   {
    "duration": 229,
    "start_time": "2024-01-31T13:30:45.730Z"
   },
   {
    "duration": 24,
    "start_time": "2024-01-31T13:30:45.961Z"
   },
   {
    "duration": 201,
    "start_time": "2024-01-31T13:30:45.988Z"
   },
   {
    "duration": 115,
    "start_time": "2024-01-31T13:30:46.197Z"
   },
   {
    "duration": 12,
    "start_time": "2024-01-31T13:30:46.313Z"
   },
   {
    "duration": 9,
    "start_time": "2024-01-31T13:30:46.327Z"
   },
   {
    "duration": 201,
    "start_time": "2024-01-31T13:30:46.337Z"
   },
   {
    "duration": 116,
    "start_time": "2024-01-31T13:30:46.540Z"
   },
   {
    "duration": 8,
    "start_time": "2024-01-31T13:30:46.657Z"
   },
   {
    "duration": 208,
    "start_time": "2024-01-31T13:30:46.667Z"
   },
   {
    "duration": 200,
    "start_time": "2024-01-31T13:30:46.877Z"
   },
   {
    "duration": 20,
    "start_time": "2024-01-31T13:30:47.078Z"
   },
   {
    "duration": 22,
    "start_time": "2024-01-31T13:30:47.100Z"
   },
   {
    "duration": 24,
    "start_time": "2024-01-31T13:30:47.123Z"
   },
   {
    "duration": 15,
    "start_time": "2024-01-31T13:30:47.148Z"
   },
   {
    "duration": 9,
    "start_time": "2024-01-31T13:30:47.165Z"
   },
   {
    "duration": 31,
    "start_time": "2024-01-31T13:30:47.175Z"
   },
   {
    "duration": 34,
    "start_time": "2024-01-31T13:30:47.207Z"
   },
   {
    "duration": 310,
    "start_time": "2024-01-31T13:30:47.243Z"
   },
   {
    "duration": 190,
    "start_time": "2024-01-31T13:30:47.558Z"
   },
   {
    "duration": 175,
    "start_time": "2024-01-31T13:30:47.749Z"
   },
   {
    "duration": 262,
    "start_time": "2024-01-31T13:30:47.926Z"
   },
   {
    "duration": 159,
    "start_time": "2024-01-31T13:30:48.189Z"
   },
   {
    "duration": 189,
    "start_time": "2024-01-31T13:30:48.349Z"
   },
   {
    "duration": 16,
    "start_time": "2024-01-31T13:30:48.540Z"
   },
   {
    "duration": 40,
    "start_time": "2024-01-31T13:30:48.558Z"
   },
   {
    "duration": 54,
    "start_time": "2024-01-31T13:30:48.599Z"
   },
   {
    "duration": 36,
    "start_time": "2024-01-31T13:30:48.655Z"
   },
   {
    "duration": 13,
    "start_time": "2024-01-31T13:30:48.692Z"
   },
   {
    "duration": 41,
    "start_time": "2024-01-31T13:30:48.707Z"
   },
   {
    "duration": 13,
    "start_time": "2024-01-31T13:30:48.750Z"
   },
   {
    "duration": 23,
    "start_time": "2024-01-31T13:30:48.764Z"
   },
   {
    "duration": 33,
    "start_time": "2024-01-31T13:30:48.788Z"
   },
   {
    "duration": 173,
    "start_time": "2024-01-31T13:30:48.822Z"
   },
   {
    "duration": 1776,
    "start_time": "2024-01-31T13:30:48.997Z"
   },
   {
    "duration": 21,
    "start_time": "2024-01-31T13:30:50.774Z"
   },
   {
    "duration": 10,
    "start_time": "2024-01-31T13:30:50.796Z"
   },
   {
    "duration": 247,
    "start_time": "2024-01-31T13:30:50.808Z"
   },
   {
    "duration": 84,
    "start_time": "2024-02-01T08:51:51.682Z"
   },
   {
    "duration": 39,
    "start_time": "2024-02-01T08:52:40.579Z"
   },
   {
    "duration": 1249,
    "start_time": "2024-02-01T08:52:53.123Z"
   },
   {
    "duration": 72,
    "start_time": "2024-02-01T08:52:54.374Z"
   },
   {
    "duration": 69,
    "start_time": "2024-02-01T08:52:54.448Z"
   },
   {
    "duration": 50,
    "start_time": "2024-02-01T08:52:54.519Z"
   },
   {
    "duration": 12,
    "start_time": "2024-02-01T08:52:54.570Z"
   },
   {
    "duration": 8,
    "start_time": "2024-02-01T08:52:54.583Z"
   },
   {
    "duration": 11,
    "start_time": "2024-02-01T08:52:54.592Z"
   },
   {
    "duration": 10,
    "start_time": "2024-02-01T08:52:54.605Z"
   },
   {
    "duration": 10,
    "start_time": "2024-02-01T08:52:54.617Z"
   },
   {
    "duration": 25,
    "start_time": "2024-02-01T08:52:54.629Z"
   },
   {
    "duration": 10,
    "start_time": "2024-02-01T08:52:54.656Z"
   },
   {
    "duration": 7,
    "start_time": "2024-02-01T08:52:54.668Z"
   },
   {
    "duration": 5,
    "start_time": "2024-02-01T08:52:54.677Z"
   },
   {
    "duration": 7,
    "start_time": "2024-02-01T08:52:54.683Z"
   },
   {
    "duration": 5,
    "start_time": "2024-02-01T08:52:54.691Z"
   },
   {
    "duration": 4,
    "start_time": "2024-02-01T08:52:54.697Z"
   },
   {
    "duration": 12,
    "start_time": "2024-02-01T08:52:54.702Z"
   },
   {
    "duration": 10,
    "start_time": "2024-02-01T08:52:54.716Z"
   },
   {
    "duration": 39,
    "start_time": "2024-02-01T08:52:54.727Z"
   },
   {
    "duration": 20,
    "start_time": "2024-02-01T08:52:54.768Z"
   },
   {
    "duration": 160,
    "start_time": "2024-02-01T08:52:54.789Z"
   },
   {
    "duration": 84,
    "start_time": "2024-02-01T08:52:54.951Z"
   },
   {
    "duration": 195,
    "start_time": "2024-02-01T08:52:55.037Z"
   },
   {
    "duration": 6,
    "start_time": "2024-02-01T08:52:55.234Z"
   },
   {
    "duration": 158,
    "start_time": "2024-02-01T08:52:55.241Z"
   },
   {
    "duration": 89,
    "start_time": "2024-02-01T08:52:55.400Z"
   },
   {
    "duration": 11,
    "start_time": "2024-02-01T08:52:55.490Z"
   },
   {
    "duration": 10,
    "start_time": "2024-02-01T08:52:55.504Z"
   },
   {
    "duration": 175,
    "start_time": "2024-02-01T08:52:55.515Z"
   },
   {
    "duration": 106,
    "start_time": "2024-02-01T08:52:55.692Z"
   },
   {
    "duration": 7,
    "start_time": "2024-02-01T08:52:55.800Z"
   },
   {
    "duration": 176,
    "start_time": "2024-02-01T08:52:55.809Z"
   },
   {
    "duration": 168,
    "start_time": "2024-02-01T08:52:55.987Z"
   },
   {
    "duration": 15,
    "start_time": "2024-02-01T08:52:56.156Z"
   },
   {
    "duration": 12,
    "start_time": "2024-02-01T08:52:56.172Z"
   },
   {
    "duration": 27,
    "start_time": "2024-02-01T08:52:56.186Z"
   },
   {
    "duration": 11,
    "start_time": "2024-02-01T08:52:56.215Z"
   },
   {
    "duration": 8,
    "start_time": "2024-02-01T08:52:56.227Z"
   },
   {
    "duration": 42,
    "start_time": "2024-02-01T08:52:56.237Z"
   },
   {
    "duration": 23,
    "start_time": "2024-02-01T08:52:56.281Z"
   },
   {
    "duration": 278,
    "start_time": "2024-02-01T08:52:56.306Z"
   },
   {
    "duration": 150,
    "start_time": "2024-02-01T08:52:56.586Z"
   },
   {
    "duration": 161,
    "start_time": "2024-02-01T08:52:56.738Z"
   },
   {
    "duration": 239,
    "start_time": "2024-02-01T08:52:56.901Z"
   },
   {
    "duration": 157,
    "start_time": "2024-02-01T08:52:57.141Z"
   },
   {
    "duration": 170,
    "start_time": "2024-02-01T08:52:57.300Z"
   },
   {
    "duration": 17,
    "start_time": "2024-02-01T08:52:57.471Z"
   },
   {
    "duration": 17,
    "start_time": "2024-02-01T08:52:57.489Z"
   },
   {
    "duration": 70,
    "start_time": "2024-02-01T08:52:57.507Z"
   },
   {
    "duration": 24,
    "start_time": "2024-02-01T08:52:57.579Z"
   },
   {
    "duration": 12,
    "start_time": "2024-02-01T08:52:57.605Z"
   },
   {
    "duration": 26,
    "start_time": "2024-02-01T08:52:57.619Z"
   },
   {
    "duration": 11,
    "start_time": "2024-02-01T08:52:57.666Z"
   },
   {
    "duration": 6,
    "start_time": "2024-02-01T08:52:57.678Z"
   },
   {
    "duration": 11,
    "start_time": "2024-02-01T08:52:57.686Z"
   },
   {
    "duration": 148,
    "start_time": "2024-02-01T08:52:57.698Z"
   },
   {
    "duration": 1682,
    "start_time": "2024-02-01T08:52:57.848Z"
   },
   {
    "duration": 4,
    "start_time": "2024-02-01T08:52:59.531Z"
   },
   {
    "duration": 7,
    "start_time": "2024-02-01T08:52:59.536Z"
   },
   {
    "duration": 237,
    "start_time": "2024-02-01T08:52:59.545Z"
   },
   {
    "duration": 10,
    "start_time": "2024-02-01T09:02:06.700Z"
   },
   {
    "duration": 1175,
    "start_time": "2024-02-01T09:06:55.388Z"
   },
   {
    "duration": 28,
    "start_time": "2024-02-01T09:06:56.565Z"
   },
   {
    "duration": 28,
    "start_time": "2024-02-01T09:06:56.594Z"
   },
   {
    "duration": 14,
    "start_time": "2024-02-01T09:06:56.624Z"
   },
   {
    "duration": 11,
    "start_time": "2024-02-01T09:06:56.640Z"
   },
   {
    "duration": 9,
    "start_time": "2024-02-01T09:06:56.653Z"
   },
   {
    "duration": 8,
    "start_time": "2024-02-01T09:06:56.664Z"
   },
   {
    "duration": 15,
    "start_time": "2024-02-01T09:06:56.673Z"
   },
   {
    "duration": 12,
    "start_time": "2024-02-01T09:06:56.689Z"
   },
   {
    "duration": 9,
    "start_time": "2024-02-01T09:06:56.703Z"
   },
   {
    "duration": 12,
    "start_time": "2024-02-01T09:06:56.713Z"
   },
   {
    "duration": 4,
    "start_time": "2024-02-01T09:06:56.726Z"
   },
   {
    "duration": 7,
    "start_time": "2024-02-01T09:06:56.731Z"
   },
   {
    "duration": 26,
    "start_time": "2024-02-01T09:06:56.739Z"
   },
   {
    "duration": 7,
    "start_time": "2024-02-01T09:06:56.767Z"
   },
   {
    "duration": 4,
    "start_time": "2024-02-01T09:06:56.776Z"
   },
   {
    "duration": 4,
    "start_time": "2024-02-01T09:06:56.781Z"
   },
   {
    "duration": 8,
    "start_time": "2024-02-01T09:06:56.786Z"
   },
   {
    "duration": 10,
    "start_time": "2024-02-01T09:06:56.796Z"
   },
   {
    "duration": 12,
    "start_time": "2024-02-01T09:06:56.807Z"
   },
   {
    "duration": 57,
    "start_time": "2024-02-01T09:06:56.820Z"
   },
   {
    "duration": 160,
    "start_time": "2024-02-01T09:06:56.878Z"
   },
   {
    "duration": 84,
    "start_time": "2024-02-01T09:06:57.040Z"
   },
   {
    "duration": 197,
    "start_time": "2024-02-01T09:06:57.125Z"
   },
   {
    "duration": 7,
    "start_time": "2024-02-01T09:06:57.324Z"
   },
   {
    "duration": 158,
    "start_time": "2024-02-01T09:06:57.333Z"
   },
   {
    "duration": 96,
    "start_time": "2024-02-01T09:06:57.492Z"
   },
   {
    "duration": 12,
    "start_time": "2024-02-01T09:06:57.591Z"
   },
   {
    "duration": 7,
    "start_time": "2024-02-01T09:06:57.605Z"
   },
   {
    "duration": 188,
    "start_time": "2024-02-01T09:06:57.614Z"
   },
   {
    "duration": 110,
    "start_time": "2024-02-01T09:06:57.803Z"
   },
   {
    "duration": 8,
    "start_time": "2024-02-01T09:06:57.914Z"
   },
   {
    "duration": 190,
    "start_time": "2024-02-01T09:06:57.924Z"
   },
   {
    "duration": 191,
    "start_time": "2024-02-01T09:06:58.116Z"
   },
   {
    "duration": 9,
    "start_time": "2024-02-01T09:06:58.309Z"
   },
   {
    "duration": 22,
    "start_time": "2024-02-01T09:06:58.320Z"
   },
   {
    "duration": 31,
    "start_time": "2024-02-01T09:06:58.344Z"
   },
   {
    "duration": 8,
    "start_time": "2024-02-01T09:06:58.377Z"
   },
   {
    "duration": 7,
    "start_time": "2024-02-01T09:06:58.387Z"
   },
   {
    "duration": 22,
    "start_time": "2024-02-01T09:06:58.396Z"
   },
   {
    "duration": 20,
    "start_time": "2024-02-01T09:06:58.420Z"
   },
   {
    "duration": 278,
    "start_time": "2024-02-01T09:06:58.442Z"
   },
   {
    "duration": 151,
    "start_time": "2024-02-01T09:06:58.721Z"
   },
   {
    "duration": 171,
    "start_time": "2024-02-01T09:06:58.874Z"
   },
   {
    "duration": 211,
    "start_time": "2024-02-01T09:06:59.047Z"
   },
   {
    "duration": 153,
    "start_time": "2024-02-01T09:06:59.260Z"
   },
   {
    "duration": 182,
    "start_time": "2024-02-01T09:06:59.415Z"
   },
   {
    "duration": 15,
    "start_time": "2024-02-01T09:06:59.598Z"
   },
   {
    "duration": 13,
    "start_time": "2024-02-01T09:06:59.615Z"
   },
   {
    "duration": 63,
    "start_time": "2024-02-01T09:06:59.629Z"
   },
   {
    "duration": 21,
    "start_time": "2024-02-01T09:06:59.694Z"
   },
   {
    "duration": 11,
    "start_time": "2024-02-01T09:06:59.716Z"
   },
   {
    "duration": 44,
    "start_time": "2024-02-01T09:06:59.729Z"
   },
   {
    "duration": 14,
    "start_time": "2024-02-01T09:06:59.775Z"
   },
   {
    "duration": 6,
    "start_time": "2024-02-01T09:06:59.791Z"
   },
   {
    "duration": 16,
    "start_time": "2024-02-01T09:06:59.798Z"
   },
   {
    "duration": 156,
    "start_time": "2024-02-01T09:06:59.817Z"
   },
   {
    "duration": 1570,
    "start_time": "2024-02-01T09:06:59.975Z"
   },
   {
    "duration": 5,
    "start_time": "2024-02-01T09:07:01.547Z"
   },
   {
    "duration": 29,
    "start_time": "2024-02-01T09:07:01.564Z"
   },
   {
    "duration": 257,
    "start_time": "2024-02-01T09:07:01.595Z"
   },
   {
    "duration": 3,
    "start_time": "2024-02-01T09:19:39.313Z"
   },
   {
    "duration": 12,
    "start_time": "2024-02-01T09:19:44.132Z"
   },
   {
    "duration": 12,
    "start_time": "2024-02-01T09:23:03.574Z"
   },
   {
    "duration": 1172,
    "start_time": "2024-02-01T09:24:41.785Z"
   },
   {
    "duration": 28,
    "start_time": "2024-02-01T09:24:42.959Z"
   },
   {
    "duration": 27,
    "start_time": "2024-02-01T09:24:42.988Z"
   },
   {
    "duration": 14,
    "start_time": "2024-02-01T09:24:43.017Z"
   },
   {
    "duration": 15,
    "start_time": "2024-02-01T09:24:43.032Z"
   },
   {
    "duration": 11,
    "start_time": "2024-02-01T09:24:43.048Z"
   },
   {
    "duration": 16,
    "start_time": "2024-02-01T09:24:43.060Z"
   },
   {
    "duration": 12,
    "start_time": "2024-02-01T09:24:43.077Z"
   },
   {
    "duration": 11,
    "start_time": "2024-02-01T09:24:43.090Z"
   },
   {
    "duration": 4,
    "start_time": "2024-02-01T09:24:43.104Z"
   },
   {
    "duration": 7,
    "start_time": "2024-02-01T09:24:43.110Z"
   },
   {
    "duration": 8,
    "start_time": "2024-02-01T09:24:43.118Z"
   },
   {
    "duration": 10,
    "start_time": "2024-02-01T09:24:43.128Z"
   },
   {
    "duration": 10,
    "start_time": "2024-02-01T09:24:43.139Z"
   },
   {
    "duration": 18,
    "start_time": "2024-02-01T09:24:43.150Z"
   },
   {
    "duration": 9,
    "start_time": "2024-02-01T09:24:43.170Z"
   },
   {
    "duration": 5,
    "start_time": "2024-02-01T09:24:43.181Z"
   },
   {
    "duration": 11,
    "start_time": "2024-02-01T09:24:43.187Z"
   },
   {
    "duration": 10,
    "start_time": "2024-02-01T09:24:43.200Z"
   },
   {
    "duration": 65,
    "start_time": "2024-02-01T09:24:43.211Z"
   },
   {
    "duration": 169,
    "start_time": "2024-02-01T09:24:43.278Z"
   },
   {
    "duration": 85,
    "start_time": "2024-02-01T09:24:43.448Z"
   },
   {
    "duration": 206,
    "start_time": "2024-02-01T09:24:43.535Z"
   },
   {
    "duration": 9,
    "start_time": "2024-02-01T09:24:43.743Z"
   },
   {
    "duration": 155,
    "start_time": "2024-02-01T09:24:43.764Z"
   },
   {
    "duration": 96,
    "start_time": "2024-02-01T09:24:43.921Z"
   },
   {
    "duration": 13,
    "start_time": "2024-02-01T09:24:44.018Z"
   },
   {
    "duration": 19,
    "start_time": "2024-02-01T09:24:44.034Z"
   },
   {
    "duration": 162,
    "start_time": "2024-02-01T09:24:44.055Z"
   },
   {
    "duration": 111,
    "start_time": "2024-02-01T09:24:44.218Z"
   },
   {
    "duration": 8,
    "start_time": "2024-02-01T09:24:44.330Z"
   },
   {
    "duration": 199,
    "start_time": "2024-02-01T09:24:44.339Z"
   },
   {
    "duration": 172,
    "start_time": "2024-02-01T09:24:44.540Z"
   },
   {
    "duration": 9,
    "start_time": "2024-02-01T09:24:44.713Z"
   },
   {
    "duration": 12,
    "start_time": "2024-02-01T09:24:44.723Z"
   },
   {
    "duration": 36,
    "start_time": "2024-02-01T09:24:44.736Z"
   },
   {
    "duration": 6,
    "start_time": "2024-02-01T09:24:44.773Z"
   },
   {
    "duration": 6,
    "start_time": "2024-02-01T09:24:44.780Z"
   },
   {
    "duration": 16,
    "start_time": "2024-02-01T09:24:44.787Z"
   },
   {
    "duration": 19,
    "start_time": "2024-02-01T09:24:44.804Z"
   },
   {
    "duration": 292,
    "start_time": "2024-02-01T09:24:44.824Z"
   },
   {
    "duration": 150,
    "start_time": "2024-02-01T09:24:45.117Z"
   },
   {
    "duration": 153,
    "start_time": "2024-02-01T09:24:45.269Z"
   },
   {
    "duration": 219,
    "start_time": "2024-02-01T09:24:45.423Z"
   },
   {
    "duration": 170,
    "start_time": "2024-02-01T09:24:45.644Z"
   },
   {
    "duration": 162,
    "start_time": "2024-02-01T09:24:45.815Z"
   },
   {
    "duration": 15,
    "start_time": "2024-02-01T09:24:45.978Z"
   },
   {
    "duration": 13,
    "start_time": "2024-02-01T09:24:45.995Z"
   },
   {
    "duration": 63,
    "start_time": "2024-02-01T09:24:46.010Z"
   },
   {
    "duration": 22,
    "start_time": "2024-02-01T09:24:46.075Z"
   },
   {
    "duration": 11,
    "start_time": "2024-02-01T09:24:46.099Z"
   },
   {
    "duration": 23,
    "start_time": "2024-02-01T09:24:46.111Z"
   },
   {
    "duration": 33,
    "start_time": "2024-02-01T09:24:46.135Z"
   },
   {
    "duration": 4,
    "start_time": "2024-02-01T09:24:46.170Z"
   },
   {
    "duration": 13,
    "start_time": "2024-02-01T09:24:46.176Z"
   },
   {
    "duration": 140,
    "start_time": "2024-02-01T09:24:46.190Z"
   },
   {
    "duration": 1626,
    "start_time": "2024-02-01T09:24:46.331Z"
   },
   {
    "duration": 8,
    "start_time": "2024-02-01T09:24:47.959Z"
   },
   {
    "duration": 10,
    "start_time": "2024-02-01T09:24:47.968Z"
   },
   {
    "duration": 233,
    "start_time": "2024-02-01T09:24:47.979Z"
   },
   {
    "duration": 8,
    "start_time": "2024-02-01T09:26:30.727Z"
   },
   {
    "duration": 122,
    "start_time": "2024-02-01T10:29:08.413Z"
   },
   {
    "duration": 93,
    "start_time": "2024-02-01T10:29:23.481Z"
   },
   {
    "duration": 118,
    "start_time": "2024-02-01T10:29:56.722Z"
   },
   {
    "duration": 125,
    "start_time": "2024-02-01T10:30:18.132Z"
   },
   {
    "duration": 131,
    "start_time": "2024-02-01T10:30:48.294Z"
   },
   {
    "duration": 127,
    "start_time": "2024-02-01T10:31:02.423Z"
   },
   {
    "duration": 130,
    "start_time": "2024-02-01T10:31:48.225Z"
   },
   {
    "duration": 86,
    "start_time": "2024-02-01T10:36:34.749Z"
   },
   {
    "duration": 59,
    "start_time": "2024-02-01T10:42:24.655Z"
   },
   {
    "duration": 119,
    "start_time": "2024-02-01T10:42:37.714Z"
   },
   {
    "duration": 104,
    "start_time": "2024-02-01T10:43:26.387Z"
   },
   {
    "duration": 94,
    "start_time": "2024-02-01T10:44:03.437Z"
   },
   {
    "duration": 69,
    "start_time": "2024-02-01T10:45:05.040Z"
   },
   {
    "duration": 189,
    "start_time": "2024-02-01T10:46:17.735Z"
   },
   {
    "duration": 75,
    "start_time": "2024-02-01T10:53:13.526Z"
   },
   {
    "duration": 168,
    "start_time": "2024-02-01T10:53:36.715Z"
   },
   {
    "duration": 184,
    "start_time": "2024-02-01T10:53:44.513Z"
   },
   {
    "duration": 175,
    "start_time": "2024-02-01T10:54:08.269Z"
   },
   {
    "duration": 13,
    "start_time": "2024-02-01T10:55:43.099Z"
   },
   {
    "duration": 20,
    "start_time": "2024-02-01T10:57:04.928Z"
   },
   {
    "duration": 16,
    "start_time": "2024-02-01T10:57:49.364Z"
   },
   {
    "duration": 15,
    "start_time": "2024-02-01T10:58:37.490Z"
   },
   {
    "duration": 15,
    "start_time": "2024-02-01T10:58:53.189Z"
   },
   {
    "duration": 14,
    "start_time": "2024-02-01T10:59:09.006Z"
   },
   {
    "duration": 15,
    "start_time": "2024-02-01T10:59:22.455Z"
   },
   {
    "duration": 15,
    "start_time": "2024-02-01T11:03:27.703Z"
   },
   {
    "duration": 14,
    "start_time": "2024-02-01T11:07:29.723Z"
   },
   {
    "duration": 7,
    "start_time": "2024-02-01T11:08:30.821Z"
   },
   {
    "duration": 15,
    "start_time": "2024-02-01T11:12:38.578Z"
   },
   {
    "duration": 15,
    "start_time": "2024-02-01T11:14:30.627Z"
   },
   {
    "duration": 105,
    "start_time": "2024-02-01T11:15:45.390Z"
   },
   {
    "duration": 240,
    "start_time": "2024-02-01T11:19:12.008Z"
   },
   {
    "duration": 215,
    "start_time": "2024-02-01T11:19:28.154Z"
   },
   {
    "duration": 75,
    "start_time": "2024-02-01T11:20:26.882Z"
   },
   {
    "duration": 10,
    "start_time": "2024-02-01T11:23:03.017Z"
   },
   {
    "duration": 81,
    "start_time": "2024-02-01T11:44:12.601Z"
   },
   {
    "duration": 87,
    "start_time": "2024-02-01T11:44:48.448Z"
   },
   {
    "duration": 67,
    "start_time": "2024-02-01T11:45:23.201Z"
   },
   {
    "duration": 514,
    "start_time": "2024-02-01T11:45:35.186Z"
   },
   {
    "duration": 75,
    "start_time": "2024-02-01T11:46:33.467Z"
   },
   {
    "duration": 314,
    "start_time": "2024-02-01T11:46:40.896Z"
   },
   {
    "duration": 219,
    "start_time": "2024-02-01T11:47:57.824Z"
   },
   {
    "duration": 204,
    "start_time": "2024-02-01T11:48:33.339Z"
   },
   {
    "duration": 237,
    "start_time": "2024-02-01T11:49:40.490Z"
   },
   {
    "duration": 223,
    "start_time": "2024-02-01T11:50:20.573Z"
   },
   {
    "duration": 218,
    "start_time": "2024-02-01T11:50:32.526Z"
   },
   {
    "duration": 298,
    "start_time": "2024-02-01T11:50:42.393Z"
   },
   {
    "duration": 75,
    "start_time": "2024-02-01T11:52:01.242Z"
   },
   {
    "duration": 21,
    "start_time": "2024-02-01T12:06:12.933Z"
   },
   {
    "duration": 22,
    "start_time": "2024-02-01T12:06:17.494Z"
   },
   {
    "duration": 13,
    "start_time": "2024-02-01T12:06:20.757Z"
   },
   {
    "duration": 15,
    "start_time": "2024-02-01T12:06:42.866Z"
   },
   {
    "duration": 14,
    "start_time": "2024-02-01T12:06:45.104Z"
   },
   {
    "duration": 17,
    "start_time": "2024-02-01T12:07:03.691Z"
   },
   {
    "duration": 78,
    "start_time": "2024-02-01T12:07:48.322Z"
   },
   {
    "duration": 1144,
    "start_time": "2024-02-01T12:08:08.621Z"
   },
   {
    "duration": 28,
    "start_time": "2024-02-01T12:08:09.767Z"
   },
   {
    "duration": 27,
    "start_time": "2024-02-01T12:08:09.796Z"
   },
   {
    "duration": 15,
    "start_time": "2024-02-01T12:08:09.825Z"
   },
   {
    "duration": 12,
    "start_time": "2024-02-01T12:08:09.841Z"
   },
   {
    "duration": 19,
    "start_time": "2024-02-01T12:08:09.854Z"
   },
   {
    "duration": 9,
    "start_time": "2024-02-01T12:08:09.874Z"
   },
   {
    "duration": 14,
    "start_time": "2024-02-01T12:08:09.884Z"
   },
   {
    "duration": 16,
    "start_time": "2024-02-01T12:08:09.900Z"
   },
   {
    "duration": 4,
    "start_time": "2024-02-01T12:08:09.919Z"
   },
   {
    "duration": 8,
    "start_time": "2024-02-01T12:08:09.925Z"
   },
   {
    "duration": 6,
    "start_time": "2024-02-01T12:08:09.935Z"
   },
   {
    "duration": 26,
    "start_time": "2024-02-01T12:08:09.942Z"
   },
   {
    "duration": 18,
    "start_time": "2024-02-01T12:08:09.970Z"
   },
   {
    "duration": 4,
    "start_time": "2024-02-01T12:08:09.990Z"
   },
   {
    "duration": 17,
    "start_time": "2024-02-01T12:08:09.995Z"
   },
   {
    "duration": 24,
    "start_time": "2024-02-01T12:08:10.013Z"
   },
   {
    "duration": 25,
    "start_time": "2024-02-01T12:08:10.038Z"
   },
   {
    "duration": 25,
    "start_time": "2024-02-01T12:08:10.065Z"
   },
   {
    "duration": 19,
    "start_time": "2024-02-01T12:08:10.091Z"
   },
   {
    "duration": 141,
    "start_time": "2024-02-01T12:08:10.112Z"
   },
   {
    "duration": 88,
    "start_time": "2024-02-01T12:08:10.255Z"
   },
   {
    "duration": 208,
    "start_time": "2024-02-01T12:08:10.344Z"
   },
   {
    "duration": 14,
    "start_time": "2024-02-01T12:08:10.553Z"
   },
   {
    "duration": 161,
    "start_time": "2024-02-01T12:08:10.568Z"
   },
   {
    "duration": 103,
    "start_time": "2024-02-01T12:08:10.730Z"
   },
   {
    "duration": 11,
    "start_time": "2024-02-01T12:08:10.835Z"
   },
   {
    "duration": 8,
    "start_time": "2024-02-01T12:08:10.865Z"
   },
   {
    "duration": 162,
    "start_time": "2024-02-01T12:08:10.874Z"
   },
   {
    "duration": 114,
    "start_time": "2024-02-01T12:08:11.038Z"
   },
   {
    "duration": 21,
    "start_time": "2024-02-01T12:08:11.153Z"
   },
   {
    "duration": 22,
    "start_time": "2024-02-01T12:08:11.176Z"
   },
   {
    "duration": 204,
    "start_time": "2024-02-01T12:08:11.200Z"
   },
   {
    "duration": 14,
    "start_time": "2024-02-01T12:08:11.406Z"
   },
   {
    "duration": 21,
    "start_time": "2024-02-01T12:08:11.422Z"
   },
   {
    "duration": 36,
    "start_time": "2024-02-01T12:08:11.444Z"
   },
   {
    "duration": 188,
    "start_time": "2024-02-01T12:08:11.482Z"
   },
   {
    "duration": 16,
    "start_time": "2024-02-01T12:08:11.672Z"
   },
   {
    "duration": 12,
    "start_time": "2024-02-01T12:08:11.690Z"
   },
   {
    "duration": 24,
    "start_time": "2024-02-01T12:08:11.704Z"
   },
   {
    "duration": 7,
    "start_time": "2024-02-01T12:08:11.729Z"
   },
   {
    "duration": 28,
    "start_time": "2024-02-01T12:08:11.737Z"
   },
   {
    "duration": 32,
    "start_time": "2024-02-01T12:08:11.766Z"
   },
   {
    "duration": 34,
    "start_time": "2024-02-01T12:08:11.799Z"
   },
   {
    "duration": 289,
    "start_time": "2024-02-01T12:08:11.835Z"
   },
   {
    "duration": 160,
    "start_time": "2024-02-01T12:08:12.125Z"
   },
   {
    "duration": 152,
    "start_time": "2024-02-01T12:08:12.287Z"
   },
   {
    "duration": 230,
    "start_time": "2024-02-01T12:08:12.441Z"
   },
   {
    "duration": 152,
    "start_time": "2024-02-01T12:08:12.672Z"
   },
   {
    "duration": 162,
    "start_time": "2024-02-01T12:08:12.825Z"
   },
   {
    "duration": 15,
    "start_time": "2024-02-01T12:08:12.988Z"
   },
   {
    "duration": 13,
    "start_time": "2024-02-01T12:08:13.004Z"
   },
   {
    "duration": 231,
    "start_time": "2024-02-01T12:08:13.018Z"
   },
   {
    "duration": 219,
    "start_time": "2024-02-01T12:08:13.251Z"
   },
   {
    "duration": 43,
    "start_time": "2024-02-01T12:08:13.472Z"
   },
   {
    "duration": 113,
    "start_time": "2024-02-01T12:08:13.517Z"
   },
   {
    "duration": 11,
    "start_time": "2024-02-01T12:08:13.632Z"
   },
   {
    "duration": 29,
    "start_time": "2024-02-01T12:08:13.645Z"
   },
   {
    "duration": 10,
    "start_time": "2024-02-01T12:08:13.676Z"
   },
   {
    "duration": 5,
    "start_time": "2024-02-01T12:08:13.687Z"
   },
   {
    "duration": 13,
    "start_time": "2024-02-01T12:08:13.694Z"
   },
   {
    "duration": 148,
    "start_time": "2024-02-01T12:08:13.708Z"
   },
   {
    "duration": 1581,
    "start_time": "2024-02-01T12:08:13.857Z"
   },
   {
    "duration": 4,
    "start_time": "2024-02-01T12:08:15.440Z"
   },
   {
    "duration": 7,
    "start_time": "2024-02-01T12:08:15.445Z"
   },
   {
    "duration": 128,
    "start_time": "2024-02-01T12:08:15.454Z"
   },
   {
    "duration": 87,
    "start_time": "2024-02-01T12:19:25.476Z"
   },
   {
    "duration": 97,
    "start_time": "2024-02-01T12:19:51.981Z"
   },
   {
    "duration": 12,
    "start_time": "2024-02-01T12:21:32.419Z"
   },
   {
    "duration": 69,
    "start_time": "2024-02-01T12:21:56.502Z"
   },
   {
    "duration": 63,
    "start_time": "2024-02-01T12:24:03.767Z"
   },
   {
    "duration": 60,
    "start_time": "2024-02-01T12:25:13.037Z"
   },
   {
    "duration": 67,
    "start_time": "2024-02-01T12:26:02.138Z"
   },
   {
    "duration": 5,
    "start_time": "2024-02-01T12:30:56.389Z"
   },
   {
    "duration": 28,
    "start_time": "2024-02-01T12:31:10.470Z"
   },
   {
    "duration": 19,
    "start_time": "2024-02-01T12:32:06.455Z"
   },
   {
    "duration": 1232,
    "start_time": "2024-02-01T12:33:08.595Z"
   },
   {
    "duration": 27,
    "start_time": "2024-02-01T12:33:09.829Z"
   },
   {
    "duration": 26,
    "start_time": "2024-02-01T12:33:09.857Z"
   },
   {
    "duration": 14,
    "start_time": "2024-02-01T12:33:09.885Z"
   },
   {
    "duration": 12,
    "start_time": "2024-02-01T12:33:09.900Z"
   },
   {
    "duration": 14,
    "start_time": "2024-02-01T12:33:09.913Z"
   },
   {
    "duration": 16,
    "start_time": "2024-02-01T12:33:09.928Z"
   },
   {
    "duration": 10,
    "start_time": "2024-02-01T12:33:09.945Z"
   },
   {
    "duration": 27,
    "start_time": "2024-02-01T12:33:09.956Z"
   },
   {
    "duration": 3,
    "start_time": "2024-02-01T12:33:09.986Z"
   },
   {
    "duration": 9,
    "start_time": "2024-02-01T12:33:09.991Z"
   },
   {
    "duration": 5,
    "start_time": "2024-02-01T12:33:10.001Z"
   },
   {
    "duration": 17,
    "start_time": "2024-02-01T12:33:10.008Z"
   },
   {
    "duration": 10,
    "start_time": "2024-02-01T12:33:10.026Z"
   },
   {
    "duration": 7,
    "start_time": "2024-02-01T12:33:10.038Z"
   },
   {
    "duration": 20,
    "start_time": "2024-02-01T12:33:10.046Z"
   },
   {
    "duration": 14,
    "start_time": "2024-02-01T12:33:10.068Z"
   },
   {
    "duration": 15,
    "start_time": "2024-02-01T12:33:10.083Z"
   },
   {
    "duration": 9,
    "start_time": "2024-02-01T12:33:10.099Z"
   },
   {
    "duration": 26,
    "start_time": "2024-02-01T12:33:10.109Z"
   },
   {
    "duration": 187,
    "start_time": "2024-02-01T12:33:10.137Z"
   },
   {
    "duration": 94,
    "start_time": "2024-02-01T12:33:10.325Z"
   },
   {
    "duration": 205,
    "start_time": "2024-02-01T12:33:10.421Z"
   },
   {
    "duration": 8,
    "start_time": "2024-02-01T12:33:10.628Z"
   },
   {
    "duration": 158,
    "start_time": "2024-02-01T12:33:10.637Z"
   },
   {
    "duration": 109,
    "start_time": "2024-02-01T12:33:10.796Z"
   },
   {
    "duration": 12,
    "start_time": "2024-02-01T12:33:10.906Z"
   },
   {
    "duration": 8,
    "start_time": "2024-02-01T12:33:10.922Z"
   },
   {
    "duration": 184,
    "start_time": "2024-02-01T12:33:10.931Z"
   },
   {
    "duration": 104,
    "start_time": "2024-02-01T12:33:11.116Z"
   },
   {
    "duration": 14,
    "start_time": "2024-02-01T12:33:11.221Z"
   },
   {
    "duration": 9,
    "start_time": "2024-02-01T12:33:11.236Z"
   },
   {
    "duration": 193,
    "start_time": "2024-02-01T12:33:11.246Z"
   },
   {
    "duration": 25,
    "start_time": "2024-02-01T12:33:11.441Z"
   },
   {
    "duration": 8,
    "start_time": "2024-02-01T12:33:11.468Z"
   },
   {
    "duration": 13,
    "start_time": "2024-02-01T12:33:11.477Z"
   },
   {
    "duration": 201,
    "start_time": "2024-02-01T12:33:11.491Z"
   },
   {
    "duration": 20,
    "start_time": "2024-02-01T12:33:11.694Z"
   },
   {
    "duration": 17,
    "start_time": "2024-02-01T12:33:11.716Z"
   },
   {
    "duration": 33,
    "start_time": "2024-02-01T12:33:11.735Z"
   },
   {
    "duration": 9,
    "start_time": "2024-02-01T12:33:11.769Z"
   },
   {
    "duration": 6,
    "start_time": "2024-02-01T12:33:11.779Z"
   },
   {
    "duration": 16,
    "start_time": "2024-02-01T12:33:11.786Z"
   },
   {
    "duration": 19,
    "start_time": "2024-02-01T12:33:11.804Z"
   },
   {
    "duration": 288,
    "start_time": "2024-02-01T12:33:11.824Z"
   },
   {
    "duration": 150,
    "start_time": "2024-02-01T12:33:12.113Z"
   },
   {
    "duration": 152,
    "start_time": "2024-02-01T12:33:12.265Z"
   },
   {
    "duration": 221,
    "start_time": "2024-02-01T12:33:12.418Z"
   },
   {
    "duration": 149,
    "start_time": "2024-02-01T12:33:12.640Z"
   },
   {
    "duration": 169,
    "start_time": "2024-02-01T12:33:12.791Z"
   },
   {
    "duration": 15,
    "start_time": "2024-02-01T12:33:12.964Z"
   },
   {
    "duration": 14,
    "start_time": "2024-02-01T12:33:12.981Z"
   },
   {
    "duration": 236,
    "start_time": "2024-02-01T12:33:12.996Z"
   },
   {
    "duration": 221,
    "start_time": "2024-02-01T12:33:13.233Z"
   },
   {
    "duration": 142,
    "start_time": "2024-02-01T12:33:13.456Z"
   },
   {
    "duration": 18,
    "start_time": "2024-02-01T12:33:13.600Z"
   },
   {
    "duration": 11,
    "start_time": "2024-02-01T12:33:13.620Z"
   },
   {
    "duration": 38,
    "start_time": "2024-02-01T12:33:13.633Z"
   },
   {
    "duration": 10,
    "start_time": "2024-02-01T12:33:13.672Z"
   },
   {
    "duration": 24,
    "start_time": "2024-02-01T12:33:13.683Z"
   },
   {
    "duration": 10,
    "start_time": "2024-02-01T12:33:13.708Z"
   },
   {
    "duration": 122,
    "start_time": "2024-02-01T12:33:13.719Z"
   },
   {
    "duration": 1674,
    "start_time": "2024-02-01T12:33:13.842Z"
   },
   {
    "duration": 5,
    "start_time": "2024-02-01T12:33:15.518Z"
   },
   {
    "duration": 10,
    "start_time": "2024-02-01T12:33:15.524Z"
   },
   {
    "duration": 134,
    "start_time": "2024-02-01T12:33:15.536Z"
   },
   {
    "duration": 86,
    "start_time": "2024-02-01T12:47:01.256Z"
   },
   {
    "duration": 81,
    "start_time": "2024-02-01T12:47:15.234Z"
   },
   {
    "duration": 92,
    "start_time": "2024-02-01T12:47:25.851Z"
   },
   {
    "duration": 91,
    "start_time": "2024-02-01T12:48:13.416Z"
   },
   {
    "duration": 75,
    "start_time": "2024-02-01T12:48:55.557Z"
   },
   {
    "duration": 123,
    "start_time": "2024-02-01T12:50:15.662Z"
   },
   {
    "duration": 120,
    "start_time": "2024-02-01T12:50:30.051Z"
   },
   {
    "duration": 8,
    "start_time": "2024-02-01T12:51:28.620Z"
   },
   {
    "duration": 8,
    "start_time": "2024-02-01T12:51:46.684Z"
   },
   {
    "duration": 7,
    "start_time": "2024-02-01T12:52:06.493Z"
   },
   {
    "duration": 9,
    "start_time": "2024-02-01T12:52:08.595Z"
   },
   {
    "duration": 6,
    "start_time": "2024-02-01T12:52:24.412Z"
   },
   {
    "duration": 9,
    "start_time": "2024-02-01T12:52:27.188Z"
   },
   {
    "duration": 230,
    "start_time": "2024-02-01T12:58:07.343Z"
   },
   {
    "duration": 1246,
    "start_time": "2024-02-01T12:59:42.839Z"
   },
   {
    "duration": 28,
    "start_time": "2024-02-01T12:59:44.087Z"
   },
   {
    "duration": 26,
    "start_time": "2024-02-01T12:59:44.117Z"
   },
   {
    "duration": 15,
    "start_time": "2024-02-01T12:59:44.145Z"
   },
   {
    "duration": 12,
    "start_time": "2024-02-01T12:59:44.161Z"
   },
   {
    "duration": 9,
    "start_time": "2024-02-01T12:59:44.174Z"
   },
   {
    "duration": 16,
    "start_time": "2024-02-01T12:59:44.184Z"
   },
   {
    "duration": 15,
    "start_time": "2024-02-01T12:59:44.201Z"
   },
   {
    "duration": 11,
    "start_time": "2024-02-01T12:59:44.217Z"
   },
   {
    "duration": 3,
    "start_time": "2024-02-01T12:59:44.231Z"
   },
   {
    "duration": 8,
    "start_time": "2024-02-01T12:59:44.236Z"
   },
   {
    "duration": 22,
    "start_time": "2024-02-01T12:59:44.246Z"
   },
   {
    "duration": 5,
    "start_time": "2024-02-01T12:59:44.270Z"
   },
   {
    "duration": 8,
    "start_time": "2024-02-01T12:59:44.276Z"
   },
   {
    "duration": 4,
    "start_time": "2024-02-01T12:59:44.285Z"
   },
   {
    "duration": 7,
    "start_time": "2024-02-01T12:59:44.290Z"
   },
   {
    "duration": 9,
    "start_time": "2024-02-01T12:59:44.298Z"
   },
   {
    "duration": 11,
    "start_time": "2024-02-01T12:59:44.308Z"
   },
   {
    "duration": 9,
    "start_time": "2024-02-01T12:59:44.320Z"
   },
   {
    "duration": 19,
    "start_time": "2024-02-01T12:59:44.366Z"
   },
   {
    "duration": 157,
    "start_time": "2024-02-01T12:59:44.387Z"
   },
   {
    "duration": 80,
    "start_time": "2024-02-01T12:59:44.545Z"
   },
   {
    "duration": 209,
    "start_time": "2024-02-01T12:59:44.626Z"
   },
   {
    "duration": 8,
    "start_time": "2024-02-01T12:59:44.836Z"
   },
   {
    "duration": 156,
    "start_time": "2024-02-01T12:59:44.845Z"
   },
   {
    "duration": 105,
    "start_time": "2024-02-01T12:59:45.003Z"
   },
   {
    "duration": 11,
    "start_time": "2024-02-01T12:59:45.109Z"
   },
   {
    "duration": 9,
    "start_time": "2024-02-01T12:59:45.124Z"
   },
   {
    "duration": 205,
    "start_time": "2024-02-01T12:59:45.135Z"
   },
   {
    "duration": 114,
    "start_time": "2024-02-01T12:59:45.341Z"
   },
   {
    "duration": 21,
    "start_time": "2024-02-01T12:59:45.457Z"
   },
   {
    "duration": 12,
    "start_time": "2024-02-01T12:59:45.479Z"
   },
   {
    "duration": 202,
    "start_time": "2024-02-01T12:59:45.493Z"
   },
   {
    "duration": 15,
    "start_time": "2024-02-01T12:59:45.697Z"
   },
   {
    "duration": 9,
    "start_time": "2024-02-01T12:59:45.713Z"
   },
   {
    "duration": 14,
    "start_time": "2024-02-01T12:59:45.723Z"
   },
   {
    "duration": 200,
    "start_time": "2024-02-01T12:59:45.738Z"
   },
   {
    "duration": 16,
    "start_time": "2024-02-01T12:59:45.939Z"
   },
   {
    "duration": 19,
    "start_time": "2024-02-01T12:59:45.957Z"
   },
   {
    "duration": 18,
    "start_time": "2024-02-01T12:59:45.977Z"
   },
   {
    "duration": 7,
    "start_time": "2024-02-01T12:59:45.997Z"
   },
   {
    "duration": 6,
    "start_time": "2024-02-01T12:59:46.005Z"
   },
   {
    "duration": 17,
    "start_time": "2024-02-01T12:59:46.012Z"
   },
   {
    "duration": 45,
    "start_time": "2024-02-01T12:59:46.031Z"
   },
   {
    "duration": 267,
    "start_time": "2024-02-01T12:59:46.077Z"
   },
   {
    "duration": 156,
    "start_time": "2024-02-01T12:59:46.345Z"
   },
   {
    "duration": 144,
    "start_time": "2024-02-01T12:59:46.503Z"
   },
   {
    "duration": 218,
    "start_time": "2024-02-01T12:59:46.648Z"
   },
   {
    "duration": 148,
    "start_time": "2024-02-01T12:59:46.867Z"
   },
   {
    "duration": 157,
    "start_time": "2024-02-01T12:59:47.017Z"
   },
   {
    "duration": 14,
    "start_time": "2024-02-01T12:59:47.176Z"
   },
   {
    "duration": 22,
    "start_time": "2024-02-01T12:59:47.191Z"
   },
   {
    "duration": 225,
    "start_time": "2024-02-01T12:59:47.215Z"
   },
   {
    "duration": 226,
    "start_time": "2024-02-01T12:59:47.442Z"
   },
   {
    "duration": 149,
    "start_time": "2024-02-01T12:59:47.669Z"
   },
   {
    "duration": 19,
    "start_time": "2024-02-01T12:59:47.820Z"
   },
   {
    "duration": 25,
    "start_time": "2024-02-01T12:59:47.840Z"
   },
   {
    "duration": 16,
    "start_time": "2024-02-01T12:59:47.867Z"
   },
   {
    "duration": 12,
    "start_time": "2024-02-01T12:59:47.884Z"
   },
   {
    "duration": 8,
    "start_time": "2024-02-01T12:59:47.897Z"
   },
   {
    "duration": 7,
    "start_time": "2024-02-01T12:59:47.906Z"
   },
   {
    "duration": 4,
    "start_time": "2024-02-01T12:59:47.915Z"
   },
   {
    "duration": 48,
    "start_time": "2024-02-01T12:59:47.921Z"
   },
   {
    "duration": 130,
    "start_time": "2024-02-01T12:59:47.971Z"
   },
   {
    "duration": 1611,
    "start_time": "2024-02-01T12:59:48.103Z"
   },
   {
    "duration": 5,
    "start_time": "2024-02-01T12:59:49.715Z"
   },
   {
    "duration": 8,
    "start_time": "2024-02-01T12:59:49.721Z"
   },
   {
    "duration": 131,
    "start_time": "2024-02-01T12:59:49.731Z"
   },
   {
    "duration": 12,
    "start_time": "2024-02-01T13:03:28.980Z"
   },
   {
    "duration": 5,
    "start_time": "2024-02-01T13:25:51.481Z"
   },
   {
    "duration": 6,
    "start_time": "2024-02-01T13:28:34.626Z"
   },
   {
    "duration": 79,
    "start_time": "2024-02-01T13:30:10.180Z"
   },
   {
    "duration": 105,
    "start_time": "2024-02-01T13:30:17.676Z"
   },
   {
    "duration": 5,
    "start_time": "2024-02-01T13:30:25.612Z"
   },
   {
    "duration": 91,
    "start_time": "2024-02-01T13:40:38.105Z"
   },
   {
    "duration": 98,
    "start_time": "2024-02-01T13:41:12.039Z"
   },
   {
    "duration": 8,
    "start_time": "2024-02-01T13:42:26.399Z"
   },
   {
    "duration": 7,
    "start_time": "2024-02-01T13:43:40.157Z"
   },
   {
    "duration": 97,
    "start_time": "2024-02-01T13:45:07.806Z"
   },
   {
    "duration": 75,
    "start_time": "2024-02-01T13:45:22.591Z"
   },
   {
    "duration": 10,
    "start_time": "2024-02-01T13:45:30.845Z"
   },
   {
    "duration": 11,
    "start_time": "2024-02-01T13:45:45.475Z"
   },
   {
    "duration": 1141,
    "start_time": "2024-02-01T13:46:33.343Z"
   },
   {
    "duration": 28,
    "start_time": "2024-02-01T13:46:34.486Z"
   },
   {
    "duration": 26,
    "start_time": "2024-02-01T13:46:34.515Z"
   },
   {
    "duration": 14,
    "start_time": "2024-02-01T13:46:34.543Z"
   },
   {
    "duration": 18,
    "start_time": "2024-02-01T13:46:34.558Z"
   },
   {
    "duration": 7,
    "start_time": "2024-02-01T13:46:34.577Z"
   },
   {
    "duration": 8,
    "start_time": "2024-02-01T13:46:34.585Z"
   },
   {
    "duration": 13,
    "start_time": "2024-02-01T13:46:34.595Z"
   },
   {
    "duration": 13,
    "start_time": "2024-02-01T13:46:34.610Z"
   },
   {
    "duration": 20,
    "start_time": "2024-02-01T13:46:34.626Z"
   },
   {
    "duration": 18,
    "start_time": "2024-02-01T13:46:34.647Z"
   },
   {
    "duration": 24,
    "start_time": "2024-02-01T13:46:34.666Z"
   },
   {
    "duration": 6,
    "start_time": "2024-02-01T13:46:34.691Z"
   },
   {
    "duration": 9,
    "start_time": "2024-02-01T13:46:34.698Z"
   },
   {
    "duration": 4,
    "start_time": "2024-02-01T13:46:34.708Z"
   },
   {
    "duration": 13,
    "start_time": "2024-02-01T13:46:34.713Z"
   },
   {
    "duration": 12,
    "start_time": "2024-02-01T13:46:34.727Z"
   },
   {
    "duration": 33,
    "start_time": "2024-02-01T13:46:34.740Z"
   },
   {
    "duration": 12,
    "start_time": "2024-02-01T13:46:34.774Z"
   },
   {
    "duration": 24,
    "start_time": "2024-02-01T13:46:34.787Z"
   },
   {
    "duration": 144,
    "start_time": "2024-02-01T13:46:34.812Z"
   },
   {
    "duration": 76,
    "start_time": "2024-02-01T13:46:34.957Z"
   },
   {
    "duration": 196,
    "start_time": "2024-02-01T13:46:35.035Z"
   },
   {
    "duration": 8,
    "start_time": "2024-02-01T13:46:35.232Z"
   },
   {
    "duration": 159,
    "start_time": "2024-02-01T13:46:35.241Z"
   },
   {
    "duration": 96,
    "start_time": "2024-02-01T13:46:35.402Z"
   },
   {
    "duration": 11,
    "start_time": "2024-02-01T13:46:35.500Z"
   },
   {
    "duration": 14,
    "start_time": "2024-02-01T13:46:35.515Z"
   },
   {
    "duration": 185,
    "start_time": "2024-02-01T13:46:35.531Z"
   },
   {
    "duration": 114,
    "start_time": "2024-02-01T13:46:35.718Z"
   },
   {
    "duration": 15,
    "start_time": "2024-02-01T13:46:35.834Z"
   },
   {
    "duration": 24,
    "start_time": "2024-02-01T13:46:35.851Z"
   },
   {
    "duration": 197,
    "start_time": "2024-02-01T13:46:35.877Z"
   },
   {
    "duration": 14,
    "start_time": "2024-02-01T13:46:36.075Z"
   },
   {
    "duration": 29,
    "start_time": "2024-02-01T13:46:36.091Z"
   },
   {
    "duration": 18,
    "start_time": "2024-02-01T13:46:36.121Z"
   },
   {
    "duration": 174,
    "start_time": "2024-02-01T13:46:36.141Z"
   },
   {
    "duration": 15,
    "start_time": "2024-02-01T13:46:36.317Z"
   },
   {
    "duration": 22,
    "start_time": "2024-02-01T13:46:36.334Z"
   },
   {
    "duration": 29,
    "start_time": "2024-02-01T13:46:36.357Z"
   },
   {
    "duration": 9,
    "start_time": "2024-02-01T13:46:36.387Z"
   },
   {
    "duration": 17,
    "start_time": "2024-02-01T13:46:36.397Z"
   },
   {
    "duration": 31,
    "start_time": "2024-02-01T13:46:36.416Z"
   },
   {
    "duration": 17,
    "start_time": "2024-02-01T13:46:36.449Z"
   },
   {
    "duration": 265,
    "start_time": "2024-02-01T13:46:36.467Z"
   },
   {
    "duration": 144,
    "start_time": "2024-02-01T13:46:36.734Z"
   },
   {
    "duration": 146,
    "start_time": "2024-02-01T13:46:36.880Z"
   },
   {
    "duration": 222,
    "start_time": "2024-02-01T13:46:37.028Z"
   },
   {
    "duration": 154,
    "start_time": "2024-02-01T13:46:37.252Z"
   },
   {
    "duration": 168,
    "start_time": "2024-02-01T13:46:37.407Z"
   },
   {
    "duration": 14,
    "start_time": "2024-02-01T13:46:37.576Z"
   },
   {
    "duration": 19,
    "start_time": "2024-02-01T13:46:37.592Z"
   },
   {
    "duration": 233,
    "start_time": "2024-02-01T13:46:37.612Z"
   },
   {
    "duration": 221,
    "start_time": "2024-02-01T13:46:37.846Z"
   },
   {
    "duration": 144,
    "start_time": "2024-02-01T13:46:38.068Z"
   },
   {
    "duration": 18,
    "start_time": "2024-02-01T13:46:38.214Z"
   },
   {
    "duration": 24,
    "start_time": "2024-02-01T13:46:38.234Z"
   },
   {
    "duration": 26,
    "start_time": "2024-02-01T13:46:38.259Z"
   },
   {
    "duration": 10,
    "start_time": "2024-02-01T13:46:38.287Z"
   },
   {
    "duration": 17,
    "start_time": "2024-02-01T13:46:38.298Z"
   },
   {
    "duration": 23,
    "start_time": "2024-02-01T13:46:38.317Z"
   },
   {
    "duration": 18,
    "start_time": "2024-02-01T13:46:38.342Z"
   },
   {
    "duration": 49,
    "start_time": "2024-02-01T13:46:38.361Z"
   },
   {
    "duration": 25,
    "start_time": "2024-02-01T13:46:38.412Z"
   },
   {
    "duration": 31,
    "start_time": "2024-02-01T13:46:38.438Z"
   },
   {
    "duration": 141,
    "start_time": "2024-02-01T13:46:38.470Z"
   },
   {
    "duration": 1584,
    "start_time": "2024-02-01T13:46:38.612Z"
   },
   {
    "duration": 4,
    "start_time": "2024-02-01T13:46:40.197Z"
   },
   {
    "duration": 7,
    "start_time": "2024-02-01T13:46:40.202Z"
   },
   {
    "duration": 120,
    "start_time": "2024-02-01T13:46:40.210Z"
   },
   {
    "duration": 1211,
    "start_time": "2024-02-01T13:50:06.152Z"
   },
   {
    "duration": 27,
    "start_time": "2024-02-01T13:50:07.365Z"
   },
   {
    "duration": 26,
    "start_time": "2024-02-01T13:50:07.393Z"
   },
   {
    "duration": 15,
    "start_time": "2024-02-01T13:50:07.421Z"
   },
   {
    "duration": 12,
    "start_time": "2024-02-01T13:50:07.437Z"
   },
   {
    "duration": 8,
    "start_time": "2024-02-01T13:50:07.451Z"
   },
   {
    "duration": 9,
    "start_time": "2024-02-01T13:50:07.461Z"
   },
   {
    "duration": 15,
    "start_time": "2024-02-01T13:50:07.472Z"
   },
   {
    "duration": 12,
    "start_time": "2024-02-01T13:50:07.489Z"
   },
   {
    "duration": 5,
    "start_time": "2024-02-01T13:50:07.504Z"
   },
   {
    "duration": 7,
    "start_time": "2024-02-01T13:50:07.510Z"
   },
   {
    "duration": 7,
    "start_time": "2024-02-01T13:50:07.518Z"
   },
   {
    "duration": 7,
    "start_time": "2024-02-01T13:50:07.526Z"
   },
   {
    "duration": 9,
    "start_time": "2024-02-01T13:50:07.564Z"
   },
   {
    "duration": 8,
    "start_time": "2024-02-01T13:50:07.574Z"
   },
   {
    "duration": 9,
    "start_time": "2024-02-01T13:50:07.583Z"
   },
   {
    "duration": 10,
    "start_time": "2024-02-01T13:50:07.593Z"
   },
   {
    "duration": 12,
    "start_time": "2024-02-01T13:50:07.604Z"
   },
   {
    "duration": 9,
    "start_time": "2024-02-01T13:50:07.617Z"
   },
   {
    "duration": 52,
    "start_time": "2024-02-01T13:50:07.628Z"
   },
   {
    "duration": 159,
    "start_time": "2024-02-01T13:50:07.682Z"
   },
   {
    "duration": 88,
    "start_time": "2024-02-01T13:50:07.842Z"
   },
   {
    "duration": 207,
    "start_time": "2024-02-01T13:50:07.932Z"
   },
   {
    "duration": 7,
    "start_time": "2024-02-01T13:50:08.140Z"
   },
   {
    "duration": 170,
    "start_time": "2024-02-01T13:50:08.148Z"
   },
   {
    "duration": 107,
    "start_time": "2024-02-01T13:50:08.319Z"
   },
   {
    "duration": 12,
    "start_time": "2024-02-01T13:50:08.427Z"
   },
   {
    "duration": 7,
    "start_time": "2024-02-01T13:50:08.443Z"
   },
   {
    "duration": 170,
    "start_time": "2024-02-01T13:50:08.465Z"
   },
   {
    "duration": 112,
    "start_time": "2024-02-01T13:50:08.637Z"
   },
   {
    "duration": 26,
    "start_time": "2024-02-01T13:50:08.751Z"
   },
   {
    "duration": 9,
    "start_time": "2024-02-01T13:50:08.778Z"
   },
   {
    "duration": 249,
    "start_time": "2024-02-01T13:50:08.789Z"
   },
   {
    "duration": 14,
    "start_time": "2024-02-01T13:50:09.040Z"
   },
   {
    "duration": 16,
    "start_time": "2024-02-01T13:50:09.055Z"
   },
   {
    "duration": 14,
    "start_time": "2024-02-01T13:50:09.072Z"
   },
   {
    "duration": 191,
    "start_time": "2024-02-01T13:50:09.088Z"
   },
   {
    "duration": 16,
    "start_time": "2024-02-01T13:50:09.280Z"
   },
   {
    "duration": 13,
    "start_time": "2024-02-01T13:50:09.297Z"
   },
   {
    "duration": 17,
    "start_time": "2024-02-01T13:50:09.312Z"
   },
   {
    "duration": 34,
    "start_time": "2024-02-01T13:50:09.331Z"
   },
   {
    "duration": 6,
    "start_time": "2024-02-01T13:50:09.367Z"
   },
   {
    "duration": 34,
    "start_time": "2024-02-01T13:50:09.375Z"
   },
   {
    "duration": 22,
    "start_time": "2024-02-01T13:50:09.411Z"
   },
   {
    "duration": 274,
    "start_time": "2024-02-01T13:50:09.434Z"
   },
   {
    "duration": 171,
    "start_time": "2024-02-01T13:50:09.709Z"
   },
   {
    "duration": 151,
    "start_time": "2024-02-01T13:50:09.881Z"
   },
   {
    "duration": 256,
    "start_time": "2024-02-01T13:50:10.033Z"
   },
   {
    "duration": 154,
    "start_time": "2024-02-01T13:50:10.291Z"
   },
   {
    "duration": 166,
    "start_time": "2024-02-01T13:50:10.447Z"
   },
   {
    "duration": 15,
    "start_time": "2024-02-01T13:50:10.614Z"
   },
   {
    "duration": 13,
    "start_time": "2024-02-01T13:50:10.630Z"
   },
   {
    "duration": 241,
    "start_time": "2024-02-01T13:50:10.644Z"
   },
   {
    "duration": 221,
    "start_time": "2024-02-01T13:50:10.887Z"
   },
   {
    "duration": 165,
    "start_time": "2024-02-01T13:50:11.109Z"
   },
   {
    "duration": 20,
    "start_time": "2024-02-01T13:50:11.276Z"
   },
   {
    "duration": 24,
    "start_time": "2024-02-01T13:50:11.297Z"
   },
   {
    "duration": 16,
    "start_time": "2024-02-01T13:50:11.323Z"
   },
   {
    "duration": 29,
    "start_time": "2024-02-01T13:50:11.341Z"
   },
   {
    "duration": 8,
    "start_time": "2024-02-01T13:50:11.371Z"
   },
   {
    "duration": 12,
    "start_time": "2024-02-01T13:50:11.380Z"
   },
   {
    "duration": 5,
    "start_time": "2024-02-01T13:50:11.394Z"
   },
   {
    "duration": 16,
    "start_time": "2024-02-01T13:50:11.401Z"
   },
   {
    "duration": 7,
    "start_time": "2024-02-01T13:50:11.419Z"
   },
   {
    "duration": 13,
    "start_time": "2024-02-01T13:50:11.427Z"
   },
   {
    "duration": 159,
    "start_time": "2024-02-01T13:50:11.441Z"
   },
   {
    "duration": 1608,
    "start_time": "2024-02-01T13:50:11.602Z"
   },
   {
    "duration": 5,
    "start_time": "2024-02-01T13:50:13.212Z"
   },
   {
    "duration": 9,
    "start_time": "2024-02-01T13:50:13.218Z"
   },
   {
    "duration": 125,
    "start_time": "2024-02-01T13:50:13.229Z"
   },
   {
    "duration": 5,
    "start_time": "2024-02-01T14:02:41.824Z"
   },
   {
    "duration": 5,
    "start_time": "2024-02-01T14:02:47.610Z"
   },
   {
    "duration": 6,
    "start_time": "2024-02-01T14:03:01.297Z"
   },
   {
    "duration": 1199,
    "start_time": "2024-02-01T14:03:14.769Z"
   },
   {
    "duration": 28,
    "start_time": "2024-02-01T14:03:15.970Z"
   },
   {
    "duration": 28,
    "start_time": "2024-02-01T14:03:15.999Z"
   },
   {
    "duration": 16,
    "start_time": "2024-02-01T14:03:16.029Z"
   },
   {
    "duration": 13,
    "start_time": "2024-02-01T14:03:16.046Z"
   },
   {
    "duration": 8,
    "start_time": "2024-02-01T14:03:16.060Z"
   },
   {
    "duration": 12,
    "start_time": "2024-02-01T14:03:16.069Z"
   },
   {
    "duration": 14,
    "start_time": "2024-02-01T14:03:16.082Z"
   },
   {
    "duration": 14,
    "start_time": "2024-02-01T14:03:16.098Z"
   },
   {
    "duration": 4,
    "start_time": "2024-02-01T14:03:16.114Z"
   },
   {
    "duration": 20,
    "start_time": "2024-02-01T14:03:16.119Z"
   },
   {
    "duration": 7,
    "start_time": "2024-02-01T14:03:16.140Z"
   },
   {
    "duration": 20,
    "start_time": "2024-02-01T14:03:16.149Z"
   },
   {
    "duration": 13,
    "start_time": "2024-02-01T14:03:16.170Z"
   },
   {
    "duration": 4,
    "start_time": "2024-02-01T14:03:16.185Z"
   },
   {
    "duration": 17,
    "start_time": "2024-02-01T14:03:16.190Z"
   },
   {
    "duration": 7,
    "start_time": "2024-02-01T14:03:16.209Z"
   },
   {
    "duration": 14,
    "start_time": "2024-02-01T14:03:16.217Z"
   },
   {
    "duration": 33,
    "start_time": "2024-02-01T14:03:16.232Z"
   },
   {
    "duration": 21,
    "start_time": "2024-02-01T14:03:16.267Z"
   },
   {
    "duration": 160,
    "start_time": "2024-02-01T14:03:16.290Z"
   },
   {
    "duration": 81,
    "start_time": "2024-02-01T14:03:16.451Z"
   },
   {
    "duration": 209,
    "start_time": "2024-02-01T14:03:16.533Z"
   },
   {
    "duration": 8,
    "start_time": "2024-02-01T14:03:16.743Z"
   },
   {
    "duration": 154,
    "start_time": "2024-02-01T14:03:16.752Z"
   },
   {
    "duration": 103,
    "start_time": "2024-02-01T14:03:16.908Z"
   },
   {
    "duration": 11,
    "start_time": "2024-02-01T14:03:17.012Z"
   },
   {
    "duration": 13,
    "start_time": "2024-02-01T14:03:17.026Z"
   },
   {
    "duration": 163,
    "start_time": "2024-02-01T14:03:17.041Z"
   },
   {
    "duration": 114,
    "start_time": "2024-02-01T14:03:17.205Z"
   },
   {
    "duration": 15,
    "start_time": "2024-02-01T14:03:17.320Z"
   },
   {
    "duration": 7,
    "start_time": "2024-02-01T14:03:17.337Z"
   },
   {
    "duration": 222,
    "start_time": "2024-02-01T14:03:17.345Z"
   },
   {
    "duration": 15,
    "start_time": "2024-02-01T14:03:17.568Z"
   },
   {
    "duration": 23,
    "start_time": "2024-02-01T14:03:17.584Z"
   },
   {
    "duration": 14,
    "start_time": "2024-02-01T14:03:17.608Z"
   },
   {
    "duration": 185,
    "start_time": "2024-02-01T14:03:17.623Z"
   },
   {
    "duration": 16,
    "start_time": "2024-02-01T14:03:17.810Z"
   },
   {
    "duration": 12,
    "start_time": "2024-02-01T14:03:17.827Z"
   },
   {
    "duration": 35,
    "start_time": "2024-02-01T14:03:17.841Z"
   },
   {
    "duration": 7,
    "start_time": "2024-02-01T14:03:17.877Z"
   },
   {
    "duration": 6,
    "start_time": "2024-02-01T14:03:17.886Z"
   },
   {
    "duration": 22,
    "start_time": "2024-02-01T14:03:17.893Z"
   },
   {
    "duration": 31,
    "start_time": "2024-02-01T14:03:17.917Z"
   },
   {
    "duration": 254,
    "start_time": "2024-02-01T14:03:17.950Z"
   },
   {
    "duration": 154,
    "start_time": "2024-02-01T14:03:18.205Z"
   },
   {
    "duration": 153,
    "start_time": "2024-02-01T14:03:18.360Z"
   },
   {
    "duration": 246,
    "start_time": "2024-02-01T14:03:18.515Z"
   },
   {
    "duration": 168,
    "start_time": "2024-02-01T14:03:18.765Z"
   },
   {
    "duration": 177,
    "start_time": "2024-02-01T14:03:18.935Z"
   },
   {
    "duration": 15,
    "start_time": "2024-02-01T14:03:19.113Z"
   },
   {
    "duration": 14,
    "start_time": "2024-02-01T14:03:19.129Z"
   },
   {
    "duration": 245,
    "start_time": "2024-02-01T14:03:19.144Z"
   },
   {
    "duration": 236,
    "start_time": "2024-02-01T14:03:19.391Z"
   },
   {
    "duration": 155,
    "start_time": "2024-02-01T14:03:19.628Z"
   },
   {
    "duration": 21,
    "start_time": "2024-02-01T14:03:19.785Z"
   },
   {
    "duration": 13,
    "start_time": "2024-02-01T14:03:19.807Z"
   },
   {
    "duration": 17,
    "start_time": "2024-02-01T14:03:19.822Z"
   },
   {
    "duration": 15,
    "start_time": "2024-02-01T14:03:19.868Z"
   },
   {
    "duration": 8,
    "start_time": "2024-02-01T14:03:19.885Z"
   },
   {
    "duration": 8,
    "start_time": "2024-02-01T14:03:19.894Z"
   },
   {
    "duration": 5,
    "start_time": "2024-02-01T14:03:19.903Z"
   },
   {
    "duration": 12,
    "start_time": "2024-02-01T14:03:19.910Z"
   },
   {
    "duration": 44,
    "start_time": "2024-02-01T14:03:19.924Z"
   },
   {
    "duration": 19,
    "start_time": "2024-02-01T14:03:19.970Z"
   },
   {
    "duration": 133,
    "start_time": "2024-02-01T14:03:19.991Z"
   },
   {
    "duration": 1645,
    "start_time": "2024-02-01T14:03:20.126Z"
   },
   {
    "duration": 9,
    "start_time": "2024-02-01T14:03:21.773Z"
   },
   {
    "duration": 5,
    "start_time": "2024-02-01T14:03:21.784Z"
   },
   {
    "duration": 145,
    "start_time": "2024-02-01T14:03:21.791Z"
   },
   {
    "duration": 4,
    "start_time": "2024-02-01T14:03:42.205Z"
   },
   {
    "duration": 5,
    "start_time": "2024-02-01T14:03:49.417Z"
   },
   {
    "duration": 5,
    "start_time": "2024-02-01T14:03:54.706Z"
   },
   {
    "duration": 121,
    "start_time": "2024-02-01T14:08:33.662Z"
   },
   {
    "duration": 5,
    "start_time": "2024-02-01T14:14:55.346Z"
   },
   {
    "duration": 111,
    "start_time": "2024-02-01T14:16:11.614Z"
   },
   {
    "duration": 121,
    "start_time": "2024-02-01T14:16:23.122Z"
   },
   {
    "duration": 129,
    "start_time": "2024-02-01T14:16:31.639Z"
   },
   {
    "duration": 110,
    "start_time": "2024-02-01T14:16:40.967Z"
   },
   {
    "duration": 120,
    "start_time": "2024-02-01T14:16:49.529Z"
   },
   {
    "duration": 95,
    "start_time": "2024-02-01T14:18:39.992Z"
   },
   {
    "duration": 4,
    "start_time": "2024-02-01T14:26:21.087Z"
   },
   {
    "duration": 4,
    "start_time": "2024-02-01T14:26:39.660Z"
   },
   {
    "duration": 5,
    "start_time": "2024-02-01T14:26:53.417Z"
   },
   {
    "duration": 5,
    "start_time": "2024-02-01T14:27:16.529Z"
   },
   {
    "duration": 4,
    "start_time": "2024-02-01T14:27:33.393Z"
   },
   {
    "duration": 5,
    "start_time": "2024-02-01T14:27:40.190Z"
   },
   {
    "duration": 4,
    "start_time": "2024-02-01T14:27:43.956Z"
   },
   {
    "duration": 5,
    "start_time": "2024-02-01T14:28:32.093Z"
   },
   {
    "duration": 5,
    "start_time": "2024-02-01T14:28:39.750Z"
   },
   {
    "duration": 4,
    "start_time": "2024-02-01T14:28:48.614Z"
   },
   {
    "duration": 4,
    "start_time": "2024-02-01T14:28:56.441Z"
   },
   {
    "duration": 5,
    "start_time": "2024-02-01T14:29:08.772Z"
   },
   {
    "duration": 4,
    "start_time": "2024-02-01T14:29:19.118Z"
   },
   {
    "duration": 4,
    "start_time": "2024-02-01T14:29:27.688Z"
   },
   {
    "duration": 4,
    "start_time": "2024-02-01T14:29:38.300Z"
   },
   {
    "duration": 6,
    "start_time": "2024-02-01T14:29:44.788Z"
   },
   {
    "duration": 5,
    "start_time": "2024-02-01T14:29:46.890Z"
   },
   {
    "duration": 118,
    "start_time": "2024-02-01T14:31:30.786Z"
   },
   {
    "duration": 106,
    "start_time": "2024-02-01T14:32:09.829Z"
   },
   {
    "duration": 5,
    "start_time": "2024-02-01T14:32:27.549Z"
   },
   {
    "duration": 4,
    "start_time": "2024-02-01T14:32:36.339Z"
   },
   {
    "duration": 4,
    "start_time": "2024-02-01T14:32:50.844Z"
   },
   {
    "duration": 1157,
    "start_time": "2024-02-01T14:34:46.640Z"
   },
   {
    "duration": 28,
    "start_time": "2024-02-01T14:34:47.799Z"
   },
   {
    "duration": 32,
    "start_time": "2024-02-01T14:34:47.829Z"
   },
   {
    "duration": 34,
    "start_time": "2024-02-01T14:34:47.863Z"
   },
   {
    "duration": 57,
    "start_time": "2024-02-01T14:34:47.899Z"
   },
   {
    "duration": 37,
    "start_time": "2024-02-01T14:34:47.957Z"
   },
   {
    "duration": 52,
    "start_time": "2024-02-01T14:34:47.996Z"
   },
   {
    "duration": 31,
    "start_time": "2024-02-01T14:34:48.050Z"
   },
   {
    "duration": 50,
    "start_time": "2024-02-01T14:34:48.082Z"
   },
   {
    "duration": 27,
    "start_time": "2024-02-01T14:34:48.135Z"
   },
   {
    "duration": 8,
    "start_time": "2024-02-01T14:34:48.164Z"
   },
   {
    "duration": 9,
    "start_time": "2024-02-01T14:34:48.174Z"
   },
   {
    "duration": 6,
    "start_time": "2024-02-01T14:34:48.185Z"
   },
   {
    "duration": 9,
    "start_time": "2024-02-01T14:34:48.192Z"
   },
   {
    "duration": 3,
    "start_time": "2024-02-01T14:34:48.203Z"
   },
   {
    "duration": 11,
    "start_time": "2024-02-01T14:34:48.208Z"
   },
   {
    "duration": 4,
    "start_time": "2024-02-01T14:34:48.221Z"
   },
   {
    "duration": 45,
    "start_time": "2024-02-01T14:34:48.226Z"
   },
   {
    "duration": 16,
    "start_time": "2024-02-01T14:34:48.273Z"
   },
   {
    "duration": 20,
    "start_time": "2024-02-01T14:34:48.290Z"
   },
   {
    "duration": 157,
    "start_time": "2024-02-01T14:34:48.312Z"
   },
   {
    "duration": 77,
    "start_time": "2024-02-01T14:34:48.471Z"
   },
   {
    "duration": 201,
    "start_time": "2024-02-01T14:34:48.550Z"
   },
   {
    "duration": 13,
    "start_time": "2024-02-01T14:34:48.752Z"
   },
   {
    "duration": 161,
    "start_time": "2024-02-01T14:34:48.767Z"
   },
   {
    "duration": 114,
    "start_time": "2024-02-01T14:34:48.931Z"
   },
   {
    "duration": 22,
    "start_time": "2024-02-01T14:34:49.046Z"
   },
   {
    "duration": 8,
    "start_time": "2024-02-01T14:34:49.071Z"
   },
   {
    "duration": 170,
    "start_time": "2024-02-01T14:34:49.080Z"
   },
   {
    "duration": 104,
    "start_time": "2024-02-01T14:34:49.252Z"
   },
   {
    "duration": 17,
    "start_time": "2024-02-01T14:34:49.358Z"
   },
   {
    "duration": 8,
    "start_time": "2024-02-01T14:34:49.376Z"
   },
   {
    "duration": 192,
    "start_time": "2024-02-01T14:34:49.385Z"
   },
   {
    "duration": 15,
    "start_time": "2024-02-01T14:34:49.579Z"
   },
   {
    "duration": 6,
    "start_time": "2024-02-01T14:34:49.596Z"
   },
   {
    "duration": 28,
    "start_time": "2024-02-01T14:34:49.603Z"
   },
   {
    "duration": 212,
    "start_time": "2024-02-01T14:34:49.633Z"
   },
   {
    "duration": 24,
    "start_time": "2024-02-01T14:34:49.847Z"
   },
   {
    "duration": 13,
    "start_time": "2024-02-01T14:34:49.873Z"
   },
   {
    "duration": 18,
    "start_time": "2024-02-01T14:34:49.887Z"
   },
   {
    "duration": 7,
    "start_time": "2024-02-01T14:34:49.906Z"
   },
   {
    "duration": 6,
    "start_time": "2024-02-01T14:34:49.915Z"
   },
   {
    "duration": 44,
    "start_time": "2024-02-01T14:34:49.922Z"
   },
   {
    "duration": 16,
    "start_time": "2024-02-01T14:34:49.967Z"
   },
   {
    "duration": 264,
    "start_time": "2024-02-01T14:34:49.984Z"
   },
   {
    "duration": 152,
    "start_time": "2024-02-01T14:34:50.250Z"
   },
   {
    "duration": 154,
    "start_time": "2024-02-01T14:34:50.405Z"
   },
   {
    "duration": 217,
    "start_time": "2024-02-01T14:34:50.561Z"
   },
   {
    "duration": 152,
    "start_time": "2024-02-01T14:34:50.780Z"
   },
   {
    "duration": 171,
    "start_time": "2024-02-01T14:34:50.934Z"
   },
   {
    "duration": 15,
    "start_time": "2024-02-01T14:34:51.107Z"
   },
   {
    "duration": 14,
    "start_time": "2024-02-01T14:34:51.124Z"
   },
   {
    "duration": 247,
    "start_time": "2024-02-01T14:34:51.140Z"
   },
   {
    "duration": 225,
    "start_time": "2024-02-01T14:34:51.389Z"
   },
   {
    "duration": 153,
    "start_time": "2024-02-01T14:34:51.616Z"
   },
   {
    "duration": 18,
    "start_time": "2024-02-01T14:34:51.771Z"
   },
   {
    "duration": 22,
    "start_time": "2024-02-01T14:34:51.791Z"
   },
   {
    "duration": 16,
    "start_time": "2024-02-01T14:34:51.814Z"
   },
   {
    "duration": 10,
    "start_time": "2024-02-01T14:34:51.831Z"
   },
   {
    "duration": 30,
    "start_time": "2024-02-01T14:34:51.843Z"
   },
   {
    "duration": 9,
    "start_time": "2024-02-01T14:34:51.875Z"
   },
   {
    "duration": 7,
    "start_time": "2024-02-01T14:34:51.885Z"
   },
   {
    "duration": 19,
    "start_time": "2024-02-01T14:34:51.893Z"
   },
   {
    "duration": 11,
    "start_time": "2024-02-01T14:34:51.913Z"
   },
   {
    "duration": 7,
    "start_time": "2024-02-01T14:34:51.925Z"
   },
   {
    "duration": 123,
    "start_time": "2024-02-01T14:34:51.933Z"
   },
   {
    "duration": 1622,
    "start_time": "2024-02-01T14:34:52.058Z"
   },
   {
    "duration": 4,
    "start_time": "2024-02-01T14:34:53.682Z"
   },
   {
    "duration": 8,
    "start_time": "2024-02-01T14:34:53.687Z"
   },
   {
    "duration": 138,
    "start_time": "2024-02-01T14:34:53.697Z"
   },
   {
    "duration": 1145,
    "start_time": "2024-02-01T14:36:10.836Z"
   },
   {
    "duration": 28,
    "start_time": "2024-02-01T14:36:11.982Z"
   },
   {
    "duration": 27,
    "start_time": "2024-02-01T14:36:12.012Z"
   },
   {
    "duration": 15,
    "start_time": "2024-02-01T14:36:12.041Z"
   },
   {
    "duration": 12,
    "start_time": "2024-02-01T14:36:12.057Z"
   },
   {
    "duration": 8,
    "start_time": "2024-02-01T14:36:12.071Z"
   },
   {
    "duration": 14,
    "start_time": "2024-02-01T14:36:12.080Z"
   },
   {
    "duration": 13,
    "start_time": "2024-02-01T14:36:12.095Z"
   },
   {
    "duration": 12,
    "start_time": "2024-02-01T14:36:12.110Z"
   },
   {
    "duration": 4,
    "start_time": "2024-02-01T14:36:12.124Z"
   },
   {
    "duration": 8,
    "start_time": "2024-02-01T14:36:12.130Z"
   },
   {
    "duration": 27,
    "start_time": "2024-02-01T14:36:12.139Z"
   },
   {
    "duration": 6,
    "start_time": "2024-02-01T14:36:12.167Z"
   },
   {
    "duration": 8,
    "start_time": "2024-02-01T14:36:12.175Z"
   },
   {
    "duration": 9,
    "start_time": "2024-02-01T14:36:12.185Z"
   },
   {
    "duration": 14,
    "start_time": "2024-02-01T14:36:12.196Z"
   },
   {
    "duration": 5,
    "start_time": "2024-02-01T14:36:12.212Z"
   },
   {
    "duration": 19,
    "start_time": "2024-02-01T14:36:12.218Z"
   },
   {
    "duration": 32,
    "start_time": "2024-02-01T14:36:12.238Z"
   },
   {
    "duration": 25,
    "start_time": "2024-02-01T14:36:12.272Z"
   },
   {
    "duration": 167,
    "start_time": "2024-02-01T14:36:12.299Z"
   },
   {
    "duration": 75,
    "start_time": "2024-02-01T14:36:12.468Z"
   },
   {
    "duration": 207,
    "start_time": "2024-02-01T14:36:12.545Z"
   },
   {
    "duration": 13,
    "start_time": "2024-02-01T14:36:12.754Z"
   },
   {
    "duration": 152,
    "start_time": "2024-02-01T14:36:12.768Z"
   },
   {
    "duration": 105,
    "start_time": "2024-02-01T14:36:12.921Z"
   },
   {
    "duration": 12,
    "start_time": "2024-02-01T14:36:13.028Z"
   },
   {
    "duration": 26,
    "start_time": "2024-02-01T14:36:13.043Z"
   },
   {
    "duration": 163,
    "start_time": "2024-02-01T14:36:13.071Z"
   },
   {
    "duration": 109,
    "start_time": "2024-02-01T14:36:13.236Z"
   },
   {
    "duration": 26,
    "start_time": "2024-02-01T14:36:13.346Z"
   },
   {
    "duration": 8,
    "start_time": "2024-02-01T14:36:13.373Z"
   },
   {
    "duration": 204,
    "start_time": "2024-02-01T14:36:13.383Z"
   },
   {
    "duration": 14,
    "start_time": "2024-02-01T14:36:13.588Z"
   },
   {
    "duration": 6,
    "start_time": "2024-02-01T14:36:13.603Z"
   },
   {
    "duration": 15,
    "start_time": "2024-02-01T14:36:13.611Z"
   },
   {
    "duration": 205,
    "start_time": "2024-02-01T14:36:13.627Z"
   },
   {
    "duration": 14,
    "start_time": "2024-02-01T14:36:13.833Z"
   },
   {
    "duration": 24,
    "start_time": "2024-02-01T14:36:13.848Z"
   },
   {
    "duration": 18,
    "start_time": "2024-02-01T14:36:13.873Z"
   },
   {
    "duration": 7,
    "start_time": "2024-02-01T14:36:13.892Z"
   },
   {
    "duration": 29,
    "start_time": "2024-02-01T14:36:13.900Z"
   },
   {
    "duration": 30,
    "start_time": "2024-02-01T14:36:13.930Z"
   },
   {
    "duration": 23,
    "start_time": "2024-02-01T14:36:13.961Z"
   },
   {
    "duration": 263,
    "start_time": "2024-02-01T14:36:13.985Z"
   },
   {
    "duration": 154,
    "start_time": "2024-02-01T14:36:14.249Z"
   },
   {
    "duration": 149,
    "start_time": "2024-02-01T14:36:14.405Z"
   },
   {
    "duration": 220,
    "start_time": "2024-02-01T14:36:14.556Z"
   },
   {
    "duration": 155,
    "start_time": "2024-02-01T14:36:14.778Z"
   },
   {
    "duration": 159,
    "start_time": "2024-02-01T14:36:14.935Z"
   },
   {
    "duration": 14,
    "start_time": "2024-02-01T14:36:15.096Z"
   },
   {
    "duration": 32,
    "start_time": "2024-02-01T14:36:15.112Z"
   },
   {
    "duration": 237,
    "start_time": "2024-02-01T14:36:15.146Z"
   },
   {
    "duration": 219,
    "start_time": "2024-02-01T14:36:15.385Z"
   },
   {
    "duration": 150,
    "start_time": "2024-02-01T14:36:15.606Z"
   },
   {
    "duration": 28,
    "start_time": "2024-02-01T14:36:15.758Z"
   },
   {
    "duration": 14,
    "start_time": "2024-02-01T14:36:15.787Z"
   },
   {
    "duration": 20,
    "start_time": "2024-02-01T14:36:15.802Z"
   },
   {
    "duration": 10,
    "start_time": "2024-02-01T14:36:15.824Z"
   },
   {
    "duration": 31,
    "start_time": "2024-02-01T14:36:15.835Z"
   },
   {
    "duration": 8,
    "start_time": "2024-02-01T14:36:15.867Z"
   },
   {
    "duration": 8,
    "start_time": "2024-02-01T14:36:15.876Z"
   },
   {
    "duration": 17,
    "start_time": "2024-02-01T14:36:15.885Z"
   },
   {
    "duration": 8,
    "start_time": "2024-02-01T14:36:15.904Z"
   },
   {
    "duration": 6,
    "start_time": "2024-02-01T14:36:15.914Z"
   },
   {
    "duration": 139,
    "start_time": "2024-02-01T14:36:15.921Z"
   },
   {
    "duration": 1626,
    "start_time": "2024-02-01T14:36:16.064Z"
   },
   {
    "duration": 5,
    "start_time": "2024-02-01T14:36:17.691Z"
   },
   {
    "duration": 10,
    "start_time": "2024-02-01T14:36:17.697Z"
   },
   {
    "duration": 128,
    "start_time": "2024-02-01T14:36:17.708Z"
   },
   {
    "duration": 1196,
    "start_time": "2024-02-01T17:22:15.049Z"
   },
   {
    "duration": 28,
    "start_time": "2024-02-01T17:22:16.247Z"
   },
   {
    "duration": 28,
    "start_time": "2024-02-01T17:22:16.277Z"
   },
   {
    "duration": 16,
    "start_time": "2024-02-01T17:22:16.307Z"
   },
   {
    "duration": 17,
    "start_time": "2024-02-01T17:22:16.324Z"
   },
   {
    "duration": 22,
    "start_time": "2024-02-01T17:22:16.343Z"
   },
   {
    "duration": 20,
    "start_time": "2024-02-01T17:22:16.367Z"
   },
   {
    "duration": 20,
    "start_time": "2024-02-01T17:22:16.389Z"
   },
   {
    "duration": 31,
    "start_time": "2024-02-01T17:22:16.411Z"
   },
   {
    "duration": 5,
    "start_time": "2024-02-01T17:22:16.445Z"
   },
   {
    "duration": 25,
    "start_time": "2024-02-01T17:22:16.452Z"
   },
   {
    "duration": 17,
    "start_time": "2024-02-01T17:22:16.479Z"
   },
   {
    "duration": 20,
    "start_time": "2024-02-01T17:22:16.498Z"
   },
   {
    "duration": 25,
    "start_time": "2024-02-01T17:22:16.519Z"
   },
   {
    "duration": 29,
    "start_time": "2024-02-01T17:22:16.545Z"
   },
   {
    "duration": 27,
    "start_time": "2024-02-01T17:22:16.575Z"
   },
   {
    "duration": 16,
    "start_time": "2024-02-01T17:22:16.604Z"
   },
   {
    "duration": 26,
    "start_time": "2024-02-01T17:22:16.622Z"
   },
   {
    "duration": 27,
    "start_time": "2024-02-01T17:22:16.650Z"
   },
   {
    "duration": 25,
    "start_time": "2024-02-01T17:22:16.678Z"
   },
   {
    "duration": 147,
    "start_time": "2024-02-01T17:22:16.705Z"
   },
   {
    "duration": 74,
    "start_time": "2024-02-01T17:22:16.854Z"
   },
   {
    "duration": 193,
    "start_time": "2024-02-01T17:22:16.933Z"
   },
   {
    "duration": 12,
    "start_time": "2024-02-01T17:22:17.127Z"
   },
   {
    "duration": 152,
    "start_time": "2024-02-01T17:22:17.141Z"
   },
   {
    "duration": 98,
    "start_time": "2024-02-01T17:22:17.295Z"
   },
   {
    "duration": 12,
    "start_time": "2024-02-01T17:22:17.395Z"
   },
   {
    "duration": 8,
    "start_time": "2024-02-01T17:22:17.410Z"
   },
   {
    "duration": 156,
    "start_time": "2024-02-01T17:22:17.433Z"
   },
   {
    "duration": 101,
    "start_time": "2024-02-01T17:22:17.591Z"
   },
   {
    "duration": 15,
    "start_time": "2024-02-01T17:22:17.693Z"
   },
   {
    "duration": 8,
    "start_time": "2024-02-01T17:22:17.709Z"
   },
   {
    "duration": 192,
    "start_time": "2024-02-01T17:22:17.732Z"
   },
   {
    "duration": 19,
    "start_time": "2024-02-01T17:22:17.926Z"
   },
   {
    "duration": 10,
    "start_time": "2024-02-01T17:22:17.946Z"
   },
   {
    "duration": 14,
    "start_time": "2024-02-01T17:22:17.957Z"
   },
   {
    "duration": 192,
    "start_time": "2024-02-01T17:22:17.973Z"
   },
   {
    "duration": 18,
    "start_time": "2024-02-01T17:22:18.166Z"
   },
   {
    "duration": 14,
    "start_time": "2024-02-01T17:22:18.185Z"
   },
   {
    "duration": 42,
    "start_time": "2024-02-01T17:22:18.200Z"
   },
   {
    "duration": 8,
    "start_time": "2024-02-01T17:22:18.243Z"
   },
   {
    "duration": 9,
    "start_time": "2024-02-01T17:22:18.252Z"
   },
   {
    "duration": 17,
    "start_time": "2024-02-01T17:22:18.263Z"
   },
   {
    "duration": 17,
    "start_time": "2024-02-01T17:22:18.281Z"
   },
   {
    "duration": 280,
    "start_time": "2024-02-01T17:22:18.300Z"
   },
   {
    "duration": 159,
    "start_time": "2024-02-01T17:22:18.581Z"
   },
   {
    "duration": 150,
    "start_time": "2024-02-01T17:22:18.741Z"
   },
   {
    "duration": 219,
    "start_time": "2024-02-01T17:22:18.893Z"
   },
   {
    "duration": 169,
    "start_time": "2024-02-01T17:22:19.114Z"
   },
   {
    "duration": 162,
    "start_time": "2024-02-01T17:22:19.284Z"
   },
   {
    "duration": 18,
    "start_time": "2024-02-01T17:22:19.448Z"
   },
   {
    "duration": 30,
    "start_time": "2024-02-01T17:22:19.467Z"
   },
   {
    "duration": 239,
    "start_time": "2024-02-01T17:22:19.499Z"
   },
   {
    "duration": 241,
    "start_time": "2024-02-01T17:22:19.740Z"
   },
   {
    "duration": 152,
    "start_time": "2024-02-01T17:22:19.982Z"
   },
   {
    "duration": 19,
    "start_time": "2024-02-01T17:22:20.135Z"
   },
   {
    "duration": 13,
    "start_time": "2024-02-01T17:22:20.155Z"
   },
   {
    "duration": 16,
    "start_time": "2024-02-01T17:22:20.169Z"
   },
   {
    "duration": 17,
    "start_time": "2024-02-01T17:22:20.186Z"
   },
   {
    "duration": 32,
    "start_time": "2024-02-01T17:22:20.204Z"
   },
   {
    "duration": 11,
    "start_time": "2024-02-01T17:22:20.238Z"
   },
   {
    "duration": 13,
    "start_time": "2024-02-01T17:22:20.250Z"
   },
   {
    "duration": 18,
    "start_time": "2024-02-01T17:22:20.264Z"
   },
   {
    "duration": 10,
    "start_time": "2024-02-01T17:22:20.283Z"
   },
   {
    "duration": 13,
    "start_time": "2024-02-01T17:22:20.294Z"
   },
   {
    "duration": 114,
    "start_time": "2024-02-01T17:22:20.308Z"
   },
   {
    "duration": 1481,
    "start_time": "2024-02-01T17:22:20.424Z"
   },
   {
    "duration": 5,
    "start_time": "2024-02-01T17:22:21.907Z"
   },
   {
    "duration": 23,
    "start_time": "2024-02-01T17:22:21.913Z"
   },
   {
    "duration": 130,
    "start_time": "2024-02-01T17:22:21.938Z"
   },
   {
    "duration": 102,
    "start_time": "2024-02-01T17:23:52.272Z"
   },
   {
    "duration": 7,
    "start_time": "2024-02-01T17:24:06.178Z"
   },
   {
    "duration": 5,
    "start_time": "2024-02-01T17:24:18.033Z"
   },
   {
    "duration": 6,
    "start_time": "2024-02-01T17:24:25.365Z"
   },
   {
    "duration": 6,
    "start_time": "2024-02-01T17:24:32.796Z"
   },
   {
    "duration": 1163,
    "start_time": "2024-09-16T16:44:12.096Z"
   },
   {
    "duration": 111,
    "start_time": "2024-09-16T16:44:13.261Z"
   },
   {
    "duration": 175,
    "start_time": "2024-09-16T16:44:13.374Z"
   },
   {
    "duration": 77,
    "start_time": "2024-09-16T16:44:13.551Z"
   },
   {
    "duration": 14,
    "start_time": "2024-09-16T16:44:13.631Z"
   },
   {
    "duration": 15,
    "start_time": "2024-09-16T16:44:13.646Z"
   },
   {
    "duration": 8,
    "start_time": "2024-09-16T16:44:13.663Z"
   },
   {
    "duration": 12,
    "start_time": "2024-09-16T16:44:13.673Z"
   },
   {
    "duration": 21,
    "start_time": "2024-09-16T16:44:13.687Z"
   },
   {
    "duration": 21,
    "start_time": "2024-09-16T16:44:13.710Z"
   },
   {
    "duration": 16,
    "start_time": "2024-09-16T16:44:13.732Z"
   },
   {
    "duration": 7,
    "start_time": "2024-09-16T16:44:13.750Z"
   },
   {
    "duration": 6,
    "start_time": "2024-09-16T16:44:13.759Z"
   },
   {
    "duration": 9,
    "start_time": "2024-09-16T16:44:13.769Z"
   },
   {
    "duration": 5,
    "start_time": "2024-09-16T16:44:13.780Z"
   },
   {
    "duration": 8,
    "start_time": "2024-09-16T16:44:13.787Z"
   },
   {
    "duration": 6,
    "start_time": "2024-09-16T16:44:13.797Z"
   },
   {
    "duration": 51,
    "start_time": "2024-09-16T16:44:13.804Z"
   },
   {
    "duration": 42,
    "start_time": "2024-09-16T16:44:13.857Z"
   },
   {
    "duration": 38,
    "start_time": "2024-09-16T16:44:13.902Z"
   },
   {
    "duration": 184,
    "start_time": "2024-09-16T16:44:13.942Z"
   },
   {
    "duration": 92,
    "start_time": "2024-09-16T16:44:14.128Z"
   },
   {
    "duration": 219,
    "start_time": "2024-09-16T16:44:14.221Z"
   },
   {
    "duration": 14,
    "start_time": "2024-09-16T16:44:14.442Z"
   },
   {
    "duration": 212,
    "start_time": "2024-09-16T16:44:14.458Z"
   },
   {
    "duration": 121,
    "start_time": "2024-09-16T16:44:14.671Z"
   },
   {
    "duration": 13,
    "start_time": "2024-09-16T16:44:14.793Z"
   },
   {
    "duration": 8,
    "start_time": "2024-09-16T16:44:14.808Z"
   },
   {
    "duration": 199,
    "start_time": "2024-09-16T16:44:14.817Z"
   },
   {
    "duration": 122,
    "start_time": "2024-09-16T16:44:15.018Z"
   },
   {
    "duration": 21,
    "start_time": "2024-09-16T16:44:15.142Z"
   },
   {
    "duration": 7,
    "start_time": "2024-09-16T16:44:15.165Z"
   },
   {
    "duration": 215,
    "start_time": "2024-09-16T16:44:15.174Z"
   },
   {
    "duration": 16,
    "start_time": "2024-09-16T16:44:15.391Z"
   },
   {
    "duration": 18,
    "start_time": "2024-09-16T16:44:15.409Z"
   },
   {
    "duration": 28,
    "start_time": "2024-09-16T16:44:15.429Z"
   },
   {
    "duration": 199,
    "start_time": "2024-09-16T16:44:15.459Z"
   },
   {
    "duration": 16,
    "start_time": "2024-09-16T16:44:15.660Z"
   },
   {
    "duration": 22,
    "start_time": "2024-09-16T16:44:15.677Z"
   },
   {
    "duration": 19,
    "start_time": "2024-09-16T16:44:15.701Z"
   },
   {
    "duration": 28,
    "start_time": "2024-09-16T16:44:15.724Z"
   },
   {
    "duration": 7,
    "start_time": "2024-09-16T16:44:15.753Z"
   },
   {
    "duration": 253,
    "start_time": "2024-09-16T16:44:15.762Z"
   },
   {
    "duration": 174,
    "start_time": "2024-09-16T16:44:16.016Z"
   },
   {
    "duration": 162,
    "start_time": "2024-09-16T16:44:16.192Z"
   },
   {
    "duration": 241,
    "start_time": "2024-09-16T16:44:16.356Z"
   },
   {
    "duration": 170,
    "start_time": "2024-09-16T16:44:16.599Z"
   },
   {
    "duration": 182,
    "start_time": "2024-09-16T16:44:16.770Z"
   },
   {
    "duration": 16,
    "start_time": "2024-09-16T16:44:16.953Z"
   },
   {
    "duration": 17,
    "start_time": "2024-09-16T16:44:16.970Z"
   },
   {
    "duration": 256,
    "start_time": "2024-09-16T16:44:16.988Z"
   },
   {
    "duration": 239,
    "start_time": "2024-09-16T16:44:17.246Z"
   },
   {
    "duration": 152,
    "start_time": "2024-09-16T16:44:17.487Z"
   },
   {
    "duration": 18,
    "start_time": "2024-09-16T16:44:17.640Z"
   },
   {
    "duration": 11,
    "start_time": "2024-09-16T16:44:17.660Z"
   },
   {
    "duration": 30,
    "start_time": "2024-09-16T16:44:17.673Z"
   },
   {
    "duration": 11,
    "start_time": "2024-09-16T16:44:17.705Z"
   },
   {
    "duration": 8,
    "start_time": "2024-09-16T16:44:17.717Z"
   },
   {
    "duration": 26,
    "start_time": "2024-09-16T16:44:17.727Z"
   },
   {
    "duration": 6,
    "start_time": "2024-09-16T16:44:17.755Z"
   },
   {
    "duration": 9,
    "start_time": "2024-09-16T16:44:17.763Z"
   },
   {
    "duration": 10,
    "start_time": "2024-09-16T16:44:17.774Z"
   },
   {
    "duration": 12,
    "start_time": "2024-09-16T16:44:17.785Z"
   },
   {
    "duration": 139,
    "start_time": "2024-09-16T16:44:17.798Z"
   },
   {
    "duration": 1717,
    "start_time": "2024-09-16T16:44:17.938Z"
   },
   {
    "duration": 5,
    "start_time": "2024-09-16T16:44:19.656Z"
   },
   {
    "duration": 6,
    "start_time": "2024-09-16T16:44:19.662Z"
   },
   {
    "duration": 144,
    "start_time": "2024-09-16T16:44:19.670Z"
   }
  ],
  "kernelspec": {
   "display_name": "Python 3 (ipykernel)",
   "language": "python",
   "name": "python3"
  },
  "language_info": {
   "codemirror_mode": {
    "name": "ipython",
    "version": 3
   },
   "file_extension": ".py",
   "mimetype": "text/x-python",
   "name": "python",
   "nbconvert_exporter": "python",
   "pygments_lexer": "ipython3",
   "version": "3.9.5"
  },
  "toc": {
   "base_numbering": 1,
   "nav_menu": {},
   "number_sections": true,
   "sideBar": true,
   "skip_h1_title": true,
   "title_cell": "Table of Contents",
   "title_sidebar": "Contents",
   "toc_cell": true,
   "toc_position": {},
   "toc_section_display": true,
   "toc_window_display": true
  }
 },
 "nbformat": 4,
 "nbformat_minor": 5
}
