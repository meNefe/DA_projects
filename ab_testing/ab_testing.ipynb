{
 "cells": [
  {
   "cell_type": "markdown",
   "metadata": {},
   "source": [
    "# Анализ A/B-тестирования (приложение интернет-магазина)."
   ]
  },
  {
   "cell_type": "markdown",
   "metadata": {},
   "source": [
    "Цель исследования:\n",
    "\n",
    "- оценить результаты проведенного А/B-тестирования;\n",
    "- определить текущии параметры среднего чека и конверсии ;\n",
    "- выбрать приоритетеное направление увеличения выручки на основе результатов тестовых групп.\n",
    "\n",
    "Ничего не известно о качестве данных, поэтому для начала необходимо оценить их полноту и исправить ошибки. Перед нами таблица для приоритизации гипотез и выгрузка результатов тестирования по покупкам и визитам на сайт. \n",
    "\n",
    "\n",
    "***Описание данных:***\n",
    "\n",
    "Файл hypothesis.csv:\n",
    "- Hypothesis — краткое описание гипотезы;\n",
    "- Reach — охват пользователей по 10-балльной шкале;\n",
    "- Impact — влияние на пользователей по 10-балльной шкале;\n",
    "- Confidence — уверенность в гипотезе по 10-балльной шкале;\n",
    "- Efforts — затраты ресурсов на проверку гипотезы по 10-балльной шкале. Чем больше значение Efforts, тем дороже проверка гипотезы.\n",
    "\n",
    "Файл orders.csv:\n",
    "- transactionId — идентификатор заказа;\n",
    "- visitorId — идентификатор пользователя, совершившего заказ;\n",
    "- date — дата, когда был совершён заказ;\n",
    "- revenue — выручка заказа;\n",
    "- group — группа A/B-теста, в которую попал заказ.\n",
    "Файл visitors.csv:\n",
    "- date — дата;\n",
    "- group — группа A/B-теста;\n",
    "- visitors — количество пользователей в указанную дату в указанной группе A/B-теста"
   ]
  },
  {
   "cell_type": "markdown",
   "metadata": {},
   "source": [
    "<h1>Содержание<span class=\"tocSkip\"></span></h1>\n",
    "<div class=\"toc\"><ul class=\"toc-item\"><li><span><a href=\"#Приоритизация-гипотез.\" data-toc-modified-id=\"Приоритизация-гипотез.-1\"><span class=\"toc-item-num\">1&nbsp;&nbsp;</span>Приоритизация гипотез.</a></span><ul class=\"toc-item\"><li><span><a href=\"#Приоритизация-с-использованием-фреймворка-ICE.\" data-toc-modified-id=\"Приоритизация-с-использованием-фреймворка-ICE.-1.1\"><span class=\"toc-item-num\">1.1&nbsp;&nbsp;</span>Приоритизация с использованием фреймворка ICE.</a></span></li><li><span><a href=\"#Приоритизация-с-использованием-фреймворка-RICE.\" data-toc-modified-id=\"Приоритизация-с-использованием-фреймворка-RICE.-1.2\"><span class=\"toc-item-num\">1.2&nbsp;&nbsp;</span>Приоритизация с использованием фреймворка RICE.</a></span></li><li><span><a href=\"#Изменения-в-приоритизации.\" data-toc-modified-id=\"Изменения-в-приоритизации.-1.3\"><span class=\"toc-item-num\">1.3&nbsp;&nbsp;</span>Изменения в приоритизации.</a></span></li></ul></li><li><span><a href=\"#Анализ-A/B-теста.\" data-toc-modified-id=\"Анализ-A/B-теста.-2\"><span class=\"toc-item-num\">2&nbsp;&nbsp;</span>Анализ A/B-теста.</a></span><ul class=\"toc-item\"><li><span><a href=\"#Загрузка-и-предподготовка-данных.\" data-toc-modified-id=\"Загрузка-и-предподготовка-данных.-2.1\"><span class=\"toc-item-num\">2.1&nbsp;&nbsp;</span>Загрузка и предподготовка данных.</a></span></li><li><span><a href=\"#Кумулятивная-выручка-по-группам.\" data-toc-modified-id=\"Кумулятивная-выручка-по-группам.-2.2\"><span class=\"toc-item-num\">2.2&nbsp;&nbsp;</span>Кумулятивная выручка по группам.</a></span></li><li><span><a href=\"#Кумулятивный-средний-чек-по-группам.\" data-toc-modified-id=\"Кумулятивный-средний-чек-по-группам.-2.3\"><span class=\"toc-item-num\">2.3&nbsp;&nbsp;</span>Кумулятивный средний чек по группам.</a></span></li><li><span><a href=\"#Относительное-изменение-кумулятивного-среднего-чека-группы-B-к-группе-A.\" data-toc-modified-id=\"Относительное-изменение-кумулятивного-среднего-чека-группы-B-к-группе-A.-2.4\"><span class=\"toc-item-num\">2.4&nbsp;&nbsp;</span>Относительное изменение кумулятивного среднего чека группы B к группе A.</a></span></li><li><span><a href=\"#Кумулятивное-среднее-количество-заказов-на-посетителя-по-группам.\" data-toc-modified-id=\"Кумулятивное-среднее-количество-заказов-на-посетителя-по-группам.-2.5\"><span class=\"toc-item-num\">2.5&nbsp;&nbsp;</span>Кумулятивное среднее количество заказов на посетителя по группам.</a></span></li><li><span><a href=\"#Относительное-изменение-кумулятивного-среднего-количества-заказов-на-посетителя-группы-B-к-группе-A.\" data-toc-modified-id=\"Относительное-изменение-кумулятивного-среднего-количества-заказов-на-посетителя-группы-B-к-группе-A.-2.6\"><span class=\"toc-item-num\">2.6&nbsp;&nbsp;</span>Относительное изменение кумулятивного среднего количества заказов на посетителя группы B к группе A.</a></span></li><li><span><a href=\"#Разброс-количества-заказов-по-пользователям.\" data-toc-modified-id=\"Разброс-количества-заказов-по-пользователям.-2.7\"><span class=\"toc-item-num\">2.7&nbsp;&nbsp;</span>Разброс количества заказов по пользователям.</a></span></li><li><span><a href=\"#Граница-для-определения-аномальных-пользователей-по-количеству-заказов.\" data-toc-modified-id=\"Граница-для-определения-аномальных-пользователей-по-количеству-заказов.-2.8\"><span class=\"toc-item-num\">2.8&nbsp;&nbsp;</span>Граница для определения аномальных пользователей по количеству заказов.</a></span></li><li><span><a href=\"#Разброс-суммы-заказов-по-пользователям.\" data-toc-modified-id=\"Разброс-суммы-заказов-по-пользователям.-2.9\"><span class=\"toc-item-num\">2.9&nbsp;&nbsp;</span>Разброс суммы заказов по пользователям.</a></span></li><li><span><a href=\"#Граница-для-определения-аномальных-пользователей-по-сумме-заказа.\" data-toc-modified-id=\"Граница-для-определения-аномальных-пользователей-по-сумме-заказа.-2.10\"><span class=\"toc-item-num\">2.10&nbsp;&nbsp;</span>Граница для определения аномальных пользователей по сумме заказа.</a></span></li><li><span><a href=\"#Различия-в-среднем-количестве-заказов--(сырые-данные).\" data-toc-modified-id=\"Различия-в-среднем-количестве-заказов--(сырые-данные).-2.11\"><span class=\"toc-item-num\">2.11&nbsp;&nbsp;</span>Различия в среднем количестве заказов  (сырые данные).</a></span></li><li><span><a href=\"#Различия-в-среднем-чеке-(«сырые»-данные).\" data-toc-modified-id=\"Различия-в-среднем-чеке-(«сырые»-данные).-2.12\"><span class=\"toc-item-num\">2.12&nbsp;&nbsp;</span>Различия в среднем чеке («сырые» данные).</a></span></li><li><span><a href=\"#Различия-в-среднем-количестве-заказов-(«очищенные»-данные).\" data-toc-modified-id=\"Различия-в-среднем-количестве-заказов-(«очищенные»-данные).-2.13\"><span class=\"toc-item-num\">2.13&nbsp;&nbsp;</span>Различия в среднем количестве заказов («очищенные» данные).</a></span></li><li><span><a href=\"#Различия-в-среднем-чеке(«очищенные»-данные).\" data-toc-modified-id=\"Различия-в-среднем-чеке(«очищенные»-данные).-2.14\"><span class=\"toc-item-num\">2.14&nbsp;&nbsp;</span>Различия в среднем чеке(«очищенные» данные).</a></span></li><li><span><a href=\"#Вывод.\" data-toc-modified-id=\"Вывод.-2.15\"><span class=\"toc-item-num\">2.15&nbsp;&nbsp;</span>Вывод.</a></span></li></ul></li></ul></div>"
   ]
  },
  {
   "cell_type": "markdown",
   "metadata": {},
   "source": [
    "### Приоритизация гипотез."
   ]
  },
  {
   "cell_type": "markdown",
   "metadata": {},
   "source": [
    "Загружаем библиотеки для анализа."
   ]
  },
  {
   "cell_type": "code",
   "execution_count": 1,
   "metadata": {},
   "outputs": [],
   "source": [
    "import pandas as pd\n",
    "import scipy.stats as st\n",
    "import datetime as dt\n",
    "import numpy as np\n",
    "import matplotlib.pyplot as plt\n",
    "import seaborn as sns"
   ]
  },
  {
   "cell_type": "markdown",
   "metadata": {},
   "source": [
    "Загрузим файл с гипотезами по увеличению выручки интернет-магазина с указанными параметрами Reach, Impact, Confidence, Effort."
   ]
  },
  {
   "cell_type": "code",
   "execution_count": 2,
   "metadata": {},
   "outputs": [],
   "source": [
    "try:\n",
    "    hypothesis = pd.read_csv('/datasets/______')\n",
    "  \n",
    "except:\n",
    "    hypothesis = pd.read_csv('https://_________')\n"
   ]
  },
  {
   "cell_type": "code",
   "execution_count": 3,
   "metadata": {},
   "outputs": [
    {
     "data": {
      "text/html": [
       "<div>\n",
       "<style scoped>\n",
       "    .dataframe tbody tr th:only-of-type {\n",
       "        vertical-align: middle;\n",
       "    }\n",
       "\n",
       "    .dataframe tbody tr th {\n",
       "        vertical-align: top;\n",
       "    }\n",
       "\n",
       "    .dataframe thead th {\n",
       "        text-align: right;\n",
       "    }\n",
       "</style>\n",
       "<table border=\"1\" class=\"dataframe\">\n",
       "  <thead>\n",
       "    <tr style=\"text-align: right;\">\n",
       "      <th></th>\n",
       "      <th>Hypothesis</th>\n",
       "      <th>Reach</th>\n",
       "      <th>Impact</th>\n",
       "      <th>Confidence</th>\n",
       "      <th>Efforts</th>\n",
       "    </tr>\n",
       "  </thead>\n",
       "  <tbody>\n",
       "    <tr>\n",
       "      <th>0</th>\n",
       "      <td>Добавить два новых канала привлечения трафика, что позволит привлекать на 30% больше пользователей</td>\n",
       "      <td>3</td>\n",
       "      <td>10</td>\n",
       "      <td>8</td>\n",
       "      <td>6</td>\n",
       "    </tr>\n",
       "    <tr>\n",
       "      <th>1</th>\n",
       "      <td>Запустить собственную службу доставки, что сократит срок доставки заказов</td>\n",
       "      <td>2</td>\n",
       "      <td>5</td>\n",
       "      <td>4</td>\n",
       "      <td>10</td>\n",
       "    </tr>\n",
       "    <tr>\n",
       "      <th>2</th>\n",
       "      <td>Добавить блоки рекомендаций товаров на сайт интернет магазина, чтобы повысить конверсию и средний чек заказа</td>\n",
       "      <td>8</td>\n",
       "      <td>3</td>\n",
       "      <td>7</td>\n",
       "      <td>3</td>\n",
       "    </tr>\n",
       "    <tr>\n",
       "      <th>3</th>\n",
       "      <td>Изменить структура категорий, что увеличит конверсию, т.к. пользователи быстрее найдут нужный товар</td>\n",
       "      <td>8</td>\n",
       "      <td>3</td>\n",
       "      <td>3</td>\n",
       "      <td>8</td>\n",
       "    </tr>\n",
       "    <tr>\n",
       "      <th>4</th>\n",
       "      <td>Изменить цвет фона главной страницы, чтобы увеличить вовлеченность пользователей</td>\n",
       "      <td>3</td>\n",
       "      <td>1</td>\n",
       "      <td>1</td>\n",
       "      <td>1</td>\n",
       "    </tr>\n",
       "    <tr>\n",
       "      <th>5</th>\n",
       "      <td>Добавить страницу отзывов клиентов о магазине, что позволит увеличить количество заказов</td>\n",
       "      <td>3</td>\n",
       "      <td>2</td>\n",
       "      <td>2</td>\n",
       "      <td>3</td>\n",
       "    </tr>\n",
       "    <tr>\n",
       "      <th>6</th>\n",
       "      <td>Показать на главной странице баннеры с актуальными акциями и распродажами, чтобы увеличить конверсию</td>\n",
       "      <td>5</td>\n",
       "      <td>3</td>\n",
       "      <td>8</td>\n",
       "      <td>3</td>\n",
       "    </tr>\n",
       "    <tr>\n",
       "      <th>7</th>\n",
       "      <td>Добавить форму подписки на все основные страницы, чтобы собрать базу клиентов для email-рассылок</td>\n",
       "      <td>10</td>\n",
       "      <td>7</td>\n",
       "      <td>8</td>\n",
       "      <td>5</td>\n",
       "    </tr>\n",
       "    <tr>\n",
       "      <th>8</th>\n",
       "      <td>Запустить акцию, дающую скидку на товар в день рождения</td>\n",
       "      <td>1</td>\n",
       "      <td>9</td>\n",
       "      <td>9</td>\n",
       "      <td>5</td>\n",
       "    </tr>\n",
       "  </tbody>\n",
       "</table>\n",
       "</div>"
      ],
      "text/plain": [
       "                                                                                                     Hypothesis  Reach  Impact  Confidence  Efforts\n",
       "0            Добавить два новых канала привлечения трафика, что позволит привлекать на 30% больше пользователей      3      10           8        6\n",
       "1                                     Запустить собственную службу доставки, что сократит срок доставки заказов      2       5           4       10\n",
       "2  Добавить блоки рекомендаций товаров на сайт интернет магазина, чтобы повысить конверсию и средний чек заказа      8       3           7        3\n",
       "3           Изменить структура категорий, что увеличит конверсию, т.к. пользователи быстрее найдут нужный товар      8       3           3        8\n",
       "4                              Изменить цвет фона главной страницы, чтобы увеличить вовлеченность пользователей      3       1           1        1\n",
       "5                      Добавить страницу отзывов клиентов о магазине, что позволит увеличить количество заказов      3       2           2        3\n",
       "6          Показать на главной странице баннеры с актуальными акциями и распродажами, чтобы увеличить конверсию      5       3           8        3\n",
       "7              Добавить форму подписки на все основные страницы, чтобы собрать базу клиентов для email-рассылок     10       7           8        5\n",
       "8                                                       Запустить акцию, дающую скидку на товар в день рождения      1       9           9        5"
      ]
     },
     "execution_count": 3,
     "metadata": {},
     "output_type": "execute_result"
    }
   ],
   "source": [
    "pd.set_option('display.float_format', '{:.3f}'.format)\n",
    "pd.set_option('max_colwidth', 110)\n",
    "pd.set_option('display.width', 500)\n",
    "hypothesis"
   ]
  },
  {
   "cell_type": "markdown",
   "metadata": {},
   "source": [
    "Проверим типы данных."
   ]
  },
  {
   "cell_type": "code",
   "execution_count": 4,
   "metadata": {
    "scrolled": true
   },
   "outputs": [
    {
     "name": "stdout",
     "output_type": "stream",
     "text": [
      "<class 'pandas.core.frame.DataFrame'>\n",
      "RangeIndex: 9 entries, 0 to 8\n",
      "Data columns (total 5 columns):\n",
      " #   Column      Non-Null Count  Dtype \n",
      "---  ------      --------------  ----- \n",
      " 0   Hypothesis  9 non-null      object\n",
      " 1   Reach       9 non-null      int64 \n",
      " 2   Impact      9 non-null      int64 \n",
      " 3   Confidence  9 non-null      int64 \n",
      " 4   Efforts     9 non-null      int64 \n",
      "dtypes: int64(4), object(1)\n",
      "memory usage: 492.0+ bytes\n"
     ]
    }
   ],
   "source": [
    "hypothesis.info()"
   ]
  },
  {
   "cell_type": "markdown",
   "metadata": {},
   "source": [
    "С типами данных все в порядке, можно приступать к приоритизации."
   ]
  },
  {
   "cell_type": "markdown",
   "metadata": {},
   "source": [
    "#### Приоритизация с использованием фреймворка ICE."
   ]
  },
  {
   "cell_type": "code",
   "execution_count": 5,
   "metadata": {},
   "outputs": [
    {
     "data": {
      "text/html": [
       "<div>\n",
       "<style scoped>\n",
       "    .dataframe tbody tr th:only-of-type {\n",
       "        vertical-align: middle;\n",
       "    }\n",
       "\n",
       "    .dataframe tbody tr th {\n",
       "        vertical-align: top;\n",
       "    }\n",
       "\n",
       "    .dataframe thead th {\n",
       "        text-align: right;\n",
       "    }\n",
       "</style>\n",
       "<table border=\"1\" class=\"dataframe\">\n",
       "  <thead>\n",
       "    <tr style=\"text-align: right;\">\n",
       "      <th></th>\n",
       "      <th>Hypothesis</th>\n",
       "      <th>Reach</th>\n",
       "      <th>Impact</th>\n",
       "      <th>Confidence</th>\n",
       "      <th>Efforts</th>\n",
       "      <th>ICE</th>\n",
       "    </tr>\n",
       "  </thead>\n",
       "  <tbody>\n",
       "    <tr>\n",
       "      <th>8</th>\n",
       "      <td>Запустить акцию, дающую скидку на товар в день рождения</td>\n",
       "      <td>1</td>\n",
       "      <td>9</td>\n",
       "      <td>9</td>\n",
       "      <td>5</td>\n",
       "      <td>16.200</td>\n",
       "    </tr>\n",
       "    <tr>\n",
       "      <th>0</th>\n",
       "      <td>Добавить два новых канала привлечения трафика, что позволит привлекать на 30% больше пользователей</td>\n",
       "      <td>3</td>\n",
       "      <td>10</td>\n",
       "      <td>8</td>\n",
       "      <td>6</td>\n",
       "      <td>13.333</td>\n",
       "    </tr>\n",
       "    <tr>\n",
       "      <th>7</th>\n",
       "      <td>Добавить форму подписки на все основные страницы, чтобы собрать базу клиентов для email-рассылок</td>\n",
       "      <td>10</td>\n",
       "      <td>7</td>\n",
       "      <td>8</td>\n",
       "      <td>5</td>\n",
       "      <td>11.200</td>\n",
       "    </tr>\n",
       "    <tr>\n",
       "      <th>6</th>\n",
       "      <td>Показать на главной странице баннеры с актуальными акциями и распродажами, чтобы увеличить конверсию</td>\n",
       "      <td>5</td>\n",
       "      <td>3</td>\n",
       "      <td>8</td>\n",
       "      <td>3</td>\n",
       "      <td>8.000</td>\n",
       "    </tr>\n",
       "    <tr>\n",
       "      <th>2</th>\n",
       "      <td>Добавить блоки рекомендаций товаров на сайт интернет магазина, чтобы повысить конверсию и средний чек заказа</td>\n",
       "      <td>8</td>\n",
       "      <td>3</td>\n",
       "      <td>7</td>\n",
       "      <td>3</td>\n",
       "      <td>7.000</td>\n",
       "    </tr>\n",
       "    <tr>\n",
       "      <th>1</th>\n",
       "      <td>Запустить собственную службу доставки, что сократит срок доставки заказов</td>\n",
       "      <td>2</td>\n",
       "      <td>5</td>\n",
       "      <td>4</td>\n",
       "      <td>10</td>\n",
       "      <td>2.000</td>\n",
       "    </tr>\n",
       "    <tr>\n",
       "      <th>5</th>\n",
       "      <td>Добавить страницу отзывов клиентов о магазине, что позволит увеличить количество заказов</td>\n",
       "      <td>3</td>\n",
       "      <td>2</td>\n",
       "      <td>2</td>\n",
       "      <td>3</td>\n",
       "      <td>1.333</td>\n",
       "    </tr>\n",
       "    <tr>\n",
       "      <th>3</th>\n",
       "      <td>Изменить структура категорий, что увеличит конверсию, т.к. пользователи быстрее найдут нужный товар</td>\n",
       "      <td>8</td>\n",
       "      <td>3</td>\n",
       "      <td>3</td>\n",
       "      <td>8</td>\n",
       "      <td>1.125</td>\n",
       "    </tr>\n",
       "    <tr>\n",
       "      <th>4</th>\n",
       "      <td>Изменить цвет фона главной страницы, чтобы увеличить вовлеченность пользователей</td>\n",
       "      <td>3</td>\n",
       "      <td>1</td>\n",
       "      <td>1</td>\n",
       "      <td>1</td>\n",
       "      <td>1.000</td>\n",
       "    </tr>\n",
       "  </tbody>\n",
       "</table>\n",
       "</div>"
      ],
      "text/plain": [
       "                                                                                                     Hypothesis  Reach  Impact  Confidence  Efforts    ICE\n",
       "8                                                       Запустить акцию, дающую скидку на товар в день рождения      1       9           9        5 16.200\n",
       "0            Добавить два новых канала привлечения трафика, что позволит привлекать на 30% больше пользователей      3      10           8        6 13.333\n",
       "7              Добавить форму подписки на все основные страницы, чтобы собрать базу клиентов для email-рассылок     10       7           8        5 11.200\n",
       "6          Показать на главной странице баннеры с актуальными акциями и распродажами, чтобы увеличить конверсию      5       3           8        3  8.000\n",
       "2  Добавить блоки рекомендаций товаров на сайт интернет магазина, чтобы повысить конверсию и средний чек заказа      8       3           7        3  7.000\n",
       "1                                     Запустить собственную службу доставки, что сократит срок доставки заказов      2       5           4       10  2.000\n",
       "5                      Добавить страницу отзывов клиентов о магазине, что позволит увеличить количество заказов      3       2           2        3  1.333\n",
       "3           Изменить структура категорий, что увеличит конверсию, т.к. пользователи быстрее найдут нужный товар      8       3           3        8  1.125\n",
       "4                              Изменить цвет фона главной страницы, чтобы увеличить вовлеченность пользователей      3       1           1        1  1.000"
      ]
     },
     "execution_count": 5,
     "metadata": {},
     "output_type": "execute_result"
    }
   ],
   "source": [
    "hypothesis['ICE'] = (hypothesis['Impact']*hypothesis['Confidence'])/hypothesis['Efforts']\n",
    "hypothesis.sort_values(by='ICE', ascending=False)"
   ]
  },
  {
   "cell_type": "markdown",
   "metadata": {},
   "source": [
    "При приоритизации с помощью фреймворка ICE  наиболее перспективные гипотезы для проверки под номерами 8, 0, 7. Т.е. по ICE приоритетны проверки гипотез по запуске акции со скидкой на день рождения, добавление двух новых каналов привлечния трафика, добавление формы подписки на соновные страницы. Теперь необходимо посмотреть какие результаты даст приоритезация по RICE."
   ]
  },
  {
   "cell_type": "markdown",
   "metadata": {},
   "source": [
    "#### Приоритизация с использованием фреймворка RICE."
   ]
  },
  {
   "cell_type": "code",
   "execution_count": 6,
   "metadata": {},
   "outputs": [
    {
     "data": {
      "text/html": [
       "<div>\n",
       "<style scoped>\n",
       "    .dataframe tbody tr th:only-of-type {\n",
       "        vertical-align: middle;\n",
       "    }\n",
       "\n",
       "    .dataframe tbody tr th {\n",
       "        vertical-align: top;\n",
       "    }\n",
       "\n",
       "    .dataframe thead th {\n",
       "        text-align: right;\n",
       "    }\n",
       "</style>\n",
       "<table border=\"1\" class=\"dataframe\">\n",
       "  <thead>\n",
       "    <tr style=\"text-align: right;\">\n",
       "      <th></th>\n",
       "      <th>Hypothesis</th>\n",
       "      <th>Reach</th>\n",
       "      <th>Impact</th>\n",
       "      <th>Confidence</th>\n",
       "      <th>Efforts</th>\n",
       "      <th>ICE</th>\n",
       "      <th>RICE</th>\n",
       "    </tr>\n",
       "  </thead>\n",
       "  <tbody>\n",
       "    <tr>\n",
       "      <th>7</th>\n",
       "      <td>Добавить форму подписки на все основные страницы, чтобы собрать базу клиентов для email-рассылок</td>\n",
       "      <td>10</td>\n",
       "      <td>7</td>\n",
       "      <td>8</td>\n",
       "      <td>5</td>\n",
       "      <td>11.200</td>\n",
       "      <td>112.000</td>\n",
       "    </tr>\n",
       "    <tr>\n",
       "      <th>2</th>\n",
       "      <td>Добавить блоки рекомендаций товаров на сайт интернет магазина, чтобы повысить конверсию и средний чек заказа</td>\n",
       "      <td>8</td>\n",
       "      <td>3</td>\n",
       "      <td>7</td>\n",
       "      <td>3</td>\n",
       "      <td>7.000</td>\n",
       "      <td>56.000</td>\n",
       "    </tr>\n",
       "    <tr>\n",
       "      <th>0</th>\n",
       "      <td>Добавить два новых канала привлечения трафика, что позволит привлекать на 30% больше пользователей</td>\n",
       "      <td>3</td>\n",
       "      <td>10</td>\n",
       "      <td>8</td>\n",
       "      <td>6</td>\n",
       "      <td>13.333</td>\n",
       "      <td>40.000</td>\n",
       "    </tr>\n",
       "    <tr>\n",
       "      <th>6</th>\n",
       "      <td>Показать на главной странице баннеры с актуальными акциями и распродажами, чтобы увеличить конверсию</td>\n",
       "      <td>5</td>\n",
       "      <td>3</td>\n",
       "      <td>8</td>\n",
       "      <td>3</td>\n",
       "      <td>8.000</td>\n",
       "      <td>40.000</td>\n",
       "    </tr>\n",
       "    <tr>\n",
       "      <th>8</th>\n",
       "      <td>Запустить акцию, дающую скидку на товар в день рождения</td>\n",
       "      <td>1</td>\n",
       "      <td>9</td>\n",
       "      <td>9</td>\n",
       "      <td>5</td>\n",
       "      <td>16.200</td>\n",
       "      <td>16.200</td>\n",
       "    </tr>\n",
       "    <tr>\n",
       "      <th>3</th>\n",
       "      <td>Изменить структура категорий, что увеличит конверсию, т.к. пользователи быстрее найдут нужный товар</td>\n",
       "      <td>8</td>\n",
       "      <td>3</td>\n",
       "      <td>3</td>\n",
       "      <td>8</td>\n",
       "      <td>1.125</td>\n",
       "      <td>9.000</td>\n",
       "    </tr>\n",
       "    <tr>\n",
       "      <th>1</th>\n",
       "      <td>Запустить собственную службу доставки, что сократит срок доставки заказов</td>\n",
       "      <td>2</td>\n",
       "      <td>5</td>\n",
       "      <td>4</td>\n",
       "      <td>10</td>\n",
       "      <td>2.000</td>\n",
       "      <td>4.000</td>\n",
       "    </tr>\n",
       "    <tr>\n",
       "      <th>5</th>\n",
       "      <td>Добавить страницу отзывов клиентов о магазине, что позволит увеличить количество заказов</td>\n",
       "      <td>3</td>\n",
       "      <td>2</td>\n",
       "      <td>2</td>\n",
       "      <td>3</td>\n",
       "      <td>1.333</td>\n",
       "      <td>4.000</td>\n",
       "    </tr>\n",
       "    <tr>\n",
       "      <th>4</th>\n",
       "      <td>Изменить цвет фона главной страницы, чтобы увеличить вовлеченность пользователей</td>\n",
       "      <td>3</td>\n",
       "      <td>1</td>\n",
       "      <td>1</td>\n",
       "      <td>1</td>\n",
       "      <td>1.000</td>\n",
       "      <td>3.000</td>\n",
       "    </tr>\n",
       "  </tbody>\n",
       "</table>\n",
       "</div>"
      ],
      "text/plain": [
       "                                                                                                     Hypothesis  Reach  Impact  Confidence  Efforts    ICE    RICE\n",
       "7              Добавить форму подписки на все основные страницы, чтобы собрать базу клиентов для email-рассылок     10       7           8        5 11.200 112.000\n",
       "2  Добавить блоки рекомендаций товаров на сайт интернет магазина, чтобы повысить конверсию и средний чек заказа      8       3           7        3  7.000  56.000\n",
       "0            Добавить два новых канала привлечения трафика, что позволит привлекать на 30% больше пользователей      3      10           8        6 13.333  40.000\n",
       "6          Показать на главной странице баннеры с актуальными акциями и распродажами, чтобы увеличить конверсию      5       3           8        3  8.000  40.000\n",
       "8                                                       Запустить акцию, дающую скидку на товар в день рождения      1       9           9        5 16.200  16.200\n",
       "3           Изменить структура категорий, что увеличит конверсию, т.к. пользователи быстрее найдут нужный товар      8       3           3        8  1.125   9.000\n",
       "1                                     Запустить собственную службу доставки, что сократит срок доставки заказов      2       5           4       10  2.000   4.000\n",
       "5                      Добавить страницу отзывов клиентов о магазине, что позволит увеличить количество заказов      3       2           2        3  1.333   4.000\n",
       "4                              Изменить цвет фона главной страницы, чтобы увеличить вовлеченность пользователей      3       1           1        1  1.000   3.000"
      ]
     },
     "execution_count": 6,
     "metadata": {},
     "output_type": "execute_result"
    }
   ],
   "source": [
    "hypothesis['RICE'] = (hypothesis['Reach']*hypothesis['Impact']*hypothesis['Confidence'])/hypothesis['Efforts']\n",
    "hypothesis.sort_values(by='RICE', ascending=False)"
   ]
  },
  {
   "cell_type": "markdown",
   "metadata": {},
   "source": [
    "При использование фреймворка RICE приоритизация дала немного иные результаты - в тройке лидеров гипотезы под номером 7, 2, 0. То есть гипотезы по добавлению формы подписки и двум новым каналам привлечения остались в топ-, а также к ним добавилась гипотеза по добавлению блоков рекомендаций."
   ]
  },
  {
   "cell_type": "markdown",
   "metadata": {},
   "source": [
    "#### Изменения в приоритизации."
   ]
  },
  {
   "cell_type": "code",
   "execution_count": 7,
   "metadata": {},
   "outputs": [
    {
     "data": {
      "text/html": [
       "<style type=\"text/css\">\n",
       "#T_58d0a_row0_col9, #T_58d0a_row5_col9 {\n",
       "  width: 10em;\n",
       "  background: linear-gradient(90deg, transparent 57.1%, yellowgreen 57.1%, yellowgreen 85.7%, transparent 85.7%);\n",
       "}\n",
       "#T_58d0a_row1_col9 {\n",
       "  width: 10em;\n",
       "  background: linear-gradient(90deg, transparent 57.1%, yellowgreen 57.1%, yellowgreen 100.0%, transparent 100.0%);\n",
       "}\n",
       "#T_58d0a_row2_col9, #T_58d0a_row6_col9 {\n",
       "  width: 10em;\n",
       "  background: linear-gradient(90deg, transparent 35.7%, pink 35.7%, pink 57.1%, transparent 57.1%);\n",
       "}\n",
       "#T_58d0a_row3_col9 {\n",
       "  width: 10em;\n",
       "  background: linear-gradient(90deg, transparent 57.1%, yellowgreen 57.1%, yellowgreen 64.3%, transparent 64.3%);\n",
       "}\n",
       "#T_58d0a_row4_col9 {\n",
       "  width: 10em;\n",
       "  background: linear-gradient(90deg, pink 57.1%, transparent 57.1%);\n",
       "}\n",
       "#T_58d0a_row7_col9 {\n",
       "  width: 10em;\n",
       "  background: linear-gradient(90deg, transparent 50.0%, pink 50.0%, pink 57.1%, transparent 57.1%);\n",
       "}\n",
       "#T_58d0a_row8_col9 {\n",
       "  width: 10em;\n",
       "}\n",
       "</style>\n",
       "<table id=\"T_58d0a\">\n",
       "  <thead>\n",
       "    <tr>\n",
       "      <th class=\"blank level0\" >&nbsp;</th>\n",
       "      <th id=\"T_58d0a_level0_col0\" class=\"col_heading level0 col0\" >Hypothesis</th>\n",
       "      <th id=\"T_58d0a_level0_col1\" class=\"col_heading level0 col1\" >Reach</th>\n",
       "      <th id=\"T_58d0a_level0_col2\" class=\"col_heading level0 col2\" >Impact</th>\n",
       "      <th id=\"T_58d0a_level0_col3\" class=\"col_heading level0 col3\" >Confidence</th>\n",
       "      <th id=\"T_58d0a_level0_col4\" class=\"col_heading level0 col4\" >Efforts</th>\n",
       "      <th id=\"T_58d0a_level0_col5\" class=\"col_heading level0 col5\" >ICE</th>\n",
       "      <th id=\"T_58d0a_level0_col6\" class=\"col_heading level0 col6\" >RICE</th>\n",
       "      <th id=\"T_58d0a_level0_col7\" class=\"col_heading level0 col7\" >iceRank</th>\n",
       "      <th id=\"T_58d0a_level0_col8\" class=\"col_heading level0 col8\" >riceRank</th>\n",
       "      <th id=\"T_58d0a_level0_col9\" class=\"col_heading level0 col9\" >delta</th>\n",
       "    </tr>\n",
       "  </thead>\n",
       "  <tbody>\n",
       "    <tr>\n",
       "      <th id=\"T_58d0a_level0_row0\" class=\"row_heading level0 row0\" >7</th>\n",
       "      <td id=\"T_58d0a_row0_col0\" class=\"data row0 col0\" >Добавить форму подписки на все основные страницы, чтобы собрать базу клиентов для email-рассылок</td>\n",
       "      <td id=\"T_58d0a_row0_col1\" class=\"data row0 col1\" >10</td>\n",
       "      <td id=\"T_58d0a_row0_col2\" class=\"data row0 col2\" >7</td>\n",
       "      <td id=\"T_58d0a_row0_col3\" class=\"data row0 col3\" >8</td>\n",
       "      <td id=\"T_58d0a_row0_col4\" class=\"data row0 col4\" >5</td>\n",
       "      <td id=\"T_58d0a_row0_col5\" class=\"data row0 col5\" >11.200000</td>\n",
       "      <td id=\"T_58d0a_row0_col6\" class=\"data row0 col6\" >112.000000</td>\n",
       "      <td id=\"T_58d0a_row0_col7\" class=\"data row0 col7\" >3.000000</td>\n",
       "      <td id=\"T_58d0a_row0_col8\" class=\"data row0 col8\" >1.000000</td>\n",
       "      <td id=\"T_58d0a_row0_col9\" class=\"data row0 col9\" >2.000000</td>\n",
       "    </tr>\n",
       "    <tr>\n",
       "      <th id=\"T_58d0a_level0_row1\" class=\"row_heading level0 row1\" >2</th>\n",
       "      <td id=\"T_58d0a_row1_col0\" class=\"data row1 col0\" >Добавить блоки рекомендаций товаров на сайт интернет магазина, чтобы повысить конверсию и средний чек заказа</td>\n",
       "      <td id=\"T_58d0a_row1_col1\" class=\"data row1 col1\" >8</td>\n",
       "      <td id=\"T_58d0a_row1_col2\" class=\"data row1 col2\" >3</td>\n",
       "      <td id=\"T_58d0a_row1_col3\" class=\"data row1 col3\" >7</td>\n",
       "      <td id=\"T_58d0a_row1_col4\" class=\"data row1 col4\" >3</td>\n",
       "      <td id=\"T_58d0a_row1_col5\" class=\"data row1 col5\" >7.000000</td>\n",
       "      <td id=\"T_58d0a_row1_col6\" class=\"data row1 col6\" >56.000000</td>\n",
       "      <td id=\"T_58d0a_row1_col7\" class=\"data row1 col7\" >5.000000</td>\n",
       "      <td id=\"T_58d0a_row1_col8\" class=\"data row1 col8\" >2.000000</td>\n",
       "      <td id=\"T_58d0a_row1_col9\" class=\"data row1 col9\" >3.000000</td>\n",
       "    </tr>\n",
       "    <tr>\n",
       "      <th id=\"T_58d0a_level0_row2\" class=\"row_heading level0 row2\" >0</th>\n",
       "      <td id=\"T_58d0a_row2_col0\" class=\"data row2 col0\" >Добавить два новых канала привлечения трафика, что позволит привлекать на 30% больше пользователей</td>\n",
       "      <td id=\"T_58d0a_row2_col1\" class=\"data row2 col1\" >3</td>\n",
       "      <td id=\"T_58d0a_row2_col2\" class=\"data row2 col2\" >10</td>\n",
       "      <td id=\"T_58d0a_row2_col3\" class=\"data row2 col3\" >8</td>\n",
       "      <td id=\"T_58d0a_row2_col4\" class=\"data row2 col4\" >6</td>\n",
       "      <td id=\"T_58d0a_row2_col5\" class=\"data row2 col5\" >13.333333</td>\n",
       "      <td id=\"T_58d0a_row2_col6\" class=\"data row2 col6\" >40.000000</td>\n",
       "      <td id=\"T_58d0a_row2_col7\" class=\"data row2 col7\" >2.000000</td>\n",
       "      <td id=\"T_58d0a_row2_col8\" class=\"data row2 col8\" >3.500000</td>\n",
       "      <td id=\"T_58d0a_row2_col9\" class=\"data row2 col9\" >-1.500000</td>\n",
       "    </tr>\n",
       "    <tr>\n",
       "      <th id=\"T_58d0a_level0_row3\" class=\"row_heading level0 row3\" >6</th>\n",
       "      <td id=\"T_58d0a_row3_col0\" class=\"data row3 col0\" >Показать на главной странице баннеры с актуальными акциями и распродажами, чтобы увеличить конверсию</td>\n",
       "      <td id=\"T_58d0a_row3_col1\" class=\"data row3 col1\" >5</td>\n",
       "      <td id=\"T_58d0a_row3_col2\" class=\"data row3 col2\" >3</td>\n",
       "      <td id=\"T_58d0a_row3_col3\" class=\"data row3 col3\" >8</td>\n",
       "      <td id=\"T_58d0a_row3_col4\" class=\"data row3 col4\" >3</td>\n",
       "      <td id=\"T_58d0a_row3_col5\" class=\"data row3 col5\" >8.000000</td>\n",
       "      <td id=\"T_58d0a_row3_col6\" class=\"data row3 col6\" >40.000000</td>\n",
       "      <td id=\"T_58d0a_row3_col7\" class=\"data row3 col7\" >4.000000</td>\n",
       "      <td id=\"T_58d0a_row3_col8\" class=\"data row3 col8\" >3.500000</td>\n",
       "      <td id=\"T_58d0a_row3_col9\" class=\"data row3 col9\" >0.500000</td>\n",
       "    </tr>\n",
       "    <tr>\n",
       "      <th id=\"T_58d0a_level0_row4\" class=\"row_heading level0 row4\" >8</th>\n",
       "      <td id=\"T_58d0a_row4_col0\" class=\"data row4 col0\" >Запустить акцию, дающую скидку на товар в день рождения</td>\n",
       "      <td id=\"T_58d0a_row4_col1\" class=\"data row4 col1\" >1</td>\n",
       "      <td id=\"T_58d0a_row4_col2\" class=\"data row4 col2\" >9</td>\n",
       "      <td id=\"T_58d0a_row4_col3\" class=\"data row4 col3\" >9</td>\n",
       "      <td id=\"T_58d0a_row4_col4\" class=\"data row4 col4\" >5</td>\n",
       "      <td id=\"T_58d0a_row4_col5\" class=\"data row4 col5\" >16.200000</td>\n",
       "      <td id=\"T_58d0a_row4_col6\" class=\"data row4 col6\" >16.200000</td>\n",
       "      <td id=\"T_58d0a_row4_col7\" class=\"data row4 col7\" >1.000000</td>\n",
       "      <td id=\"T_58d0a_row4_col8\" class=\"data row4 col8\" >5.000000</td>\n",
       "      <td id=\"T_58d0a_row4_col9\" class=\"data row4 col9\" >-4.000000</td>\n",
       "    </tr>\n",
       "    <tr>\n",
       "      <th id=\"T_58d0a_level0_row5\" class=\"row_heading level0 row5\" >3</th>\n",
       "      <td id=\"T_58d0a_row5_col0\" class=\"data row5 col0\" >Изменить структура категорий, что увеличит конверсию, т.к. пользователи быстрее найдут нужный товар</td>\n",
       "      <td id=\"T_58d0a_row5_col1\" class=\"data row5 col1\" >8</td>\n",
       "      <td id=\"T_58d0a_row5_col2\" class=\"data row5 col2\" >3</td>\n",
       "      <td id=\"T_58d0a_row5_col3\" class=\"data row5 col3\" >3</td>\n",
       "      <td id=\"T_58d0a_row5_col4\" class=\"data row5 col4\" >8</td>\n",
       "      <td id=\"T_58d0a_row5_col5\" class=\"data row5 col5\" >1.125000</td>\n",
       "      <td id=\"T_58d0a_row5_col6\" class=\"data row5 col6\" >9.000000</td>\n",
       "      <td id=\"T_58d0a_row5_col7\" class=\"data row5 col7\" >8.000000</td>\n",
       "      <td id=\"T_58d0a_row5_col8\" class=\"data row5 col8\" >6.000000</td>\n",
       "      <td id=\"T_58d0a_row5_col9\" class=\"data row5 col9\" >2.000000</td>\n",
       "    </tr>\n",
       "    <tr>\n",
       "      <th id=\"T_58d0a_level0_row6\" class=\"row_heading level0 row6\" >1</th>\n",
       "      <td id=\"T_58d0a_row6_col0\" class=\"data row6 col0\" >Запустить собственную службу доставки, что сократит срок доставки заказов</td>\n",
       "      <td id=\"T_58d0a_row6_col1\" class=\"data row6 col1\" >2</td>\n",
       "      <td id=\"T_58d0a_row6_col2\" class=\"data row6 col2\" >5</td>\n",
       "      <td id=\"T_58d0a_row6_col3\" class=\"data row6 col3\" >4</td>\n",
       "      <td id=\"T_58d0a_row6_col4\" class=\"data row6 col4\" >10</td>\n",
       "      <td id=\"T_58d0a_row6_col5\" class=\"data row6 col5\" >2.000000</td>\n",
       "      <td id=\"T_58d0a_row6_col6\" class=\"data row6 col6\" >4.000000</td>\n",
       "      <td id=\"T_58d0a_row6_col7\" class=\"data row6 col7\" >6.000000</td>\n",
       "      <td id=\"T_58d0a_row6_col8\" class=\"data row6 col8\" >7.500000</td>\n",
       "      <td id=\"T_58d0a_row6_col9\" class=\"data row6 col9\" >-1.500000</td>\n",
       "    </tr>\n",
       "    <tr>\n",
       "      <th id=\"T_58d0a_level0_row7\" class=\"row_heading level0 row7\" >5</th>\n",
       "      <td id=\"T_58d0a_row7_col0\" class=\"data row7 col0\" >Добавить страницу отзывов клиентов о магазине, что позволит увеличить количество заказов</td>\n",
       "      <td id=\"T_58d0a_row7_col1\" class=\"data row7 col1\" >3</td>\n",
       "      <td id=\"T_58d0a_row7_col2\" class=\"data row7 col2\" >2</td>\n",
       "      <td id=\"T_58d0a_row7_col3\" class=\"data row7 col3\" >2</td>\n",
       "      <td id=\"T_58d0a_row7_col4\" class=\"data row7 col4\" >3</td>\n",
       "      <td id=\"T_58d0a_row7_col5\" class=\"data row7 col5\" >1.333333</td>\n",
       "      <td id=\"T_58d0a_row7_col6\" class=\"data row7 col6\" >4.000000</td>\n",
       "      <td id=\"T_58d0a_row7_col7\" class=\"data row7 col7\" >7.000000</td>\n",
       "      <td id=\"T_58d0a_row7_col8\" class=\"data row7 col8\" >7.500000</td>\n",
       "      <td id=\"T_58d0a_row7_col9\" class=\"data row7 col9\" >-0.500000</td>\n",
       "    </tr>\n",
       "    <tr>\n",
       "      <th id=\"T_58d0a_level0_row8\" class=\"row_heading level0 row8\" >4</th>\n",
       "      <td id=\"T_58d0a_row8_col0\" class=\"data row8 col0\" >Изменить цвет фона главной страницы, чтобы увеличить вовлеченность пользователей</td>\n",
       "      <td id=\"T_58d0a_row8_col1\" class=\"data row8 col1\" >3</td>\n",
       "      <td id=\"T_58d0a_row8_col2\" class=\"data row8 col2\" >1</td>\n",
       "      <td id=\"T_58d0a_row8_col3\" class=\"data row8 col3\" >1</td>\n",
       "      <td id=\"T_58d0a_row8_col4\" class=\"data row8 col4\" >1</td>\n",
       "      <td id=\"T_58d0a_row8_col5\" class=\"data row8 col5\" >1.000000</td>\n",
       "      <td id=\"T_58d0a_row8_col6\" class=\"data row8 col6\" >3.000000</td>\n",
       "      <td id=\"T_58d0a_row8_col7\" class=\"data row8 col7\" >9.000000</td>\n",
       "      <td id=\"T_58d0a_row8_col8\" class=\"data row8 col8\" >9.000000</td>\n",
       "      <td id=\"T_58d0a_row8_col9\" class=\"data row8 col9\" >0.000000</td>\n",
       "    </tr>\n",
       "  </tbody>\n",
       "</table>\n"
      ],
      "text/plain": [
       "<pandas.io.formats.style.Styler at 0x244593aaed0>"
      ]
     },
     "execution_count": 7,
     "metadata": {},
     "output_type": "execute_result"
    }
   ],
   "source": [
    "#проставим ранги в зависимости от номера по шкале приоритизации\n",
    "hypothesis['iceRank'] = hypothesis['ICE'].rank(ascending=False)\n",
    "hypothesis['riceRank'] = hypothesis['RICE'].rank(ascending=False)\n",
    "# найдем изменения в ранге\n",
    "hypothesis['delta'] = hypothesis['iceRank'] - hypothesis['riceRank']\n",
    "hypothesis.sort_values(by='RICE', ascending=False).style.bar(subset=['delta'],\n",
    "          align='mid',\n",
    "          color=['pink', 'yellowgreen'],\n",
    "          vmin=hypothesis['delta'].min(),\n",
    "          vmax=hypothesis['delta'].max()\n",
    "     )\n"
   ]
  },
  {
   "cell_type": "markdown",
   "metadata": {},
   "source": [
    "Таким образом, из-за того, что изменения, отраженные в гипотезах под номером 7, 2, 6, 3 влияют на большее количество пользователей(параметр Reach), при ранжировании по RICE они стали иметь больший приоритет, чем при использовании фреймворка ICE."
   ]
  },
  {
   "cell_type": "markdown",
   "metadata": {},
   "source": [
    "### Анализ A/B-теста."
   ]
  },
  {
   "cell_type": "markdown",
   "metadata": {},
   "source": [
    "#### Загрузка и предподготовка данных."
   ]
  },
  {
   "cell_type": "markdown",
   "metadata": {},
   "source": [
    "Загрузим файлы с результатами проведенного A/B-теста."
   ]
  },
  {
   "cell_type": "code",
   "execution_count": 8,
   "metadata": {},
   "outputs": [],
   "source": [
    "try:\n",
    "    orders = pd.read_csv('/datasets/_______.csv')\n",
    "    visitors = pd.read_csv('/datasets/_____.csv')\n",
    "  \n",
    "except:\n",
    "    orders = pd.read_csv('https://_________.csv')\n",
    "    visitors = pd.read_csv('https://_______.csv')\n"
   ]
  },
  {
   "cell_type": "code",
   "execution_count": 9,
   "metadata": {},
   "outputs": [
    {
     "data": {
      "text/html": [
       "<div>\n",
       "<style scoped>\n",
       "    .dataframe tbody tr th:only-of-type {\n",
       "        vertical-align: middle;\n",
       "    }\n",
       "\n",
       "    .dataframe tbody tr th {\n",
       "        vertical-align: top;\n",
       "    }\n",
       "\n",
       "    .dataframe thead th {\n",
       "        text-align: right;\n",
       "    }\n",
       "</style>\n",
       "<table border=\"1\" class=\"dataframe\">\n",
       "  <thead>\n",
       "    <tr style=\"text-align: right;\">\n",
       "      <th></th>\n",
       "      <th>transactionId</th>\n",
       "      <th>visitorId</th>\n",
       "      <th>date</th>\n",
       "      <th>revenue</th>\n",
       "      <th>group</th>\n",
       "    </tr>\n",
       "  </thead>\n",
       "  <tbody>\n",
       "    <tr>\n",
       "      <th>0</th>\n",
       "      <td>3667963787</td>\n",
       "      <td>3312258926</td>\n",
       "      <td>2019-08-15</td>\n",
       "      <td>1650</td>\n",
       "      <td>B</td>\n",
       "    </tr>\n",
       "    <tr>\n",
       "      <th>1</th>\n",
       "      <td>2804400009</td>\n",
       "      <td>3642806036</td>\n",
       "      <td>2019-08-15</td>\n",
       "      <td>730</td>\n",
       "      <td>B</td>\n",
       "    </tr>\n",
       "    <tr>\n",
       "      <th>2</th>\n",
       "      <td>2961555356</td>\n",
       "      <td>4069496402</td>\n",
       "      <td>2019-08-15</td>\n",
       "      <td>400</td>\n",
       "      <td>A</td>\n",
       "    </tr>\n",
       "    <tr>\n",
       "      <th>3</th>\n",
       "      <td>3797467345</td>\n",
       "      <td>1196621759</td>\n",
       "      <td>2019-08-15</td>\n",
       "      <td>9759</td>\n",
       "      <td>B</td>\n",
       "    </tr>\n",
       "    <tr>\n",
       "      <th>4</th>\n",
       "      <td>2282983706</td>\n",
       "      <td>2322279887</td>\n",
       "      <td>2019-08-15</td>\n",
       "      <td>2308</td>\n",
       "      <td>B</td>\n",
       "    </tr>\n",
       "  </tbody>\n",
       "</table>\n",
       "</div>"
      ],
      "text/plain": [
       "   transactionId   visitorId        date  revenue group\n",
       "0     3667963787  3312258926  2019-08-15     1650     B\n",
       "1     2804400009  3642806036  2019-08-15      730     B\n",
       "2     2961555356  4069496402  2019-08-15      400     A\n",
       "3     3797467345  1196621759  2019-08-15     9759     B\n",
       "4     2282983706  2322279887  2019-08-15     2308     B"
      ]
     },
     "metadata": {},
     "output_type": "display_data"
    },
    {
     "data": {
      "text/html": [
       "<div>\n",
       "<style scoped>\n",
       "    .dataframe tbody tr th:only-of-type {\n",
       "        vertical-align: middle;\n",
       "    }\n",
       "\n",
       "    .dataframe tbody tr th {\n",
       "        vertical-align: top;\n",
       "    }\n",
       "\n",
       "    .dataframe thead th {\n",
       "        text-align: right;\n",
       "    }\n",
       "</style>\n",
       "<table border=\"1\" class=\"dataframe\">\n",
       "  <thead>\n",
       "    <tr style=\"text-align: right;\">\n",
       "      <th></th>\n",
       "      <th>date</th>\n",
       "      <th>group</th>\n",
       "      <th>visitors</th>\n",
       "    </tr>\n",
       "  </thead>\n",
       "  <tbody>\n",
       "    <tr>\n",
       "      <th>0</th>\n",
       "      <td>2019-08-01</td>\n",
       "      <td>A</td>\n",
       "      <td>719</td>\n",
       "    </tr>\n",
       "    <tr>\n",
       "      <th>1</th>\n",
       "      <td>2019-08-02</td>\n",
       "      <td>A</td>\n",
       "      <td>619</td>\n",
       "    </tr>\n",
       "    <tr>\n",
       "      <th>2</th>\n",
       "      <td>2019-08-03</td>\n",
       "      <td>A</td>\n",
       "      <td>507</td>\n",
       "    </tr>\n",
       "    <tr>\n",
       "      <th>3</th>\n",
       "      <td>2019-08-04</td>\n",
       "      <td>A</td>\n",
       "      <td>717</td>\n",
       "    </tr>\n",
       "    <tr>\n",
       "      <th>4</th>\n",
       "      <td>2019-08-05</td>\n",
       "      <td>A</td>\n",
       "      <td>756</td>\n",
       "    </tr>\n",
       "  </tbody>\n",
       "</table>\n",
       "</div>"
      ],
      "text/plain": [
       "         date group  visitors\n",
       "0  2019-08-01     A       719\n",
       "1  2019-08-02     A       619\n",
       "2  2019-08-03     A       507\n",
       "3  2019-08-04     A       717\n",
       "4  2019-08-05     A       756"
      ]
     },
     "execution_count": 9,
     "metadata": {},
     "output_type": "execute_result"
    }
   ],
   "source": [
    "display(orders.head())\n",
    "visitors.head()"
   ]
  },
  {
   "cell_type": "markdown",
   "metadata": {},
   "source": [
    "Проверим данные на пропуски."
   ]
  },
  {
   "cell_type": "code",
   "execution_count": 10,
   "metadata": {},
   "outputs": [
    {
     "name": "stdout",
     "output_type": "stream",
     "text": [
      "<class 'pandas.core.frame.DataFrame'>\n",
      "RangeIndex: 1197 entries, 0 to 1196\n",
      "Data columns (total 5 columns):\n",
      " #   Column         Non-Null Count  Dtype \n",
      "---  ------         --------------  ----- \n",
      " 0   transactionId  1197 non-null   int64 \n",
      " 1   visitorId      1197 non-null   int64 \n",
      " 2   date           1197 non-null   object\n",
      " 3   revenue        1197 non-null   int64 \n",
      " 4   group          1197 non-null   object\n",
      "dtypes: int64(3), object(2)\n",
      "memory usage: 46.9+ KB\n"
     ]
    },
    {
     "data": {
      "text/plain": [
       "None"
      ]
     },
     "metadata": {},
     "output_type": "display_data"
    },
    {
     "name": "stdout",
     "output_type": "stream",
     "text": [
      "<class 'pandas.core.frame.DataFrame'>\n",
      "RangeIndex: 62 entries, 0 to 61\n",
      "Data columns (total 3 columns):\n",
      " #   Column    Non-Null Count  Dtype \n",
      "---  ------    --------------  ----- \n",
      " 0   date      62 non-null     object\n",
      " 1   group     62 non-null     object\n",
      " 2   visitors  62 non-null     int64 \n",
      "dtypes: int64(1), object(2)\n",
      "memory usage: 1.6+ KB\n"
     ]
    }
   ],
   "source": [
    "display(orders.info())\n",
    "visitors.info()"
   ]
  },
  {
   "cell_type": "markdown",
   "metadata": {},
   "source": [
    "Пропуски не обнаружены, но типы данных соответствуют содержимому. Необходимо привести даты к соответсвующему типу."
   ]
  },
  {
   "cell_type": "code",
   "execution_count": 11,
   "metadata": {},
   "outputs": [],
   "source": [
    "orders['date'] = pd.to_datetime(orders['date'])\n",
    "visitors['date'] = pd.to_datetime(visitors['date'])"
   ]
  },
  {
   "cell_type": "markdown",
   "metadata": {},
   "source": [
    "После изменения типов данных проверим нет ли дубликатов."
   ]
  },
  {
   "cell_type": "code",
   "execution_count": 12,
   "metadata": {},
   "outputs": [
    {
     "data": {
      "text/plain": [
       "'Количество дубликатов в таблице visitors 0'"
      ]
     },
     "metadata": {},
     "output_type": "display_data"
    },
    {
     "data": {
      "text/plain": [
       "'Количество дубликатов в таблице orders 0'"
      ]
     },
     "metadata": {},
     "output_type": "display_data"
    }
   ],
   "source": [
    "display('Количество дубликатов в таблице visitors {}'.format(visitors.duplicated().sum()))\n",
    "display('Количество дубликатов в таблице orders {}'.format(orders.duplicated().sum()))"
   ]
  },
  {
   "cell_type": "markdown",
   "metadata": {},
   "source": [
    "Дубликатов не обнаружено, проверим, что изменения применились к таблицам."
   ]
  },
  {
   "cell_type": "code",
   "execution_count": 13,
   "metadata": {},
   "outputs": [
    {
     "name": "stdout",
     "output_type": "stream",
     "text": [
      "<class 'pandas.core.frame.DataFrame'>\n",
      "RangeIndex: 1197 entries, 0 to 1196\n",
      "Data columns (total 5 columns):\n",
      " #   Column         Non-Null Count  Dtype         \n",
      "---  ------         --------------  -----         \n",
      " 0   transactionId  1197 non-null   int64         \n",
      " 1   visitorId      1197 non-null   int64         \n",
      " 2   date           1197 non-null   datetime64[ns]\n",
      " 3   revenue        1197 non-null   int64         \n",
      " 4   group          1197 non-null   object        \n",
      "dtypes: datetime64[ns](1), int64(3), object(1)\n",
      "memory usage: 46.9+ KB\n"
     ]
    },
    {
     "data": {
      "text/plain": [
       "None"
      ]
     },
     "metadata": {},
     "output_type": "display_data"
    },
    {
     "name": "stdout",
     "output_type": "stream",
     "text": [
      "<class 'pandas.core.frame.DataFrame'>\n",
      "RangeIndex: 62 entries, 0 to 61\n",
      "Data columns (total 3 columns):\n",
      " #   Column    Non-Null Count  Dtype         \n",
      "---  ------    --------------  -----         \n",
      " 0   date      62 non-null     datetime64[ns]\n",
      " 1   group     62 non-null     object        \n",
      " 2   visitors  62 non-null     int64         \n",
      "dtypes: datetime64[ns](1), int64(1), object(1)\n",
      "memory usage: 1.6+ KB\n"
     ]
    }
   ],
   "source": [
    "display(orders.info())\n",
    "visitors.info()"
   ]
  },
  {
   "cell_type": "markdown",
   "metadata": {},
   "source": [
    "Таким образом, мы проверили загруженные таблицы на наличие дубликатов, пропусков (ни тех, ни других не обнаружено), и изменили типы данных для дальнейшего анализа A/B-тестирования."
   ]
  },
  {
   "cell_type": "markdown",
   "metadata": {},
   "source": [
    "Проверим, нет ли неверного распределения одних и тех же пользователей в разные группы."
   ]
  },
  {
   "cell_type": "code",
   "execution_count": 14,
   "metadata": {},
   "outputs": [
    {
     "data": {
      "text/html": [
       "<div>\n",
       "<style scoped>\n",
       "    .dataframe tbody tr th:only-of-type {\n",
       "        vertical-align: middle;\n",
       "    }\n",
       "\n",
       "    .dataframe tbody tr th {\n",
       "        vertical-align: top;\n",
       "    }\n",
       "\n",
       "    .dataframe thead tr th {\n",
       "        text-align: left;\n",
       "    }\n",
       "</style>\n",
       "<table border=\"1\" class=\"dataframe\">\n",
       "  <thead>\n",
       "    <tr>\n",
       "      <th></th>\n",
       "      <th>visitorId</th>\n",
       "      <th colspan=\"2\" halign=\"left\">date</th>\n",
       "      <th colspan=\"2\" halign=\"left\">revenue</th>\n",
       "    </tr>\n",
       "    <tr>\n",
       "      <th>group</th>\n",
       "      <th></th>\n",
       "      <th>A</th>\n",
       "      <th>B</th>\n",
       "      <th>A</th>\n",
       "      <th>B</th>\n",
       "    </tr>\n",
       "  </thead>\n",
       "  <tbody>\n",
       "    <tr>\n",
       "      <th>0</th>\n",
       "      <td>8300375</td>\n",
       "      <td>1.000</td>\n",
       "      <td>1.000</td>\n",
       "      <td>1790.000</td>\n",
       "      <td>10510.000</td>\n",
       "    </tr>\n",
       "    <tr>\n",
       "      <th>1</th>\n",
       "      <td>199603092</td>\n",
       "      <td>4.000</td>\n",
       "      <td>1.000</td>\n",
       "      <td>19692.000</td>\n",
       "      <td>3488.000</td>\n",
       "    </tr>\n",
       "    <tr>\n",
       "      <th>2</th>\n",
       "      <td>232979603</td>\n",
       "      <td>1.000</td>\n",
       "      <td>1.000</td>\n",
       "      <td>60.000</td>\n",
       "      <td>2640.000</td>\n",
       "    </tr>\n",
       "    <tr>\n",
       "      <th>3</th>\n",
       "      <td>237748145</td>\n",
       "      <td>4.000</td>\n",
       "      <td>1.000</td>\n",
       "      <td>3190.000</td>\n",
       "      <td>7620.000</td>\n",
       "    </tr>\n",
       "    <tr>\n",
       "      <th>4</th>\n",
       "      <td>276558944</td>\n",
       "      <td>1.000</td>\n",
       "      <td>1.000</td>\n",
       "      <td>5050.000</td>\n",
       "      <td>12350.000</td>\n",
       "    </tr>\n",
       "  </tbody>\n",
       "</table>\n",
       "</div>"
      ],
      "text/plain": [
       "       visitorId  date         revenue          \n",
       "group                A     B         A         B\n",
       "0        8300375 1.000 1.000  1790.000 10510.000\n",
       "1      199603092 4.000 1.000 19692.000  3488.000\n",
       "2      232979603 1.000 1.000    60.000  2640.000\n",
       "3      237748145 4.000 1.000  3190.000  7620.000\n",
       "4      276558944 1.000 1.000  5050.000 12350.000"
      ]
     },
     "metadata": {},
     "output_type": "display_data"
    },
    {
     "data": {
      "text/plain": [
       "58"
      ]
     },
     "execution_count": 14,
     "metadata": {},
     "output_type": "execute_result"
    }
   ],
   "source": [
    "wrong_orders = orders.pivot_table(\n",
    "    index='visitorId',\n",
    "    columns ='group',\n",
    "    aggfunc = {'date':'count', 'revenue':'sum'}).dropna().reset_index()\n",
    "display(wrong_orders.head(5))\n",
    "len(wrong_orders)"
   ]
  },
  {
   "cell_type": "markdown",
   "metadata": {},
   "source": [
    "Таких пользователей достаточно много. Почистим данные от них."
   ]
  },
  {
   "cell_type": "code",
   "execution_count": 15,
   "metadata": {},
   "outputs": [
    {
     "data": {
      "text/plain": [
       "1197"
      ]
     },
     "metadata": {},
     "output_type": "display_data"
    },
    {
     "data": {
      "text/plain": [
       "1016"
      ]
     },
     "execution_count": 15,
     "metadata": {},
     "output_type": "execute_result"
    }
   ],
   "source": [
    "wrong_orders = wrong_orders['visitorId'].to_numpy()\n",
    "display(len(orders))\n",
    "orders = orders.query('~(visitorId in @wrong_orders)')\n",
    "len(orders)"
   ]
  },
  {
   "cell_type": "markdown",
   "metadata": {},
   "source": [
    "Таким образом, мы проверили загруженные таблицы на наличие дубликатов, пропусков (ни тех, ни других не обнаружено), и изменили типы данных для дальнейшего анализа A/B-тестирования. Кроме того, мы удалили из выборки пользователей, попавших в обе группы."
   ]
  },
  {
   "cell_type": "markdown",
   "metadata": {},
   "source": [
    "#### Кумулятивная выручка по группам."
   ]
  },
  {
   "cell_type": "code",
   "execution_count": 16,
   "metadata": {},
   "outputs": [
    {
     "data": {
      "text/plain": [
       "'Максимальная дата в заказах 2019-08-31 00:00:00, минимальная дата заказа2019-08-01 00:00:00; максимальная дата посещения 2019-08-31 00:00:00, минимальная дата посещения2019-08-01 00:00:00'"
      ]
     },
     "metadata": {},
     "output_type": "display_data"
    },
    {
     "data": {
      "text/plain": [
       "\"Уникальные группы в заказах ['B' 'A'], уникальные группы в посещениях ['A' 'B']\""
      ]
     },
     "execution_count": 16,
     "metadata": {},
     "output_type": "execute_result"
    }
   ],
   "source": [
    "display(\n",
    "    'Максимальная дата в заказах {}, минимальная дата заказа{}; максимальная дата посещения {}, минимальная дата посещения{}'\n",
    "    .format(orders['date'].max(), orders['date'].min(), visitors['date'].max(), visitors['date'].min()))\n",
    "\n",
    "('Уникальные группы в заказах {}, уникальные группы в посещениях {}'\n",
    "        .format(orders['group'].unique(), visitors['group'].unique()))"
   ]
  },
  {
   "cell_type": "markdown",
   "metadata": {},
   "source": [
    "Названия групп сходятся в таблицах заказов и посещений интернет-магазина, данные преставлены за период с 1 августа 2019г. по 31 августа 2019г. Можем приступать к агрегированию и расчету куммулятивных данных."
   ]
  },
  {
   "cell_type": "code",
   "execution_count": 17,
   "metadata": {
    "scrolled": true
   },
   "outputs": [
    {
     "data": {
      "text/html": [
       "<div>\n",
       "<style scoped>\n",
       "    .dataframe tbody tr th:only-of-type {\n",
       "        vertical-align: middle;\n",
       "    }\n",
       "\n",
       "    .dataframe tbody tr th {\n",
       "        vertical-align: top;\n",
       "    }\n",
       "\n",
       "    .dataframe thead th {\n",
       "        text-align: right;\n",
       "    }\n",
       "</style>\n",
       "<table border=\"1\" class=\"dataframe\">\n",
       "  <thead>\n",
       "    <tr style=\"text-align: right;\">\n",
       "      <th></th>\n",
       "      <th>date</th>\n",
       "      <th>group</th>\n",
       "      <th>orders</th>\n",
       "      <th>buyers</th>\n",
       "      <th>revenue</th>\n",
       "      <th>visitors</th>\n",
       "    </tr>\n",
       "  </thead>\n",
       "  <tbody>\n",
       "    <tr>\n",
       "      <th>0</th>\n",
       "      <td>2019-08-01</td>\n",
       "      <td>A</td>\n",
       "      <td>23</td>\n",
       "      <td>19</td>\n",
       "      <td>142779</td>\n",
       "      <td>719</td>\n",
       "    </tr>\n",
       "    <tr>\n",
       "      <th>1</th>\n",
       "      <td>2019-08-01</td>\n",
       "      <td>B</td>\n",
       "      <td>17</td>\n",
       "      <td>17</td>\n",
       "      <td>59758</td>\n",
       "      <td>713</td>\n",
       "    </tr>\n",
       "    <tr>\n",
       "      <th>2</th>\n",
       "      <td>2019-08-02</td>\n",
       "      <td>A</td>\n",
       "      <td>42</td>\n",
       "      <td>36</td>\n",
       "      <td>234381</td>\n",
       "      <td>1338</td>\n",
       "    </tr>\n",
       "    <tr>\n",
       "      <th>3</th>\n",
       "      <td>2019-08-02</td>\n",
       "      <td>B</td>\n",
       "      <td>40</td>\n",
       "      <td>39</td>\n",
       "      <td>221801</td>\n",
       "      <td>1294</td>\n",
       "    </tr>\n",
       "    <tr>\n",
       "      <th>4</th>\n",
       "      <td>2019-08-03</td>\n",
       "      <td>A</td>\n",
       "      <td>66</td>\n",
       "      <td>60</td>\n",
       "      <td>346854</td>\n",
       "      <td>1845</td>\n",
       "    </tr>\n",
       "  </tbody>\n",
       "</table>\n",
       "</div>"
      ],
      "text/plain": [
       "        date group  orders  buyers  revenue  visitors\n",
       "0 2019-08-01     A      23      19   142779       719\n",
       "1 2019-08-01     B      17      17    59758       713\n",
       "2 2019-08-02     A      42      36   234381      1338\n",
       "3 2019-08-02     B      40      39   221801      1294\n",
       "4 2019-08-03     A      66      60   346854      1845"
      ]
     },
     "execution_count": 17,
     "metadata": {},
     "output_type": "execute_result"
    }
   ],
   "source": [
    "# создаем массив уникальных пар значений дат и групп теста\n",
    "datesGroups = orders[['date','group']].drop_duplicates()\n",
    "\n",
    "#агрегируем данные по заказам\n",
    "ordersAggregated = (datesGroups\n",
    "                    .apply(lambda x: orders[np.logical_and(orders['date'] <= x['date'], orders['group'] == x['group'])]\n",
    "                    .agg({'date' : 'max', 'group' : 'max', 'transactionId' : 'nunique', 'visitorId' : 'nunique', 'revenue' : 'sum'}), axis=1)\n",
    "                    .sort_values(by=['date','group']))\n",
    "\n",
    "#агрегируем данные по визитам\n",
    "visitorsAggregated = (datesGroups\n",
    "                    .apply(lambda x: visitors[np.logical_and(visitors['date'] <= x['date'], visitors['group'] == x['group'])]\n",
    "                    .agg({'date' : 'max', 'group' : 'max', 'visitors' : 'sum'}), axis=1)\n",
    "                    .sort_values(by=['date','group']))\n",
    "\n",
    "# объединяем кумулятивные данные в одной таблице и присваиваем ее столбцам понятные названия\n",
    "cumulativeData = ordersAggregated.merge(visitorsAggregated, left_on=['date', 'group'], right_on=['date', 'group'])\n",
    "cumulativeData.columns = ['date', 'group', 'orders', 'buyers', 'revenue', 'visitors']\n",
    "\n",
    "cumulativeData.head(5)"
   ]
  },
  {
   "cell_type": "markdown",
   "metadata": {},
   "source": [
    "Проверим полноту данных, за август месяц по двум группах должно образоваться 31*2=62 записи"
   ]
  },
  {
   "cell_type": "code",
   "execution_count": 18,
   "metadata": {
    "scrolled": true
   },
   "outputs": [
    {
     "name": "stdout",
     "output_type": "stream",
     "text": [
      "<class 'pandas.core.frame.DataFrame'>\n",
      "RangeIndex: 62 entries, 0 to 61\n",
      "Data columns (total 6 columns):\n",
      " #   Column    Non-Null Count  Dtype         \n",
      "---  ------    --------------  -----         \n",
      " 0   date      62 non-null     datetime64[ns]\n",
      " 1   group     62 non-null     object        \n",
      " 2   orders    62 non-null     int64         \n",
      " 3   buyers    62 non-null     int64         \n",
      " 4   revenue   62 non-null     int64         \n",
      " 5   visitors  62 non-null     int64         \n",
      "dtypes: datetime64[ns](1), int64(4), object(1)\n",
      "memory usage: 3.0+ KB\n"
     ]
    }
   ],
   "source": [
    "cumulativeData.info()"
   ]
  },
  {
   "cell_type": "markdown",
   "metadata": {},
   "source": [
    "Все верно, у нас 62 записи, можем построить график куммулятивной выручки."
   ]
  },
  {
   "cell_type": "code",
   "execution_count": 19,
   "metadata": {},
   "outputs": [
    {
     "data": {
      "image/png": "[encoded data removed]",
      "text/plain": [
       "<Figure size 1200x500 with 1 Axes>"
      ]
     },
     "metadata": {},
     "output_type": "display_data"
    }
   ],
   "source": [
    "# датафрейм с кумулятивным количеством заказов и кумулятивной выручкой по дням в группе А\n",
    "cumulativeRevenueA = cumulativeData[cumulativeData['group']=='A'][['date','revenue', 'orders']]\n",
    "\n",
    "# датафрейм с кумулятивным количеством заказов и кумулятивной выручкой по дням в группе B\n",
    "cumulativeRevenueB = cumulativeData[cumulativeData['group']=='B'][['date','revenue', 'orders']]\n",
    "\n",
    "#размер графика\n",
    "plt.figure(figsize=(12, 5))\n",
    "plt.ticklabel_format(style='plain')\n",
    "\n",
    "# Строим график выручки группы А\n",
    "plt.plot(cumulativeRevenueA['date'], cumulativeRevenueA['revenue'], label='A', color='yellowgreen')\n",
    "\n",
    "# Строим график выручки группы B\n",
    "plt.plot(cumulativeRevenueB['date'], cumulativeRevenueB['revenue'], label='B')\n",
    "\n",
    "\n",
    "plt.title('Кумулятивная выручка по группам в августе 2019г.')\n",
    "plt.ylabel('Выручка, у.е')\n",
    "plt.xlabel('на дату')\n",
    "plt.legend(title='Группа', fontsize=10)\n",
    "plt.show()\n"
   ]
  },
  {
   "cell_type": "markdown",
   "metadata": {},
   "source": [
    "Как видно из графика, в начале месяца (до 5 августа) две группы шли наравне, а до середины месяца группа B шла с небольшим отрывом. А к концу месяца выручка по группе B  на 2 млн превысила выручку по покупателям из группы А. Возможно до середины месяца пользователи осваивались с нововведением, а затем оценили его преимущества. Также такая ситуация может наблюдаться в связи с демо-версией доп.функций без оплаты до 15 дней. Или же была совершена крупная покупка между 17 и 21 августа, которая меняет существенно картину (мы видим скачок на графике в этом периоде."
   ]
  },
  {
   "cell_type": "code",
   "execution_count": 20,
   "metadata": {},
   "outputs": [
    {
     "data": {
      "text/html": [
       "<div>\n",
       "<style scoped>\n",
       "    .dataframe tbody tr th:only-of-type {\n",
       "        vertical-align: middle;\n",
       "    }\n",
       "\n",
       "    .dataframe tbody tr th {\n",
       "        vertical-align: top;\n",
       "    }\n",
       "\n",
       "    .dataframe thead th {\n",
       "        text-align: right;\n",
       "    }\n",
       "</style>\n",
       "<table border=\"1\" class=\"dataframe\">\n",
       "  <thead>\n",
       "    <tr style=\"text-align: right;\">\n",
       "      <th></th>\n",
       "      <th>count</th>\n",
       "      <th>mean</th>\n",
       "      <th>std</th>\n",
       "      <th>min</th>\n",
       "      <th>25%</th>\n",
       "      <th>50%</th>\n",
       "      <th>75%</th>\n",
       "      <th>max</th>\n",
       "    </tr>\n",
       "    <tr>\n",
       "      <th>group</th>\n",
       "      <th></th>\n",
       "      <th></th>\n",
       "      <th></th>\n",
       "      <th></th>\n",
       "      <th></th>\n",
       "      <th></th>\n",
       "      <th></th>\n",
       "      <th></th>\n",
       "    </tr>\n",
       "  </thead>\n",
       "  <tbody>\n",
       "    <tr>\n",
       "      <th>A</th>\n",
       "      <td>468.000</td>\n",
       "      <td>7189.436</td>\n",
       "      <td>11137.761</td>\n",
       "      <td>50.000</td>\n",
       "      <td>1164.750</td>\n",
       "      <td>3090.000</td>\n",
       "      <td>8438.750</td>\n",
       "      <td>92550.000</td>\n",
       "    </tr>\n",
       "    <tr>\n",
       "      <th>B</th>\n",
       "      <td>548.000</td>\n",
       "      <td>9249.949</td>\n",
       "      <td>56430.591</td>\n",
       "      <td>50.000</td>\n",
       "      <td>1280.750</td>\n",
       "      <td>2898.500</td>\n",
       "      <td>7991.250</td>\n",
       "      <td>1294500.000</td>\n",
       "    </tr>\n",
       "  </tbody>\n",
       "</table>\n",
       "</div>"
      ],
      "text/plain": [
       "        count     mean       std    min      25%      50%      75%         max\n",
       "group                                                                         \n",
       "A     468.000 7189.436 11137.761 50.000 1164.750 3090.000 8438.750   92550.000\n",
       "B     548.000 9249.949 56430.591 50.000 1280.750 2898.500 7991.250 1294500.000"
      ]
     },
     "execution_count": 20,
     "metadata": {},
     "output_type": "execute_result"
    }
   ],
   "source": [
    "orders.groupby(by='group')['revenue'].describe()"
   ]
  },
  {
   "cell_type": "markdown",
   "metadata": {},
   "source": [
    "Как мы видим, в группе B при среднем значении в 9250 у.е есть сильно отклоняющееся значение в 1,3 млн. И хотя среднее действительно немного выше, чем в группе А, но такая покупка с аномальной суммой сильно меняет картину."
   ]
  },
  {
   "cell_type": "markdown",
   "metadata": {},
   "source": [
    "#### Кумулятивный средний чек по группам."
   ]
  },
  {
   "cell_type": "code",
   "execution_count": 21,
   "metadata": {},
   "outputs": [
    {
     "data": {
      "image/png": "[encoded data removed]",
      "text/plain": [
       "<Figure size 1200x500 with 1 Axes>"
      ]
     },
     "metadata": {},
     "output_type": "display_data"
    }
   ],
   "source": [
    "#размер графика\n",
    "plt.figure(figsize=(12, 5))\n",
    "plt.ticklabel_format(style='plain')\n",
    "\n",
    "#делим выручку на количество заказов и строим график\n",
    "plt.plot(cumulativeRevenueA['date'], cumulativeRevenueA['revenue']/cumulativeRevenueA['orders'], label='A',  color='yellowgreen')\n",
    "plt.plot(cumulativeRevenueB['date'], cumulativeRevenueB['revenue']/cumulativeRevenueB['orders'], label='B')\n",
    "\n",
    "plt.title('Кумулятивный средний чек по группам в августе 2019г.')\n",
    "plt.ylabel('Средний чек, у.е')\n",
    "plt.xlabel('на дату')\n",
    "plt.legend(title='Группа', fontsize=10)\n",
    "plt.show()"
   ]
  },
  {
   "cell_type": "markdown",
   "metadata": {},
   "source": [
    "Действительно -  и средний чек скачет, как в группе А(например покупки 13 августа), так и в группе B (ориентировочно 19-20 августа). Как мы видели ранее в таблице с разбросом значений, есть аномально дорогие покупки, что подтверждает также большое среднеквадратичное отклонение , особенно по группе В."
   ]
  },
  {
   "cell_type": "markdown",
   "metadata": {},
   "source": [
    "#### Относительное изменение кумулятивного среднего чека группы B к группе A."
   ]
  },
  {
   "cell_type": "code",
   "execution_count": 22,
   "metadata": {},
   "outputs": [
    {
     "data": {
      "image/png": "[encoded data removed]",
      "text/plain": [
       "<Figure size 1200x500 with 1 Axes>"
      ]
     },
     "metadata": {},
     "output_type": "display_data"
    }
   ],
   "source": [
    "# собираем данные в одном датафрейме\n",
    "mergedCumulativeRevenue = cumulativeRevenueA.merge(\n",
    "    cumulativeRevenueB,\n",
    "    left_on='date',\n",
    "    right_on='date',\n",
    "    how='left',\n",
    "    suffixes=['A', 'B'])\n",
    "#размер графика\n",
    "plt.figure(figsize=(12, 5))\n",
    "plt.ticklabel_format(style='plain')\n",
    "\n",
    "# cтроим отношение средних чеков\n",
    "plt.plot(mergedCumulativeRevenue['date'],\n",
    "        (mergedCumulativeRevenue['revenueB']/mergedCumulativeRevenue['ordersB'])/\n",
    "        (mergedCumulativeRevenue['revenueA']/mergedCumulativeRevenue['ordersA'])-1)\n",
    "\n",
    "# добавляем ось X\n",
    "plt.axhline(y=0, color='black', linestyle='--')\n",
    "\n",
    "plt.title('Относительное изменение кумулятивного среднего чека группы B к группе A в августе 2019г.')\n",
    "plt.ylabel('Отношение среднего чека группы В к группе А')\n",
    "plt.xlabel('на дату')\n",
    "plt.show()"
   ]
  },
  {
   "cell_type": "markdown",
   "metadata": {},
   "source": [
    "Отношение среднего чека, которое имеет резкие скачки 5, 13, 21 августа только подтверждает наши догадки, что в данных имеются аномалии."
   ]
  },
  {
   "cell_type": "markdown",
   "metadata": {},
   "source": [
    "#### Кумулятивное среднее количество заказов на посетителя по группам."
   ]
  },
  {
   "cell_type": "code",
   "execution_count": 23,
   "metadata": {},
   "outputs": [
    {
     "data": {
      "image/png": "[encoded data removed]",
      "text/plain": [
       "<Figure size 1200x500 with 1 Axes>"
      ]
     },
     "metadata": {},
     "output_type": "display_data"
    }
   ],
   "source": [
    "# считаем среднее количество заказов на посетителя\n",
    "cumulativeData['conversion'] = cumulativeData['orders']/cumulativeData['visitors']\n",
    "\n",
    "# отделяем данные по группе A\n",
    "cumulativeDataA = cumulativeData[cumulativeData['group']=='A']\n",
    "\n",
    "# отделяем данные по группе B\n",
    "cumulativeDataB = cumulativeData[cumulativeData['group']=='B']\n",
    "\n",
    "#размер графика\n",
    "plt.figure(figsize=(12, 5))\n",
    "\n",
    "\n",
    "# строим графики\n",
    "plt.plot(cumulativeDataA['date'], cumulativeDataA['conversion'], label='A', color = 'yellowgreen')\n",
    "plt.plot(cumulativeDataB['date'], cumulativeDataB['conversion'], label='B')\n",
    "plt.legend()\n",
    "\n",
    "plt.title('Кумулятивное среднее количество заказов на посетителя в августе 2019г.')\n",
    "plt.ylabel('Количество заказов на 1 посетителя')\n",
    "plt.xlabel('на дату')\n",
    "plt.legend(title='Группа', fontsize=10)\n",
    "plt.show()\n"
   ]
  },
  {
   "cell_type": "markdown",
   "metadata": {},
   "source": [
    "График среднего количества заказов практически симметричный. И если в начале месяца доля заказов среди посетителей у группы А была больше, то после 5 августа сирьезно выросли заказы в группе В, а группа А симметрично просела."
   ]
  },
  {
   "cell_type": "markdown",
   "metadata": {},
   "source": [
    "#### Относительное изменение кумулятивного среднего количества заказов на посетителя группы B к группе A."
   ]
  },
  {
   "cell_type": "code",
   "execution_count": 24,
   "metadata": {},
   "outputs": [
    {
     "data": {
      "image/png": "[encoded data removed]",
      "text/plain": [
       "<Figure size 1200x500 with 1 Axes>"
      ]
     },
     "metadata": {},
     "output_type": "display_data"
    }
   ],
   "source": [
    "mergedCumulativeConversions = (cumulativeDataA[['date','conversion']]\n",
    "                            .merge(cumulativeDataB[['date','conversion']],\n",
    "                                  left_on='date',\n",
    "                                  right_on='date',\n",
    "                                  how='left',\n",
    "                                  suffixes=['A', 'B']))\n",
    "#размер графика\n",
    "plt.figure(figsize=(12, 5))\n",
    "\n",
    "#строим график\n",
    "plt.plot(mergedCumulativeConversions['date'],\n",
    "         mergedCumulativeConversions['conversionB']/\n",
    "         mergedCumulativeConversions['conversionA']-1)\n",
    "\n",
    "plt.axhline(y=0, color='black', linestyle='--')\n",
    "plt.axhline(y=-0.1, color='grey', linestyle='--')\n",
    "\n",
    "plt.title('Относительный прирост кумулятивного\\\n",
    "среднего количества заказов на посетителя группы B относительно группы A в августе 2019г.')\n",
    "plt.ylabel('Отношение конверсии группы В к группе А')\n",
    "plt.xlabel('на дату')\n",
    "plt.show()\n"
   ]
  },
  {
   "cell_type": "markdown",
   "metadata": {},
   "source": [
    "До 5 августа в целом конверсия в группе В была хуже того же показателя группы А. Но с 6 августа показатель начал расти. До конца месяца конверсия в группе В была значительно лучше группы и составляла к 31 августа 15%."
   ]
  },
  {
   "cell_type": "markdown",
   "metadata": {},
   "source": [
    "#### Разброс количества заказов по пользователям."
   ]
  },
  {
   "cell_type": "code",
   "execution_count": 25,
   "metadata": {},
   "outputs": [
    {
     "data": {
      "image/png": "[encoded data removed]",
      "text/plain": [
       "<Figure size 1000x500 with 1 Axes>"
      ]
     },
     "metadata": {},
     "output_type": "display_data"
    }
   ],
   "source": [
    "#сгруппируем данные по пользователям и найдем кол-во уникальных заказов\n",
    "ordersByUsers = (\n",
    "    orders.groupby('visitorId', as_index=False)\n",
    "    .agg({'transactionId': 'nunique'})\n",
    ")\n",
    "\n",
    "ordersByUsers.columns = ['userId', 'orders']\n",
    "\n",
    "x_values = pd.Series(range(0,len(ordersByUsers)))\n",
    "\n",
    "#размер графика\n",
    "plt.figure(figsize=(10, 5))\n",
    "\n",
    "#строим график\n",
    "plt.scatter(x_values, ordersByUsers['orders']) \n",
    "\n",
    "plt.title('Количество заказов по пользователям')\n",
    "plt.ylabel('Кол-во заказов')\n",
    "plt.xlabel('Покупатели')\n",
    "plt.show()"
   ]
  },
  {
   "cell_type": "markdown",
   "metadata": {},
   "source": [
    "На диаграмме разброса видно, что покупатели делают не более 3х заказов за месяц, но основная масса - 1 заказ. Соответственно больше 3х заказов за месяц  аномально и будет  искажать статистику. Нужно определиться с границей, выше которой пользователи не войдут в выборку."
   ]
  },
  {
   "cell_type": "markdown",
   "metadata": {},
   "source": [
    "#### Граница для определения аномальных пользователей по количеству заказов."
   ]
  },
  {
   "cell_type": "code",
   "execution_count": 26,
   "metadata": {},
   "outputs": [
    {
     "data": {
      "text/plain": [
       "array([1., 2.])"
      ]
     },
     "execution_count": 26,
     "metadata": {},
     "output_type": "execute_result"
    }
   ],
   "source": [
    "np.percentile(ordersByUsers['orders'], [95, 99])"
   ]
  },
  {
   "cell_type": "markdown",
   "metadata": {},
   "source": [
    "Таким образом, только 5% покупателей совершали более 1 заказа за месяц. А более 2х заказов в августе делали только 1% покупателей. Исходя из диаграммы рассеивания и расчета перцентилей целесообразно ограничить выборку покупателями с не более 2мя заказами."
   ]
  },
  {
   "cell_type": "markdown",
   "metadata": {},
   "source": [
    "####   Разброс суммы заказов по пользователям."
   ]
  },
  {
   "cell_type": "code",
   "execution_count": 27,
   "metadata": {},
   "outputs": [
    {
     "data": {
      "image/png": "[encoded data removed]",
      "text/plain": [
       "<Figure size 1000x500 with 1 Axes>"
      ]
     },
     "metadata": {},
     "output_type": "display_data"
    }
   ],
   "source": [
    "x_values = pd.Series(range(0,len(orders['revenue'])))\n",
    "\n",
    "\n",
    "plt.figure(figsize=(10, 5))\n",
    "plt.ticklabel_format(style='plain')\n",
    "\n",
    "plt.scatter(x_values, orders['revenue']) \n",
    "\n",
    "plt.title('Сумма заказов по пользователям')\n",
    "plt.ylabel('Сумма, у.е.')\n",
    "plt.xlabel('Покупатели')\n",
    "plt.show()"
   ]
  },
  {
   "cell_type": "markdown",
   "metadata": {},
   "source": [
    "Как видим, сильно выбивается ранее определенный нами заказ на сумму более 1,2 млн и смазывает нам общую картину, ограничим оси и посмотрим подробнее."
   ]
  },
  {
   "cell_type": "code",
   "execution_count": 28,
   "metadata": {},
   "outputs": [
    {
     "data": {
      "image/png": "[encoded data removed]",
      "text/plain": [
       "<Figure size 1000x500 with 1 Axes>"
      ]
     },
     "metadata": {},
     "output_type": "display_data"
    }
   ],
   "source": [
    "plt.figure(figsize=(10, 5))\n",
    "plt.ticklabel_format(style='plain')\n",
    "plt.scatter(x_values, orders['revenue']) \n",
    "\n",
    "plt.title('Сумма заказов по пользователям')\n",
    "plt.ylabel('Сумма, у.е.')\n",
    "plt.xlabel('Покупатели')\n",
    "plt.ylim (0, 200000)\n",
    "plt.show()"
   ]
  },
  {
   "cell_type": "markdown",
   "metadata": {},
   "source": [
    "Основная масса заказов не превышает сумму в 50 тыс руб. Аномальные значения сильно влияют на общую оценку, поэтому определим границу с помощью перцентилей."
   ]
  },
  {
   "cell_type": "markdown",
   "metadata": {},
   "source": [
    "#### Граница для определения аномальных пользователей по сумме заказа."
   ]
  },
  {
   "cell_type": "code",
   "execution_count": 29,
   "metadata": {},
   "outputs": [
    {
     "data": {
      "text/plain": [
       "array([26785., 53904.])"
      ]
     },
     "execution_count": 29,
     "metadata": {},
     "output_type": "execute_result"
    }
   ],
   "source": [
    "np.percentile(orders['revenue'], [95, 99])"
   ]
  },
  {
   "cell_type": "markdown",
   "metadata": {},
   "source": [
    "Не более 5% заказов дороже 27 тыс. и не более 1% дороже 54 тыс. у.е. Остановимся посередине между этими показателями для определения границы - на 40 тыс."
   ]
  },
  {
   "cell_type": "markdown",
   "metadata": {},
   "source": [
    "#### Различия в среднем количестве заказов  (сырые данные)."
   ]
  },
  {
   "cell_type": "markdown",
   "metadata": {},
   "source": [
    "Создадим сводную таблицу, в которой будут содержаться данные за соответствующую дату, а также с накоплением."
   ]
  },
  {
   "cell_type": "code",
   "execution_count": 30,
   "metadata": {},
   "outputs": [
    {
     "data": {
      "text/html": [
       "<div>\n",
       "<style scoped>\n",
       "    .dataframe tbody tr th:only-of-type {\n",
       "        vertical-align: middle;\n",
       "    }\n",
       "\n",
       "    .dataframe tbody tr th {\n",
       "        vertical-align: top;\n",
       "    }\n",
       "\n",
       "    .dataframe thead th {\n",
       "        text-align: right;\n",
       "    }\n",
       "</style>\n",
       "<table border=\"1\" class=\"dataframe\">\n",
       "  <thead>\n",
       "    <tr style=\"text-align: right;\">\n",
       "      <th></th>\n",
       "      <th>date</th>\n",
       "      <th>ordersPerDateA</th>\n",
       "      <th>revenuePerDateA</th>\n",
       "      <th>ordersPerDateB</th>\n",
       "      <th>revenuePerDateB</th>\n",
       "      <th>ordersCummulativeA</th>\n",
       "      <th>revenueCummulativeA</th>\n",
       "      <th>ordersCummulativeB</th>\n",
       "      <th>revenueCummulativeB</th>\n",
       "      <th>visitorsPerDateA</th>\n",
       "      <th>visitorsPerDateB</th>\n",
       "      <th>visitorsCummulativeA</th>\n",
       "      <th>visitorsCummulativeB</th>\n",
       "    </tr>\n",
       "  </thead>\n",
       "  <tbody>\n",
       "    <tr>\n",
       "      <th>0</th>\n",
       "      <td>2019-08-01</td>\n",
       "      <td>23</td>\n",
       "      <td>142779</td>\n",
       "      <td>17</td>\n",
       "      <td>59758</td>\n",
       "      <td>23</td>\n",
       "      <td>142779</td>\n",
       "      <td>17</td>\n",
       "      <td>59758</td>\n",
       "      <td>719</td>\n",
       "      <td>713</td>\n",
       "      <td>719</td>\n",
       "      <td>713</td>\n",
       "    </tr>\n",
       "    <tr>\n",
       "      <th>1</th>\n",
       "      <td>2019-08-02</td>\n",
       "      <td>19</td>\n",
       "      <td>91602</td>\n",
       "      <td>23</td>\n",
       "      <td>162043</td>\n",
       "      <td>42</td>\n",
       "      <td>234381</td>\n",
       "      <td>40</td>\n",
       "      <td>221801</td>\n",
       "      <td>619</td>\n",
       "      <td>581</td>\n",
       "      <td>1338</td>\n",
       "      <td>1294</td>\n",
       "    </tr>\n",
       "    <tr>\n",
       "      <th>2</th>\n",
       "      <td>2019-08-03</td>\n",
       "      <td>24</td>\n",
       "      <td>112473</td>\n",
       "      <td>14</td>\n",
       "      <td>67049</td>\n",
       "      <td>66</td>\n",
       "      <td>346854</td>\n",
       "      <td>54</td>\n",
       "      <td>288850</td>\n",
       "      <td>507</td>\n",
       "      <td>509</td>\n",
       "      <td>1845</td>\n",
       "      <td>1803</td>\n",
       "    </tr>\n",
       "    <tr>\n",
       "      <th>3</th>\n",
       "      <td>2019-08-04</td>\n",
       "      <td>11</td>\n",
       "      <td>41176</td>\n",
       "      <td>14</td>\n",
       "      <td>96890</td>\n",
       "      <td>77</td>\n",
       "      <td>388030</td>\n",
       "      <td>68</td>\n",
       "      <td>385740</td>\n",
       "      <td>717</td>\n",
       "      <td>770</td>\n",
       "      <td>2562</td>\n",
       "      <td>2573</td>\n",
       "    </tr>\n",
       "    <tr>\n",
       "      <th>4</th>\n",
       "      <td>2019-08-05</td>\n",
       "      <td>22</td>\n",
       "      <td>86383</td>\n",
       "      <td>21</td>\n",
       "      <td>89908</td>\n",
       "      <td>99</td>\n",
       "      <td>474413</td>\n",
       "      <td>89</td>\n",
       "      <td>475648</td>\n",
       "      <td>756</td>\n",
       "      <td>707</td>\n",
       "      <td>3318</td>\n",
       "      <td>3280</td>\n",
       "    </tr>\n",
       "  </tbody>\n",
       "</table>\n",
       "</div>"
      ],
      "text/plain": [
       "        date  ordersPerDateA  revenuePerDateA  ordersPerDateB  revenuePerDateB  ordersCummulativeA  revenueCummulativeA  ordersCummulativeB  revenueCummulativeB  visitorsPerDateA  visitorsPerDateB  visitorsCummulativeA  visitorsCummulativeB\n",
       "0 2019-08-01              23           142779              17            59758                  23               142779                  17                59758               719               713                   719                   713\n",
       "1 2019-08-02              19            91602              23           162043                  42               234381                  40               221801               619               581                  1338                  1294\n",
       "2 2019-08-03              24           112473              14            67049                  66               346854                  54               288850               507               509                  1845                  1803\n",
       "3 2019-08-04              11            41176              14            96890                  77               388030                  68               385740               717               770                  2562                  2573\n",
       "4 2019-08-05              22            86383              21            89908                  99               474413                  89               475648               756               707                  3318                  3280"
      ]
     },
     "execution_count": 30,
     "metadata": {},
     "output_type": "execute_result"
    }
   ],
   "source": [
    "visitorsADaily = visitors[visitors['group'] == 'A'][['date', 'visitors']]\n",
    "visitorsADaily.columns = ['date', 'visitorsPerDateA']\n",
    "\n",
    "visitorsACummulative = visitorsADaily.apply(\n",
    "    lambda x: visitorsADaily[visitorsADaily['date'] <= x['date']].agg(\n",
    "        {'date': 'max', 'visitorsPerDateA': 'sum'}\n",
    "    ),\n",
    "    axis=1,\n",
    ")\n",
    "visitorsACummulative.columns = ['date', 'visitorsCummulativeA']\n",
    "\n",
    "visitorsBDaily = visitors[visitors['group'] == 'B'][['date', 'visitors']]\n",
    "visitorsBDaily.columns = ['date', 'visitorsPerDateB']\n",
    "\n",
    "visitorsBCummulative = visitorsBDaily.apply(\n",
    "    lambda x: visitorsBDaily[visitorsBDaily['date'] <= x['date']].agg(\n",
    "        {'date': 'max', 'visitorsPerDateB': 'sum'}\n",
    "    ),\n",
    "    axis=1,\n",
    ")\n",
    "visitorsBCummulative.columns = ['date', 'visitorsCummulativeB']\n",
    "\n",
    "ordersADaily = (\n",
    "    orders[orders['group'] == 'A'][['date', 'transactionId', 'visitorId', 'revenue']]\n",
    "    .groupby('date', as_index=False)\n",
    "    .agg({'transactionId': pd.Series.nunique, 'revenue': 'sum'})\n",
    ")\n",
    "ordersADaily.columns = ['date', 'ordersPerDateA', 'revenuePerDateA']\n",
    "\n",
    "ordersACummulative = ordersADaily.apply(\n",
    "    lambda x: ordersADaily[ordersADaily['date'] <= x['date']].agg(\n",
    "        {'date': 'max', 'ordersPerDateA': 'sum', 'revenuePerDateA': 'sum'}\n",
    "    ),\n",
    "    axis=1,\n",
    ").sort_values(by=['date'])\n",
    "ordersACummulative.columns = [\n",
    "    'date',\n",
    "    'ordersCummulativeA',\n",
    "    'revenueCummulativeA',\n",
    "]\n",
    "\n",
    "ordersBDaily = (\n",
    "    orders[orders['group'] == 'B'][['date', 'transactionId', 'visitorId', 'revenue']]\n",
    "    .groupby('date', as_index=False)\n",
    "    .agg({'transactionId': pd.Series.nunique, 'revenue': 'sum'})\n",
    ")\n",
    "ordersBDaily.columns = ['date', 'ordersPerDateB', 'revenuePerDateB']\n",
    "\n",
    "ordersBCummulative = ordersBDaily.apply(\n",
    "    lambda x: ordersBDaily[ordersBDaily['date'] <= x['date']].agg(\n",
    "        {'date': 'max', 'ordersPerDateB': 'sum', 'revenuePerDateB': 'sum'}\n",
    "    ),\n",
    "    axis=1,\n",
    ").sort_values(by=['date'])\n",
    "ordersBCummulative.columns = [\n",
    "    'date',\n",
    "    'ordersCummulativeB',\n",
    "    'revenueCummulativeB',\n",
    "]\n",
    "\n",
    "data = (\n",
    "    ordersADaily.merge(\n",
    "        ordersBDaily, left_on='date', right_on='date', how='left'\n",
    "    )\n",
    "    .merge(ordersACummulative, left_on='date', right_on='date', how='left')\n",
    "    .merge(ordersBCummulative, left_on='date', right_on='date', how='left')\n",
    "    .merge(visitorsADaily, left_on='date', right_on='date', how='left')\n",
    "    .merge(visitorsBDaily, left_on='date', right_on='date', how='left')\n",
    "    .merge(visitorsACummulative, left_on='date', right_on='date', how='left')\n",
    "    .merge(visitorsBCummulative, left_on='date', right_on='date', how='left')\n",
    ")\n",
    "data.head(5)"
   ]
  },
  {
   "cell_type": "markdown",
   "metadata": {},
   "source": [
    "Теперь создадим таблицы для группы А и группы В отдельно, в которых будет содержаться индификатор пользователя и количество заказов."
   ]
  },
  {
   "cell_type": "code",
   "execution_count": 31,
   "metadata": {},
   "outputs": [],
   "source": [
    "ordersByUsersA = (\n",
    "    orders[orders['group'] == 'A']\n",
    "    .groupby('visitorId', as_index=False)\n",
    "    .agg({'transactionId': pd.Series.nunique})\n",
    ")\n",
    "ordersByUsersA.columns = ['userId', 'orders']\n",
    "\n",
    "ordersByUsersB = (\n",
    "    orders[orders['group'] == 'B']\n",
    "    .groupby('visitorId', as_index=False)\n",
    "    .agg({'transactionId': pd.Series.nunique})\n",
    ")\n",
    "ordersByUsersB.columns = ['userId', 'orders'] \n"
   ]
  },
  {
   "cell_type": "markdown",
   "metadata": {},
   "source": [
    "Следующим шагом создаем два сэмпла с количеством заказов, для пустых пользователей без заказов также создаем нулевые строки."
   ]
  },
  {
   "cell_type": "code",
   "execution_count": 32,
   "metadata": {},
   "outputs": [
    {
     "data": {
      "text/plain": [
       "5919     0\n",
       "2730     0\n",
       "12045    0\n",
       "10740    0\n",
       "13133    0\n",
       "15001    0\n",
       "18125    0\n",
       "Name: orders, dtype: int64"
      ]
     },
     "metadata": {},
     "output_type": "display_data"
    },
    {
     "data": {
      "text/plain": [
       "14171    0\n",
       "3380     0\n",
       "14807    0\n",
       "7025     0\n",
       "3214     0\n",
       "13082    0\n",
       "8686     0\n",
       "Name: orders, dtype: int64"
      ]
     },
     "execution_count": 32,
     "metadata": {},
     "output_type": "execute_result"
    }
   ],
   "source": [
    "sampleA = pd.concat(\n",
    "    [ordersByUsersA['orders'],\n",
    "     pd.Series(0, index=np.arange(data['visitorsPerDateA'].sum() - len(ordersByUsersA['orders'])),\n",
    "               name='orders')],axis=0\n",
    ")\n",
    "\n",
    "sampleB = pd.concat(\n",
    "    [ordersByUsersB['orders'],\n",
    "     pd.Series(0, index = np.arange(data['visitorsPerDateB'].sum()-len(ordersByUsersB['orders'])),\n",
    "               name='orders')], axis=0\n",
    ")\n",
    "display(sampleA.sample(7))\n",
    "sampleB.sample(7)"
   ]
  },
  {
   "cell_type": "markdown",
   "metadata": {},
   "source": [
    "Теперь можно посчитать стат.сначимость различий количества заказов в группе А и группе В. Для начала проведем расчеты по \"сырым\" данным - без удаления аномалий. Воспользуемся непараметрическим тест Уилкоксона-Манна-Уитни."
   ]
  },
  {
   "cell_type": "markdown",
   "metadata": {},
   "source": [
    "Сформируем гипотезы:\\\n",
    "alpha=0.05\\\n",
    "H0- различий в среднем количестве заказов между группами нет.\\\n",
    "H1 - различия в среднем между группами есть.\\\n",
    "Также дополнительно посчитаем изменение конверсии в группе В к конверсии в группе А."
   ]
  },
  {
   "cell_type": "code",
   "execution_count": 33,
   "metadata": {},
   "outputs": [
    {
     "data": {
      "text/plain": [
       "'p-value:'"
      ]
     },
     "metadata": {},
     "output_type": "display_data"
    },
    {
     "data": {
      "text/plain": [
       "'0.011'"
      ]
     },
     "metadata": {},
     "output_type": "display_data"
    },
    {
     "data": {
      "text/plain": [
       "'Относительный прирост среднего группы В к конверсии группы А:'"
      ]
     },
     "metadata": {},
     "output_type": "display_data"
    },
    {
     "data": {
      "text/plain": [
       "'15.98%'"
      ]
     },
     "metadata": {},
     "output_type": "display_data"
    }
   ],
   "source": [
    "display('p-value:',\"{0:.3f}\".format(st.mannwhitneyu(sampleA, sampleB)[1]))\n",
    "display('Относительный прирост среднего группы В к конверсии группы А:', \"{0:.2%}\".format(sampleB.mean()/sampleA.mean()-1))"
   ]
  },
  {
   "cell_type": "markdown",
   "metadata": {},
   "source": [
    "Таким образом, отвергаем нулевую гипотезу, т.к. p-value значительно ниже 0,05. А это значит, что различия в среднем между группами есть. В то же время относительный прирост конверсии группы В к группе А составляет 15.98%."
   ]
  },
  {
   "cell_type": "code",
   "execution_count": 34,
   "metadata": {},
   "outputs": [
    {
     "data": {
      "text/html": [
       "<div>\n",
       "<style scoped>\n",
       "    .dataframe tbody tr th:only-of-type {\n",
       "        vertical-align: middle;\n",
       "    }\n",
       "\n",
       "    .dataframe tbody tr th {\n",
       "        vertical-align: top;\n",
       "    }\n",
       "\n",
       "    .dataframe thead th {\n",
       "        text-align: right;\n",
       "    }\n",
       "</style>\n",
       "<table border=\"1\" class=\"dataframe\">\n",
       "  <thead>\n",
       "    <tr style=\"text-align: right;\">\n",
       "      <th></th>\n",
       "      <th>sampleA</th>\n",
       "      <th>sampleB</th>\n",
       "    </tr>\n",
       "    <tr>\n",
       "      <th>orders</th>\n",
       "      <th></th>\n",
       "      <th></th>\n",
       "    </tr>\n",
       "  </thead>\n",
       "  <tbody>\n",
       "    <tr>\n",
       "      <th>0</th>\n",
       "      <td>18291</td>\n",
       "      <td>18388</td>\n",
       "    </tr>\n",
       "    <tr>\n",
       "      <th>1</th>\n",
       "      <td>427</td>\n",
       "      <td>510</td>\n",
       "    </tr>\n",
       "    <tr>\n",
       "      <th>2</th>\n",
       "      <td>13</td>\n",
       "      <td>16</td>\n",
       "    </tr>\n",
       "    <tr>\n",
       "      <th>3</th>\n",
       "      <td>5</td>\n",
       "      <td>2</td>\n",
       "    </tr>\n",
       "  </tbody>\n",
       "</table>\n",
       "</div>"
      ],
      "text/plain": [
       "        sampleA  sampleB\n",
       "orders                  \n",
       "0         18291    18388\n",
       "1           427      510\n",
       "2            13       16\n",
       "3             5        2"
      ]
     },
     "execution_count": 34,
     "metadata": {},
     "output_type": "execute_result"
    }
   ],
   "source": [
    "pd.concat([sampleA.value_counts(), sampleB.value_counts()],  axis=1, keys=['sampleA', 'sampleB'])"
   ]
  },
  {
   "cell_type": "markdown",
   "metadata": {},
   "source": [
    "Как мы видим, достаточно большое количество пользователей (в среднем по 18,3 тыс. в каждой группе) не совершили ни одной покупки. Но при этом пользователей с одной и двумя покупками больше именно в группе В. Также имеются пользователи, которые совершили за месяц 3 покупки."
   ]
  },
  {
   "cell_type": "markdown",
   "metadata": {},
   "source": [
    "В целом на данном этапе по \"сырым\" данным тест показывает, что эффект от нововведений есть, и это отражается в группе В. И этотэффект имеет стат. значимость."
   ]
  },
  {
   "cell_type": "markdown",
   "metadata": {},
   "source": [
    "#### Различия в среднем чеке («сырые» данные)."
   ]
  },
  {
   "cell_type": "markdown",
   "metadata": {},
   "source": [
    "Теперь сделаем тоже самое по среднему чеку. Воспользуемся сырыми данными и сформируем гипотезы.\\\n",
    "alpha=0.05\\\n",
    "Н0 - различий в среднем чеке между группами нет;\\\n",
    "Н1 - различия в среднем чеке между группами есть.\\\n",
    "Кроме критерия Манна-Уитни, оценим также и средние значения чеков по группам."
   ]
  },
  {
   "cell_type": "code",
   "execution_count": 35,
   "metadata": {},
   "outputs": [
    {
     "data": {
      "text/plain": [
       "'p-value:'"
      ]
     },
     "metadata": {},
     "output_type": "display_data"
    },
    {
     "data": {
      "text/plain": [
       "'0.829'"
      ]
     },
     "metadata": {},
     "output_type": "display_data"
    },
    {
     "data": {
      "text/plain": [
       "'Относительный прирост среднего группы В к чеку группы А:'"
      ]
     },
     "metadata": {},
     "output_type": "display_data"
    },
    {
     "data": {
      "text/plain": [
       "'28.66%'"
      ]
     },
     "metadata": {},
     "output_type": "display_data"
    }
   ],
   "source": [
    "display(\n",
    "    'p-value:',\"{0:.3f}\".format(\n",
    "        st.mannwhitneyu(orders[orders['group']=='A']['revenue'],\n",
    "                        orders[orders['group']=='B']['revenue'])[1])\n",
    ")\n",
    "display(\n",
    "    'Относительный прирост среднего группы В к чеку группы А:',\n",
    "    \"{0:.2%}\".format(orders[orders['group']=='B']['revenue'].mean()/ orders[orders['group']=='A']['revenue'].mean()-1)\n",
    ")"
   ]
  },
  {
   "cell_type": "markdown",
   "metadata": {},
   "source": [
    "P-value выше заданного уровня alpha, а это значит, что различия в размере чека по \"сырым\" данным не имеют достаточного уровня стат значимости, соответсвенно мы принимаем нулевую гипотезу, а наблюдаемое относительное различие в 28,7% не является стат.значимым."
   ]
  },
  {
   "cell_type": "markdown",
   "metadata": {},
   "source": [
    "#### Различия в среднем количестве заказов («очищенные» данные)."
   ]
  },
  {
   "cell_type": "markdown",
   "metadata": {},
   "source": [
    "Начнем с того, что нужно очистить данные. При расчете процентилей мы условились, что в очищенную выборку возьмем заказы с суммой не более 40 тыс., а также пользователе с не более чем 2мя заказами. Определим этих пользователей."
   ]
  },
  {
   "cell_type": "code",
   "execution_count": 36,
   "metadata": {},
   "outputs": [
    {
     "data": {
      "text/plain": [
       "1099    148427295\n",
       "33      249864742\n",
       "684     358944393\n",
       "648     382846391\n",
       "58      611059232\n",
       "dtype: int64"
      ]
     },
     "metadata": {},
     "output_type": "display_data"
    },
    {
     "data": {
      "text/plain": [
       "30"
      ]
     },
     "metadata": {},
     "output_type": "display_data"
    }
   ],
   "source": [
    "usersWithManyOrders = pd.concat(\n",
    "    [\n",
    "        ordersByUsersA[ordersByUsersA['orders'] > 2]['userId'],\n",
    "        ordersByUsersB[ordersByUsersB['orders'] > 2]['userId'],\n",
    "    ],\n",
    "    axis=0,\n",
    ")\n",
    "usersWithExpensiveOrders = orders[orders['revenue'] > 40000]['visitorId']\n",
    "abnormalUsers = (\n",
    "    pd.concat([usersWithManyOrders, usersWithExpensiveOrders], axis=0)\n",
    "    .drop_duplicates()\n",
    "    .sort_values()\n",
    ")\n",
    "display(abnormalUsers.head(5))\n",
    "display(abnormalUsers.shape[0])"
   ]
  },
  {
   "cell_type": "markdown",
   "metadata": {},
   "source": [
    "Всего у нас 30 пользователь с такими аномальными заказами. Подготовим сэмплы по заказам без аномальных пользователей."
   ]
  },
  {
   "cell_type": "code",
   "execution_count": 37,
   "metadata": {},
   "outputs": [
    {
     "data": {
      "text/plain": [
       "array([1, 2, 0], dtype=int64)"
      ]
     },
     "metadata": {},
     "output_type": "display_data"
    },
    {
     "data": {
      "text/plain": [
       "array([1, 2, 0], dtype=int64)"
      ]
     },
     "execution_count": 37,
     "metadata": {},
     "output_type": "execute_result"
    }
   ],
   "source": [
    "sampleAFiltered = pd.concat(\n",
    "    [\n",
    "        ordersByUsersA[\n",
    "            np.logical_not(ordersByUsersA['userId'].isin(abnormalUsers))\n",
    "        ]['orders'],\n",
    "        pd.Series(\n",
    "            0,\n",
    "            index=np.arange(\n",
    "                data['visitorsPerDateA'].sum() - len(ordersByUsersA['orders'])\n",
    "            ),\n",
    "            name='orders',\n",
    "        ),\n",
    "    ],\n",
    "    axis=0,\n",
    ")\n",
    "\n",
    "sampleBFiltered = pd.concat(\n",
    "    [\n",
    "        ordersByUsersB[\n",
    "            np.logical_not(ordersByUsersB['userId'].isin(abnormalUsers))\n",
    "        ]['orders'],\n",
    "        pd.Series(\n",
    "            0,\n",
    "            index=np.arange(\n",
    "                data['visitorsPerDateB'].sum() - len(ordersByUsersB['orders'])\n",
    "            ),\n",
    "            name='orders',\n",
    "        ),\n",
    "    ],\n",
    "    axis=0,\n",
    ")\n",
    "display(sampleAFiltered.unique())\n",
    "sampleBFiltered.unique()"
   ]
  },
  {
   "cell_type": "markdown",
   "metadata": {},
   "source": [
    "Судя по уникальным значениям двух сэмплов, данные очистились, можно приступать к тестированию. Определим нулевую и альтернативную гипотезы:\\\n",
    "H0- различий в среднем количестве заказов между группами нет;\\\n",
    "H1 - различия в среднем между группами есть.\\\n",
    "Определим традиционно alpha = 0.05. Кроме того, посчитаем изменение конверсии в группе В к конверсии в группе А."
   ]
  },
  {
   "cell_type": "code",
   "execution_count": 38,
   "metadata": {},
   "outputs": [
    {
     "data": {
      "text/plain": [
       "'p-value:'"
      ]
     },
     "metadata": {},
     "output_type": "display_data"
    },
    {
     "data": {
      "text/plain": [
       "'0.004'"
      ]
     },
     "metadata": {},
     "output_type": "display_data"
    },
    {
     "data": {
      "text/plain": [
       "'Относительный прирост среднего группы В к конверсии группы А:'"
      ]
     },
     "metadata": {},
     "output_type": "display_data"
    },
    {
     "data": {
      "text/plain": [
       "'20.48%'"
      ]
     },
     "metadata": {},
     "output_type": "display_data"
    }
   ],
   "source": [
    "display('p-value:',\"{0:.3f}\".format(st.mannwhitneyu(sampleAFiltered, sampleBFiltered)[1]))\n",
    "display(\n",
    "    'Относительный прирост среднего группы В к конверсии группы А:',\n",
    "    \"{0:.2%}\".format(sampleBFiltered.mean()/sampleAFiltered.mean()-1))"
   ]
  },
  {
   "cell_type": "markdown",
   "metadata": {},
   "source": [
    "Согласно проведенного теста по очищенным данным, можно сказать, что нулевая гипотеза не подтвердилсь, а значит группа В (также как и по \"сырым\" данным) отлична от группы А по показателю конверсии. Это же подтверждает и прирост конверсии в группе В на 20,5% по сравнению с группой А."
   ]
  },
  {
   "cell_type": "markdown",
   "metadata": {},
   "source": [
    "#### Различия в среднем чеке(«очищенные» данные)."
   ]
  },
  {
   "cell_type": "markdown",
   "metadata": {},
   "source": [
    "Посмотрим на изменения в среднем чеке на основании \"чистых\" данных. Сформулируем гипотезы:\\\n",
    "H0- различий в среднем чеке между группами нет;\\\n",
    "H1 - различия в среднем чеке по группам есть.\\\n",
    "alpha = 0.05.\n",
    "Кроме того, посчитаем относительное изменение чека в группе В к среднему чеку в группе А.\n"
   ]
  },
  {
   "cell_type": "code",
   "execution_count": 39,
   "metadata": {},
   "outputs": [
    {
     "data": {
      "text/plain": [
       "'p-value:'"
      ]
     },
     "metadata": {},
     "output_type": "display_data"
    },
    {
     "data": {
      "text/plain": [
       "'0.937'"
      ]
     },
     "metadata": {},
     "output_type": "display_data"
    },
    {
     "data": {
      "text/plain": [
       "'Относительный прирост среднего группы В к чеку группы А:'"
      ]
     },
     "metadata": {},
     "output_type": "display_data"
    },
    {
     "data": {
      "text/plain": [
       "'5.5%'"
      ]
     },
     "metadata": {},
     "output_type": "display_data"
    }
   ],
   "source": [
    "display(\n",
    "    'p-value:',\n",
    "    '{0:.3f}'.format(\n",
    "        st.mannwhitneyu(\n",
    "            orders[\n",
    "                np.logical_and(\n",
    "                    orders['group'] == 'A',\n",
    "                    np.logical_not(orders['visitorId'].isin(abnormalUsers)),\n",
    "                )\n",
    "            ]['revenue'],\n",
    "            orders[\n",
    "                np.logical_and(\n",
    "                    orders['group'] == 'B',\n",
    "                    np.logical_not(orders['visitorId'].isin(abnormalUsers)),\n",
    "                )\n",
    "            ]['revenue'],\n",
    "        )[1]\n",
    "    )\n",
    ")\n",
    "\n",
    "display(\n",
    "    'Относительный прирост среднего группы В к чеку группы А:',\n",
    "    \"{0:.1%}\".format(\n",
    "        orders[\n",
    "            np.logical_and(\n",
    "                orders['group'] == 'B',\n",
    "                np.logical_not(orders['visitorId'].isin(abnormalUsers)),\n",
    "            )\n",
    "        ]['revenue'].mean()\n",
    "        / orders[\n",
    "            np.logical_and(\n",
    "                orders['group'] == 'A',\n",
    "                np.logical_not(orders['visitorId'].isin(abnormalUsers)),\n",
    "            )\n",
    "        ]['revenue'].mean()\n",
    "        - 1\n",
    "    )\n",
    ")"
   ]
  },
  {
   "cell_type": "markdown",
   "metadata": {},
   "source": [
    "Можем сделать вывод, что и по очищенным данным тест подтвержает равенство средних чеков между группами А и В. И несмотря на относительный прирост среднего значения в 5.5%, стат.значимости такие различия не имеют. А значит нововведение никак не повлияло на изменение суммы покупки пользователей. Стоит также отметить, что прирост по среднему чеку в очищенных данных существенно сократился (на что повлияло в том числе удаление из сэмпла группы В аномально большого заказа суммой более 1,2 млн.руб."
   ]
  },
  {
   "cell_type": "markdown",
   "metadata": {},
   "source": [
    "#### Вывод."
   ]
  },
  {
   "cell_type": "markdown",
   "metadata": {},
   "source": [
    "***По результатам проведенного A/B тестирования в августе 2019г. можно сделать следующие выводы - эффект от нововведений, примененных на группу В, достигнут. Можно останавливать тест и зафиксировать победу группы В.***"
   ]
  },
  {
   "cell_type": "markdown",
   "metadata": {},
   "source": [
    "Подробнее о результатах анализа. Кумулятивные показатели, хотя и отмечают частично приоритет группы В, но полноценно их использовать как призыв к действиям сложно. Но то, что точно на их основе можно сказать - `есть явные аномалии в заказах` -как по сумме, так и по количеству заказов(об этом нам говорят резкие скачки на диаграммах). При дальнейшем анализе, выяснилось, что `только 5% покупателей совершали более 1 заказа за месяц, а сумма основной массы заказов не превышает и 50 тыс.` "
   ]
  },
  {
   "cell_type": "markdown",
   "metadata": {},
   "source": [
    "Анализ на основе критерия Манна-Уитни при учете \"сырых\" данных показал, что `различия в среднем количестве заказов между группами есть` (величина p-value 0.011). В то же время `относительный прирост конверсии` группы В к группе А составляет по сырым данным `16%`. Различий в размере чека по \"сырым\" данным тест не показал, хотя и `средний чек в группе В значительно выше` - на 28%, что связано, как отмечалось ранее, с аномально дорогими заказами."
   ]
  },
  {
   "cell_type": "markdown",
   "metadata": {},
   "source": [
    "Дальнейший расчет перцентилей помог вычленить актуальные данные для подготовки очищенных сэмплов к тестированию . Мы остановили свое внимание на данных с суммой заказа не более 40 тыс., а также пользователях с не более чем 2мя заказами.  "
   ]
  },
  {
   "cell_type": "markdown",
   "metadata": {},
   "source": [
    "`По очищенным данным` тест на равенство среднего количества заказов  не подтвердился, `среднее кол-во заказов отличается` и с еще большим размером стат.значимости, чем по \"сырым\" данным. Это же подтверждает и `прирост конверсии` в группе В на 20% по сравнению с группой А."
   ]
  },
  {
   "cell_type": "markdown",
   "metadata": {},
   "source": [
    "А вот `отличий между суммами заказов`  по очищенным данным фактически `нет` (точнее они не имеют стат.значимости).\n",
    "Нововведение никак `не повлияло на увеличение суммы покупки` группы В (особенно, если отбросить аномальные значения).\n",
    "Но проведенный анализ показывает, что А/В тест можно останавливать и закрепить `успех за группой В`, ведь `повышенная конверсия` имеет большую ценность с точки зрения перспективы чем одномоментное увеличение суммы покупки."
   ]
  }
 ],
 "metadata": {
  "ExecuteTimeLog": [
   {
    "duration": 878,
    "start_time": "2024-04-17T12:01:07.320Z"
   },
   {
    "duration": 73,
    "start_time": "2024-04-17T12:03:19.999Z"
   },
   {
    "duration": 17,
    "start_time": "2024-04-17T12:03:33.190Z"
   },
   {
    "duration": 33,
    "start_time": "2024-04-17T12:03:47.939Z"
   },
   {
    "duration": 11,
    "start_time": "2024-04-17T12:10:33.259Z"
   },
   {
    "duration": 26,
    "start_time": "2024-04-17T12:12:06.078Z"
   },
   {
    "duration": 28,
    "start_time": "2024-04-17T12:13:46.635Z"
   },
   {
    "duration": 32,
    "start_time": "2024-04-17T12:13:55.668Z"
   },
   {
    "duration": 14,
    "start_time": "2024-04-17T12:14:02.678Z"
   },
   {
    "duration": 11,
    "start_time": "2024-04-17T12:14:05.672Z"
   },
   {
    "duration": 54,
    "start_time": "2024-04-17T12:20:12.659Z"
   },
   {
    "duration": 120,
    "start_time": "2024-04-17T12:20:16.956Z"
   },
   {
    "duration": 32,
    "start_time": "2024-04-17T12:20:23.619Z"
   },
   {
    "duration": 508,
    "start_time": "2024-04-17T12:21:00.428Z"
   },
   {
    "duration": 46,
    "start_time": "2024-04-17T12:22:02.020Z"
   },
   {
    "duration": 33,
    "start_time": "2024-04-17T12:22:11.929Z"
   },
   {
    "duration": 32,
    "start_time": "2024-04-17T12:22:25.225Z"
   },
   {
    "duration": 32,
    "start_time": "2024-04-17T12:22:33.776Z"
   },
   {
    "duration": 35,
    "start_time": "2024-04-17T12:22:41.793Z"
   },
   {
    "duration": 33,
    "start_time": "2024-04-17T12:22:51.405Z"
   },
   {
    "duration": 33,
    "start_time": "2024-04-17T12:22:54.486Z"
   },
   {
    "duration": 32,
    "start_time": "2024-04-17T12:22:58.699Z"
   },
   {
    "duration": 15,
    "start_time": "2024-04-17T12:29:56.465Z"
   },
   {
    "duration": 11,
    "start_time": "2024-04-17T12:30:22.226Z"
   },
   {
    "duration": 13,
    "start_time": "2024-04-17T12:30:39.885Z"
   },
   {
    "duration": 11,
    "start_time": "2024-04-17T12:30:52.248Z"
   },
   {
    "duration": 1136,
    "start_time": "2024-04-17T12:31:06.433Z"
   },
   {
    "duration": 36,
    "start_time": "2024-04-17T12:31:07.571Z"
   },
   {
    "duration": 11,
    "start_time": "2024-04-17T12:31:07.611Z"
   },
   {
    "duration": 13,
    "start_time": "2024-04-17T12:31:07.623Z"
   },
   {
    "duration": 12,
    "start_time": "2024-04-17T12:31:07.637Z"
   },
   {
    "duration": 5,
    "start_time": "2024-04-17T12:39:23.586Z"
   },
   {
    "duration": 102,
    "start_time": "2024-04-17T12:40:27.617Z"
   },
   {
    "duration": 51,
    "start_time": "2024-04-17T12:42:21.124Z"
   },
   {
    "duration": 13,
    "start_time": "2024-04-17T12:42:59.244Z"
   },
   {
    "duration": 4,
    "start_time": "2024-04-17T12:49:59.502Z"
   },
   {
    "duration": 19,
    "start_time": "2024-04-17T12:50:08.835Z"
   },
   {
    "duration": 10,
    "start_time": "2024-04-17T12:51:51.299Z"
   },
   {
    "duration": 13,
    "start_time": "2024-04-17T12:52:33.312Z"
   },
   {
    "duration": 1085,
    "start_time": "2024-04-17T12:53:53.256Z"
   },
   {
    "duration": 37,
    "start_time": "2024-04-17T12:53:54.343Z"
   },
   {
    "duration": 10,
    "start_time": "2024-04-17T12:53:54.383Z"
   },
   {
    "duration": 58,
    "start_time": "2024-04-17T12:53:54.395Z"
   },
   {
    "duration": 53,
    "start_time": "2024-04-17T12:53:54.454Z"
   },
   {
    "duration": 19,
    "start_time": "2024-04-17T12:53:54.509Z"
   },
   {
    "duration": 47,
    "start_time": "2024-04-17T12:53:54.529Z"
   },
   {
    "duration": 14,
    "start_time": "2024-04-17T12:54:43.003Z"
   },
   {
    "duration": 14,
    "start_time": "2024-04-17T12:54:58.767Z"
   },
   {
    "duration": 13,
    "start_time": "2024-04-17T12:55:12.958Z"
   },
   {
    "duration": 56,
    "start_time": "2024-04-17T12:59:24.531Z"
   },
   {
    "duration": 52,
    "start_time": "2024-04-17T12:59:48.215Z"
   },
   {
    "duration": 72,
    "start_time": "2024-04-17T13:00:02.285Z"
   },
   {
    "duration": 14,
    "start_time": "2024-04-17T13:00:29.816Z"
   },
   {
    "duration": 16,
    "start_time": "2024-04-17T13:00:58.198Z"
   },
   {
    "duration": 15,
    "start_time": "2024-04-17T13:01:12.388Z"
   },
   {
    "duration": 16,
    "start_time": "2024-04-17T13:01:26.166Z"
   },
   {
    "duration": 16,
    "start_time": "2024-04-17T13:02:05.471Z"
   },
   {
    "duration": 17,
    "start_time": "2024-04-17T13:02:28.897Z"
   },
   {
    "duration": 107,
    "start_time": "2024-04-17T13:03:51.906Z"
   },
   {
    "duration": 15,
    "start_time": "2024-04-17T13:04:02.027Z"
   },
   {
    "duration": 15,
    "start_time": "2024-04-17T13:04:48.319Z"
   },
   {
    "duration": 174,
    "start_time": "2024-04-17T13:12:00.702Z"
   },
   {
    "duration": 19,
    "start_time": "2024-04-17T13:13:01.590Z"
   },
   {
    "duration": 21,
    "start_time": "2024-04-17T13:13:33.421Z"
   },
   {
    "duration": 7,
    "start_time": "2024-04-17T13:19:03.391Z"
   },
   {
    "duration": 1141,
    "start_time": "2024-04-17T13:22:09.542Z"
   },
   {
    "duration": 28,
    "start_time": "2024-04-17T13:22:10.684Z"
   },
   {
    "duration": 11,
    "start_time": "2024-04-17T13:22:10.714Z"
   },
   {
    "duration": 16,
    "start_time": "2024-04-17T13:22:10.727Z"
   },
   {
    "duration": 17,
    "start_time": "2024-04-17T13:22:10.744Z"
   },
   {
    "duration": 11,
    "start_time": "2024-04-17T13:22:10.763Z"
   },
   {
    "duration": 69,
    "start_time": "2024-04-17T13:22:10.775Z"
   },
   {
    "duration": 65,
    "start_time": "2024-04-17T13:22:10.846Z"
   },
   {
    "duration": 20,
    "start_time": "2024-04-17T13:22:10.913Z"
   },
   {
    "duration": 18,
    "start_time": "2024-04-17T13:22:10.935Z"
   },
   {
    "duration": 7,
    "start_time": "2024-04-17T13:22:10.954Z"
   },
   {
    "duration": 73,
    "start_time": "2024-04-17T13:23:10.031Z"
   },
   {
    "duration": 343,
    "start_time": "2024-04-17T13:24:00.928Z"
   },
   {
    "duration": 15,
    "start_time": "2024-04-17T13:25:28.827Z"
   },
   {
    "duration": 12,
    "start_time": "2024-04-17T13:25:34.816Z"
   },
   {
    "duration": 8,
    "start_time": "2024-04-17T13:25:41.508Z"
   },
   {
    "duration": 6,
    "start_time": "2024-04-17T13:26:19.066Z"
   },
   {
    "duration": 243,
    "start_time": "2024-04-17T13:26:41.841Z"
   },
   {
    "duration": 238,
    "start_time": "2024-04-17T13:28:47.250Z"
   },
   {
    "duration": 246,
    "start_time": "2024-04-17T13:28:54.082Z"
   },
   {
    "duration": 15,
    "start_time": "2024-04-17T13:38:57.143Z"
   },
   {
    "duration": 28,
    "start_time": "2024-04-17T13:39:16.329Z"
   },
   {
    "duration": 24,
    "start_time": "2024-04-17T13:39:53.751Z"
   },
   {
    "duration": 9,
    "start_time": "2024-04-17T13:40:51.105Z"
   },
   {
    "duration": 26,
    "start_time": "2024-04-17T13:43:16.230Z"
   },
   {
    "duration": 3,
    "start_time": "2024-04-17T14:16:16.080Z"
   },
   {
    "duration": 39,
    "start_time": "2024-04-17T14:35:59.092Z"
   },
   {
    "duration": 6,
    "start_time": "2024-04-17T14:37:14.799Z"
   },
   {
    "duration": 33,
    "start_time": "2024-04-17T14:37:23.649Z"
   },
   {
    "duration": 1230,
    "start_time": "2024-04-17T15:00:55.495Z"
   },
   {
    "duration": 28,
    "start_time": "2024-04-17T15:00:56.727Z"
   },
   {
    "duration": 13,
    "start_time": "2024-04-17T15:00:56.757Z"
   },
   {
    "duration": 10,
    "start_time": "2024-04-17T15:00:56.772Z"
   },
   {
    "duration": 16,
    "start_time": "2024-04-17T15:00:56.784Z"
   },
   {
    "duration": 14,
    "start_time": "2024-04-17T15:00:56.802Z"
   },
   {
    "duration": 54,
    "start_time": "2024-04-17T15:00:56.818Z"
   },
   {
    "duration": 54,
    "start_time": "2024-04-17T15:00:56.874Z"
   },
   {
    "duration": 19,
    "start_time": "2024-04-17T15:00:56.929Z"
   },
   {
    "duration": 24,
    "start_time": "2024-04-17T15:00:56.950Z"
   },
   {
    "duration": 6,
    "start_time": "2024-04-17T15:00:56.976Z"
   },
   {
    "duration": 10,
    "start_time": "2024-04-17T15:00:56.983Z"
   },
   {
    "duration": 36,
    "start_time": "2024-04-17T15:00:56.994Z"
   },
   {
    "duration": 171,
    "start_time": "2024-04-17T15:00:57.032Z"
   },
   {
    "duration": 103,
    "start_time": "2024-04-17T15:00:57.204Z"
   },
   {
    "duration": 22,
    "start_time": "2024-04-17T15:05:08.936Z"
   },
   {
    "duration": 19,
    "start_time": "2024-04-17T15:05:18.702Z"
   },
   {
    "duration": 22,
    "start_time": "2024-04-17T15:05:29.143Z"
   },
   {
    "duration": 12,
    "start_time": "2024-04-17T15:06:35.919Z"
   },
   {
    "duration": 6,
    "start_time": "2024-04-17T15:07:36.967Z"
   },
   {
    "duration": 10,
    "start_time": "2024-04-17T15:08:00.703Z"
   },
   {
    "duration": 7,
    "start_time": "2024-04-17T15:17:11.563Z"
   },
   {
    "duration": 7,
    "start_time": "2024-04-17T15:20:37.897Z"
   },
   {
    "duration": 261,
    "start_time": "2024-04-17T15:22:18.580Z"
   },
   {
    "duration": 279,
    "start_time": "2024-04-17T15:23:36.207Z"
   },
   {
    "duration": 767,
    "start_time": "2024-04-17T15:24:33.099Z"
   },
   {
    "duration": 718,
    "start_time": "2024-04-17T15:24:55.418Z"
   },
   {
    "duration": 285,
    "start_time": "2024-04-17T15:25:14.203Z"
   },
   {
    "duration": 271,
    "start_time": "2024-04-17T15:27:09.274Z"
   },
   {
    "duration": 287,
    "start_time": "2024-04-17T15:27:30.112Z"
   },
   {
    "duration": 287,
    "start_time": "2024-04-17T15:27:37.997Z"
   },
   {
    "duration": 265,
    "start_time": "2024-04-17T15:28:00.444Z"
   },
   {
    "duration": 11,
    "start_time": "2024-04-17T15:29:53.271Z"
   },
   {
    "duration": 271,
    "start_time": "2024-04-17T15:31:56.770Z"
   },
   {
    "duration": 209,
    "start_time": "2024-04-17T15:34:34.789Z"
   },
   {
    "duration": 191,
    "start_time": "2024-04-17T15:35:09.434Z"
   },
   {
    "duration": 203,
    "start_time": "2024-04-17T15:37:04.859Z"
   },
   {
    "duration": 196,
    "start_time": "2024-04-17T15:37:43.047Z"
   },
   {
    "duration": 293,
    "start_time": "2024-04-17T15:37:50.979Z"
   },
   {
    "duration": 198,
    "start_time": "2024-04-17T15:38:01.328Z"
   },
   {
    "duration": 253,
    "start_time": "2024-04-17T15:38:19.215Z"
   },
   {
    "duration": 218,
    "start_time": "2024-04-17T15:38:30.297Z"
   },
   {
    "duration": 5,
    "start_time": "2024-04-17T15:49:17.097Z"
   },
   {
    "duration": 238,
    "start_time": "2024-04-17T15:49:23.555Z"
   },
   {
    "duration": 221,
    "start_time": "2024-04-17T15:49:48.897Z"
   },
   {
    "duration": 223,
    "start_time": "2024-04-17T15:50:10.979Z"
   },
   {
    "duration": 104,
    "start_time": "2024-04-17T15:50:41.744Z"
   },
   {
    "duration": 218,
    "start_time": "2024-04-17T15:50:55.227Z"
   },
   {
    "duration": 219,
    "start_time": "2024-04-17T15:51:03.655Z"
   },
   {
    "duration": 230,
    "start_time": "2024-04-17T15:52:34.680Z"
   },
   {
    "duration": 243,
    "start_time": "2024-04-17T15:52:39.561Z"
   },
   {
    "duration": 325,
    "start_time": "2024-04-17T15:52:44.821Z"
   },
   {
    "duration": 230,
    "start_time": "2024-04-17T15:52:53.105Z"
   },
   {
    "duration": 206,
    "start_time": "2024-04-17T15:53:28.524Z"
   },
   {
    "duration": 198,
    "start_time": "2024-04-17T15:53:39.344Z"
   },
   {
    "duration": 11,
    "start_time": "2024-04-17T16:03:07.210Z"
   },
   {
    "duration": 9,
    "start_time": "2024-04-17T16:03:15.580Z"
   },
   {
    "duration": 8,
    "start_time": "2024-04-17T16:04:02.842Z"
   },
   {
    "duration": 1188,
    "start_time": "2024-04-17T16:06:25.282Z"
   },
   {
    "duration": 27,
    "start_time": "2024-04-17T16:06:26.472Z"
   },
   {
    "duration": 11,
    "start_time": "2024-04-17T16:06:26.501Z"
   },
   {
    "duration": 10,
    "start_time": "2024-04-17T16:06:26.514Z"
   },
   {
    "duration": 11,
    "start_time": "2024-04-17T16:06:26.526Z"
   },
   {
    "duration": 10,
    "start_time": "2024-04-17T16:06:26.538Z"
   },
   {
    "duration": 72,
    "start_time": "2024-04-17T16:06:26.550Z"
   },
   {
    "duration": 52,
    "start_time": "2024-04-17T16:06:26.623Z"
   },
   {
    "duration": 18,
    "start_time": "2024-04-17T16:06:26.677Z"
   },
   {
    "duration": 17,
    "start_time": "2024-04-17T16:06:26.697Z"
   },
   {
    "duration": 5,
    "start_time": "2024-04-17T16:06:26.715Z"
   },
   {
    "duration": 9,
    "start_time": "2024-04-17T16:06:26.722Z"
   },
   {
    "duration": 17,
    "start_time": "2024-04-17T16:06:26.732Z"
   },
   {
    "duration": 8,
    "start_time": "2024-04-17T16:06:26.751Z"
   },
   {
    "duration": 341,
    "start_time": "2024-04-17T16:06:26.761Z"
   },
   {
    "duration": 17,
    "start_time": "2024-04-17T16:06:27.103Z"
   },
   {
    "duration": 300,
    "start_time": "2024-04-17T16:06:27.121Z"
   },
   {
    "duration": 103,
    "start_time": "2024-04-17T16:06:27.422Z"
   },
   {
    "duration": 16,
    "start_time": "2024-04-17T16:06:38.219Z"
   },
   {
    "duration": 8,
    "start_time": "2024-04-17T16:06:56.008Z"
   },
   {
    "duration": 45,
    "start_time": "2024-04-17T16:07:37.531Z"
   },
   {
    "duration": 13,
    "start_time": "2024-04-17T16:07:41.036Z"
   },
   {
    "duration": 12,
    "start_time": "2024-04-17T16:08:06.432Z"
   },
   {
    "duration": 51,
    "start_time": "2024-04-17T16:08:09.012Z"
   },
   {
    "duration": 15,
    "start_time": "2024-04-17T16:08:23.517Z"
   },
   {
    "duration": 230,
    "start_time": "2024-04-17T16:13:47.899Z"
   },
   {
    "duration": 200,
    "start_time": "2024-04-17T16:14:17.480Z"
   },
   {
    "duration": 300,
    "start_time": "2024-04-17T16:19:33.894Z"
   },
   {
    "duration": 44,
    "start_time": "2024-04-17T16:22:01.507Z"
   },
   {
    "duration": 279,
    "start_time": "2024-04-17T16:22:06.303Z"
   },
   {
    "duration": 310,
    "start_time": "2024-04-17T16:22:31.592Z"
   },
   {
    "duration": 284,
    "start_time": "2024-04-17T16:22:41.934Z"
   },
   {
    "duration": 362,
    "start_time": "2024-04-17T16:22:50.631Z"
   },
   {
    "duration": 308,
    "start_time": "2024-04-17T16:24:09.336Z"
   },
   {
    "duration": 276,
    "start_time": "2024-04-17T16:24:28.370Z"
   },
   {
    "duration": 226,
    "start_time": "2024-04-17T16:28:22.825Z"
   },
   {
    "duration": 213,
    "start_time": "2024-04-17T16:28:50.515Z"
   },
   {
    "duration": 212,
    "start_time": "2024-04-17T16:31:47.303Z"
   },
   {
    "duration": 221,
    "start_time": "2024-04-17T16:42:37.231Z"
   },
   {
    "duration": 217,
    "start_time": "2024-04-17T16:43:03.663Z"
   },
   {
    "duration": 212,
    "start_time": "2024-04-17T16:44:54.769Z"
   },
   {
    "duration": 224,
    "start_time": "2024-04-17T16:49:39.437Z"
   },
   {
    "duration": 302,
    "start_time": "2024-04-17T16:52:03.881Z"
   },
   {
    "duration": 2,
    "start_time": "2024-04-17T16:55:06.448Z"
   },
   {
    "duration": 50,
    "start_time": "2024-04-17T16:57:42.374Z"
   },
   {
    "duration": 284,
    "start_time": "2024-04-17T16:57:52.936Z"
   },
   {
    "duration": 281,
    "start_time": "2024-04-17T16:58:06.027Z"
   },
   {
    "duration": 160,
    "start_time": "2024-04-17T17:00:32.679Z"
   },
   {
    "duration": 161,
    "start_time": "2024-04-17T17:01:04.311Z"
   },
   {
    "duration": 18,
    "start_time": "2024-04-17T17:01:32.812Z"
   },
   {
    "duration": 271,
    "start_time": "2024-04-17T17:01:41.122Z"
   },
   {
    "duration": 359,
    "start_time": "2024-04-17T17:02:59.796Z"
   },
   {
    "duration": 361,
    "start_time": "2024-04-17T17:06:53.691Z"
   },
   {
    "duration": 1175,
    "start_time": "2024-04-17T17:12:02.793Z"
   },
   {
    "duration": 27,
    "start_time": "2024-04-17T17:12:03.970Z"
   },
   {
    "duration": 12,
    "start_time": "2024-04-17T17:12:03.999Z"
   },
   {
    "duration": 13,
    "start_time": "2024-04-17T17:12:04.012Z"
   },
   {
    "duration": 12,
    "start_time": "2024-04-17T17:12:04.027Z"
   },
   {
    "duration": 11,
    "start_time": "2024-04-17T17:12:04.041Z"
   },
   {
    "duration": 76,
    "start_time": "2024-04-17T17:12:04.053Z"
   },
   {
    "duration": 52,
    "start_time": "2024-04-17T17:12:04.130Z"
   },
   {
    "duration": 19,
    "start_time": "2024-04-17T17:12:04.184Z"
   },
   {
    "duration": 18,
    "start_time": "2024-04-17T17:12:04.205Z"
   },
   {
    "duration": 6,
    "start_time": "2024-04-17T17:12:04.225Z"
   },
   {
    "duration": 11,
    "start_time": "2024-04-17T17:12:04.232Z"
   },
   {
    "duration": 18,
    "start_time": "2024-04-17T17:12:04.245Z"
   },
   {
    "duration": 7,
    "start_time": "2024-04-17T17:12:04.265Z"
   },
   {
    "duration": 318,
    "start_time": "2024-04-17T17:12:04.274Z"
   },
   {
    "duration": 10,
    "start_time": "2024-04-17T17:12:04.594Z"
   },
   {
    "duration": 319,
    "start_time": "2024-04-17T17:12:04.605Z"
   },
   {
    "duration": 17,
    "start_time": "2024-04-17T17:12:04.926Z"
   },
   {
    "duration": 211,
    "start_time": "2024-04-17T17:12:04.945Z"
   },
   {
    "duration": 290,
    "start_time": "2024-04-17T17:12:05.157Z"
   },
   {
    "duration": 229,
    "start_time": "2024-04-17T17:12:05.448Z"
   },
   {
    "duration": 343,
    "start_time": "2024-04-17T17:12:05.678Z"
   },
   {
    "duration": 1064,
    "start_time": "2024-04-17T17:35:34.728Z"
   },
   {
    "duration": 12,
    "start_time": "2024-04-17T17:35:45.398Z"
   },
   {
    "duration": 1038,
    "start_time": "2024-04-17T17:37:53.991Z"
   },
   {
    "duration": 11,
    "start_time": "2024-04-17T17:38:58.000Z"
   },
   {
    "duration": 14,
    "start_time": "2024-04-17T17:42:39.017Z"
   },
   {
    "duration": 14,
    "start_time": "2024-04-17T17:43:09.328Z"
   },
   {
    "duration": 122,
    "start_time": "2024-04-17T17:43:27.627Z"
   },
   {
    "duration": 124,
    "start_time": "2024-04-17T17:44:25.768Z"
   },
   {
    "duration": 188,
    "start_time": "2024-04-17T17:44:42.106Z"
   },
   {
    "duration": 135,
    "start_time": "2024-04-17T17:49:00.608Z"
   },
   {
    "duration": 5,
    "start_time": "2024-04-17T17:54:38.696Z"
   },
   {
    "duration": 123,
    "start_time": "2024-04-17T18:03:11.561Z"
   },
   {
    "duration": 130,
    "start_time": "2024-04-17T18:03:48.509Z"
   },
   {
    "duration": 141,
    "start_time": "2024-04-17T18:04:25.891Z"
   },
   {
    "duration": 140,
    "start_time": "2024-04-17T18:05:13.663Z"
   },
   {
    "duration": 147,
    "start_time": "2024-04-17T18:08:37.089Z"
   },
   {
    "duration": 5,
    "start_time": "2024-04-17T18:10:48.277Z"
   },
   {
    "duration": 1166,
    "start_time": "2024-04-17T18:20:56.609Z"
   },
   {
    "duration": 27,
    "start_time": "2024-04-17T18:20:57.777Z"
   },
   {
    "duration": 11,
    "start_time": "2024-04-17T18:20:57.806Z"
   },
   {
    "duration": 10,
    "start_time": "2024-04-17T18:20:57.819Z"
   },
   {
    "duration": 11,
    "start_time": "2024-04-17T18:20:57.830Z"
   },
   {
    "duration": 10,
    "start_time": "2024-04-17T18:20:57.843Z"
   },
   {
    "duration": 74,
    "start_time": "2024-04-17T18:20:57.854Z"
   },
   {
    "duration": 51,
    "start_time": "2024-04-17T18:20:57.929Z"
   },
   {
    "duration": 18,
    "start_time": "2024-04-17T18:20:57.982Z"
   },
   {
    "duration": 18,
    "start_time": "2024-04-17T18:20:58.003Z"
   },
   {
    "duration": 6,
    "start_time": "2024-04-17T18:20:58.023Z"
   },
   {
    "duration": 9,
    "start_time": "2024-04-17T18:20:58.030Z"
   },
   {
    "duration": 19,
    "start_time": "2024-04-17T18:20:58.041Z"
   },
   {
    "duration": 7,
    "start_time": "2024-04-17T18:20:58.061Z"
   },
   {
    "duration": 341,
    "start_time": "2024-04-17T18:20:58.070Z"
   },
   {
    "duration": 10,
    "start_time": "2024-04-17T18:20:58.414Z"
   },
   {
    "duration": 311,
    "start_time": "2024-04-17T18:20:58.426Z"
   },
   {
    "duration": 16,
    "start_time": "2024-04-17T18:20:58.738Z"
   },
   {
    "duration": 240,
    "start_time": "2024-04-17T18:20:58.755Z"
   },
   {
    "duration": 312,
    "start_time": "2024-04-17T18:20:58.996Z"
   },
   {
    "duration": 224,
    "start_time": "2024-04-17T18:20:59.314Z"
   },
   {
    "duration": 317,
    "start_time": "2024-04-17T18:20:59.540Z"
   },
   {
    "duration": 143,
    "start_time": "2024-04-17T18:20:59.859Z"
   },
   {
    "duration": 11,
    "start_time": "2024-04-17T18:21:00.004Z"
   },
   {
    "duration": 164,
    "start_time": "2024-04-17T18:21:00.017Z"
   },
   {
    "duration": 233,
    "start_time": "2024-04-17T18:21:00.183Z"
   },
   {
    "duration": 5,
    "start_time": "2024-04-17T18:21:00.418Z"
   },
   {
    "duration": 158,
    "start_time": "2024-04-17T18:24:39.430Z"
   },
   {
    "duration": 1207,
    "start_time": "2024-04-18T07:55:17.326Z"
   },
   {
    "duration": 80,
    "start_time": "2024-04-18T07:55:18.535Z"
   },
   {
    "duration": 11,
    "start_time": "2024-04-18T07:55:18.616Z"
   },
   {
    "duration": 10,
    "start_time": "2024-04-18T07:55:18.628Z"
   },
   {
    "duration": 11,
    "start_time": "2024-04-18T07:55:18.639Z"
   },
   {
    "duration": 9,
    "start_time": "2024-04-18T07:55:18.651Z"
   },
   {
    "duration": 57,
    "start_time": "2024-04-18T07:55:18.661Z"
   },
   {
    "duration": 139,
    "start_time": "2024-04-18T07:55:18.719Z"
   },
   {
    "duration": 16,
    "start_time": "2024-04-18T07:55:18.860Z"
   },
   {
    "duration": 21,
    "start_time": "2024-04-18T07:55:18.878Z"
   },
   {
    "duration": 5,
    "start_time": "2024-04-18T07:55:18.900Z"
   },
   {
    "duration": 8,
    "start_time": "2024-04-18T07:55:18.906Z"
   },
   {
    "duration": 19,
    "start_time": "2024-04-18T07:55:18.915Z"
   },
   {
    "duration": 6,
    "start_time": "2024-04-18T07:55:18.935Z"
   },
   {
    "duration": 272,
    "start_time": "2024-04-18T07:55:18.942Z"
   },
   {
    "duration": 9,
    "start_time": "2024-04-18T07:55:19.215Z"
   },
   {
    "duration": 278,
    "start_time": "2024-04-18T07:55:19.226Z"
   },
   {
    "duration": 14,
    "start_time": "2024-04-18T07:55:19.505Z"
   },
   {
    "duration": 190,
    "start_time": "2024-04-18T07:55:19.520Z"
   },
   {
    "duration": 313,
    "start_time": "2024-04-18T07:55:19.712Z"
   },
   {
    "duration": 197,
    "start_time": "2024-04-18T07:55:20.026Z"
   },
   {
    "duration": 278,
    "start_time": "2024-04-18T07:55:20.224Z"
   },
   {
    "duration": 127,
    "start_time": "2024-04-18T07:55:20.504Z"
   },
   {
    "duration": 4,
    "start_time": "2024-04-18T07:55:20.632Z"
   },
   {
    "duration": 140,
    "start_time": "2024-04-18T07:55:20.637Z"
   },
   {
    "duration": 186,
    "start_time": "2024-04-18T07:55:20.778Z"
   },
   {
    "duration": 4,
    "start_time": "2024-04-18T07:55:20.965Z"
   },
   {
    "duration": 11,
    "start_time": "2024-04-18T08:12:59.809Z"
   },
   {
    "duration": 7,
    "start_time": "2024-04-18T08:14:36.311Z"
   },
   {
    "duration": 4,
    "start_time": "2024-04-18T08:15:14.326Z"
   },
   {
    "duration": 4,
    "start_time": "2024-04-18T08:15:29.189Z"
   },
   {
    "duration": 145,
    "start_time": "2024-04-18T08:16:45.067Z"
   },
   {
    "duration": 11,
    "start_time": "2024-04-18T08:18:03.579Z"
   },
   {
    "duration": 94,
    "start_time": "2024-04-18T08:21:53.832Z"
   },
   {
    "duration": 8,
    "start_time": "2024-04-18T08:22:36.542Z"
   },
   {
    "duration": 12,
    "start_time": "2024-04-18T08:24:13.324Z"
   },
   {
    "duration": 12,
    "start_time": "2024-04-18T08:24:42.194Z"
   },
   {
    "duration": 119,
    "start_time": "2024-04-18T08:25:36.615Z"
   },
   {
    "duration": 8,
    "start_time": "2024-04-18T08:28:08.151Z"
   },
   {
    "duration": 109,
    "start_time": "2024-04-18T08:28:28.963Z"
   },
   {
    "duration": 9,
    "start_time": "2024-04-18T08:30:36.802Z"
   },
   {
    "duration": 8,
    "start_time": "2024-04-18T08:31:01.306Z"
   },
   {
    "duration": 6,
    "start_time": "2024-04-18T08:38:05.862Z"
   },
   {
    "duration": 9,
    "start_time": "2024-04-18T08:38:33.591Z"
   },
   {
    "duration": 75,
    "start_time": "2024-04-18T08:57:50.033Z"
   },
   {
    "duration": 14,
    "start_time": "2024-04-18T08:59:02.659Z"
   },
   {
    "duration": 10,
    "start_time": "2024-04-18T08:59:10.873Z"
   },
   {
    "duration": 9,
    "start_time": "2024-04-18T09:03:14.893Z"
   },
   {
    "duration": 8,
    "start_time": "2024-04-18T09:04:08.620Z"
   },
   {
    "duration": 9,
    "start_time": "2024-04-18T09:04:22.633Z"
   },
   {
    "duration": 79,
    "start_time": "2024-04-18T09:06:59.436Z"
   },
   {
    "duration": 172,
    "start_time": "2024-04-18T09:08:01.607Z"
   },
   {
    "duration": 174,
    "start_time": "2024-04-18T09:08:16.052Z"
   },
   {
    "duration": 7,
    "start_time": "2024-04-18T09:11:46.692Z"
   },
   {
    "duration": 5,
    "start_time": "2024-04-18T09:12:28.881Z"
   },
   {
    "duration": 8,
    "start_time": "2024-04-18T09:13:10.932Z"
   },
   {
    "duration": 12,
    "start_time": "2024-04-18T09:13:27.756Z"
   },
   {
    "duration": 10,
    "start_time": "2024-04-18T09:13:32.719Z"
   },
   {
    "duration": 12,
    "start_time": "2024-04-18T09:13:56.531Z"
   },
   {
    "duration": 10,
    "start_time": "2024-04-18T09:14:08.074Z"
   },
   {
    "duration": 8,
    "start_time": "2024-04-18T09:14:19.422Z"
   },
   {
    "duration": 8,
    "start_time": "2024-04-18T09:14:26.298Z"
   },
   {
    "duration": 9,
    "start_time": "2024-04-18T09:14:32.898Z"
   },
   {
    "duration": 8,
    "start_time": "2024-04-18T09:14:46.350Z"
   },
   {
    "duration": 9,
    "start_time": "2024-04-18T09:14:51.075Z"
   },
   {
    "duration": 9,
    "start_time": "2024-04-18T09:14:57.284Z"
   },
   {
    "duration": 10,
    "start_time": "2024-04-18T09:15:09.176Z"
   },
   {
    "duration": 10,
    "start_time": "2024-04-18T09:15:17.532Z"
   },
   {
    "duration": 9,
    "start_time": "2024-04-18T09:15:20.446Z"
   },
   {
    "duration": 9,
    "start_time": "2024-04-18T09:15:23.281Z"
   },
   {
    "duration": 9,
    "start_time": "2024-04-18T09:15:26.800Z"
   },
   {
    "duration": 9,
    "start_time": "2024-04-18T09:15:29.492Z"
   },
   {
    "duration": 9,
    "start_time": "2024-04-18T09:15:31.872Z"
   },
   {
    "duration": 10,
    "start_time": "2024-04-18T09:15:34.419Z"
   },
   {
    "duration": 9,
    "start_time": "2024-04-18T09:15:41.389Z"
   },
   {
    "duration": 9,
    "start_time": "2024-04-18T09:15:51.275Z"
   },
   {
    "duration": 9,
    "start_time": "2024-04-18T09:16:07.984Z"
   },
   {
    "duration": 8,
    "start_time": "2024-04-18T09:16:16.619Z"
   },
   {
    "duration": 3,
    "start_time": "2024-04-18T09:18:26.170Z"
   },
   {
    "duration": 7,
    "start_time": "2024-04-18T09:18:31.507Z"
   },
   {
    "duration": 25,
    "start_time": "2024-04-18T09:18:38.696Z"
   },
   {
    "duration": 20,
    "start_time": "2024-04-18T09:18:49.954Z"
   },
   {
    "duration": 21,
    "start_time": "2024-04-18T09:47:30.982Z"
   },
   {
    "duration": 25,
    "start_time": "2024-04-18T09:47:49.769Z"
   },
   {
    "duration": 20,
    "start_time": "2024-04-18T09:50:29.923Z"
   },
   {
    "duration": 20,
    "start_time": "2024-04-18T09:52:04.989Z"
   },
   {
    "duration": 20,
    "start_time": "2024-04-18T09:52:26.408Z"
   },
   {
    "duration": 20,
    "start_time": "2024-04-18T09:52:51.974Z"
   },
   {
    "duration": 1204,
    "start_time": "2024-04-18T12:40:40.229Z"
   },
   {
    "duration": 87,
    "start_time": "2024-04-18T12:40:41.435Z"
   },
   {
    "duration": 11,
    "start_time": "2024-04-18T12:40:41.524Z"
   },
   {
    "duration": 12,
    "start_time": "2024-04-18T12:40:41.536Z"
   },
   {
    "duration": 11,
    "start_time": "2024-04-18T12:40:41.550Z"
   },
   {
    "duration": 9,
    "start_time": "2024-04-18T12:40:41.562Z"
   },
   {
    "duration": 54,
    "start_time": "2024-04-18T12:40:41.572Z"
   },
   {
    "duration": 132,
    "start_time": "2024-04-18T12:40:41.628Z"
   },
   {
    "duration": 17,
    "start_time": "2024-04-18T12:40:41.761Z"
   },
   {
    "duration": 18,
    "start_time": "2024-04-18T12:40:41.780Z"
   },
   {
    "duration": 11,
    "start_time": "2024-04-18T12:40:41.799Z"
   },
   {
    "duration": 15,
    "start_time": "2024-04-18T12:40:41.811Z"
   },
   {
    "duration": 15,
    "start_time": "2024-04-18T12:40:41.827Z"
   },
   {
    "duration": 9,
    "start_time": "2024-04-18T12:40:41.844Z"
   },
   {
    "duration": 273,
    "start_time": "2024-04-18T12:40:41.854Z"
   },
   {
    "duration": 11,
    "start_time": "2024-04-18T12:40:42.129Z"
   },
   {
    "duration": 289,
    "start_time": "2024-04-18T12:40:42.141Z"
   },
   {
    "duration": 13,
    "start_time": "2024-04-18T12:40:42.431Z"
   },
   {
    "duration": 190,
    "start_time": "2024-04-18T12:40:42.445Z"
   },
   {
    "duration": 339,
    "start_time": "2024-04-18T12:40:42.637Z"
   },
   {
    "duration": 212,
    "start_time": "2024-04-18T12:40:42.977Z"
   },
   {
    "duration": 302,
    "start_time": "2024-04-18T12:40:43.190Z"
   },
   {
    "duration": 123,
    "start_time": "2024-04-18T12:40:43.494Z"
   },
   {
    "duration": 4,
    "start_time": "2024-04-18T12:40:43.619Z"
   },
   {
    "duration": 149,
    "start_time": "2024-04-18T12:40:43.625Z"
   },
   {
    "duration": 186,
    "start_time": "2024-04-18T12:40:43.784Z"
   },
   {
    "duration": 5,
    "start_time": "2024-04-18T12:40:43.971Z"
   },
   {
    "duration": 183,
    "start_time": "2024-04-18T12:40:43.986Z"
   },
   {
    "duration": 154,
    "start_time": "2024-04-18T12:40:44.171Z"
   },
   {
    "duration": 13,
    "start_time": "2024-04-18T12:40:44.327Z"
   },
   {
    "duration": 46,
    "start_time": "2024-04-18T12:40:44.342Z"
   },
   {
    "duration": 119,
    "start_time": "2024-04-18T12:41:43.483Z"
   },
   {
    "duration": 126,
    "start_time": "2024-04-18T12:42:02.496Z"
   },
   {
    "duration": 125,
    "start_time": "2024-04-18T12:42:08.386Z"
   },
   {
    "duration": 103,
    "start_time": "2024-04-18T12:43:41.999Z"
   },
   {
    "duration": 10,
    "start_time": "2024-04-18T12:43:48.065Z"
   },
   {
    "duration": 5,
    "start_time": "2024-04-18T12:43:58.585Z"
   },
   {
    "duration": 9,
    "start_time": "2024-04-18T12:44:06.698Z"
   },
   {
    "duration": 10,
    "start_time": "2024-04-18T12:44:36.291Z"
   },
   {
    "duration": 5,
    "start_time": "2024-04-18T12:44:50.601Z"
   },
   {
    "duration": 9,
    "start_time": "2024-04-18T12:45:11.685Z"
   },
   {
    "duration": 8,
    "start_time": "2024-04-18T12:45:27.981Z"
   },
   {
    "duration": 4,
    "start_time": "2024-04-18T12:45:35.642Z"
   },
   {
    "duration": 132,
    "start_time": "2024-04-18T12:46:54.402Z"
   },
   {
    "duration": 135,
    "start_time": "2024-04-18T12:47:03.843Z"
   },
   {
    "duration": 132,
    "start_time": "2024-04-18T12:47:34.385Z"
   },
   {
    "duration": 140,
    "start_time": "2024-04-18T12:47:42.348Z"
   },
   {
    "duration": 6,
    "start_time": "2024-04-18T12:48:43.173Z"
   },
   {
    "duration": 8,
    "start_time": "2024-04-18T12:49:15.851Z"
   },
   {
    "duration": 78,
    "start_time": "2024-04-18T12:50:32.613Z"
   },
   {
    "duration": 9,
    "start_time": "2024-04-18T12:50:36.293Z"
   },
   {
    "duration": 6,
    "start_time": "2024-04-18T12:51:22.668Z"
   },
   {
    "duration": 8,
    "start_time": "2024-04-18T12:51:41.776Z"
   },
   {
    "duration": 11,
    "start_time": "2024-04-18T12:53:18.155Z"
   },
   {
    "duration": 8,
    "start_time": "2024-04-18T12:54:47.188Z"
   },
   {
    "duration": 7,
    "start_time": "2024-04-18T12:55:08.525Z"
   },
   {
    "duration": 7,
    "start_time": "2024-04-18T12:55:20.915Z"
   },
   {
    "duration": 73,
    "start_time": "2024-04-18T12:58:06.946Z"
   },
   {
    "duration": 80,
    "start_time": "2024-04-18T12:58:12.415Z"
   },
   {
    "duration": 7,
    "start_time": "2024-04-18T12:59:20.946Z"
   },
   {
    "duration": 7,
    "start_time": "2024-04-18T12:59:38.593Z"
   },
   {
    "duration": 13,
    "start_time": "2024-04-18T13:12:27.014Z"
   },
   {
    "duration": 9,
    "start_time": "2024-04-18T13:17:38.490Z"
   },
   {
    "duration": 9,
    "start_time": "2024-04-18T13:18:05.425Z"
   },
   {
    "duration": 10,
    "start_time": "2024-04-18T13:18:36.310Z"
   },
   {
    "duration": 117,
    "start_time": "2024-04-18T13:19:04.227Z"
   },
   {
    "duration": 10,
    "start_time": "2024-04-18T13:19:28.579Z"
   },
   {
    "duration": 73,
    "start_time": "2024-04-18T13:20:21.649Z"
   },
   {
    "duration": 101,
    "start_time": "2024-04-18T13:21:14.845Z"
   },
   {
    "duration": 76,
    "start_time": "2024-04-18T13:21:48.967Z"
   },
   {
    "duration": 207,
    "start_time": "2024-04-18T13:21:57.629Z"
   },
   {
    "duration": 1055,
    "start_time": "2024-04-18T13:30:06.384Z"
   },
   {
    "duration": 25,
    "start_time": "2024-04-18T13:30:07.441Z"
   },
   {
    "duration": 10,
    "start_time": "2024-04-18T13:30:07.467Z"
   },
   {
    "duration": 8,
    "start_time": "2024-04-18T13:30:07.479Z"
   },
   {
    "duration": 10,
    "start_time": "2024-04-18T13:30:07.488Z"
   },
   {
    "duration": 9,
    "start_time": "2024-04-18T13:30:07.499Z"
   },
   {
    "duration": 45,
    "start_time": "2024-04-18T13:30:07.509Z"
   },
   {
    "duration": 47,
    "start_time": "2024-04-18T13:30:07.555Z"
   },
   {
    "duration": 15,
    "start_time": "2024-04-18T13:30:07.603Z"
   },
   {
    "duration": 16,
    "start_time": "2024-04-18T13:30:07.620Z"
   },
   {
    "duration": 5,
    "start_time": "2024-04-18T13:30:07.637Z"
   },
   {
    "duration": 11,
    "start_time": "2024-04-18T13:30:07.643Z"
   },
   {
    "duration": 15,
    "start_time": "2024-04-18T13:30:07.655Z"
   },
   {
    "duration": 16,
    "start_time": "2024-04-18T13:30:07.671Z"
   },
   {
    "duration": 233,
    "start_time": "2024-04-18T13:30:07.689Z"
   },
   {
    "duration": 8,
    "start_time": "2024-04-18T13:30:07.924Z"
   },
   {
    "duration": 252,
    "start_time": "2024-04-18T13:30:07.934Z"
   },
   {
    "duration": 12,
    "start_time": "2024-04-18T13:30:08.187Z"
   },
   {
    "duration": 173,
    "start_time": "2024-04-18T13:30:08.200Z"
   },
   {
    "duration": 286,
    "start_time": "2024-04-18T13:30:08.374Z"
   },
   {
    "duration": 191,
    "start_time": "2024-04-18T13:30:08.661Z"
   },
   {
    "duration": 311,
    "start_time": "2024-04-18T13:30:08.853Z"
   },
   {
    "duration": 120,
    "start_time": "2024-04-18T13:30:09.166Z"
   },
   {
    "duration": 4,
    "start_time": "2024-04-18T13:30:09.287Z"
   },
   {
    "duration": 166,
    "start_time": "2024-04-18T13:30:09.292Z"
   },
   {
    "duration": 184,
    "start_time": "2024-04-18T13:30:09.460Z"
   },
   {
    "duration": 4,
    "start_time": "2024-04-18T13:30:09.645Z"
   },
   {
    "duration": 182,
    "start_time": "2024-04-18T13:30:09.652Z"
   },
   {
    "duration": 114,
    "start_time": "2024-04-18T13:30:09.836Z"
   },
   {
    "duration": 8,
    "start_time": "2024-04-18T13:30:09.952Z"
   },
   {
    "duration": 32,
    "start_time": "2024-04-18T13:30:09.961Z"
   },
   {
    "duration": 7,
    "start_time": "2024-04-18T13:30:09.994Z"
   },
   {
    "duration": 23,
    "start_time": "2024-04-18T13:30:10.002Z"
   },
   {
    "duration": 1194,
    "start_time": "2024-04-18T13:31:34.591Z"
   },
   {
    "duration": 157,
    "start_time": "2024-04-18T13:32:32.929Z"
   },
   {
    "duration": 165,
    "start_time": "2024-04-18T13:33:00.281Z"
   },
   {
    "duration": 162,
    "start_time": "2024-04-18T13:33:16.414Z"
   },
   {
    "duration": 226,
    "start_time": "2024-04-18T13:33:48.731Z"
   },
   {
    "duration": 202,
    "start_time": "2024-04-18T13:33:55.948Z"
   },
   {
    "duration": 205,
    "start_time": "2024-04-18T13:35:56.071Z"
   },
   {
    "duration": 257,
    "start_time": "2024-04-18T13:36:29.106Z"
   },
   {
    "duration": 11,
    "start_time": "2024-04-18T13:38:04.791Z"
   },
   {
    "duration": 502,
    "start_time": "2024-04-18T13:38:08.172Z"
   },
   {
    "duration": 208,
    "start_time": "2024-04-18T13:39:01.465Z"
   },
   {
    "duration": 194,
    "start_time": "2024-04-18T13:39:17.904Z"
   },
   {
    "duration": 213,
    "start_time": "2024-04-18T13:46:23.613Z"
   },
   {
    "duration": 209,
    "start_time": "2024-04-18T13:46:34.002Z"
   },
   {
    "duration": 199,
    "start_time": "2024-04-18T13:46:42.334Z"
   },
   {
    "duration": 8,
    "start_time": "2024-04-18T13:48:36.665Z"
   },
   {
    "duration": 145,
    "start_time": "2024-04-18T13:49:24.646Z"
   },
   {
    "duration": 133,
    "start_time": "2024-04-18T13:49:35.093Z"
   },
   {
    "duration": 217,
    "start_time": "2024-04-18T13:49:43.978Z"
   },
   {
    "duration": 217,
    "start_time": "2024-04-18T13:50:44.438Z"
   },
   {
    "duration": 226,
    "start_time": "2024-04-18T13:51:58.474Z"
   },
   {
    "duration": 1185,
    "start_time": "2024-04-18T13:58:15.303Z"
   },
   {
    "duration": 10,
    "start_time": "2024-04-18T13:58:38.161Z"
   },
   {
    "duration": 8,
    "start_time": "2024-04-18T13:59:20.046Z"
   },
   {
    "duration": 7,
    "start_time": "2024-04-18T14:01:33.667Z"
   },
   {
    "duration": 10,
    "start_time": "2024-04-18T14:02:14.635Z"
   },
   {
    "duration": 12,
    "start_time": "2024-04-18T14:03:29.708Z"
   },
   {
    "duration": 11,
    "start_time": "2024-04-18T14:03:51.895Z"
   },
   {
    "duration": 72,
    "start_time": "2024-04-18T14:06:34.971Z"
   },
   {
    "duration": 25,
    "start_time": "2024-04-18T14:09:04.858Z"
   },
   {
    "duration": 22,
    "start_time": "2024-04-18T14:09:18.609Z"
   },
   {
    "duration": 2,
    "start_time": "2024-04-18T14:14:19.437Z"
   },
   {
    "duration": 10,
    "start_time": "2024-04-18T14:16:08.231Z"
   },
   {
    "duration": 1228,
    "start_time": "2024-04-18T14:16:26.984Z"
   },
   {
    "duration": 15,
    "start_time": "2024-04-18T14:19:14.796Z"
   },
   {
    "duration": 14,
    "start_time": "2024-04-18T14:26:32.586Z"
   },
   {
    "duration": 16,
    "start_time": "2024-04-18T14:26:39.880Z"
   },
   {
    "duration": 983,
    "start_time": "2024-04-18T15:17:06.631Z"
   },
   {
    "duration": 24,
    "start_time": "2024-04-18T15:17:07.616Z"
   },
   {
    "duration": 10,
    "start_time": "2024-04-18T15:17:07.641Z"
   },
   {
    "duration": 8,
    "start_time": "2024-04-18T15:17:07.652Z"
   },
   {
    "duration": 8,
    "start_time": "2024-04-18T15:17:07.662Z"
   },
   {
    "duration": 8,
    "start_time": "2024-04-18T15:17:07.671Z"
   },
   {
    "duration": 45,
    "start_time": "2024-04-18T15:17:07.680Z"
   },
   {
    "duration": 46,
    "start_time": "2024-04-18T15:17:07.726Z"
   },
   {
    "duration": 16,
    "start_time": "2024-04-18T15:17:07.773Z"
   },
   {
    "duration": 20,
    "start_time": "2024-04-18T15:17:07.792Z"
   },
   {
    "duration": 5,
    "start_time": "2024-04-18T15:17:07.813Z"
   },
   {
    "duration": 8,
    "start_time": "2024-04-18T15:17:07.819Z"
   },
   {
    "duration": 14,
    "start_time": "2024-04-18T15:17:07.828Z"
   },
   {
    "duration": 6,
    "start_time": "2024-04-18T15:17:07.843Z"
   },
   {
    "duration": 259,
    "start_time": "2024-04-18T15:17:07.850Z"
   },
   {
    "duration": 8,
    "start_time": "2024-04-18T15:17:08.110Z"
   },
   {
    "duration": 259,
    "start_time": "2024-04-18T15:17:08.119Z"
   },
   {
    "duration": 14,
    "start_time": "2024-04-18T15:17:08.380Z"
   },
   {
    "duration": 180,
    "start_time": "2024-04-18T15:17:08.396Z"
   },
   {
    "duration": 286,
    "start_time": "2024-04-18T15:17:08.583Z"
   },
   {
    "duration": 198,
    "start_time": "2024-04-18T15:17:08.871Z"
   },
   {
    "duration": 303,
    "start_time": "2024-04-18T15:17:09.071Z"
   },
   {
    "duration": 116,
    "start_time": "2024-04-18T15:17:09.376Z"
   },
   {
    "duration": 4,
    "start_time": "2024-04-18T15:17:09.494Z"
   },
   {
    "duration": 151,
    "start_time": "2024-04-18T15:17:09.499Z"
   },
   {
    "duration": 182,
    "start_time": "2024-04-18T15:17:09.652Z"
   },
   {
    "duration": 4,
    "start_time": "2024-04-18T15:17:09.835Z"
   },
   {
    "duration": 189,
    "start_time": "2024-04-18T15:17:09.842Z"
   },
   {
    "duration": 120,
    "start_time": "2024-04-18T15:17:10.032Z"
   },
   {
    "duration": 8,
    "start_time": "2024-04-18T15:17:10.154Z"
   },
   {
    "duration": 32,
    "start_time": "2024-04-18T15:17:10.164Z"
   },
   {
    "duration": 7,
    "start_time": "2024-04-18T15:17:10.197Z"
   },
   {
    "duration": 10,
    "start_time": "2024-04-18T15:17:10.205Z"
   },
   {
    "duration": 7,
    "start_time": "2024-04-18T15:17:10.216Z"
   },
   {
    "duration": 9,
    "start_time": "2024-04-18T15:17:10.224Z"
   },
   {
    "duration": 51,
    "start_time": "2024-04-18T15:17:10.234Z"
   },
   {
    "duration": 14,
    "start_time": "2024-04-18T15:17:10.287Z"
   },
   {
    "duration": 995,
    "start_time": "2024-04-18T15:24:27.307Z"
   },
   {
    "duration": 25,
    "start_time": "2024-04-18T15:24:28.304Z"
   },
   {
    "duration": 9,
    "start_time": "2024-04-18T15:24:28.330Z"
   },
   {
    "duration": 14,
    "start_time": "2024-04-18T15:24:28.341Z"
   },
   {
    "duration": 10,
    "start_time": "2024-04-18T15:24:28.356Z"
   },
   {
    "duration": 20,
    "start_time": "2024-04-18T15:24:28.367Z"
   },
   {
    "duration": 55,
    "start_time": "2024-04-18T15:24:28.388Z"
   },
   {
    "duration": 47,
    "start_time": "2024-04-18T15:24:28.444Z"
   },
   {
    "duration": 15,
    "start_time": "2024-04-18T15:24:28.492Z"
   },
   {
    "duration": 15,
    "start_time": "2024-04-18T15:24:28.510Z"
   },
   {
    "duration": 22,
    "start_time": "2024-04-18T15:24:28.527Z"
   },
   {
    "duration": 10,
    "start_time": "2024-04-18T15:24:28.550Z"
   },
   {
    "duration": 22,
    "start_time": "2024-04-18T15:24:28.561Z"
   },
   {
    "duration": 11,
    "start_time": "2024-04-18T15:24:28.585Z"
   },
   {
    "duration": 237,
    "start_time": "2024-04-18T15:24:28.597Z"
   },
   {
    "duration": 8,
    "start_time": "2024-04-18T15:24:28.835Z"
   },
   {
    "duration": 250,
    "start_time": "2024-04-18T15:24:28.844Z"
   },
   {
    "duration": 14,
    "start_time": "2024-04-18T15:24:29.095Z"
   },
   {
    "duration": 179,
    "start_time": "2024-04-18T15:24:29.110Z"
   },
   {
    "duration": 288,
    "start_time": "2024-04-18T15:24:29.291Z"
   },
   {
    "duration": 192,
    "start_time": "2024-04-18T15:24:29.586Z"
   },
   {
    "duration": 307,
    "start_time": "2024-04-18T15:24:29.779Z"
   },
   {
    "duration": 116,
    "start_time": "2024-04-18T15:24:30.087Z"
   },
   {
    "duration": 4,
    "start_time": "2024-04-18T15:24:30.204Z"
   },
   {
    "duration": 205,
    "start_time": "2024-04-18T15:24:30.209Z"
   },
   {
    "duration": 278,
    "start_time": "2024-04-18T15:24:30.415Z"
   },
   {
    "duration": 4,
    "start_time": "2024-04-18T15:24:30.694Z"
   },
   {
    "duration": 231,
    "start_time": "2024-04-18T15:24:30.701Z"
   },
   {
    "duration": 124,
    "start_time": "2024-04-18T15:24:30.933Z"
   },
   {
    "duration": 10,
    "start_time": "2024-04-18T15:24:31.059Z"
   },
   {
    "duration": 77,
    "start_time": "2024-04-18T15:24:31.070Z"
   },
   {
    "duration": 67,
    "start_time": "2024-04-18T15:24:31.148Z"
   },
   {
    "duration": 85,
    "start_time": "2024-04-18T15:24:31.216Z"
   },
   {
    "duration": 24,
    "start_time": "2024-04-18T15:24:31.303Z"
   },
   {
    "duration": 62,
    "start_time": "2024-04-18T15:24:31.329Z"
   },
   {
    "duration": 124,
    "start_time": "2024-04-18T15:24:31.392Z"
   },
   {
    "duration": 136,
    "start_time": "2024-04-18T15:24:31.518Z"
   },
   {
    "duration": 1216,
    "start_time": "2024-04-18T15:38:29.309Z"
   },
   {
    "duration": 78,
    "start_time": "2024-04-18T15:38:30.527Z"
   },
   {
    "duration": 55,
    "start_time": "2024-04-18T15:38:30.607Z"
   },
   {
    "duration": 217,
    "start_time": "2024-04-18T15:38:30.664Z"
   },
   {
    "duration": 122,
    "start_time": "2024-04-18T15:38:30.883Z"
   },
   {
    "duration": 134,
    "start_time": "2024-04-18T15:38:31.007Z"
   },
   {
    "duration": 275,
    "start_time": "2024-04-18T15:38:31.143Z"
   },
   {
    "duration": 364,
    "start_time": "2024-04-18T15:38:31.419Z"
   },
   {
    "duration": 21,
    "start_time": "2024-04-18T15:38:31.784Z"
   },
   {
    "duration": 266,
    "start_time": "2024-04-18T15:38:31.807Z"
   },
   {
    "duration": 7,
    "start_time": "2024-04-18T15:38:32.075Z"
   },
   {
    "duration": 42,
    "start_time": "2024-04-18T15:38:32.084Z"
   },
   {
    "duration": 35,
    "start_time": "2024-04-18T15:38:32.128Z"
   },
   {
    "duration": 9,
    "start_time": "2024-04-18T15:38:32.164Z"
   },
   {
    "duration": 372,
    "start_time": "2024-04-18T15:38:32.175Z"
   },
   {
    "duration": 14,
    "start_time": "2024-04-18T15:38:32.549Z"
   },
   {
    "duration": 1060,
    "start_time": "2024-04-18T15:38:32.565Z"
   },
   {
    "duration": 69,
    "start_time": "2024-04-18T15:38:33.627Z"
   },
   {
    "duration": 502,
    "start_time": "2024-04-18T15:38:33.697Z"
   },
   {
    "duration": 445,
    "start_time": "2024-04-18T15:38:34.200Z"
   },
   {
    "duration": 242,
    "start_time": "2024-04-18T15:38:34.692Z"
   },
   {
    "duration": 310,
    "start_time": "2024-04-18T15:38:34.936Z"
   },
   {
    "duration": 156,
    "start_time": "2024-04-18T15:38:35.248Z"
   },
   {
    "duration": 5,
    "start_time": "2024-04-18T15:38:35.407Z"
   },
   {
    "duration": 170,
    "start_time": "2024-04-18T15:38:35.413Z"
   },
   {
    "duration": 234,
    "start_time": "2024-04-18T15:38:35.585Z"
   },
   {
    "duration": 5,
    "start_time": "2024-04-18T15:38:35.821Z"
   },
   {
    "duration": 258,
    "start_time": "2024-04-18T15:38:35.829Z"
   },
   {
    "duration": 147,
    "start_time": "2024-04-18T15:38:36.092Z"
   },
   {
    "duration": 12,
    "start_time": "2024-04-18T15:38:36.240Z"
   },
   {
    "duration": 50,
    "start_time": "2024-04-18T15:38:36.253Z"
   },
   {
    "duration": 10,
    "start_time": "2024-04-18T15:38:36.305Z"
   },
   {
    "duration": 19,
    "start_time": "2024-04-18T15:38:36.316Z"
   },
   {
    "duration": 10,
    "start_time": "2024-04-18T15:38:36.336Z"
   },
   {
    "duration": 46,
    "start_time": "2024-04-18T15:38:36.347Z"
   },
   {
    "duration": 30,
    "start_time": "2024-04-18T15:38:36.394Z"
   },
   {
    "duration": 18,
    "start_time": "2024-04-18T15:38:36.426Z"
   },
   {
    "duration": 44,
    "start_time": "2024-04-18T17:18:52.680Z"
   },
   {
    "duration": 1236,
    "start_time": "2024-04-18T17:19:04.549Z"
   },
   {
    "duration": 85,
    "start_time": "2024-04-18T17:19:05.787Z"
   },
   {
    "duration": 11,
    "start_time": "2024-04-18T17:19:05.874Z"
   },
   {
    "duration": 21,
    "start_time": "2024-04-18T17:19:05.887Z"
   },
   {
    "duration": 13,
    "start_time": "2024-04-18T17:19:05.909Z"
   },
   {
    "duration": 14,
    "start_time": "2024-04-18T17:19:05.924Z"
   },
   {
    "duration": 76,
    "start_time": "2024-04-18T17:19:05.940Z"
   },
   {
    "duration": 140,
    "start_time": "2024-04-18T17:19:06.018Z"
   },
   {
    "duration": 11,
    "start_time": "2024-04-18T17:19:06.160Z"
   },
   {
    "duration": 16,
    "start_time": "2024-04-18T17:19:06.173Z"
   },
   {
    "duration": 5,
    "start_time": "2024-04-18T17:19:06.191Z"
   },
   {
    "duration": 14,
    "start_time": "2024-04-18T17:19:06.197Z"
   },
   {
    "duration": 20,
    "start_time": "2024-04-18T17:19:06.212Z"
   },
   {
    "duration": 6,
    "start_time": "2024-04-18T17:19:06.233Z"
   },
   {
    "duration": 274,
    "start_time": "2024-04-18T17:19:06.241Z"
   },
   {
    "duration": 9,
    "start_time": "2024-04-18T17:19:06.516Z"
   },
   {
    "duration": 274,
    "start_time": "2024-04-18T17:19:06.527Z"
   },
   {
    "duration": 15,
    "start_time": "2024-04-18T17:19:06.803Z"
   },
   {
    "duration": 204,
    "start_time": "2024-04-18T17:19:06.819Z"
   },
   {
    "duration": 342,
    "start_time": "2024-04-18T17:19:07.024Z"
   },
   {
    "duration": 208,
    "start_time": "2024-04-18T17:19:07.368Z"
   },
   {
    "duration": 324,
    "start_time": "2024-04-18T17:19:07.577Z"
   },
   {
    "duration": 131,
    "start_time": "2024-04-18T17:19:07.902Z"
   },
   {
    "duration": 6,
    "start_time": "2024-04-18T17:19:08.034Z"
   },
   {
    "duration": 142,
    "start_time": "2024-04-18T17:19:08.041Z"
   },
   {
    "duration": 211,
    "start_time": "2024-04-18T17:19:08.185Z"
   },
   {
    "duration": 4,
    "start_time": "2024-04-18T17:19:08.399Z"
   },
   {
    "duration": 212,
    "start_time": "2024-04-18T17:19:08.405Z"
   },
   {
    "duration": 132,
    "start_time": "2024-04-18T17:19:08.619Z"
   },
   {
    "duration": 9,
    "start_time": "2024-04-18T17:19:08.753Z"
   },
   {
    "duration": 40,
    "start_time": "2024-04-18T17:19:08.763Z"
   },
   {
    "duration": 8,
    "start_time": "2024-04-18T17:19:08.805Z"
   },
   {
    "duration": 13,
    "start_time": "2024-04-18T17:19:08.815Z"
   },
   {
    "duration": 7,
    "start_time": "2024-04-18T17:19:08.830Z"
   },
   {
    "duration": 10,
    "start_time": "2024-04-18T17:19:08.839Z"
   },
   {
    "duration": 60,
    "start_time": "2024-04-18T17:19:08.850Z"
   },
   {
    "duration": 16,
    "start_time": "2024-04-18T17:19:08.911Z"
   },
   {
    "duration": 6,
    "start_time": "2024-04-18T17:29:43.065Z"
   },
   {
    "duration": 7,
    "start_time": "2024-04-18T17:30:47.694Z"
   },
   {
    "duration": 7,
    "start_time": "2024-04-18T17:31:11.384Z"
   },
   {
    "duration": 5,
    "start_time": "2024-04-18T17:32:38.417Z"
   },
   {
    "duration": 4,
    "start_time": "2024-04-18T17:36:16.271Z"
   },
   {
    "duration": 75,
    "start_time": "2024-04-18T17:37:19.253Z"
   },
   {
    "duration": 100,
    "start_time": "2024-04-18T17:39:07.473Z"
   },
   {
    "duration": 18,
    "start_time": "2024-04-18T17:39:17.169Z"
   },
   {
    "duration": 8,
    "start_time": "2024-04-18T17:39:40.972Z"
   },
   {
    "duration": 17,
    "start_time": "2024-04-18T17:42:06.847Z"
   },
   {
    "duration": 79,
    "start_time": "2024-04-18T17:43:42.046Z"
   },
   {
    "duration": 20,
    "start_time": "2024-04-18T17:43:49.537Z"
   },
   {
    "duration": 11,
    "start_time": "2024-04-18T17:47:01.943Z"
   },
   {
    "duration": 19,
    "start_time": "2024-04-18T17:47:08.977Z"
   },
   {
    "duration": 40,
    "start_time": "2024-04-18T17:49:47.735Z"
   },
   {
    "duration": 7,
    "start_time": "2024-04-18T17:52:16.987Z"
   },
   {
    "duration": 10,
    "start_time": "2024-04-18T17:52:30.465Z"
   },
   {
    "duration": 74,
    "start_time": "2024-04-18T17:54:06.257Z"
   },
   {
    "duration": 18,
    "start_time": "2024-04-18T17:54:18.141Z"
   },
   {
    "duration": 71,
    "start_time": "2024-04-18T17:54:23.043Z"
   },
   {
    "duration": 14,
    "start_time": "2024-04-18T17:54:57.983Z"
   },
   {
    "duration": 84,
    "start_time": "2024-04-18T17:55:02.952Z"
   },
   {
    "duration": 18,
    "start_time": "2024-04-18T17:55:13.259Z"
   },
   {
    "duration": 9,
    "start_time": "2024-04-18T17:56:02.191Z"
   },
   {
    "duration": 8,
    "start_time": "2024-04-18T17:56:53.520Z"
   },
   {
    "duration": 12,
    "start_time": "2024-04-18T18:01:11.056Z"
   },
   {
    "duration": 19,
    "start_time": "2024-04-18T18:01:19.211Z"
   },
   {
    "duration": 20,
    "start_time": "2024-04-18T18:02:35.095Z"
   },
   {
    "duration": 18,
    "start_time": "2024-04-18T18:02:57.971Z"
   },
   {
    "duration": 18,
    "start_time": "2024-04-18T18:03:12.970Z"
   },
   {
    "duration": 17,
    "start_time": "2024-04-18T18:03:40.005Z"
   },
   {
    "duration": 18,
    "start_time": "2024-04-18T18:03:50.839Z"
   },
   {
    "duration": 20,
    "start_time": "2024-04-18T18:04:47.881Z"
   },
   {
    "duration": 304,
    "start_time": "2024-04-18T18:07:39.339Z"
   },
   {
    "duration": 18,
    "start_time": "2024-04-18T18:08:12.026Z"
   },
   {
    "duration": 23,
    "start_time": "2024-04-18T18:08:51.840Z"
   },
   {
    "duration": 14,
    "start_time": "2024-04-18T18:17:00.005Z"
   },
   {
    "duration": 5,
    "start_time": "2024-04-18T18:17:22.206Z"
   },
   {
    "duration": 31,
    "start_time": "2024-04-18T18:17:59.326Z"
   },
   {
    "duration": 9,
    "start_time": "2024-04-18T18:18:05.117Z"
   },
   {
    "duration": 12,
    "start_time": "2024-04-18T18:18:31.902Z"
   },
   {
    "duration": 1095,
    "start_time": "2024-04-18T18:21:41.552Z"
   },
   {
    "duration": 27,
    "start_time": "2024-04-18T18:21:42.649Z"
   },
   {
    "duration": 11,
    "start_time": "2024-04-18T18:21:42.678Z"
   },
   {
    "duration": 10,
    "start_time": "2024-04-18T18:21:42.691Z"
   },
   {
    "duration": 18,
    "start_time": "2024-04-18T18:21:42.702Z"
   },
   {
    "duration": 10,
    "start_time": "2024-04-18T18:21:42.721Z"
   },
   {
    "duration": 48,
    "start_time": "2024-04-18T18:21:42.732Z"
   },
   {
    "duration": 51,
    "start_time": "2024-04-18T18:21:42.782Z"
   },
   {
    "duration": 10,
    "start_time": "2024-04-18T18:21:42.834Z"
   },
   {
    "duration": 19,
    "start_time": "2024-04-18T18:21:42.846Z"
   },
   {
    "duration": 5,
    "start_time": "2024-04-18T18:21:42.866Z"
   },
   {
    "duration": 7,
    "start_time": "2024-04-18T18:21:42.873Z"
   },
   {
    "duration": 15,
    "start_time": "2024-04-18T18:21:42.881Z"
   },
   {
    "duration": 18,
    "start_time": "2024-04-18T18:21:42.897Z"
   },
   {
    "duration": 20,
    "start_time": "2024-04-18T18:21:42.916Z"
   },
   {
    "duration": 6,
    "start_time": "2024-04-18T18:21:42.938Z"
   },
   {
    "duration": 10,
    "start_time": "2024-04-18T18:21:42.946Z"
   },
   {
    "duration": 127,
    "start_time": "2024-04-18T18:21:42.958Z"
   },
   {
    "duration": 0,
    "start_time": "2024-04-18T18:21:43.087Z"
   },
   {
    "duration": 0,
    "start_time": "2024-04-18T18:21:43.088Z"
   },
   {
    "duration": 0,
    "start_time": "2024-04-18T18:21:43.090Z"
   },
   {
    "duration": 0,
    "start_time": "2024-04-18T18:21:43.091Z"
   },
   {
    "duration": 0,
    "start_time": "2024-04-18T18:21:43.099Z"
   },
   {
    "duration": 0,
    "start_time": "2024-04-18T18:21:43.100Z"
   },
   {
    "duration": 0,
    "start_time": "2024-04-18T18:21:43.101Z"
   },
   {
    "duration": 0,
    "start_time": "2024-04-18T18:21:43.102Z"
   },
   {
    "duration": 0,
    "start_time": "2024-04-18T18:21:43.103Z"
   },
   {
    "duration": 0,
    "start_time": "2024-04-18T18:21:43.104Z"
   },
   {
    "duration": 0,
    "start_time": "2024-04-18T18:21:43.105Z"
   },
   {
    "duration": 0,
    "start_time": "2024-04-18T18:21:43.106Z"
   },
   {
    "duration": 0,
    "start_time": "2024-04-18T18:21:43.107Z"
   },
   {
    "duration": 0,
    "start_time": "2024-04-18T18:21:43.108Z"
   },
   {
    "duration": 0,
    "start_time": "2024-04-18T18:21:43.110Z"
   },
   {
    "duration": 0,
    "start_time": "2024-04-18T18:21:43.110Z"
   },
   {
    "duration": 0,
    "start_time": "2024-04-18T18:21:43.111Z"
   },
   {
    "duration": 0,
    "start_time": "2024-04-18T18:21:43.112Z"
   },
   {
    "duration": 0,
    "start_time": "2024-04-18T18:21:43.113Z"
   },
   {
    "duration": 0,
    "start_time": "2024-04-18T18:21:43.114Z"
   },
   {
    "duration": 0,
    "start_time": "2024-04-18T18:21:43.115Z"
   },
   {
    "duration": 0,
    "start_time": "2024-04-18T18:21:43.116Z"
   },
   {
    "duration": 0,
    "start_time": "2024-04-18T18:21:43.117Z"
   },
   {
    "duration": 0,
    "start_time": "2024-04-18T18:21:43.118Z"
   },
   {
    "duration": 7,
    "start_time": "2024-04-18T18:22:29.771Z"
   },
   {
    "duration": 1160,
    "start_time": "2024-04-18T18:23:30.875Z"
   },
   {
    "duration": 28,
    "start_time": "2024-04-18T18:23:32.036Z"
   },
   {
    "duration": 12,
    "start_time": "2024-04-18T18:23:32.065Z"
   },
   {
    "duration": 9,
    "start_time": "2024-04-18T18:23:32.079Z"
   },
   {
    "duration": 20,
    "start_time": "2024-04-18T18:23:32.090Z"
   },
   {
    "duration": 11,
    "start_time": "2024-04-18T18:23:32.111Z"
   },
   {
    "duration": 52,
    "start_time": "2024-04-18T18:23:32.124Z"
   },
   {
    "duration": 51,
    "start_time": "2024-04-18T18:23:32.178Z"
   },
   {
    "duration": 12,
    "start_time": "2024-04-18T18:23:32.231Z"
   },
   {
    "duration": 17,
    "start_time": "2024-04-18T18:23:32.245Z"
   },
   {
    "duration": 5,
    "start_time": "2024-04-18T18:23:32.264Z"
   },
   {
    "duration": 12,
    "start_time": "2024-04-18T18:23:32.271Z"
   },
   {
    "duration": 16,
    "start_time": "2024-04-18T18:23:32.284Z"
   },
   {
    "duration": 16,
    "start_time": "2024-04-18T18:23:32.301Z"
   },
   {
    "duration": 20,
    "start_time": "2024-04-18T18:23:32.318Z"
   },
   {
    "duration": 6,
    "start_time": "2024-04-18T18:23:32.340Z"
   },
   {
    "duration": 10,
    "start_time": "2024-04-18T18:23:32.348Z"
   },
   {
    "duration": 155,
    "start_time": "2024-04-18T18:23:32.359Z"
   },
   {
    "duration": 0,
    "start_time": "2024-04-18T18:23:32.517Z"
   },
   {
    "duration": 0,
    "start_time": "2024-04-18T18:23:32.519Z"
   },
   {
    "duration": 0,
    "start_time": "2024-04-18T18:23:32.520Z"
   },
   {
    "duration": 0,
    "start_time": "2024-04-18T18:23:32.521Z"
   },
   {
    "duration": 0,
    "start_time": "2024-04-18T18:23:32.522Z"
   },
   {
    "duration": 0,
    "start_time": "2024-04-18T18:23:32.524Z"
   },
   {
    "duration": 0,
    "start_time": "2024-04-18T18:23:32.525Z"
   },
   {
    "duration": 0,
    "start_time": "2024-04-18T18:23:32.527Z"
   },
   {
    "duration": 0,
    "start_time": "2024-04-18T18:23:32.528Z"
   },
   {
    "duration": 0,
    "start_time": "2024-04-18T18:23:32.530Z"
   },
   {
    "duration": 0,
    "start_time": "2024-04-18T18:23:32.531Z"
   },
   {
    "duration": 0,
    "start_time": "2024-04-18T18:23:32.532Z"
   },
   {
    "duration": 0,
    "start_time": "2024-04-18T18:23:32.533Z"
   },
   {
    "duration": 0,
    "start_time": "2024-04-18T18:23:32.535Z"
   },
   {
    "duration": 0,
    "start_time": "2024-04-18T18:23:32.536Z"
   },
   {
    "duration": 0,
    "start_time": "2024-04-18T18:23:32.537Z"
   },
   {
    "duration": 0,
    "start_time": "2024-04-18T18:23:32.539Z"
   },
   {
    "duration": 0,
    "start_time": "2024-04-18T18:23:32.540Z"
   },
   {
    "duration": 0,
    "start_time": "2024-04-18T18:23:32.542Z"
   },
   {
    "duration": 0,
    "start_time": "2024-04-18T18:23:32.543Z"
   },
   {
    "duration": 0,
    "start_time": "2024-04-18T18:23:32.545Z"
   },
   {
    "duration": 0,
    "start_time": "2024-04-18T18:23:32.545Z"
   },
   {
    "duration": 0,
    "start_time": "2024-04-18T18:23:32.547Z"
   },
   {
    "duration": 0,
    "start_time": "2024-04-18T18:23:32.548Z"
   },
   {
    "duration": 7,
    "start_time": "2024-04-18T18:24:28.504Z"
   },
   {
    "duration": 78,
    "start_time": "2024-04-18T18:25:56.422Z"
   },
   {
    "duration": 23,
    "start_time": "2024-04-18T18:26:00.886Z"
   },
   {
    "duration": 22,
    "start_time": "2024-04-18T18:26:07.486Z"
   },
   {
    "duration": 21,
    "start_time": "2024-04-18T18:26:32.428Z"
   },
   {
    "duration": 20,
    "start_time": "2024-04-18T18:26:47.698Z"
   },
   {
    "duration": 1150,
    "start_time": "2024-04-18T18:27:16.777Z"
   },
   {
    "duration": 29,
    "start_time": "2024-04-18T18:27:17.929Z"
   },
   {
    "duration": 11,
    "start_time": "2024-04-18T18:27:17.959Z"
   },
   {
    "duration": 9,
    "start_time": "2024-04-18T18:27:17.972Z"
   },
   {
    "duration": 10,
    "start_time": "2024-04-18T18:27:17.982Z"
   },
   {
    "duration": 10,
    "start_time": "2024-04-18T18:27:17.993Z"
   },
   {
    "duration": 48,
    "start_time": "2024-04-18T18:27:18.005Z"
   },
   {
    "duration": 52,
    "start_time": "2024-04-18T18:27:18.055Z"
   },
   {
    "duration": 11,
    "start_time": "2024-04-18T18:27:18.109Z"
   },
   {
    "duration": 18,
    "start_time": "2024-04-18T18:27:18.123Z"
   },
   {
    "duration": 5,
    "start_time": "2024-04-18T18:27:18.143Z"
   },
   {
    "duration": 10,
    "start_time": "2024-04-18T18:27:18.150Z"
   },
   {
    "duration": 39,
    "start_time": "2024-04-18T18:27:18.161Z"
   },
   {
    "duration": 18,
    "start_time": "2024-04-18T18:27:18.201Z"
   },
   {
    "duration": 20,
    "start_time": "2024-04-18T18:27:18.220Z"
   },
   {
    "duration": 6,
    "start_time": "2024-04-18T18:27:18.241Z"
   },
   {
    "duration": 9,
    "start_time": "2024-04-18T18:27:18.248Z"
   },
   {
    "duration": 42,
    "start_time": "2024-04-18T18:27:18.258Z"
   },
   {
    "duration": 8,
    "start_time": "2024-04-18T18:27:18.302Z"
   },
   {
    "duration": 268,
    "start_time": "2024-04-18T18:27:18.311Z"
   },
   {
    "duration": 9,
    "start_time": "2024-04-18T18:27:18.581Z"
   },
   {
    "duration": 266,
    "start_time": "2024-04-18T18:27:18.599Z"
   },
   {
    "duration": 16,
    "start_time": "2024-04-18T18:27:18.866Z"
   },
   {
    "duration": 201,
    "start_time": "2024-04-18T18:27:18.883Z"
   },
   {
    "duration": 296,
    "start_time": "2024-04-18T18:27:19.086Z"
   },
   {
    "duration": 204,
    "start_time": "2024-04-18T18:27:19.384Z"
   },
   {
    "duration": 294,
    "start_time": "2024-04-18T18:27:19.599Z"
   },
   {
    "duration": 148,
    "start_time": "2024-04-18T18:27:19.896Z"
   },
   {
    "duration": 5,
    "start_time": "2024-04-18T18:27:20.045Z"
   },
   {
    "duration": 136,
    "start_time": "2024-04-18T18:27:20.051Z"
   },
   {
    "duration": 216,
    "start_time": "2024-04-18T18:27:20.189Z"
   },
   {
    "duration": 4,
    "start_time": "2024-04-18T18:27:20.407Z"
   },
   {
    "duration": 211,
    "start_time": "2024-04-18T18:27:20.412Z"
   },
   {
    "duration": 133,
    "start_time": "2024-04-18T18:27:20.625Z"
   },
   {
    "duration": 10,
    "start_time": "2024-04-18T18:27:20.760Z"
   },
   {
    "duration": 33,
    "start_time": "2024-04-18T18:27:20.771Z"
   },
   {
    "duration": 19,
    "start_time": "2024-04-18T18:27:20.805Z"
   },
   {
    "duration": 13,
    "start_time": "2024-04-18T18:27:20.825Z"
   },
   {
    "duration": 8,
    "start_time": "2024-04-18T18:27:20.840Z"
   },
   {
    "duration": 20,
    "start_time": "2024-04-18T18:27:20.849Z"
   },
   {
    "duration": 37,
    "start_time": "2024-04-18T18:27:20.870Z"
   },
   {
    "duration": 15,
    "start_time": "2024-04-18T18:27:20.908Z"
   },
   {
    "duration": 10,
    "start_time": "2024-04-18T18:30:14.497Z"
   },
   {
    "duration": 1072,
    "start_time": "2024-04-18T18:35:39.830Z"
   },
   {
    "duration": 29,
    "start_time": "2024-04-18T18:35:40.903Z"
   },
   {
    "duration": 12,
    "start_time": "2024-04-18T18:35:40.933Z"
   },
   {
    "duration": 8,
    "start_time": "2024-04-18T18:35:40.948Z"
   },
   {
    "duration": 9,
    "start_time": "2024-04-18T18:35:40.958Z"
   },
   {
    "duration": 9,
    "start_time": "2024-04-18T18:35:40.969Z"
   },
   {
    "duration": 55,
    "start_time": "2024-04-18T18:35:40.979Z"
   },
   {
    "duration": 52,
    "start_time": "2024-04-18T18:35:41.035Z"
   },
   {
    "duration": 10,
    "start_time": "2024-04-18T18:35:41.089Z"
   },
   {
    "duration": 15,
    "start_time": "2024-04-18T18:35:41.102Z"
   },
   {
    "duration": 4,
    "start_time": "2024-04-18T18:35:41.119Z"
   },
   {
    "duration": 7,
    "start_time": "2024-04-18T18:35:41.125Z"
   },
   {
    "duration": 16,
    "start_time": "2024-04-18T18:35:41.133Z"
   },
   {
    "duration": 51,
    "start_time": "2024-04-18T18:35:41.150Z"
   },
   {
    "duration": 9,
    "start_time": "2024-04-18T18:35:41.203Z"
   },
   {
    "duration": 6,
    "start_time": "2024-04-18T18:35:41.213Z"
   },
   {
    "duration": 267,
    "start_time": "2024-04-18T18:35:41.221Z"
   },
   {
    "duration": 17,
    "start_time": "2024-04-18T18:35:41.489Z"
   },
   {
    "duration": 270,
    "start_time": "2024-04-18T18:35:41.507Z"
   },
   {
    "duration": 21,
    "start_time": "2024-04-18T18:35:41.779Z"
   },
   {
    "duration": 192,
    "start_time": "2024-04-18T18:35:41.801Z"
   },
   {
    "duration": 288,
    "start_time": "2024-04-18T18:35:41.995Z"
   },
   {
    "duration": 204,
    "start_time": "2024-04-18T18:35:42.285Z"
   },
   {
    "duration": 312,
    "start_time": "2024-04-18T18:35:42.490Z"
   },
   {
    "duration": 142,
    "start_time": "2024-04-18T18:35:42.803Z"
   },
   {
    "duration": 4,
    "start_time": "2024-04-18T18:35:42.947Z"
   },
   {
    "duration": 133,
    "start_time": "2024-04-18T18:35:42.952Z"
   },
   {
    "duration": 198,
    "start_time": "2024-04-18T18:35:43.088Z"
   },
   {
    "duration": 12,
    "start_time": "2024-04-18T18:35:43.288Z"
   },
   {
    "duration": 217,
    "start_time": "2024-04-18T18:35:43.301Z"
   },
   {
    "duration": 133,
    "start_time": "2024-04-18T18:35:43.519Z"
   },
   {
    "duration": 10,
    "start_time": "2024-04-18T18:35:43.653Z"
   },
   {
    "duration": 46,
    "start_time": "2024-04-18T18:35:43.664Z"
   },
   {
    "duration": 8,
    "start_time": "2024-04-18T18:35:43.711Z"
   },
   {
    "duration": 11,
    "start_time": "2024-04-18T18:35:43.720Z"
   },
   {
    "duration": 7,
    "start_time": "2024-04-18T18:35:43.733Z"
   },
   {
    "duration": 9,
    "start_time": "2024-04-18T18:35:43.741Z"
   },
   {
    "duration": 59,
    "start_time": "2024-04-18T18:35:43.751Z"
   },
   {
    "duration": 16,
    "start_time": "2024-04-18T18:35:43.811Z"
   },
   {
    "duration": 8,
    "start_time": "2024-04-18T18:48:48.397Z"
   },
   {
    "duration": 10,
    "start_time": "2024-04-18T18:50:47.337Z"
   },
   {
    "duration": 1119,
    "start_time": "2024-04-18T18:51:18.492Z"
   },
   {
    "duration": 28,
    "start_time": "2024-04-18T18:51:19.612Z"
   },
   {
    "duration": 11,
    "start_time": "2024-04-18T18:51:19.642Z"
   },
   {
    "duration": 11,
    "start_time": "2024-04-18T18:51:19.654Z"
   },
   {
    "duration": 11,
    "start_time": "2024-04-18T18:51:19.666Z"
   },
   {
    "duration": 11,
    "start_time": "2024-04-18T18:51:19.679Z"
   },
   {
    "duration": 52,
    "start_time": "2024-04-18T18:51:19.700Z"
   },
   {
    "duration": 52,
    "start_time": "2024-04-18T18:51:19.754Z"
   },
   {
    "duration": 12,
    "start_time": "2024-04-18T18:51:19.807Z"
   },
   {
    "duration": 17,
    "start_time": "2024-04-18T18:51:19.821Z"
   },
   {
    "duration": 5,
    "start_time": "2024-04-18T18:51:19.839Z"
   },
   {
    "duration": 8,
    "start_time": "2024-04-18T18:51:19.845Z"
   },
   {
    "duration": 46,
    "start_time": "2024-04-18T18:51:19.854Z"
   },
   {
    "duration": 22,
    "start_time": "2024-04-18T18:51:19.902Z"
   },
   {
    "duration": 9,
    "start_time": "2024-04-18T18:51:19.925Z"
   },
   {
    "duration": 6,
    "start_time": "2024-04-18T18:51:19.935Z"
   },
   {
    "duration": 283,
    "start_time": "2024-04-18T18:51:19.942Z"
   },
   {
    "duration": 10,
    "start_time": "2024-04-18T18:51:20.226Z"
   },
   {
    "duration": 289,
    "start_time": "2024-04-18T18:51:20.237Z"
   },
   {
    "duration": 16,
    "start_time": "2024-04-18T18:51:20.527Z"
   },
   {
    "duration": 202,
    "start_time": "2024-04-18T18:51:20.544Z"
   },
   {
    "duration": 265,
    "start_time": "2024-04-18T18:51:20.748Z"
   },
   {
    "duration": 197,
    "start_time": "2024-04-18T18:51:21.015Z"
   },
   {
    "duration": 294,
    "start_time": "2024-04-18T18:51:21.214Z"
   },
   {
    "duration": 143,
    "start_time": "2024-04-18T18:51:21.510Z"
   },
   {
    "duration": 4,
    "start_time": "2024-04-18T18:51:21.655Z"
   },
   {
    "duration": 134,
    "start_time": "2024-04-18T18:51:21.660Z"
   },
   {
    "duration": 213,
    "start_time": "2024-04-18T18:51:21.796Z"
   },
   {
    "duration": 5,
    "start_time": "2024-04-18T18:51:22.010Z"
   },
   {
    "duration": 213,
    "start_time": "2024-04-18T18:51:22.016Z"
   },
   {
    "duration": 124,
    "start_time": "2024-04-18T18:51:22.230Z"
   },
   {
    "duration": 11,
    "start_time": "2024-04-18T18:51:22.356Z"
   },
   {
    "duration": 40,
    "start_time": "2024-04-18T18:51:22.369Z"
   },
   {
    "duration": 8,
    "start_time": "2024-04-18T18:51:22.411Z"
   },
   {
    "duration": 13,
    "start_time": "2024-04-18T18:51:22.421Z"
   },
   {
    "duration": 10,
    "start_time": "2024-04-18T18:51:22.436Z"
   },
   {
    "duration": 10,
    "start_time": "2024-04-18T18:51:22.448Z"
   },
   {
    "duration": 26,
    "start_time": "2024-04-18T18:51:22.500Z"
   },
   {
    "duration": 15,
    "start_time": "2024-04-18T18:51:22.527Z"
   },
   {
    "duration": 1074,
    "start_time": "2024-04-18T19:05:15.433Z"
   },
   {
    "duration": 28,
    "start_time": "2024-04-18T19:05:16.509Z"
   },
   {
    "duration": 10,
    "start_time": "2024-04-18T19:05:16.538Z"
   },
   {
    "duration": 10,
    "start_time": "2024-04-18T19:05:16.550Z"
   },
   {
    "duration": 17,
    "start_time": "2024-04-18T19:05:16.561Z"
   },
   {
    "duration": 9,
    "start_time": "2024-04-18T19:05:16.580Z"
   },
   {
    "duration": 53,
    "start_time": "2024-04-18T19:05:16.590Z"
   },
   {
    "duration": 52,
    "start_time": "2024-04-18T19:05:16.645Z"
   },
   {
    "duration": 10,
    "start_time": "2024-04-18T19:05:16.698Z"
   },
   {
    "duration": 16,
    "start_time": "2024-04-18T19:05:16.711Z"
   },
   {
    "duration": 5,
    "start_time": "2024-04-18T19:05:16.728Z"
   },
   {
    "duration": 9,
    "start_time": "2024-04-18T19:05:16.734Z"
   },
   {
    "duration": 16,
    "start_time": "2024-04-18T19:05:16.744Z"
   },
   {
    "duration": 56,
    "start_time": "2024-04-18T19:05:16.762Z"
   },
   {
    "duration": 9,
    "start_time": "2024-04-18T19:05:16.819Z"
   },
   {
    "duration": 6,
    "start_time": "2024-04-18T19:05:16.829Z"
   },
   {
    "duration": 284,
    "start_time": "2024-04-18T19:05:16.836Z"
   },
   {
    "duration": 9,
    "start_time": "2024-04-18T19:05:17.122Z"
   },
   {
    "duration": 273,
    "start_time": "2024-04-18T19:05:17.132Z"
   },
   {
    "duration": 14,
    "start_time": "2024-04-18T19:05:17.407Z"
   },
   {
    "duration": 199,
    "start_time": "2024-04-18T19:05:17.422Z"
   },
   {
    "duration": 269,
    "start_time": "2024-04-18T19:05:17.622Z"
   },
   {
    "duration": 202,
    "start_time": "2024-04-18T19:05:17.899Z"
   },
   {
    "duration": 287,
    "start_time": "2024-04-18T19:05:18.103Z"
   },
   {
    "duration": 140,
    "start_time": "2024-04-18T19:05:18.399Z"
   },
   {
    "duration": 5,
    "start_time": "2024-04-18T19:05:18.540Z"
   },
   {
    "duration": 131,
    "start_time": "2024-04-18T19:05:18.546Z"
   },
   {
    "duration": 214,
    "start_time": "2024-04-18T19:05:18.680Z"
   },
   {
    "duration": 4,
    "start_time": "2024-04-18T19:05:18.899Z"
   },
   {
    "duration": 210,
    "start_time": "2024-04-18T19:05:18.905Z"
   },
   {
    "duration": 130,
    "start_time": "2024-04-18T19:05:19.116Z"
   },
   {
    "duration": 9,
    "start_time": "2024-04-18T19:05:19.247Z"
   },
   {
    "duration": 33,
    "start_time": "2024-04-18T19:05:19.258Z"
   },
   {
    "duration": 8,
    "start_time": "2024-04-18T19:05:19.299Z"
   },
   {
    "duration": 11,
    "start_time": "2024-04-18T19:05:19.308Z"
   },
   {
    "duration": 9,
    "start_time": "2024-04-18T19:05:19.321Z"
   },
   {
    "duration": 9,
    "start_time": "2024-04-18T19:05:19.331Z"
   },
   {
    "duration": 61,
    "start_time": "2024-04-18T19:05:19.342Z"
   },
   {
    "duration": 15,
    "start_time": "2024-04-18T19:05:19.404Z"
   },
   {
    "duration": 1206,
    "start_time": "2024-04-19T07:31:58.486Z"
   },
   {
    "duration": 80,
    "start_time": "2024-04-19T07:31:59.694Z"
   },
   {
    "duration": 12,
    "start_time": "2024-04-19T07:31:59.776Z"
   },
   {
    "duration": 19,
    "start_time": "2024-04-19T07:31:59.789Z"
   },
   {
    "duration": 28,
    "start_time": "2024-04-19T07:31:59.810Z"
   },
   {
    "duration": 22,
    "start_time": "2024-04-19T07:31:59.840Z"
   },
   {
    "duration": 87,
    "start_time": "2024-04-19T07:31:59.863Z"
   },
   {
    "duration": 137,
    "start_time": "2024-04-19T07:31:59.951Z"
   },
   {
    "duration": 15,
    "start_time": "2024-04-19T07:32:00.090Z"
   },
   {
    "duration": 87,
    "start_time": "2024-04-19T07:32:00.106Z"
   },
   {
    "duration": 93,
    "start_time": "2024-04-19T07:32:00.194Z"
   },
   {
    "duration": 84,
    "start_time": "2024-04-19T07:32:00.289Z"
   },
   {
    "duration": 70,
    "start_time": "2024-04-19T07:32:00.374Z"
   },
   {
    "duration": 78,
    "start_time": "2024-04-19T07:32:00.449Z"
   },
   {
    "duration": 46,
    "start_time": "2024-04-19T07:32:00.529Z"
   },
   {
    "duration": 37,
    "start_time": "2024-04-19T07:32:00.577Z"
   },
   {
    "duration": 385,
    "start_time": "2024-04-19T07:32:00.616Z"
   },
   {
    "duration": 11,
    "start_time": "2024-04-19T07:32:01.002Z"
   },
   {
    "duration": 417,
    "start_time": "2024-04-19T07:32:01.014Z"
   },
   {
    "duration": 17,
    "start_time": "2024-04-19T07:32:01.432Z"
   },
   {
    "duration": 423,
    "start_time": "2024-04-19T07:32:01.451Z"
   },
   {
    "duration": 351,
    "start_time": "2024-04-19T07:32:01.876Z"
   },
   {
    "duration": 264,
    "start_time": "2024-04-19T07:32:02.229Z"
   },
   {
    "duration": 324,
    "start_time": "2024-04-19T07:32:02.495Z"
   },
   {
    "duration": 178,
    "start_time": "2024-04-19T07:32:02.821Z"
   },
   {
    "duration": 6,
    "start_time": "2024-04-19T07:32:03.001Z"
   },
   {
    "duration": 171,
    "start_time": "2024-04-19T07:32:03.009Z"
   },
   {
    "duration": 249,
    "start_time": "2024-04-19T07:32:03.182Z"
   },
   {
    "duration": 4,
    "start_time": "2024-04-19T07:32:03.433Z"
   },
   {
    "duration": 264,
    "start_time": "2024-04-19T07:32:03.439Z"
   },
   {
    "duration": 157,
    "start_time": "2024-04-19T07:32:03.704Z"
   },
   {
    "duration": 26,
    "start_time": "2024-04-19T07:32:03.863Z"
   },
   {
    "duration": 39,
    "start_time": "2024-04-19T07:32:03.891Z"
   },
   {
    "duration": 11,
    "start_time": "2024-04-19T07:32:03.932Z"
   },
   {
    "duration": 44,
    "start_time": "2024-04-19T07:32:03.944Z"
   },
   {
    "duration": 13,
    "start_time": "2024-04-19T07:32:03.990Z"
   },
   {
    "duration": 39,
    "start_time": "2024-04-19T07:32:04.005Z"
   },
   {
    "duration": 65,
    "start_time": "2024-04-19T07:32:04.046Z"
   },
   {
    "duration": 18,
    "start_time": "2024-04-19T07:32:04.112Z"
   },
   {
    "duration": 75,
    "start_time": "2024-04-19T07:34:13.880Z"
   },
   {
    "duration": 1171,
    "start_time": "2024-09-13T07:56:56.049Z"
   },
   {
    "duration": 73,
    "start_time": "2024-09-13T07:56:57.222Z"
   },
   {
    "duration": 12,
    "start_time": "2024-09-13T07:56:57.297Z"
   },
   {
    "duration": 11,
    "start_time": "2024-09-13T07:56:57.312Z"
   },
   {
    "duration": 12,
    "start_time": "2024-09-13T07:56:57.325Z"
   },
   {
    "duration": 10,
    "start_time": "2024-09-13T07:56:57.339Z"
   },
   {
    "duration": 62,
    "start_time": "2024-09-13T07:56:57.351Z"
   },
   {
    "duration": 165,
    "start_time": "2024-09-13T07:56:57.415Z"
   },
   {
    "duration": 15,
    "start_time": "2024-09-13T07:56:57.581Z"
   },
   {
    "duration": 34,
    "start_time": "2024-09-13T07:56:57.598Z"
   },
   {
    "duration": 6,
    "start_time": "2024-09-13T07:56:57.634Z"
   },
   {
    "duration": 16,
    "start_time": "2024-09-13T07:56:57.642Z"
   },
   {
    "duration": 17,
    "start_time": "2024-09-13T07:56:57.659Z"
   },
   {
    "duration": 52,
    "start_time": "2024-09-13T07:56:57.677Z"
   },
   {
    "duration": 9,
    "start_time": "2024-09-13T07:56:57.730Z"
   },
   {
    "duration": 9,
    "start_time": "2024-09-13T07:56:57.740Z"
   },
   {
    "duration": 282,
    "start_time": "2024-09-13T07:56:57.750Z"
   },
   {
    "duration": 10,
    "start_time": "2024-09-13T07:56:58.034Z"
   },
   {
    "duration": 298,
    "start_time": "2024-09-13T07:56:58.055Z"
   },
   {
    "duration": 18,
    "start_time": "2024-09-13T07:56:58.355Z"
   },
   {
    "duration": 215,
    "start_time": "2024-09-13T07:56:58.374Z"
   },
   {
    "duration": 276,
    "start_time": "2024-09-13T07:56:58.591Z"
   },
   {
    "duration": 228,
    "start_time": "2024-09-13T07:56:58.868Z"
   },
   {
    "duration": 295,
    "start_time": "2024-09-13T07:56:59.098Z"
   },
   {
    "duration": 160,
    "start_time": "2024-09-13T07:56:59.395Z"
   },
   {
    "duration": 5,
    "start_time": "2024-09-13T07:56:59.557Z"
   },
   {
    "duration": 155,
    "start_time": "2024-09-13T07:56:59.563Z"
   },
   {
    "duration": 237,
    "start_time": "2024-09-13T07:56:59.721Z"
   },
   {
    "duration": 4,
    "start_time": "2024-09-13T07:56:59.960Z"
   },
   {
    "duration": 222,
    "start_time": "2024-09-13T07:56:59.965Z"
   },
   {
    "duration": 141,
    "start_time": "2024-09-13T07:57:00.188Z"
   },
   {
    "duration": 24,
    "start_time": "2024-09-13T07:57:00.331Z"
   },
   {
    "duration": 49,
    "start_time": "2024-09-13T07:57:00.357Z"
   },
   {
    "duration": 44,
    "start_time": "2024-09-13T07:57:00.407Z"
   },
   {
    "duration": 23,
    "start_time": "2024-09-13T07:57:00.453Z"
   },
   {
    "duration": 25,
    "start_time": "2024-09-13T07:57:00.478Z"
   },
   {
    "duration": 11,
    "start_time": "2024-09-13T07:57:00.505Z"
   },
   {
    "duration": 42,
    "start_time": "2024-09-13T07:57:00.518Z"
   },
   {
    "duration": 18,
    "start_time": "2024-09-13T07:57:00.561Z"
   }
  ],
  "kernelspec": {
   "display_name": "Python 3 (ipykernel)",
   "language": "python",
   "name": "python3"
  },
  "language_info": {
   "codemirror_mode": {
    "name": "ipython",
    "version": 3
   },
   "file_extension": ".py",
   "mimetype": "text/x-python",
   "name": "python",
   "nbconvert_exporter": "python",
   "pygments_lexer": "ipython3",
   "version": "3.11.5"
  },
  "toc": {
   "base_numbering": 1,
   "nav_menu": {},
   "number_sections": true,
   "sideBar": true,
   "skip_h1_title": true,
   "title_cell": "Table of Contents",
   "title_sidebar": "Contents",
   "toc_cell": false,
   "toc_position": {
    "height": "calc(100% - 180px)",
    "left": "10px",
    "top": "150px",
    "width": "165px"
   },
   "toc_section_display": true,
   "toc_window_display": true
  }
 },
 "nbformat": 4,
 "nbformat_minor": 2
}
